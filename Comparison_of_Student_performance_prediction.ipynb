{
 "cells": [
  {
   "cell_type": "markdown",
   "metadata": {},
   "source": [
    "# Comparison of Classifiers for Student Performance Prediction"
   ]
  },
  {
   "cell_type": "markdown",
   "metadata": {},
   "source": [
    "## The dataset\n",
    "\n",
    "\n",
    "### What is the purpose of the dataset?\n",
    "This dataset is for creating classification models that will predict the students dropout and their academic success.\n",
    "\n",
    "### What are the features\n",
    "\n",
    "\n",
    "Each instance in the dataset represents a student.\n",
    "\n",
    "### What is the target?\n",
    "\n",
    "The target is\n"
   ]
  },
  {
   "cell_type": "markdown",
   "metadata": {},
   "source": [
    "## Analyzing the dataset"
   ]
  },
  {
   "cell_type": "code",
   "execution_count": 58,
   "metadata": {
    "collapsed": false,
    "ExecuteTime": {
     "end_time": "2024-11-20T16:48:22.700316Z",
     "start_time": "2024-11-20T16:48:22.570521600Z"
    }
   },
   "outputs": [],
   "source": [
    "import pandas as pd\n",
    "import numpy as np\n",
    "\n",
    "from imblearn.over_sampling import SMOTENC\n",
    "from sklearn.ensemble import RandomForestClassifier\n",
    "from sklearn.preprocessing import OneHotEncoder\n",
    "from sklearn.ensemble import AdaBoostClassifier\n",
    "from sklearn.ensemble import GradientBoostingClassifier\n",
    "from sklearn.tree import DecisionTreeClassifier\n",
    "\n",
    "from sklearn.naive_bayes import GaussianNB\n",
    "from sklearn.tree import DecisionTreeClassifier\n",
    "from sklearn.metrics import accuracy_score, precision_score, recall_score, f1_score, roc_auc_score\n",
    "from sklearn.model_selection import GridSearchCV\n",
    "\n"
   ]
  },
  {
   "cell_type": "code",
   "execution_count": 59,
   "metadata": {
    "collapsed": false,
    "ExecuteTime": {
     "end_time": "2024-11-20T16:48:22.866359Z",
     "start_time": "2024-11-20T16:48:22.573596800Z"
    }
   },
   "outputs": [
    {
     "name": "stdout",
     "output_type": "stream",
     "text": [
      "<class 'pandas.core.frame.DataFrame'>\n",
      "RangeIndex: 4424 entries, 0 to 4423\n",
      "Data columns (total 37 columns):\n",
      " #   Column                                          Non-Null Count  Dtype  \n",
      "---  ------                                          --------------  -----  \n",
      " 0   Marital status                                  4424 non-null   int64  \n",
      " 1   Application mode                                4424 non-null   int64  \n",
      " 2   Application order                               4424 non-null   int64  \n",
      " 3   Course                                          4424 non-null   int64  \n",
      " 4   Daytime/evening attendance\t                     4424 non-null   int64  \n",
      " 5   Previous qualification                          4424 non-null   int64  \n",
      " 6   Previous qualification (grade)                  4424 non-null   float64\n",
      " 7   Nacionality                                     4424 non-null   int64  \n",
      " 8   Mother's qualification                          4424 non-null   int64  \n",
      " 9   Father's qualification                          4424 non-null   int64  \n",
      " 10  Mother's occupation                             4424 non-null   int64  \n",
      " 11  Father's occupation                             4424 non-null   int64  \n",
      " 12  Admission grade                                 4424 non-null   float64\n",
      " 13  Displaced                                       4424 non-null   int64  \n",
      " 14  Educational special needs                       4424 non-null   int64  \n",
      " 15  Debtor                                          4424 non-null   int64  \n",
      " 16  Tuition fees up to date                         4424 non-null   int64  \n",
      " 17  Gender                                          4424 non-null   int64  \n",
      " 18  Scholarship holder                              4424 non-null   int64  \n",
      " 19  Age at enrollment                               4424 non-null   int64  \n",
      " 20  International                                   4424 non-null   int64  \n",
      " 21  Curricular units 1st sem (credited)             4424 non-null   int64  \n",
      " 22  Curricular units 1st sem (enrolled)             4424 non-null   int64  \n",
      " 23  Curricular units 1st sem (evaluations)          4424 non-null   int64  \n",
      " 24  Curricular units 1st sem (approved)             4424 non-null   int64  \n",
      " 25  Curricular units 1st sem (grade)                4424 non-null   float64\n",
      " 26  Curricular units 1st sem (without evaluations)  4424 non-null   int64  \n",
      " 27  Curricular units 2nd sem (credited)             4424 non-null   int64  \n",
      " 28  Curricular units 2nd sem (enrolled)             4424 non-null   int64  \n",
      " 29  Curricular units 2nd sem (evaluations)          4424 non-null   int64  \n",
      " 30  Curricular units 2nd sem (approved)             4424 non-null   int64  \n",
      " 31  Curricular units 2nd sem (grade)                4424 non-null   float64\n",
      " 32  Curricular units 2nd sem (without evaluations)  4424 non-null   int64  \n",
      " 33  Unemployment rate                               4424 non-null   float64\n",
      " 34  Inflation rate                                  4424 non-null   float64\n",
      " 35  GDP                                             4424 non-null   float64\n",
      " 36  Target                                          4424 non-null   object \n",
      "dtypes: float64(7), int64(29), object(1)\n",
      "memory usage: 1.2+ MB\n"
     ]
    }
   ],
   "source": [
    "dataset = pd.read_csv('dataset_student_performance.csv',sep=\";\")\n",
    "dataset.info()\n",
    "#dataframe = pd.DataFrame(dataset)\n",
    "\n"
   ]
  },
  {
   "cell_type": "code",
   "execution_count": 60,
   "metadata": {
    "ExecuteTime": {
     "end_time": "2024-11-20T16:48:22.880358400Z",
     "start_time": "2024-11-20T16:48:22.607724700Z"
    }
   },
   "outputs": [],
   "source": [
    "#dataset.head()"
   ]
  },
  {
   "cell_type": "markdown",
   "metadata": {},
   "source": [
    "## \"Data washing\"\n",
    "\n",
    "By looking at the contents of the dataset. We observe that the features are already encoded into integers.\n",
    "So what we will need to do is \n",
    "- Split the features into categorical and numerical features.\n",
    "\n",
    "After that is done, we will need to \n",
    "- Encode the categorical ones differently so they are not integers, we can achieve this by using one hot encoding."
   ]
  },
  {
   "cell_type": "markdown",
   "metadata": {},
   "source": [
    "### Splitting the features into categorical and numerical features\n",
    "\n",
    "By using the dataset.info(), we can see what features are numerical and integer(categorical).\n",
    "We need to be cautious to not assume all the integers are categorical. For instance, age, is not a catagorical feature even though it's an integer.\n",
    "\n",
    "The numerical:\n",
    "\n",
    "- 6,   Previous qualification (grade)                  , float64\n",
    "- 12,  Admission grade                                 , float64\n",
    "- 25,  Curricular units 1st sem (grade)                , float64\n",
    "- 31,  Curricular units 2nd sem (grade)                , float64\n",
    "- 33,  Unemployment rate                               , float64\n",
    "- 34,  Inflation rate                                  , float64\n",
    "- 35,  GDP                                             , float64\n",
    "\n",
    "The target: \n",
    "- 36  Target,  object, which is three categories, encoded as ints. (dropout, enrolled, and graduate)\n",
    "\n",
    "By inspecting the documentation further, we can now make an overview over what integers are categorical, and which are not.\n",
    "\n",
    "The categorical:\n",
    "\n",
    "- 0,   Marital status, int64  \n",
    "- 1,   Application mode, int64  \n",
    "- 2,   Application order, int64  \n",
    "- 3,   Course, int64  \n",
    "- 4,   Daytime/evening attendance, int64  \n",
    "- 5,   Previous qualification, int64  \n",
    "- 7,   Nacionality, int64  \n",
    "- 8,   Mother's qualification, int64  \n",
    "- 9,   Father's qualification, int64  \n",
    "- 10,  Mother's occupation, int64  \n",
    "- 11,  Father's occupation, int64  \n",
    "- 13,  Displaced, int64  \n",
    "- 14,  Educational special needs, int64  \n",
    "- 15,  Debtor, int64  \n",
    "- 16,  Tuition fees up to date, int64  \n",
    "- 17,  Gender, int64  \n",
    "- 18,  Scholarship holder, int64 \n",
    "- 20,  International, int64 \n",
    "\n",
    "The non categorical: \n",
    "\n",
    "- 19, Age at enrollment, int64\n",
    "- 21, Curricular units 1st sem (credited),  int64  \n",
    "- 22, Curricular units 1st sem (enrolled),  int64  \n",
    "- 23, Curricular units 1st sem (evaluations),  int64  \n",
    "- 24, Curricular units 1st sem (approved),  int64  \n",
    "- 26, Curricular units 1st sem (without evaluations),  int64  \n",
    "- 27, Curricular units 2nd sem (credited),  int64  \n",
    "- 28, Curricular units 2nd sem (enrolled),  int64  \n",
    "- 29, Curricular units 2nd sem (evaluations),  int64  \n",
    "- 30, Curricular units 2nd sem (approved),  int64  \n",
    "- 32  Curricular units 2nd sem (without evaluations), int64  \n",
    "\n",
    "\n",
    "So, now we can combine them and perphaps group them into the following:\n",
    "\n",
    "\n",
    "The categorical:\n",
    "\n",
    "- 0,   Marital status, int64  \n",
    "- 1,   Application mode, int64  \n",
    "- 2,   Application order, int64  \n",
    "- 3,   Course, int64  \n",
    "- 4,   Daytime/evening attendance, int64  \n",
    "- 5,   Previous qualification, int64  \n",
    "- 7,   Nacionality, int64  \n",
    "- 8,   Mother's qualification, int64  \n",
    "- 9,   Father's qualification, int64  \n",
    "- 10,  Mother's occupation, int64  \n",
    "- 11,  Father's occupation, int64  \n",
    "- 13,  Displaced, int64  \n",
    "- 14,  Educational special needs, int64  \n",
    "- 15,  Debtor, int64  \n",
    "- 16,  Tuition fees up to date, int64  \n",
    "- 17,  Gender, int64  \n",
    "- 18,  Scholarship holder, int64 \n",
    "- 20,  International, int64 \n",
    "\n",
    "The numerical:\n",
    "\n",
    "- 6,  Previous qualification (grade), float64\n",
    "- 12, Admission grade, float64\n",
    "- 25, Curricular units 1st sem (grade), float64\n",
    "- 31, Curricular units 2nd sem (grade), float64\n",
    "- 33, Unemployment rate, float64\n",
    "- 34, Inflation rate, float64\n",
    "- 35, GDP, float64\n",
    "- 19, Age at enrollment, int64\n",
    "- 21, Curricular units 1st sem (credited),  int64  \n",
    "- 22, Curricular units 1st sem (enrolled),  int64  \n",
    "- 23, Curricular units 1st sem (evaluations),  int64  \n",
    "- 24, Curricular units 1st sem (approved),  int64  \n",
    "- 26, Curricular units 1st sem (without evaluations),  int64  \n",
    "- 27, Curricular units 2nd sem (credited),  int64  \n",
    "- 28, Curricular units 2nd sem (enrolled),  int64  \n",
    "- 29, Curricular units 2nd sem (evaluations),  int64  \n",
    "- 30, Curricular units 2nd sem (approved),  int64  \n",
    "- 32, Curricular units 2nd sem (without evaluations), int64  \n",
    "\n",
    "The target(categorical): \n",
    "- 36  Target,  object"
   ]
  },
  {
   "cell_type": "code",
   "execution_count": 61,
   "metadata": {
    "ExecuteTime": {
     "end_time": "2024-11-20T16:48:22.883358300Z",
     "start_time": "2024-11-20T16:48:22.615532900Z"
    }
   },
   "outputs": [],
   "source": [
    "#print(dataset.columns.tolist())\n",
    "#Here we can double check that the syntax of the lists are correct according to the index.\n",
    "#'Daytime/evening attendance\\t' will give an index error if the \\t is not included."
   ]
  },
  {
   "cell_type": "code",
   "execution_count": 62,
   "metadata": {
    "ExecuteTime": {
     "end_time": "2024-11-20T16:48:22.883358300Z",
     "start_time": "2024-11-20T16:48:22.619672300Z"
    }
   },
   "outputs": [],
   "source": [
    "categorical_features = [\n",
    "    \"Marital status\", \"Application mode\", \"Application order\", \"Course\", \n",
    "    \"Daytime/evening attendance\\t\", \"Previous qualification\", \"Nacionality\", \n",
    "    \"Mother's qualification\", \"Father's qualification\", \"Mother's occupation\", \n",
    "    \"Father's occupation\", \"Displaced\", \"Educational special needs\", \"Debtor\", \n",
    "    \"Tuition fees up to date\", \"Gender\", \"Scholarship holder\", \"International\"\n",
    "]\n",
    "\n",
    "numerical_features = [\n",
    "    \"Previous qualification (grade)\", \"Admission grade\", \"Curricular units 1st sem (grade)\", \n",
    "    \"Curricular units 2nd sem (grade)\", \"Unemployment rate\", \"Inflation rate\", \"GDP\", \n",
    "    \"Age at enrollment\", \"Curricular units 1st sem (credited)\", \"Curricular units 1st sem (enrolled)\", \n",
    "    \"Curricular units 1st sem (evaluations)\", \"Curricular units 1st sem (approved)\", \n",
    "    \"Curricular units 1st sem (without evaluations)\", \"Curricular units 2nd sem (credited)\", \n",
    "    \"Curricular units 2nd sem (enrolled)\", \"Curricular units 2nd sem (evaluations)\", \n",
    "    \"Curricular units 2nd sem (approved)\", \"Curricular units 2nd sem (without evaluations)\"\n",
    "]\n",
    "\n",
    "target = \"Target\"\n",
    "dataset_categorical = dataset[categorical_features]\n",
    "dataset_numerical = dataset[numerical_features]\n",
    "dataset_target = dataset[target]"
   ]
  },
  {
   "cell_type": "code",
   "execution_count": 63,
   "outputs": [
    {
     "data": {
      "text/plain": "<Axes: >"
     },
     "execution_count": 63,
     "metadata": {},
     "output_type": "execute_result"
    },
    {
     "data": {
      "text/plain": "<Figure size 640x480 with 1 Axes>",
      "image/png": "[encoded data removed]"
     },
     "metadata": {},
     "output_type": "display_data"
    }
   ],
   "source": [
    "dataset_target.hist()"
   ],
   "metadata": {
    "collapsed": false,
    "ExecuteTime": {
     "end_time": "2024-11-20T16:48:22.932326100Z",
     "start_time": "2024-11-20T16:48:22.624768800Z"
    }
   }
  },
  {
   "cell_type": "markdown",
   "source": [
    "We need to balance the classes, because we can see that the model will train on more graduate since there is more data in that output?"
   ],
   "metadata": {
    "collapsed": false
   }
  },
  {
   "cell_type": "code",
   "execution_count": 64,
   "outputs": [],
   "source": [
    "#dataset_oversampled,_ = SMOTENC('auto').fit_resample(categorical_features, dataset['Target'])\n",
    "#dataset_oversampled_dataframe = pd.concat\n"
   ],
   "metadata": {
    "collapsed": false,
    "ExecuteTime": {
     "end_time": "2024-11-20T16:48:22.932326100Z",
     "start_time": "2024-11-20T16:48:22.717996700Z"
    }
   }
  },
  {
   "cell_type": "markdown",
   "metadata": {},
   "source": [
    "## Making Onehot encoding of the categorical features\n"
   ]
  },
  {
   "cell_type": "code",
   "execution_count": 65,
   "metadata": {
    "ExecuteTime": {
     "end_time": "2024-11-20T16:48:22.932326100Z",
     "start_time": "2024-11-20T16:48:22.718508200Z"
    }
   },
   "outputs": [],
   "source": [
    "dataset_categorical_onehot = pd.get_dummies(dataset_categorical)\n",
    "#dataset_categorical_onehot.info()"
   ]
  },
  {
   "cell_type": "code",
   "execution_count": 66,
   "outputs": [
    {
     "data": {
      "text/plain": "   Previous qualification (grade)  Admission grade  \\\n0                           122.0            127.3   \n1                           160.0            142.5   \n2                           122.0            124.8   \n3                           122.0            119.6   \n4                           100.0            141.5   \n\n   Curricular units 1st sem (grade)  Curricular units 2nd sem (grade)  \\\n0                          0.000000                          0.000000   \n1                         14.000000                         13.666667   \n2                          0.000000                          0.000000   \n3                         13.428571                         12.400000   \n4                         12.333333                         13.000000   \n\n   Unemployment rate  Inflation rate   GDP  Age at enrollment  \\\n0               10.8             1.4  1.74                 20   \n1               13.9            -0.3  0.79                 19   \n2               10.8             1.4  1.74                 19   \n3                9.4            -0.8 -3.12                 20   \n4               13.9            -0.3  0.79                 45   \n\n   Curricular units 1st sem (credited)  Curricular units 1st sem (enrolled)  \\\n0                                    0                                    0   \n1                                    0                                    6   \n2                                    0                                    6   \n3                                    0                                    6   \n4                                    0                                    6   \n\n   ...  Father's qualification  Mother's occupation  Father's occupation  \\\n0  ...                      12                    5                    9   \n1  ...                       3                    3                    3   \n2  ...                      37                    9                    9   \n3  ...                      37                    5                    3   \n4  ...                      38                    9                    9   \n\n   Displaced  Educational special needs  Debtor  Tuition fees up to date  \\\n0          1                          0       0                        1   \n1          1                          0       0                        0   \n2          1                          0       0                        0   \n3          1                          0       0                        1   \n4          0                          0       0                        1   \n\n   Gender Scholarship holder  International  \n0       1                  0              0  \n1       1                  0              0  \n2       1                  0              0  \n3       0                  0              0  \n4       0                  0              0  \n\n[5 rows x 37 columns]",
      "text/html": "<div>\n<style scoped>\n    .dataframe tbody tr th:only-of-type {\n        vertical-align: middle;\n    }\n\n    .dataframe tbody tr th {\n        vertical-align: top;\n    }\n\n    .dataframe thead th {\n        text-align: right;\n    }\n</style>\n<table border=\"1\" class=\"dataframe\">\n  <thead>\n    <tr style=\"text-align: right;\">\n      <th></th>\n      <th>Previous qualification (grade)</th>\n      <th>Admission grade</th>\n      <th>Curricular units 1st sem (grade)</th>\n      <th>Curricular units 2nd sem (grade)</th>\n      <th>Unemployment rate</th>\n      <th>Inflation rate</th>\n      <th>GDP</th>\n      <th>Age at enrollment</th>\n      <th>Curricular units 1st sem (credited)</th>\n      <th>Curricular units 1st sem (enrolled)</th>\n      <th>...</th>\n      <th>Father's qualification</th>\n      <th>Mother's occupation</th>\n      <th>Father's occupation</th>\n      <th>Displaced</th>\n      <th>Educational special needs</th>\n      <th>Debtor</th>\n      <th>Tuition fees up to date</th>\n      <th>Gender</th>\n      <th>Scholarship holder</th>\n      <th>International</th>\n    </tr>\n  </thead>\n  <tbody>\n    <tr>\n      <th>0</th>\n      <td>122.0</td>\n      <td>127.3</td>\n      <td>0.000000</td>\n      <td>0.000000</td>\n      <td>10.8</td>\n      <td>1.4</td>\n      <td>1.74</td>\n      <td>20</td>\n      <td>0</td>\n      <td>0</td>\n      <td>...</td>\n      <td>12</td>\n      <td>5</td>\n      <td>9</td>\n      <td>1</td>\n      <td>0</td>\n      <td>0</td>\n      <td>1</td>\n      <td>1</td>\n      <td>0</td>\n      <td>0</td>\n    </tr>\n    <tr>\n      <th>1</th>\n      <td>160.0</td>\n      <td>142.5</td>\n      <td>14.000000</td>\n      <td>13.666667</td>\n      <td>13.9</td>\n      <td>-0.3</td>\n      <td>0.79</td>\n      <td>19</td>\n      <td>0</td>\n      <td>6</td>\n      <td>...</td>\n      <td>3</td>\n      <td>3</td>\n      <td>3</td>\n      <td>1</td>\n      <td>0</td>\n      <td>0</td>\n      <td>0</td>\n      <td>1</td>\n      <td>0</td>\n      <td>0</td>\n    </tr>\n    <tr>\n      <th>2</th>\n      <td>122.0</td>\n      <td>124.8</td>\n      <td>0.000000</td>\n      <td>0.000000</td>\n      <td>10.8</td>\n      <td>1.4</td>\n      <td>1.74</td>\n      <td>19</td>\n      <td>0</td>\n      <td>6</td>\n      <td>...</td>\n      <td>37</td>\n      <td>9</td>\n      <td>9</td>\n      <td>1</td>\n      <td>0</td>\n      <td>0</td>\n      <td>0</td>\n      <td>1</td>\n      <td>0</td>\n      <td>0</td>\n    </tr>\n    <tr>\n      <th>3</th>\n      <td>122.0</td>\n      <td>119.6</td>\n      <td>13.428571</td>\n      <td>12.400000</td>\n      <td>9.4</td>\n      <td>-0.8</td>\n      <td>-3.12</td>\n      <td>20</td>\n      <td>0</td>\n      <td>6</td>\n      <td>...</td>\n      <td>37</td>\n      <td>5</td>\n      <td>3</td>\n      <td>1</td>\n      <td>0</td>\n      <td>0</td>\n      <td>1</td>\n      <td>0</td>\n      <td>0</td>\n      <td>0</td>\n    </tr>\n    <tr>\n      <th>4</th>\n      <td>100.0</td>\n      <td>141.5</td>\n      <td>12.333333</td>\n      <td>13.000000</td>\n      <td>13.9</td>\n      <td>-0.3</td>\n      <td>0.79</td>\n      <td>45</td>\n      <td>0</td>\n      <td>6</td>\n      <td>...</td>\n      <td>38</td>\n      <td>9</td>\n      <td>9</td>\n      <td>0</td>\n      <td>0</td>\n      <td>0</td>\n      <td>1</td>\n      <td>0</td>\n      <td>0</td>\n      <td>0</td>\n    </tr>\n  </tbody>\n</table>\n<p>5 rows × 37 columns</p>\n</div>"
     },
     "execution_count": 66,
     "metadata": {},
     "output_type": "execute_result"
    }
   ],
   "source": [
    "combined_dataset = pd.concat([dataset_numerical, dataset_target, dataset_categorical_onehot], axis=1)\n",
    "combined_dataset.head()"
   ],
   "metadata": {
    "collapsed": false,
    "ExecuteTime": {
     "end_time": "2024-11-20T16:48:22.932326100Z",
     "start_time": "2024-11-20T16:48:22.725821Z"
    }
   }
  },
  {
   "cell_type": "markdown",
   "source": [
    "## Now lets combine them together again\n"
   ],
   "metadata": {
    "collapsed": false
   }
  },
  {
   "cell_type": "code",
   "execution_count": 67,
   "outputs": [],
   "source": [
    "combined_dataset = pd.concat([dataset_numerical, dataset_target, dataset_categorical_onehot], axis=1)\n",
    "#combined_dataset.info()"
   ],
   "metadata": {
    "collapsed": false,
    "ExecuteTime": {
     "end_time": "2024-11-20T16:48:22.932326100Z",
     "start_time": "2024-11-20T16:48:22.738810200Z"
    }
   }
  },
  {
   "cell_type": "markdown",
   "source": [
    "## Creating our split"
   ],
   "metadata": {
    "collapsed": false
   }
  },
  {
   "cell_type": "code",
   "execution_count": 68,
   "outputs": [],
   "source": [
    "train_val = combined_dataset.groupby('Target', group_keys=False)[combined_dataset.columns].apply(lambda x: x.sample(frac=0.8))\n",
    "test_set = combined_dataset.drop(train_val.index)"
   ],
   "metadata": {
    "collapsed": false,
    "ExecuteTime": {
     "end_time": "2024-11-20T16:48:22.932326100Z",
     "start_time": "2024-11-20T16:48:22.744589300Z"
    }
   }
  },
  {
   "cell_type": "code",
   "execution_count": 69,
   "outputs": [],
   "source": [
    "features = combined_dataset.drop('Target', axis=1)\n",
    "targets = combined_dataset['Target']\n",
    "\n",
    "train_val_features = train_val.drop('Target', axis=1)\n",
    "train_val_targets = train_val['Target']\n",
    "\n",
    "test_features = test_set.drop('Target', axis=1)\n",
    "test_targets = test_set['Target']"
   ],
   "metadata": {
    "collapsed": false,
    "ExecuteTime": {
     "end_time": "2024-11-20T16:48:22.932326100Z",
     "start_time": "2024-11-20T16:48:22.753031200Z"
    }
   }
  },
  {
   "cell_type": "markdown",
   "metadata": {},
   "source": [
    "## Pre-proccessing \n",
    "\n",
    "Lets proceed with the dataset now, and see what kind of results it produces. After that we can take pre processing steps to see how it changes the result.\n",
    "But here we can expand by trying out normalization, PCA, etc."
   ]
  },
  {
   "cell_type": "markdown",
   "metadata": {},
   "source": [
    "## Splitting\n",
    "\n",
    "### Why this split percentage\n",
    "### Why this sampling technique"
   ]
  },
  {
   "cell_type": "markdown",
   "source": [
    "## Creating the models\n"
   ],
   "metadata": {
    "collapsed": false
   }
  },
  {
   "cell_type": "markdown",
   "source": [
    "### Evaluation function\n"
   ],
   "metadata": {
    "collapsed": false
   }
  },
  {
   "cell_type": "code",
   "execution_count": 70,
   "outputs": [
    {
     "data": {
      "text/plain": "'\\ndef evaluate(model):\\n    train_probabilities = model.predict_proba(train_val_features)\\n    train_predictions = model.classes_.take(np.argmax(train_probabilities, axis=1), axis=0)\\n\\n    print(f\\'Training Accuracy: {accuracy_score(train_val_targets, train_predictions)}\\')\\n    print(f\\'Training Precision: {precision_score(train_val_targets, train_predictions, average=\"weighted\")}\\')\\n    print(f\\'Training Recall: {recall_score(train_val_targets, train_predictions, average=\"weighted\")}\\')\\n    print(f\\'Training F1: {f1_score(train_val_targets, train_predictions, average=\"weighted\")}\\')\\n    print(f\\'Training ROC AUC: {roc_auc_score(train_val_targets, train_probabilities, average=\"macro\", multi_class=\"ovr\")}\\')\\n\\n    test_probabilities = model.predict_proba(test_features)\\n    test_predictions = model.classes_.take(np.argmax(test_probabilities, axis=1), axis=0)\\n\\n    print(f\\'Test Accuracy: {accuracy_score(test_targets, test_predictions)}\\')\\n    print(f\\'Test Precision: {precision_score(test_targets, test_predictions, average=\"weighted\")}\\')\\n    print(f\\'Test Recall: {recall_score(test_targets, test_predictions, average=\"weighted\")}\\')\\n    print(f\\'Test F1: {f1_score(test_targets, test_predictions, average=\"weighted\")}\\')\\n    print(f\\'Test ROC AUC: {roc_auc_score(test_targets, test_probabilities, average=\"macro\", multi_class=\"ovr\")}\\')\\n    print()\\n'"
     },
     "execution_count": 70,
     "metadata": {},
     "output_type": "execute_result"
    }
   ],
   "source": [
    "'''\n",
    "def evaluate(model):\n",
    "    train_probabilities = model.predict_proba(train_val_features)\n",
    "    train_predictions = model.classes_.take(np.argmax(train_probabilities, axis=1), axis=0)\n",
    "\n",
    "    print(f'Training Accuracy: {accuracy_score(train_val_targets, train_predictions)}')\n",
    "    print(f'Training Precision: {precision_score(train_val_targets, train_predictions, average=\"weighted\")}')\n",
    "    print(f'Training Recall: {recall_score(train_val_targets, train_predictions, average=\"weighted\")}')\n",
    "    print(f'Training F1: {f1_score(train_val_targets, train_predictions, average=\"weighted\")}')\n",
    "    print(f'Training ROC AUC: {roc_auc_score(train_val_targets, train_probabilities, average=\"macro\", multi_class=\"ovr\")}')\n",
    "\n",
    "    test_probabilities = model.predict_proba(test_features)\n",
    "    test_predictions = model.classes_.take(np.argmax(test_probabilities, axis=1), axis=0)\n",
    "\n",
    "    print(f'Test Accuracy: {accuracy_score(test_targets, test_predictions)}')\n",
    "    print(f'Test Precision: {precision_score(test_targets, test_predictions, average=\"weighted\")}')\n",
    "    print(f'Test Recall: {recall_score(test_targets, test_predictions, average=\"weighted\")}')\n",
    "    print(f'Test F1: {f1_score(test_targets, test_predictions, average=\"weighted\")}')\n",
    "    print(f'Test ROC AUC: {roc_auc_score(test_targets, test_probabilities, average=\"macro\", multi_class=\"ovr\")}')\n",
    "    print()\n",
    "'''\n",
    "#"
   ],
   "metadata": {
    "collapsed": false,
    "ExecuteTime": {
     "end_time": "2024-11-20T16:48:22.932326100Z",
     "start_time": "2024-11-20T16:48:22.763458600Z"
    }
   }
  },
  {
   "cell_type": "code",
   "execution_count": 71,
   "outputs": [],
   "source": [
    "def evaluate(model):\n",
    "    train_probabilities = model.predict_proba(train_val_features)\n",
    "    train_predictions = model.classes_.take(np.argmax(train_probabilities, axis=1), axis=0)\n",
    "\n",
    "    print(f'Training Accuracy: {accuracy_score(train_val_targets, train_predictions)}')\n",
    "    print(f'Training Precision: {precision_score(train_val_targets, train_predictions, average=\"micro\")}')\n",
    "    print(f'Training Recall: {recall_score(train_val_targets, train_predictions, average=\"micro\")}')\n",
    "    print(f'Training F1: {f1_score(train_val_targets, train_predictions, average=\"micro\")}')\n",
    "    print(f'Training ROC AUC: {roc_auc_score(train_val_targets, train_probabilities, average=\"micro\", multi_class=\"ovr\")}')\n",
    "\n",
    "    test_probabilities = model.predict_proba(test_features)\n",
    "    test_predictions = model.classes_.take(np.argmax(test_probabilities, axis=1), axis=0)\n",
    "\n",
    "    print(f'Test Accuracy: {accuracy_score(test_targets, test_predictions)}')\n",
    "    print(f'Test Precision: {precision_score(test_targets, test_predictions, average=\"micro\")}')\n",
    "    print(f'Test Recall: {recall_score(test_targets, test_predictions, average=\"micro\")}')\n",
    "    print(f'Test F1: {f1_score(test_targets, test_predictions, average=\"micro\")}')\n",
    "    print(f'Test ROC AUC: {roc_auc_score(test_targets, test_probabilities, average=\"micro\", multi_class=\"ovr\")}')\n",
    "    print()\n"
   ],
   "metadata": {
    "collapsed": false,
    "ExecuteTime": {
     "end_time": "2024-11-20T16:48:22.932326100Z",
     "start_time": "2024-11-20T16:48:22.772678200Z"
    }
   }
  },
  {
   "cell_type": "markdown",
   "metadata": {},
   "source": [
    "## Tuning the hyperparameters\n",
    "\n",
    "### Grid search"
   ]
  },
  {
   "cell_type": "code",
   "execution_count": 72,
   "outputs": [],
   "source": [
    "metrics = ['accuracy', 'precision_micro', 'recall_micro', 'f1_micro', 'roc_auc_ovr']\n"
   ],
   "metadata": {
    "collapsed": false,
    "ExecuteTime": {
     "end_time": "2024-11-20T16:48:22.932326100Z",
     "start_time": "2024-11-20T16:48:22.777511100Z"
    }
   }
  },
  {
   "cell_type": "markdown",
   "source": [
    "## Creating a function for GridSearch\n",
    "\n",
    "### and creating param grid dictionaries"
   ],
   "metadata": {
    "collapsed": false
   }
  },
  {
   "cell_type": "code",
   "execution_count": 73,
   "outputs": [],
   "source": [
    "param_grid_RF = {\n",
    "        'max_depth': np.arange(1, 15, 5),\n",
    "        'n_estimators': np.arange(5, 100, 10),\n",
    "        'max_features': np.arange(0.1, 1.0, 0.05),\n",
    "        }\n",
    "\n",
    "\n",
    "param_grid_GB = {\n",
    "    'n_estimators': np.arange(50, 201, 50),\n",
    "    'learning_rate': np.arange(0.01, 0.25, 0.05),\n",
    "    'max_depth': np.arange(3, 11, 2)\n",
    "    }\n",
    "\n",
    "\n",
    "param_grid_ADA = {\n",
    "    'n_estimators': np.arange(50, 201, 50),\n",
    "    'learning_rate': np.arange(0.01, 1.1, 0.3),\n",
    "    'estimator__max_depth': np.arange(1, 6, 2)\n",
    "    }\n",
    "\n",
    "\n",
    "param_grid_NB = {\n",
    "    'var_smoothing': np.logspace(-9, -6, 4)  # 1e-9, 1e-8, 1e-7, 1e-6 ?\n",
    "    }\n"
   ],
   "metadata": {
    "collapsed": false,
    "ExecuteTime": {
     "end_time": "2024-11-20T16:48:22.932326100Z",
     "start_time": "2024-11-20T16:48:22.781029300Z"
    }
   }
  },
  {
   "cell_type": "code",
   "execution_count": 74,
   "outputs": [],
   "source": [
    "def train_grid_search(classifier, parameter_grid, scoring,refit, features, target, cv=5, verbose=1):\n",
    "    grid_search = GridSearchCV(\n",
    "        estimator=classifier,\n",
    "        param_grid=parameter_grid,\n",
    "        scoring=scoring,\n",
    "        refit=refit,\n",
    "        cv=cv,\n",
    "        verbose=verbose,\n",
    "        n_jobs=-1\n",
    "    )\n",
    "\n",
    "    grid_search.fit(features, target)\n",
    "    results = pd.DataFrame(grid_search.cv_results_)\n",
    "    best_model = grid_search.best_estimator_\n",
    "\n",
    "    print(f\"best parameters: {grid_search.best_params_}\")\n",
    "    print(f\"best score: {grid_search.best_score_:.4f}\")\n",
    "\n",
    "    return best_model, results"
   ],
   "metadata": {
    "collapsed": false,
    "ExecuteTime": {
     "end_time": "2024-11-20T16:48:22.932326100Z",
     "start_time": "2024-11-20T16:48:22.791823400Z"
    }
   }
  },
  {
   "cell_type": "code",
   "execution_count": 75,
   "outputs": [
    {
     "name": "stdout",
     "output_type": "stream",
     "text": [
      "Fitting 5 folds for each of 540 candidates, totalling 2700 fits\n",
      "best parameters: {'max_depth': np.int64(11), 'max_features': np.float64(0.45000000000000007), 'n_estimators': np.int64(45)}\n",
      "best score: 0.7725\n"
     ]
    },
    {
     "data": {
      "text/plain": "(RandomForestClassifier(max_depth=np.int64(11),\n                        max_features=np.float64(0.45000000000000007),\n                        n_estimators=np.int64(45)),\n      mean_fit_time  std_fit_time  mean_score_time  std_score_time  \\\n 0         0.013223      0.000748         0.028079        0.000000   \n 1         0.025017      0.005659         0.033424        0.006008   \n 2         0.047736      0.007591         0.029799        0.003190   \n 3         0.060657      0.002223         0.036316        0.006228   \n 4         0.078578      0.007222         0.029774        0.005006   \n ..             ...           ...              ...             ...   \n 535       1.142146      0.019478         0.043993        0.004655   \n 536       1.337228      0.018554         0.043272        0.004112   \n 537       1.556730      0.015743         0.045913        0.004890   \n 538       1.734180      0.026797         0.039619        0.003537   \n 539       1.739504      0.110593         0.026632        0.004562   \n \n      param_max_depth  param_max_features  param_n_estimators  \\\n 0                  1                0.10                   5   \n 1                  1                0.10                  15   \n 2                  1                0.10                  25   \n 3                  1                0.10                  35   \n 4                  1                0.10                  45   \n ..               ...                 ...                 ...   \n 535               11                0.95                  55   \n 536               11                0.95                  65   \n 537               11                0.95                  75   \n 538               11                0.95                  85   \n 539               11                0.95                  95   \n \n                                                 params  split0_test_accuracy  \\\n 0    {'max_depth': 1, 'max_features': 0.1, 'n_estim...              0.663842   \n 1    {'max_depth': 1, 'max_features': 0.1, 'n_estim...              0.597458   \n 2    {'max_depth': 1, 'max_features': 0.1, 'n_estim...              0.659605   \n 3    {'max_depth': 1, 'max_features': 0.1, 'n_estim...              0.663842   \n 4    {'max_depth': 1, 'max_features': 0.1, 'n_estim...              0.631356   \n ..                                                 ...                   ...   \n 535  {'max_depth': 11, 'max_features': 0.9500000000...              0.754237   \n 536  {'max_depth': 11, 'max_features': 0.9500000000...              0.766949   \n 537  {'max_depth': 11, 'max_features': 0.9500000000...              0.758475   \n 538  {'max_depth': 11, 'max_features': 0.9500000000...              0.772599   \n 539  {'max_depth': 11, 'max_features': 0.9500000000...              0.768362   \n \n      split1_test_accuracy  ...  std_test_f1_micro  rank_test_f1_micro  \\\n 0                0.659605  ...           0.022741                 536   \n 1                0.610169  ...           0.020402                 540   \n 2                0.642655  ...           0.007504                 537   \n 3                0.668079  ...           0.011867                 533   \n 4                0.692090  ...           0.027608                 538   \n ..                    ...  ...                ...                 ...   \n 535              0.766949  ...           0.009242                 204   \n 536              0.776836  ...           0.008333                  80   \n 537              0.775424  ...           0.011893                 123   \n 538              0.772599  ...           0.010288                  57   \n 539              0.774011  ...           0.010448                 131   \n \n      split0_test_roc_auc_ovr  split1_test_roc_auc_ovr  \\\n 0                   0.696088                 0.752388   \n 1                   0.792891                 0.748670   \n 2                   0.821844                 0.806886   \n 3                   0.812191                 0.806138   \n 4                   0.811130                 0.798164   \n ..                       ...                      ...   \n 535                 0.874108                 0.877115   \n 536                 0.870805                 0.877488   \n 537                 0.869924                 0.874795   \n 538                 0.873769                 0.873020   \n 539                 0.875053                 0.873872   \n \n      split2_test_roc_auc_ovr  split3_test_roc_auc_ovr  \\\n 0                   0.746386                 0.746688   \n 1                   0.805715                 0.807541   \n 2                   0.782576                 0.822536   \n 3                   0.809489                 0.807424   \n 4                   0.825021                 0.790535   \n ..                       ...                      ...   \n 535                 0.862250                 0.891865   \n 536                 0.869234                 0.896722   \n 537                 0.866328                 0.892417   \n 538                 0.865190                 0.896840   \n 539                 0.864772                 0.893113   \n \n      split4_test_roc_auc_ovr  mean_test_roc_auc_ovr  std_test_roc_auc_ovr  \\\n 0                   0.751788               0.738668              0.021435   \n 1                   0.760986               0.783161              0.023996   \n 2                   0.781061               0.802981              0.018168   \n 3                   0.788036               0.804656              0.008558   \n 4                   0.792155               0.803401              0.013012   \n ..                       ...                    ...                   ...   \n 535                 0.863522               0.873772              0.010737   \n 536                 0.864666               0.875783              0.011248   \n 537                 0.865894               0.873872              0.009807   \n 538                 0.868347               0.875433              0.011153   \n 539                 0.862182               0.873799              0.010872   \n \n      rank_test_roc_auc_ovr  \n 0                      540  \n 1                      428  \n 2                      382  \n 3                      378  \n 4                      380  \n ..                     ...  \n 535                    182  \n 536                     89  \n 537                    175  \n 538                    100  \n 539                    178  \n \n [540 rows x 48 columns])"
     },
     "execution_count": 75,
     "metadata": {},
     "output_type": "execute_result"
    }
   ],
   "source": [
    "train_grid_search(RandomForestClassifier(),param_grid_RF,metrics,'f1_micro',train_val_features,train_val_targets)"
   ],
   "metadata": {
    "collapsed": false,
    "ExecuteTime": {
     "end_time": "2024-11-20T16:50:08.030712800Z",
     "start_time": "2024-11-20T16:48:22.796844500Z"
    }
   }
  },
  {
   "cell_type": "code",
   "execution_count": 76,
   "outputs": [
    {
     "name": "stdout",
     "output_type": "stream",
     "text": [
      "Fitting 5 folds for each of 80 candidates, totalling 400 fits\n",
      "best parameters: {'learning_rate': np.float64(0.11), 'max_depth': np.int64(5), 'n_estimators': np.int64(50)}\n",
      "best score: 0.7756\n"
     ]
    },
    {
     "data": {
      "text/plain": "(GradientBoostingClassifier(learning_rate=np.float64(0.11),\n                            max_depth=np.int64(5), n_estimators=np.int64(50)),\n     mean_fit_time  std_fit_time  mean_score_time  std_score_time  \\\n 0        1.306173      0.015808         0.033389        0.008363   \n 1        2.628669      0.029883         0.035933        0.004329   \n 2        3.981664      0.060734         0.040359        0.000672   \n 3        5.357415      0.057689         0.046900        0.003708   \n 4        2.394161      0.030850         0.043265        0.011451   \n ..            ...           ...              ...             ...   \n 75      15.475755      0.142104         0.070101        0.005213   \n 76       6.359887      0.028198         0.047392        0.003093   \n 77      12.782584      0.151414         0.065293        0.002449   \n 78      18.447391      0.074513         0.062795        0.005554   \n 79      18.986332      1.117828         0.057942        0.008834   \n \n     param_learning_rate  param_max_depth  param_n_estimators  \\\n 0                  0.01                3                  50   \n 1                  0.01                3                 100   \n 2                  0.01                3                 150   \n 3                  0.01                3                 200   \n 4                  0.01                5                  50   \n ..                  ...              ...                 ...   \n 75                 0.21                7                 200   \n 76                 0.21                9                  50   \n 77                 0.21                9                 100   \n 78                 0.21                9                 150   \n 79                 0.21                9                 200   \n \n                                                params  split0_test_accuracy  \\\n 0   {'learning_rate': 0.01, 'max_depth': 3, 'n_est...              0.723164   \n 1   {'learning_rate': 0.01, 'max_depth': 3, 'n_est...              0.735876   \n 2   {'learning_rate': 0.01, 'max_depth': 3, 'n_est...              0.741525   \n 3   {'learning_rate': 0.01, 'max_depth': 3, 'n_est...              0.757062   \n 4   {'learning_rate': 0.01, 'max_depth': 5, 'n_est...              0.728814   \n ..                                                ...                   ...   \n 75  {'learning_rate': 0.21000000000000002, 'max_de...              0.776836   \n 76  {'learning_rate': 0.21000000000000002, 'max_de...              0.764124   \n 77  {'learning_rate': 0.21000000000000002, 'max_de...              0.775424   \n 78  {'learning_rate': 0.21000000000000002, 'max_de...              0.776836   \n 79  {'learning_rate': 0.21000000000000002, 'max_de...              0.778249   \n \n     split1_test_accuracy  ...  std_test_f1_micro  rank_test_f1_micro  \\\n 0               0.730226  ...           0.008574                  80   \n 1               0.733051  ...           0.003375                  76   \n 2               0.752825  ...           0.010942                  73   \n 3               0.758475  ...           0.009493                  69   \n 4               0.737288  ...           0.007036                  77   \n ..                   ...  ...                ...                 ...   \n 75              0.769774  ...           0.008522                  33   \n 76              0.762712  ...           0.009347                  58   \n 77              0.772599  ...           0.011565                  50   \n 78              0.775424  ...           0.013591                  35   \n 79              0.769774  ...           0.014990                  60   \n \n     split0_test_roc_auc_ovr  split1_test_roc_auc_ovr  split2_test_roc_auc_ovr  \\\n 0                  0.859960                 0.848088                 0.852744   \n 1                  0.865648                 0.861540                 0.859311   \n 2                  0.869353                 0.868422                 0.862156   \n 3                  0.872762                 0.874337                 0.866322   \n 4                  0.865419                 0.858979                 0.857146   \n ..                      ...                      ...                      ...   \n 75                 0.874308                 0.882770                 0.874982   \n 76                 0.873430                 0.881528                 0.869716   \n 77                 0.880904                 0.887799                 0.867580   \n 78                 0.879837                 0.886351                 0.873339   \n 79                 0.879409                 0.889579                 0.872980   \n \n     split3_test_roc_auc_ovr  split4_test_roc_auc_ovr  mean_test_roc_auc_ovr  \\\n 0                  0.867112                 0.842370               0.854055   \n 1                  0.875731                 0.850257               0.862497   \n 2                  0.882040                 0.857020               0.867798   \n 3                  0.889764                 0.862627               0.873162   \n 4                  0.883872                 0.864392               0.865962   \n ..                      ...                      ...                    ...   \n 75                 0.894040                 0.860785               0.877377   \n 76                 0.886472                 0.861157               0.874460   \n 77                 0.888681                 0.857960               0.876585   \n 78                 0.891944                 0.859604               0.878215   \n 79                 0.890861                 0.862441               0.879054   \n \n     std_test_roc_auc_ovr  rank_test_roc_auc_ovr  \n 0               0.008709                     79  \n 1               0.008318                     75  \n 2               0.008410                     71  \n 3               0.009327                     66  \n 4               0.009487                     72  \n ..                   ...                    ...  \n 75              0.010929                     52  \n 76              0.008886                     65  \n 77              0.011989                     60  \n 78              0.011202                     46  \n 79              0.010613                     37  \n \n [80 rows x 48 columns])"
     },
     "execution_count": 76,
     "metadata": {},
     "output_type": "execute_result"
    }
   ],
   "source": [
    "train_grid_search(GradientBoostingClassifier(),param_grid_GB,metrics,'f1_micro',train_val_features,train_val_targets)"
   ],
   "metadata": {
    "collapsed": false,
    "ExecuteTime": {
     "end_time": "2024-11-20T16:55:09.021051800Z",
     "start_time": "2024-11-20T16:50:08.030712800Z"
    }
   }
  },
  {
   "cell_type": "code",
   "execution_count": 77,
   "outputs": [
    {
     "name": "stdout",
     "output_type": "stream",
     "text": [
      "Fitting 5 folds for each of 48 candidates, totalling 240 fits\n"
     ]
    },
    {
     "name": "stderr",
     "output_type": "stream",
     "text": [
      "C:\\Users\\Stavros\\AppData\\Local\\Programs\\Python\\Python311\\Lib\\site-packages\\sklearn\\ensemble\\_weight_boosting.py:527: FutureWarning: The SAMME.R algorithm (the default) is deprecated and will be removed in 1.6. Use the SAMME algorithm to circumvent this warning.\n",
      "  warnings.warn(\n"
     ]
    },
    {
     "name": "stdout",
     "output_type": "stream",
     "text": [
      "best parameters: {'estimator__max_depth': np.int64(1), 'learning_rate': np.float64(0.9099999999999999), 'n_estimators': np.int64(150)}\n",
      "best score: 0.7629\n"
     ]
    },
    {
     "data": {
      "text/plain": "(AdaBoostClassifier(estimator=DecisionTreeClassifier(max_depth=np.int64(1)),\n                    learning_rate=np.float64(0.9099999999999999),\n                    n_estimators=np.int64(150)),\n     mean_fit_time  std_fit_time  mean_score_time  std_score_time  \\\n 0        0.424256      0.031238         0.057546        0.002824   \n 1        0.819896      0.030702         0.077882        0.007222   \n 2        1.230979      0.031272         0.106785        0.007770   \n 3        1.617420      0.032428         0.134597        0.009489   \n 4        0.409341      0.006496         0.050534        0.000106   \n 5        0.814389      0.015432         0.081794        0.006418   \n 6        1.252644      0.033644         0.116565        0.006014   \n 7        1.675679      0.034086         0.142584        0.003954   \n 8        0.424816      0.011809         0.054509        0.004370   \n 9        0.888611      0.016812         0.089825        0.004581   \n 10       1.314424      0.024847         0.110486        0.003187   \n 11       1.754618      0.034864         0.140604        0.003103   \n 12       0.447805      0.008345         0.061606        0.005062   \n 13       0.899760      0.020686         0.084738        0.004757   \n 14       1.293095      0.013820         0.110236        0.001158   \n 15       1.750546      0.018832         0.141825        0.010130   \n 16       0.707609      0.019169         0.059901        0.004854   \n 17       1.400930      0.026793         0.083551        0.002518   \n 18       2.108942      0.028925         0.114557        0.003872   \n 19       2.807538      0.038132         0.142467        0.005380   \n 20       0.688690      0.008870         0.053898        0.004044   \n 21       1.418557      0.027280         0.089156        0.001089   \n 22       2.087371      0.019080         0.115290        0.005863   \n 23       2.795156      0.035468         0.147361        0.006192   \n 24       0.705890      0.012407         0.059223        0.002673   \n 25       1.406170      0.022646         0.089968        0.003115   \n 26       2.123098      0.054255         0.112455        0.001717   \n 27       2.785717      0.029087         0.146939        0.009154   \n 28       0.709302      0.003740         0.060691        0.007386   \n 29       1.422597      0.028107         0.088564        0.002198   \n 30       2.096184      0.024654         0.117805        0.004143   \n 31       2.792817      0.040833         0.145874        0.004557   \n 32       1.009224      0.013376         0.058709        0.003110   \n 33       1.971651      0.035542         0.086524        0.003884   \n 34       2.988554      0.055953         0.120083        0.006076   \n 35       3.949901      0.058675         0.148484        0.004748   \n 36       0.994638      0.012771         0.057623        0.005465   \n 37       1.959376      0.017385         0.090718        0.004263   \n 38       2.989016      0.034504         0.122227        0.005555   \n 39       3.930679      0.048188         0.147439        0.002645   \n 40       0.988620      0.012418         0.055461        0.003839   \n 41       2.000099      0.007974         0.088753        0.002778   \n 42       2.967866      0.041265         0.120661        0.003954   \n 43       3.957895      0.053646         0.148676        0.002082   \n 44       0.988525      0.011967         0.058706        0.002016   \n 45       1.995390      0.019647         0.088161        0.004414   \n 46       2.807332      0.098137         0.094076        0.012654   \n 47       3.200800      0.075209         0.086906        0.007150   \n \n     param_estimator__max_depth  param_learning_rate  param_n_estimators  \\\n 0                            1                 0.01                  50   \n 1                            1                 0.01                 100   \n 2                            1                 0.01                 150   \n 3                            1                 0.01                 200   \n 4                            1                 0.31                  50   \n 5                            1                 0.31                 100   \n 6                            1                 0.31                 150   \n 7                            1                 0.31                 200   \n 8                            1                 0.61                  50   \n 9                            1                 0.61                 100   \n 10                           1                 0.61                 150   \n 11                           1                 0.61                 200   \n 12                           1                 0.91                  50   \n 13                           1                 0.91                 100   \n 14                           1                 0.91                 150   \n 15                           1                 0.91                 200   \n 16                           3                 0.01                  50   \n 17                           3                 0.01                 100   \n 18                           3                 0.01                 150   \n 19                           3                 0.01                 200   \n 20                           3                 0.31                  50   \n 21                           3                 0.31                 100   \n 22                           3                 0.31                 150   \n 23                           3                 0.31                 200   \n 24                           3                 0.61                  50   \n 25                           3                 0.61                 100   \n 26                           3                 0.61                 150   \n 27                           3                 0.61                 200   \n 28                           3                 0.91                  50   \n 29                           3                 0.91                 100   \n 30                           3                 0.91                 150   \n 31                           3                 0.91                 200   \n 32                           5                 0.01                  50   \n 33                           5                 0.01                 100   \n 34                           5                 0.01                 150   \n 35                           5                 0.01                 200   \n 36                           5                 0.31                  50   \n 37                           5                 0.31                 100   \n 38                           5                 0.31                 150   \n 39                           5                 0.31                 200   \n 40                           5                 0.61                  50   \n 41                           5                 0.61                 100   \n 42                           5                 0.61                 150   \n 43                           5                 0.61                 200   \n 44                           5                 0.91                  50   \n 45                           5                 0.91                 100   \n 46                           5                 0.91                 150   \n 47                           5                 0.91                 200   \n \n                                                params  split0_test_accuracy  \\\n 0   {'estimator__max_depth': 1, 'learning_rate': 0...              0.709040   \n 1   {'estimator__max_depth': 1, 'learning_rate': 0...              0.723164   \n 2   {'estimator__max_depth': 1, 'learning_rate': 0...              0.723164   \n 3   {'estimator__max_depth': 1, 'learning_rate': 0...              0.723164   \n 4   {'estimator__max_depth': 1, 'learning_rate': 0...              0.748588   \n 5   {'estimator__max_depth': 1, 'learning_rate': 0...              0.754237   \n 6   {'estimator__max_depth': 1, 'learning_rate': 0...              0.764124   \n 7   {'estimator__max_depth': 1, 'learning_rate': 0...              0.762712   \n 8   {'estimator__max_depth': 1, 'learning_rate': 0...              0.751412   \n 9   {'estimator__max_depth': 1, 'learning_rate': 0...              0.754237   \n 10  {'estimator__max_depth': 1, 'learning_rate': 0...              0.758475   \n 11  {'estimator__max_depth': 1, 'learning_rate': 0...              0.761299   \n 12  {'estimator__max_depth': 1, 'learning_rate': 0...              0.754237   \n 13  {'estimator__max_depth': 1, 'learning_rate': 0...              0.759887   \n 14  {'estimator__max_depth': 1, 'learning_rate': 0...              0.769774   \n 15  {'estimator__max_depth': 1, 'learning_rate': 0...              0.771186   \n 16  {'estimator__max_depth': 3, 'learning_rate': 0...              0.723164   \n 17  {'estimator__max_depth': 3, 'learning_rate': 0...              0.741525   \n 18  {'estimator__max_depth': 3, 'learning_rate': 0...              0.751412   \n 19  {'estimator__max_depth': 3, 'learning_rate': 0...              0.757062   \n 20  {'estimator__max_depth': 3, 'learning_rate': 0...              0.751412   \n 21  {'estimator__max_depth': 3, 'learning_rate': 0...              0.750000   \n 22  {'estimator__max_depth': 3, 'learning_rate': 0...              0.747175   \n 23  {'estimator__max_depth': 3, 'learning_rate': 0...              0.744350   \n 24  {'estimator__max_depth': 3, 'learning_rate': 0...              0.734463   \n 25  {'estimator__max_depth': 3, 'learning_rate': 0...              0.714689   \n 26  {'estimator__max_depth': 3, 'learning_rate': 0...              0.733051   \n 27  {'estimator__max_depth': 3, 'learning_rate': 0...              0.738701   \n 28  {'estimator__max_depth': 3, 'learning_rate': 0...              0.716102   \n 29  {'estimator__max_depth': 3, 'learning_rate': 0...              0.703390   \n 30  {'estimator__max_depth': 3, 'learning_rate': 0...              0.709040   \n 31  {'estimator__max_depth': 3, 'learning_rate': 0...              0.714689   \n 32  {'estimator__max_depth': 5, 'learning_rate': 0...              0.761299   \n 33  {'estimator__max_depth': 5, 'learning_rate': 0...              0.762712   \n 34  {'estimator__max_depth': 5, 'learning_rate': 0...              0.768362   \n 35  {'estimator__max_depth': 5, 'learning_rate': 0...              0.762712   \n 36  {'estimator__max_depth': 5, 'learning_rate': 0...              0.740113   \n 37  {'estimator__max_depth': 5, 'learning_rate': 0...              0.764124   \n 38  {'estimator__max_depth': 5, 'learning_rate': 0...              0.768362   \n 39  {'estimator__max_depth': 5, 'learning_rate': 0...              0.762712   \n 40  {'estimator__max_depth': 5, 'learning_rate': 0...              0.714689   \n 41  {'estimator__max_depth': 5, 'learning_rate': 0...              0.737288   \n 42  {'estimator__max_depth': 5, 'learning_rate': 0...              0.757062   \n 43  {'estimator__max_depth': 5, 'learning_rate': 0...              0.765537   \n 44  {'estimator__max_depth': 5, 'learning_rate': 0...              0.710452   \n 45  {'estimator__max_depth': 5, 'learning_rate': 0...              0.750000   \n 46  {'estimator__max_depth': 5, 'learning_rate': 0...              0.742938   \n 47  {'estimator__max_depth': 5, 'learning_rate': 0...              0.761299   \n \n     split1_test_accuracy  ...  std_test_f1_micro  rank_test_f1_micro  \\\n 0               0.693503  ...           0.006596                  47   \n 1               0.709040  ...           0.006766                  41   \n 2               0.714689  ...           0.005178                  40   \n 3               0.714689  ...           0.005834                  37   \n 4               0.747175  ...           0.008708                  19   \n 5               0.761299  ...           0.010937                   4   \n 6               0.758475  ...           0.006116                   8   \n 7               0.761299  ...           0.006186                   2   \n 8               0.761299  ...           0.011674                  12   \n 9               0.752825  ...           0.011333                  10   \n 10              0.766949  ...           0.008433                   3   \n 11              0.761299  ...           0.012126                   6   \n 12              0.752825  ...           0.006804                  11   \n 13              0.751412  ...           0.010095                   9   \n 14              0.766949  ...           0.008612                   1   \n 15              0.759887  ...           0.011511                   7   \n 16              0.734463  ...           0.007871                  33   \n 17              0.734463  ...           0.011409                  29   \n 18              0.750000  ...           0.013333                  16   \n 19              0.766949  ...           0.013932                   5   \n 20              0.765537  ...           0.010685                  21   \n 21              0.758475  ...           0.007952                  23   \n 22              0.754237  ...           0.010692                  28   \n 23              0.728814  ...           0.011510                  31   \n 24              0.754237  ...           0.015476                  30   \n 25              0.731638  ...           0.019547                  38   \n 26              0.757062  ...           0.019033                  35   \n 27              0.745763  ...           0.018338                  39   \n 28              0.728814  ...           0.005785                  42   \n 29              0.692090  ...           0.009883                  48   \n 30              0.723164  ...           0.009580                  46   \n 31              0.724576  ...           0.007977                  43   \n 32              0.754237  ...           0.007871                  14   \n 33              0.738701  ...           0.010777                  17   \n 34              0.744350  ...           0.007812                  13   \n 35              0.738701  ...           0.007851                  18   \n 36              0.717514  ...           0.012306                  36   \n 37              0.741525  ...           0.014299                  27   \n 38              0.748588  ...           0.016300                  26   \n 39              0.750000  ...           0.005343                  15   \n 40              0.700565  ...           0.012446                  44   \n 41              0.751412  ...           0.012818                  32   \n 42              0.744350  ...           0.006941                  22   \n 43              0.747175  ...           0.016035                  24   \n 44              0.733051  ...           0.016510                  45   \n 45              0.716102  ...           0.014131                  34   \n 46              0.751412  ...           0.013148                  25   \n 47              0.744350  ...           0.010301                  20   \n \n     split0_test_roc_auc_ovr  split1_test_roc_auc_ovr  split2_test_roc_auc_ovr  \\\n 0                  0.758650                 0.750494                 0.774582   \n 1                  0.806449                 0.803526                 0.817997   \n 2                  0.818478                 0.817877                 0.826465   \n 3                  0.838764                 0.836873                 0.840258   \n 4                  0.860459                 0.841657                 0.850967   \n 5                  0.859844                 0.840301                 0.836382   \n 6                  0.853636                 0.837891                 0.831582   \n 7                  0.850870                 0.835400                 0.826884   \n 8                  0.859549                 0.818574                 0.836291   \n 9                  0.849562                 0.813542                 0.822360   \n 10                 0.843925                 0.813633                 0.815752   \n 11                 0.839196                 0.813409                 0.812793   \n 12                 0.848365                 0.813371                 0.823661   \n 13                 0.840273                 0.812238                 0.811894   \n 14                 0.831009                 0.812937                 0.810396   \n 15                 0.829661                 0.809618                 0.809600   \n 16                 0.849551                 0.836283                 0.857814   \n 17                 0.853263                 0.847215                 0.863163   \n 18                 0.850733                 0.852077                 0.866670   \n 19                 0.848424                 0.855992                 0.866229   \n 20                 0.829033                 0.824222                 0.814482   \n 21                 0.815993                 0.819143                 0.804991   \n 22                 0.813654                 0.820774                 0.800978   \n 23                 0.812293                 0.822055                 0.801327   \n 24                 0.789600                 0.802785                 0.792538   \n 25                 0.795760                 0.810190                 0.779730   \n 26                 0.807724                 0.810634                 0.791090   \n 27                 0.812844                 0.810228                 0.791386   \n 28                 0.778660                 0.784295                 0.777409   \n 29                 0.784444                 0.782064                 0.776956   \n 30                 0.791327                 0.791162                 0.786513   \n 31                 0.809375                 0.802344                 0.795462   \n 32                 0.858403                 0.846654                 0.863298   \n 33                 0.859065                 0.850606                 0.860580   \n 34                 0.861900                 0.860274                 0.857553   \n 35                 0.853399                 0.846222                 0.861252   \n 36                 0.811863                 0.829628                 0.818270   \n 37                 0.831807                 0.838135                 0.834765   \n 38                 0.845350                 0.838588                 0.827799   \n 39                 0.856141                 0.844085                 0.846664   \n 40                 0.815783                 0.819254                 0.831166   \n 41                 0.840238                 0.847355                 0.832066   \n 42                 0.851437                 0.843168                 0.835676   \n 43                 0.859660                 0.854313                 0.845692   \n 44                 0.811661                 0.803459                 0.807763   \n 45                 0.829538                 0.819998                 0.840794   \n 46                 0.841646                 0.841102                 0.838633   \n 47                 0.852060                 0.842910                 0.837929   \n \n     split3_test_roc_auc_ovr  split4_test_roc_auc_ovr  mean_test_roc_auc_ovr  \\\n 0                  0.748523                 0.731641               0.752778   \n 1                  0.806275                 0.793488               0.805547   \n 2                  0.817655                 0.804191               0.816933   \n 3                  0.841549                 0.822535               0.835996   \n 4                  0.860776                 0.849482               0.852668   \n 5                  0.854067                 0.848164               0.847752   \n 6                  0.854196                 0.843697               0.844201   \n 7                  0.852300                 0.837959               0.840682   \n 8                  0.842254                 0.847793               0.840892   \n 9                  0.836691                 0.838293               0.832090   \n 10                 0.833735                 0.829816               0.827372   \n 11                 0.831846                 0.826871               0.824823   \n 12                 0.835138                 0.839072               0.831921   \n 13                 0.826525                 0.832142               0.824614   \n 14                 0.826420                 0.824927               0.821138   \n 15                 0.828407                 0.816583               0.818774   \n 16                 0.858094                 0.842383               0.848825   \n 17                 0.867465                 0.849884               0.856198   \n 18                 0.868301                 0.849463               0.857449   \n 19                 0.868174                 0.845928               0.856950   \n 20                 0.808350                 0.810394               0.817296   \n 21                 0.810333                 0.806756               0.811443   \n 22                 0.815840                 0.805782               0.811406   \n 23                 0.825642                 0.812761               0.814816   \n 24                 0.821341                 0.795036               0.800260   \n 25                 0.819196                 0.788323               0.798640   \n 26                 0.818964                 0.793245               0.804331   \n 27                 0.812696                 0.797301               0.804891   \n 28                 0.800301                 0.782920               0.784717   \n 29                 0.801133                 0.775929               0.784105   \n 30                 0.806495                 0.781952               0.791490   \n 31                 0.808288                 0.799345               0.802963   \n 32                 0.880418                 0.841842               0.858123   \n 33                 0.881494                 0.840587               0.858466   \n 34                 0.874210                 0.837023               0.858192   \n 35                 0.864825                 0.833344               0.851808   \n 36                 0.839475                 0.825226               0.824892   \n 37                 0.843658                 0.838374               0.837348   \n 38                 0.849114                 0.845058               0.841182   \n 39                 0.857412                 0.832201               0.847301   \n 40                 0.814036                 0.800440               0.816136   \n 41                 0.832062                 0.819481               0.834241   \n 42                 0.841916                 0.831384               0.840716   \n 43                 0.851116                 0.829077               0.847972   \n 44                 0.828392                 0.807047               0.811664   \n 45                 0.850006                 0.825957               0.833258   \n 46                 0.851780                 0.830045               0.840641   \n 47                 0.852065                 0.843749               0.845743   \n \n     std_test_roc_auc_ovr  rank_test_roc_auc_ovr  \n 0               0.014000                     48  \n 1               0.007821                     39  \n 2               0.007170                     33  \n 3               0.006908                     21  \n 4               0.007221                      7  \n 5               0.008615                     11  \n 6               0.008812                     14  \n 7               0.009638                     18  \n 8               0.013541                     16  \n 9               0.012678                     24  \n 10              0.011351                     26  \n 11              0.010345                     28  \n 12              0.012200                     25  \n 13              0.011140                     29  \n 14              0.008029                     30  \n 15              0.008765                     31  \n 16              0.008556                      9  \n 17              0.007805                      6  \n 18              0.008252                      4  \n 19              0.009024                      5  \n 20              0.008017                     32  \n 21              0.005382                     37  \n 22              0.007111                     38  \n 23              0.008510                     35  \n 24              0.011414                     43  \n 25              0.014340                     44  \n 26              0.010617                     41  \n 27              0.008862                     40  \n 28              0.008202                     46  \n 29              0.009080                     47  \n 30              0.008259                     45  \n 31              0.005276                     42  \n 32              0.013569                      3  \n 33              0.013539                      1  \n 34              0.012026                      2  \n 35              0.011254                      8  \n 36              0.009474                     27  \n 37              0.003971                     20  \n 38              0.007499                     15  \n 39              0.009156                     12  \n 40              0.009864                     34  \n 41              0.009330                     22  \n 42              0.006854                     17  \n 43              0.010478                     10  \n 44              0.008760                     36  \n 45              0.010773                     23  \n 46              0.006951                     19  \n 47              0.005531                     13  \n \n [48 rows x 48 columns])"
     },
     "execution_count": 77,
     "metadata": {},
     "output_type": "execute_result"
    }
   ],
   "source": [
    "train_grid_search(AdaBoostClassifier(estimator=DecisionTreeClassifier()),param_grid_ADA,metrics,'f1_micro',train_val_features,train_val_targets)"
   ],
   "metadata": {
    "collapsed": false,
    "ExecuteTime": {
     "end_time": "2024-11-20T16:55:47.967914600Z",
     "start_time": "2024-11-20T16:55:09.021051800Z"
    }
   }
  },
  {
   "cell_type": "code",
   "execution_count": 78,
   "outputs": [
    {
     "name": "stdout",
     "output_type": "stream",
     "text": [
      "Fitting 5 folds for each of 4 candidates, totalling 20 fits\n",
      "best parameters: {'var_smoothing': np.float64(1e-08)}\n",
      "best score: 0.6931\n"
     ]
    },
    {
     "data": {
      "text/plain": "(GaussianNB(var_smoothing=np.float64(1e-08)),\n    mean_fit_time  std_fit_time  mean_score_time  std_score_time  \\\n 0       0.009204      0.001842         0.035551        0.003831   \n 1       0.014844      0.006028         0.030629        0.000895   \n 2       0.012026      0.001993         0.026900        0.001074   \n 3       0.010597      0.006490         0.021134        0.006441   \n \n    param_var_smoothing                    params  split0_test_accuracy  \\\n 0         1.000000e-09  {'var_smoothing': 1e-09}              0.670904   \n 1         1.000000e-08  {'var_smoothing': 1e-08}              0.696328   \n 2         1.000000e-07  {'var_smoothing': 1e-07}              0.677966   \n 3         1.000000e-06  {'var_smoothing': 1e-06}              0.648305   \n \n    split1_test_accuracy  split2_test_accuracy  split3_test_accuracy  ...  \\\n 0              0.690678              0.675141              0.687853  ...   \n 1              0.693503              0.676554              0.707627  ...   \n 2              0.662429              0.661017              0.683616  ...   \n 3              0.645480              0.639831              0.665254  ...   \n \n    std_test_f1_micro  rank_test_f1_micro  split0_test_roc_auc_ovr  \\\n 0           0.009858                   2                 0.801318   \n 1           0.009975                   1                 0.810635   \n 2           0.009247                   3                 0.803051   \n 3           0.011854                   4                 0.793712   \n \n    split1_test_roc_auc_ovr  split2_test_roc_auc_ovr  split3_test_roc_auc_ovr  \\\n 0                 0.785216                 0.780600                 0.827920   \n 1                 0.781515                 0.772148                 0.826596   \n 2                 0.766228                 0.754335                 0.815780   \n 3                 0.755821                 0.742161                 0.810927   \n \n    split4_test_roc_auc_ovr  mean_test_roc_auc_ovr  std_test_roc_auc_ovr  \\\n 0                 0.784038               0.795818              0.017570   \n 1                 0.782231               0.794625              0.020539   \n 2                 0.775388               0.782956              0.022967   \n 3                 0.776497               0.775824              0.024843   \n \n    rank_test_roc_auc_ovr  \n 0                      1  \n 1                      2  \n 2                      3  \n 3                      4  \n \n [4 rows x 46 columns])"
     },
     "execution_count": 78,
     "metadata": {},
     "output_type": "execute_result"
    }
   ],
   "source": [
    "train_grid_search(GaussianNB(),param_grid_NB,metrics,'f1_micro',train_val_features,train_val_targets)"
   ],
   "metadata": {
    "collapsed": false,
    "ExecuteTime": {
     "end_time": "2024-11-20T16:55:48.107326400Z",
     "start_time": "2024-11-20T16:55:47.965157700Z"
    }
   }
  },
  {
   "cell_type": "markdown",
   "metadata": {},
   "source": [
    "## Creating the classifiers\n"
   ]
  },
  {
   "cell_type": "code",
   "execution_count": 79,
   "outputs": [
    {
     "data": {
      "text/plain": "RandomForestClassifier(max_depth=11, max_features=0.25, n_estimators=75)",
      "text/html": "<style>#sk-container-id-7 {\n  /* Definition of color scheme common for light and dark mode */\n  --sklearn-color-text: black;\n  --sklearn-color-line: gray;\n  /* Definition of color scheme for unfitted estimators */\n  --sklearn-color-unfitted-level-0: #fff5e6;\n  --sklearn-color-unfitted-level-1: #f6e4d2;\n  --sklearn-color-unfitted-level-2: #ffe0b3;\n  --sklearn-color-unfitted-level-3: chocolate;\n  /* Definition of color scheme for fitted estimators */\n  --sklearn-color-fitted-level-0: #f0f8ff;\n  --sklearn-color-fitted-level-1: #d4ebff;\n  --sklearn-color-fitted-level-2: #b3dbfd;\n  --sklearn-color-fitted-level-3: cornflowerblue;\n\n  /* Specific color for light theme */\n  --sklearn-color-text-on-default-background: var(--sg-text-color, var(--theme-code-foreground, var(--jp-content-font-color1, black)));\n  --sklearn-color-background: var(--sg-background-color, var(--theme-background, var(--jp-layout-color0, white)));\n  --sklearn-color-border-box: var(--sg-text-color, var(--theme-code-foreground, var(--jp-content-font-color1, black)));\n  --sklearn-color-icon: #696969;\n\n  @media (prefers-color-scheme: dark) {\n    /* Redefinition of color scheme for dark theme */\n    --sklearn-color-text-on-default-background: var(--sg-text-color, var(--theme-code-foreground, var(--jp-content-font-color1, white)));\n    --sklearn-color-background: var(--sg-background-color, var(--theme-background, var(--jp-layout-color0, #111)));\n    --sklearn-color-border-box: var(--sg-text-color, var(--theme-code-foreground, var(--jp-content-font-color1, white)));\n    --sklearn-color-icon: #878787;\n  }\n}\n\n#sk-container-id-7 {\n  color: var(--sklearn-color-text);\n}\n\n#sk-container-id-7 pre {\n  padding: 0;\n}\n\n#sk-container-id-7 input.sk-hidden--visually {\n  border: 0;\n  clip: rect(1px 1px 1px 1px);\n  clip: rect(1px, 1px, 1px, 1px);\n  height: 1px;\n  margin: -1px;\n  overflow: hidden;\n  padding: 0;\n  position: absolute;\n  width: 1px;\n}\n\n#sk-container-id-7 div.sk-dashed-wrapped {\n  border: 1px dashed var(--sklearn-color-line);\n  margin: 0 0.4em 0.5em 0.4em;\n  box-sizing: border-box;\n  padding-bottom: 0.4em;\n  background-color: var(--sklearn-color-background);\n}\n\n#sk-container-id-7 div.sk-container {\n  /* jupyter's `normalize.less` sets `[hidden] { display: none; }`\n     but bootstrap.min.css set `[hidden] { display: none !important; }`\n     so we also need the `!important` here to be able to override the\n     default hidden behavior on the sphinx rendered scikit-learn.org.\n     See: https://github.com/scikit-learn/scikit-learn/issues/21755 */\n  display: inline-block !important;\n  position: relative;\n}\n\n#sk-container-id-7 div.sk-text-repr-fallback {\n  display: none;\n}\n\ndiv.sk-parallel-item,\ndiv.sk-serial,\ndiv.sk-item {\n  /* draw centered vertical line to link estimators */\n  background-image: linear-gradient(var(--sklearn-color-text-on-default-background), var(--sklearn-color-text-on-default-background));\n  background-size: 2px 100%;\n  background-repeat: no-repeat;\n  background-position: center center;\n}\n\n/* Parallel-specific style estimator block */\n\n#sk-container-id-7 div.sk-parallel-item::after {\n  content: \"\";\n  width: 100%;\n  border-bottom: 2px solid var(--sklearn-color-text-on-default-background);\n  flex-grow: 1;\n}\n\n#sk-container-id-7 div.sk-parallel {\n  display: flex;\n  align-items: stretch;\n  justify-content: center;\n  background-color: var(--sklearn-color-background);\n  position: relative;\n}\n\n#sk-container-id-7 div.sk-parallel-item {\n  display: flex;\n  flex-direction: column;\n}\n\n#sk-container-id-7 div.sk-parallel-item:first-child::after {\n  align-self: flex-end;\n  width: 50%;\n}\n\n#sk-container-id-7 div.sk-parallel-item:last-child::after {\n  align-self: flex-start;\n  width: 50%;\n}\n\n#sk-container-id-7 div.sk-parallel-item:only-child::after {\n  width: 0;\n}\n\n/* Serial-specific style estimator block */\n\n#sk-container-id-7 div.sk-serial {\n  display: flex;\n  flex-direction: column;\n  align-items: center;\n  background-color: var(--sklearn-color-background);\n  padding-right: 1em;\n  padding-left: 1em;\n}\n\n\n/* Toggleable style: style used for estimator/Pipeline/ColumnTransformer box that is\nclickable and can be expanded/collapsed.\n- Pipeline and ColumnTransformer use this feature and define the default style\n- Estimators will overwrite some part of the style using the `sk-estimator` class\n*/\n\n/* Pipeline and ColumnTransformer style (default) */\n\n#sk-container-id-7 div.sk-toggleable {\n  /* Default theme specific background. It is overwritten whether we have a\n  specific estimator or a Pipeline/ColumnTransformer */\n  background-color: var(--sklearn-color-background);\n}\n\n/* Toggleable label */\n#sk-container-id-7 label.sk-toggleable__label {\n  cursor: pointer;\n  display: block;\n  width: 100%;\n  margin-bottom: 0;\n  padding: 0.5em;\n  box-sizing: border-box;\n  text-align: center;\n}\n\n#sk-container-id-7 label.sk-toggleable__label-arrow:before {\n  /* Arrow on the left of the label */\n  content: \"▸\";\n  float: left;\n  margin-right: 0.25em;\n  color: var(--sklearn-color-icon);\n}\n\n#sk-container-id-7 label.sk-toggleable__label-arrow:hover:before {\n  color: var(--sklearn-color-text);\n}\n\n/* Toggleable content - dropdown */\n\n#sk-container-id-7 div.sk-toggleable__content {\n  max-height: 0;\n  max-width: 0;\n  overflow: hidden;\n  text-align: left;\n  /* unfitted */\n  background-color: var(--sklearn-color-unfitted-level-0);\n}\n\n#sk-container-id-7 div.sk-toggleable__content.fitted {\n  /* fitted */\n  background-color: var(--sklearn-color-fitted-level-0);\n}\n\n#sk-container-id-7 div.sk-toggleable__content pre {\n  margin: 0.2em;\n  border-radius: 0.25em;\n  color: var(--sklearn-color-text);\n  /* unfitted */\n  background-color: var(--sklearn-color-unfitted-level-0);\n}\n\n#sk-container-id-7 div.sk-toggleable__content.fitted pre {\n  /* unfitted */\n  background-color: var(--sklearn-color-fitted-level-0);\n}\n\n#sk-container-id-7 input.sk-toggleable__control:checked~div.sk-toggleable__content {\n  /* Expand drop-down */\n  max-height: 200px;\n  max-width: 100%;\n  overflow: auto;\n}\n\n#sk-container-id-7 input.sk-toggleable__control:checked~label.sk-toggleable__label-arrow:before {\n  content: \"▾\";\n}\n\n/* Pipeline/ColumnTransformer-specific style */\n\n#sk-container-id-7 div.sk-label input.sk-toggleable__control:checked~label.sk-toggleable__label {\n  color: var(--sklearn-color-text);\n  background-color: var(--sklearn-color-unfitted-level-2);\n}\n\n#sk-container-id-7 div.sk-label.fitted input.sk-toggleable__control:checked~label.sk-toggleable__label {\n  background-color: var(--sklearn-color-fitted-level-2);\n}\n\n/* Estimator-specific style */\n\n/* Colorize estimator box */\n#sk-container-id-7 div.sk-estimator input.sk-toggleable__control:checked~label.sk-toggleable__label {\n  /* unfitted */\n  background-color: var(--sklearn-color-unfitted-level-2);\n}\n\n#sk-container-id-7 div.sk-estimator.fitted input.sk-toggleable__control:checked~label.sk-toggleable__label {\n  /* fitted */\n  background-color: var(--sklearn-color-fitted-level-2);\n}\n\n#sk-container-id-7 div.sk-label label.sk-toggleable__label,\n#sk-container-id-7 div.sk-label label {\n  /* The background is the default theme color */\n  color: var(--sklearn-color-text-on-default-background);\n}\n\n/* On hover, darken the color of the background */\n#sk-container-id-7 div.sk-label:hover label.sk-toggleable__label {\n  color: var(--sklearn-color-text);\n  background-color: var(--sklearn-color-unfitted-level-2);\n}\n\n/* Label box, darken color on hover, fitted */\n#sk-container-id-7 div.sk-label.fitted:hover label.sk-toggleable__label.fitted {\n  color: var(--sklearn-color-text);\n  background-color: var(--sklearn-color-fitted-level-2);\n}\n\n/* Estimator label */\n\n#sk-container-id-7 div.sk-label label {\n  font-family: monospace;\n  font-weight: bold;\n  display: inline-block;\n  line-height: 1.2em;\n}\n\n#sk-container-id-7 div.sk-label-container {\n  text-align: center;\n}\n\n/* Estimator-specific */\n#sk-container-id-7 div.sk-estimator {\n  font-family: monospace;\n  border: 1px dotted var(--sklearn-color-border-box);\n  border-radius: 0.25em;\n  box-sizing: border-box;\n  margin-bottom: 0.5em;\n  /* unfitted */\n  background-color: var(--sklearn-color-unfitted-level-0);\n}\n\n#sk-container-id-7 div.sk-estimator.fitted {\n  /* fitted */\n  background-color: var(--sklearn-color-fitted-level-0);\n}\n\n/* on hover */\n#sk-container-id-7 div.sk-estimator:hover {\n  /* unfitted */\n  background-color: var(--sklearn-color-unfitted-level-2);\n}\n\n#sk-container-id-7 div.sk-estimator.fitted:hover {\n  /* fitted */\n  background-color: var(--sklearn-color-fitted-level-2);\n}\n\n/* Specification for estimator info (e.g. \"i\" and \"?\") */\n\n/* Common style for \"i\" and \"?\" */\n\n.sk-estimator-doc-link,\na:link.sk-estimator-doc-link,\na:visited.sk-estimator-doc-link {\n  float: right;\n  font-size: smaller;\n  line-height: 1em;\n  font-family: monospace;\n  background-color: var(--sklearn-color-background);\n  border-radius: 1em;\n  height: 1em;\n  width: 1em;\n  text-decoration: none !important;\n  margin-left: 1ex;\n  /* unfitted */\n  border: var(--sklearn-color-unfitted-level-1) 1pt solid;\n  color: var(--sklearn-color-unfitted-level-1);\n}\n\n.sk-estimator-doc-link.fitted,\na:link.sk-estimator-doc-link.fitted,\na:visited.sk-estimator-doc-link.fitted {\n  /* fitted */\n  border: var(--sklearn-color-fitted-level-1) 1pt solid;\n  color: var(--sklearn-color-fitted-level-1);\n}\n\n/* On hover */\ndiv.sk-estimator:hover .sk-estimator-doc-link:hover,\n.sk-estimator-doc-link:hover,\ndiv.sk-label-container:hover .sk-estimator-doc-link:hover,\n.sk-estimator-doc-link:hover {\n  /* unfitted */\n  background-color: var(--sklearn-color-unfitted-level-3);\n  color: var(--sklearn-color-background);\n  text-decoration: none;\n}\n\ndiv.sk-estimator.fitted:hover .sk-estimator-doc-link.fitted:hover,\n.sk-estimator-doc-link.fitted:hover,\ndiv.sk-label-container:hover .sk-estimator-doc-link.fitted:hover,\n.sk-estimator-doc-link.fitted:hover {\n  /* fitted */\n  background-color: var(--sklearn-color-fitted-level-3);\n  color: var(--sklearn-color-background);\n  text-decoration: none;\n}\n\n/* Span, style for the box shown on hovering the info icon */\n.sk-estimator-doc-link span {\n  display: none;\n  z-index: 9999;\n  position: relative;\n  font-weight: normal;\n  right: .2ex;\n  padding: .5ex;\n  margin: .5ex;\n  width: min-content;\n  min-width: 20ex;\n  max-width: 50ex;\n  color: var(--sklearn-color-text);\n  box-shadow: 2pt 2pt 4pt #999;\n  /* unfitted */\n  background: var(--sklearn-color-unfitted-level-0);\n  border: .5pt solid var(--sklearn-color-unfitted-level-3);\n}\n\n.sk-estimator-doc-link.fitted span {\n  /* fitted */\n  background: var(--sklearn-color-fitted-level-0);\n  border: var(--sklearn-color-fitted-level-3);\n}\n\n.sk-estimator-doc-link:hover span {\n  display: block;\n}\n\n/* \"?\"-specific style due to the `<a>` HTML tag */\n\n#sk-container-id-7 a.estimator_doc_link {\n  float: right;\n  font-size: 1rem;\n  line-height: 1em;\n  font-family: monospace;\n  background-color: var(--sklearn-color-background);\n  border-radius: 1rem;\n  height: 1rem;\n  width: 1rem;\n  text-decoration: none;\n  /* unfitted */\n  color: var(--sklearn-color-unfitted-level-1);\n  border: var(--sklearn-color-unfitted-level-1) 1pt solid;\n}\n\n#sk-container-id-7 a.estimator_doc_link.fitted {\n  /* fitted */\n  border: var(--sklearn-color-fitted-level-1) 1pt solid;\n  color: var(--sklearn-color-fitted-level-1);\n}\n\n/* On hover */\n#sk-container-id-7 a.estimator_doc_link:hover {\n  /* unfitted */\n  background-color: var(--sklearn-color-unfitted-level-3);\n  color: var(--sklearn-color-background);\n  text-decoration: none;\n}\n\n#sk-container-id-7 a.estimator_doc_link.fitted:hover {\n  /* fitted */\n  background-color: var(--sklearn-color-fitted-level-3);\n}\n</style><div id=\"sk-container-id-7\" class=\"sk-top-container\"><div class=\"sk-text-repr-fallback\"><pre>RandomForestClassifier(max_depth=11, max_features=0.25, n_estimators=75)</pre><b>In a Jupyter environment, please rerun this cell to show the HTML representation or trust the notebook. <br />On GitHub, the HTML representation is unable to render, please try loading this page with nbviewer.org.</b></div><div class=\"sk-container\" hidden><div class=\"sk-item\"><div class=\"sk-estimator fitted sk-toggleable\"><input class=\"sk-toggleable__control sk-hidden--visually\" id=\"sk-estimator-id-9\" type=\"checkbox\" checked><label for=\"sk-estimator-id-9\" class=\"sk-toggleable__label fitted sk-toggleable__label-arrow fitted\">&nbsp;&nbsp;RandomForestClassifier<a class=\"sk-estimator-doc-link fitted\" rel=\"noreferrer\" target=\"_blank\" href=\"https://scikit-learn.org/1.5/modules/generated/sklearn.ensemble.RandomForestClassifier.html\">?<span>Documentation for RandomForestClassifier</span></a><span class=\"sk-estimator-doc-link fitted\">i<span>Fitted</span></span></label><div class=\"sk-toggleable__content fitted\"><pre>RandomForestClassifier(max_depth=11, max_features=0.25, n_estimators=75)</pre></div> </div></div></div></div>"
     },
     "execution_count": 79,
     "metadata": {},
     "output_type": "execute_result"
    }
   ],
   "source": [
    "random_forest_model = RandomForestClassifier(max_depth=11,max_features=0.25,n_estimators=75)\n",
    "random_forest_model.fit(train_val_features,train_val_targets)"
   ],
   "metadata": {
    "collapsed": false,
    "ExecuteTime": {
     "end_time": "2024-11-20T16:55:48.479632300Z",
     "start_time": "2024-11-20T16:55:48.107326400Z"
    }
   }
  },
  {
   "cell_type": "code",
   "execution_count": 80,
   "outputs": [
    {
     "name": "stdout",
     "output_type": "stream",
     "text": [
      "Training Accuracy: 0.9361401525854761\n",
      "Training Precision: 0.9361401525854761\n",
      "Training Recall: 0.9361401525854761\n",
      "Training F1: 0.9361401525854761\n",
      "Training ROC AUC: 0.9876445175029049\n",
      "Test Accuracy: 0.768361581920904\n",
      "Test Precision: 0.768361581920904\n",
      "Test Recall: 0.768361581920904\n",
      "Test F1: 0.768361581920904\n",
      "Test ROC AUC: 0.9197912477257493\n",
      "\n"
     ]
    }
   ],
   "source": [
    "evaluate(random_forest_model)"
   ],
   "metadata": {
    "collapsed": false,
    "ExecuteTime": {
     "end_time": "2024-11-20T16:55:48.564605100Z",
     "start_time": "2024-11-20T16:55:48.479632300Z"
    }
   }
  },
  {
   "cell_type": "code",
   "execution_count": 81,
   "outputs": [
    {
     "data": {
      "text/plain": "GradientBoostingClassifier(learning_rate=0.21, n_estimators=150)",
      "text/html": "<style>#sk-container-id-8 {\n  /* Definition of color scheme common for light and dark mode */\n  --sklearn-color-text: black;\n  --sklearn-color-line: gray;\n  /* Definition of color scheme for unfitted estimators */\n  --sklearn-color-unfitted-level-0: #fff5e6;\n  --sklearn-color-unfitted-level-1: #f6e4d2;\n  --sklearn-color-unfitted-level-2: #ffe0b3;\n  --sklearn-color-unfitted-level-3: chocolate;\n  /* Definition of color scheme for fitted estimators */\n  --sklearn-color-fitted-level-0: #f0f8ff;\n  --sklearn-color-fitted-level-1: #d4ebff;\n  --sklearn-color-fitted-level-2: #b3dbfd;\n  --sklearn-color-fitted-level-3: cornflowerblue;\n\n  /* Specific color for light theme */\n  --sklearn-color-text-on-default-background: var(--sg-text-color, var(--theme-code-foreground, var(--jp-content-font-color1, black)));\n  --sklearn-color-background: var(--sg-background-color, var(--theme-background, var(--jp-layout-color0, white)));\n  --sklearn-color-border-box: var(--sg-text-color, var(--theme-code-foreground, var(--jp-content-font-color1, black)));\n  --sklearn-color-icon: #696969;\n\n  @media (prefers-color-scheme: dark) {\n    /* Redefinition of color scheme for dark theme */\n    --sklearn-color-text-on-default-background: var(--sg-text-color, var(--theme-code-foreground, var(--jp-content-font-color1, white)));\n    --sklearn-color-background: var(--sg-background-color, var(--theme-background, var(--jp-layout-color0, #111)));\n    --sklearn-color-border-box: var(--sg-text-color, var(--theme-code-foreground, var(--jp-content-font-color1, white)));\n    --sklearn-color-icon: #878787;\n  }\n}\n\n#sk-container-id-8 {\n  color: var(--sklearn-color-text);\n}\n\n#sk-container-id-8 pre {\n  padding: 0;\n}\n\n#sk-container-id-8 input.sk-hidden--visually {\n  border: 0;\n  clip: rect(1px 1px 1px 1px);\n  clip: rect(1px, 1px, 1px, 1px);\n  height: 1px;\n  margin: -1px;\n  overflow: hidden;\n  padding: 0;\n  position: absolute;\n  width: 1px;\n}\n\n#sk-container-id-8 div.sk-dashed-wrapped {\n  border: 1px dashed var(--sklearn-color-line);\n  margin: 0 0.4em 0.5em 0.4em;\n  box-sizing: border-box;\n  padding-bottom: 0.4em;\n  background-color: var(--sklearn-color-background);\n}\n\n#sk-container-id-8 div.sk-container {\n  /* jupyter's `normalize.less` sets `[hidden] { display: none; }`\n     but bootstrap.min.css set `[hidden] { display: none !important; }`\n     so we also need the `!important` here to be able to override the\n     default hidden behavior on the sphinx rendered scikit-learn.org.\n     See: https://github.com/scikit-learn/scikit-learn/issues/21755 */\n  display: inline-block !important;\n  position: relative;\n}\n\n#sk-container-id-8 div.sk-text-repr-fallback {\n  display: none;\n}\n\ndiv.sk-parallel-item,\ndiv.sk-serial,\ndiv.sk-item {\n  /* draw centered vertical line to link estimators */\n  background-image: linear-gradient(var(--sklearn-color-text-on-default-background), var(--sklearn-color-text-on-default-background));\n  background-size: 2px 100%;\n  background-repeat: no-repeat;\n  background-position: center center;\n}\n\n/* Parallel-specific style estimator block */\n\n#sk-container-id-8 div.sk-parallel-item::after {\n  content: \"\";\n  width: 100%;\n  border-bottom: 2px solid var(--sklearn-color-text-on-default-background);\n  flex-grow: 1;\n}\n\n#sk-container-id-8 div.sk-parallel {\n  display: flex;\n  align-items: stretch;\n  justify-content: center;\n  background-color: var(--sklearn-color-background);\n  position: relative;\n}\n\n#sk-container-id-8 div.sk-parallel-item {\n  display: flex;\n  flex-direction: column;\n}\n\n#sk-container-id-8 div.sk-parallel-item:first-child::after {\n  align-self: flex-end;\n  width: 50%;\n}\n\n#sk-container-id-8 div.sk-parallel-item:last-child::after {\n  align-self: flex-start;\n  width: 50%;\n}\n\n#sk-container-id-8 div.sk-parallel-item:only-child::after {\n  width: 0;\n}\n\n/* Serial-specific style estimator block */\n\n#sk-container-id-8 div.sk-serial {\n  display: flex;\n  flex-direction: column;\n  align-items: center;\n  background-color: var(--sklearn-color-background);\n  padding-right: 1em;\n  padding-left: 1em;\n}\n\n\n/* Toggleable style: style used for estimator/Pipeline/ColumnTransformer box that is\nclickable and can be expanded/collapsed.\n- Pipeline and ColumnTransformer use this feature and define the default style\n- Estimators will overwrite some part of the style using the `sk-estimator` class\n*/\n\n/* Pipeline and ColumnTransformer style (default) */\n\n#sk-container-id-8 div.sk-toggleable {\n  /* Default theme specific background. It is overwritten whether we have a\n  specific estimator or a Pipeline/ColumnTransformer */\n  background-color: var(--sklearn-color-background);\n}\n\n/* Toggleable label */\n#sk-container-id-8 label.sk-toggleable__label {\n  cursor: pointer;\n  display: block;\n  width: 100%;\n  margin-bottom: 0;\n  padding: 0.5em;\n  box-sizing: border-box;\n  text-align: center;\n}\n\n#sk-container-id-8 label.sk-toggleable__label-arrow:before {\n  /* Arrow on the left of the label */\n  content: \"▸\";\n  float: left;\n  margin-right: 0.25em;\n  color: var(--sklearn-color-icon);\n}\n\n#sk-container-id-8 label.sk-toggleable__label-arrow:hover:before {\n  color: var(--sklearn-color-text);\n}\n\n/* Toggleable content - dropdown */\n\n#sk-container-id-8 div.sk-toggleable__content {\n  max-height: 0;\n  max-width: 0;\n  overflow: hidden;\n  text-align: left;\n  /* unfitted */\n  background-color: var(--sklearn-color-unfitted-level-0);\n}\n\n#sk-container-id-8 div.sk-toggleable__content.fitted {\n  /* fitted */\n  background-color: var(--sklearn-color-fitted-level-0);\n}\n\n#sk-container-id-8 div.sk-toggleable__content pre {\n  margin: 0.2em;\n  border-radius: 0.25em;\n  color: var(--sklearn-color-text);\n  /* unfitted */\n  background-color: var(--sklearn-color-unfitted-level-0);\n}\n\n#sk-container-id-8 div.sk-toggleable__content.fitted pre {\n  /* unfitted */\n  background-color: var(--sklearn-color-fitted-level-0);\n}\n\n#sk-container-id-8 input.sk-toggleable__control:checked~div.sk-toggleable__content {\n  /* Expand drop-down */\n  max-height: 200px;\n  max-width: 100%;\n  overflow: auto;\n}\n\n#sk-container-id-8 input.sk-toggleable__control:checked~label.sk-toggleable__label-arrow:before {\n  content: \"▾\";\n}\n\n/* Pipeline/ColumnTransformer-specific style */\n\n#sk-container-id-8 div.sk-label input.sk-toggleable__control:checked~label.sk-toggleable__label {\n  color: var(--sklearn-color-text);\n  background-color: var(--sklearn-color-unfitted-level-2);\n}\n\n#sk-container-id-8 div.sk-label.fitted input.sk-toggleable__control:checked~label.sk-toggleable__label {\n  background-color: var(--sklearn-color-fitted-level-2);\n}\n\n/* Estimator-specific style */\n\n/* Colorize estimator box */\n#sk-container-id-8 div.sk-estimator input.sk-toggleable__control:checked~label.sk-toggleable__label {\n  /* unfitted */\n  background-color: var(--sklearn-color-unfitted-level-2);\n}\n\n#sk-container-id-8 div.sk-estimator.fitted input.sk-toggleable__control:checked~label.sk-toggleable__label {\n  /* fitted */\n  background-color: var(--sklearn-color-fitted-level-2);\n}\n\n#sk-container-id-8 div.sk-label label.sk-toggleable__label,\n#sk-container-id-8 div.sk-label label {\n  /* The background is the default theme color */\n  color: var(--sklearn-color-text-on-default-background);\n}\n\n/* On hover, darken the color of the background */\n#sk-container-id-8 div.sk-label:hover label.sk-toggleable__label {\n  color: var(--sklearn-color-text);\n  background-color: var(--sklearn-color-unfitted-level-2);\n}\n\n/* Label box, darken color on hover, fitted */\n#sk-container-id-8 div.sk-label.fitted:hover label.sk-toggleable__label.fitted {\n  color: var(--sklearn-color-text);\n  background-color: var(--sklearn-color-fitted-level-2);\n}\n\n/* Estimator label */\n\n#sk-container-id-8 div.sk-label label {\n  font-family: monospace;\n  font-weight: bold;\n  display: inline-block;\n  line-height: 1.2em;\n}\n\n#sk-container-id-8 div.sk-label-container {\n  text-align: center;\n}\n\n/* Estimator-specific */\n#sk-container-id-8 div.sk-estimator {\n  font-family: monospace;\n  border: 1px dotted var(--sklearn-color-border-box);\n  border-radius: 0.25em;\n  box-sizing: border-box;\n  margin-bottom: 0.5em;\n  /* unfitted */\n  background-color: var(--sklearn-color-unfitted-level-0);\n}\n\n#sk-container-id-8 div.sk-estimator.fitted {\n  /* fitted */\n  background-color: var(--sklearn-color-fitted-level-0);\n}\n\n/* on hover */\n#sk-container-id-8 div.sk-estimator:hover {\n  /* unfitted */\n  background-color: var(--sklearn-color-unfitted-level-2);\n}\n\n#sk-container-id-8 div.sk-estimator.fitted:hover {\n  /* fitted */\n  background-color: var(--sklearn-color-fitted-level-2);\n}\n\n/* Specification for estimator info (e.g. \"i\" and \"?\") */\n\n/* Common style for \"i\" and \"?\" */\n\n.sk-estimator-doc-link,\na:link.sk-estimator-doc-link,\na:visited.sk-estimator-doc-link {\n  float: right;\n  font-size: smaller;\n  line-height: 1em;\n  font-family: monospace;\n  background-color: var(--sklearn-color-background);\n  border-radius: 1em;\n  height: 1em;\n  width: 1em;\n  text-decoration: none !important;\n  margin-left: 1ex;\n  /* unfitted */\n  border: var(--sklearn-color-unfitted-level-1) 1pt solid;\n  color: var(--sklearn-color-unfitted-level-1);\n}\n\n.sk-estimator-doc-link.fitted,\na:link.sk-estimator-doc-link.fitted,\na:visited.sk-estimator-doc-link.fitted {\n  /* fitted */\n  border: var(--sklearn-color-fitted-level-1) 1pt solid;\n  color: var(--sklearn-color-fitted-level-1);\n}\n\n/* On hover */\ndiv.sk-estimator:hover .sk-estimator-doc-link:hover,\n.sk-estimator-doc-link:hover,\ndiv.sk-label-container:hover .sk-estimator-doc-link:hover,\n.sk-estimator-doc-link:hover {\n  /* unfitted */\n  background-color: var(--sklearn-color-unfitted-level-3);\n  color: var(--sklearn-color-background);\n  text-decoration: none;\n}\n\ndiv.sk-estimator.fitted:hover .sk-estimator-doc-link.fitted:hover,\n.sk-estimator-doc-link.fitted:hover,\ndiv.sk-label-container:hover .sk-estimator-doc-link.fitted:hover,\n.sk-estimator-doc-link.fitted:hover {\n  /* fitted */\n  background-color: var(--sklearn-color-fitted-level-3);\n  color: var(--sklearn-color-background);\n  text-decoration: none;\n}\n\n/* Span, style for the box shown on hovering the info icon */\n.sk-estimator-doc-link span {\n  display: none;\n  z-index: 9999;\n  position: relative;\n  font-weight: normal;\n  right: .2ex;\n  padding: .5ex;\n  margin: .5ex;\n  width: min-content;\n  min-width: 20ex;\n  max-width: 50ex;\n  color: var(--sklearn-color-text);\n  box-shadow: 2pt 2pt 4pt #999;\n  /* unfitted */\n  background: var(--sklearn-color-unfitted-level-0);\n  border: .5pt solid var(--sklearn-color-unfitted-level-3);\n}\n\n.sk-estimator-doc-link.fitted span {\n  /* fitted */\n  background: var(--sklearn-color-fitted-level-0);\n  border: var(--sklearn-color-fitted-level-3);\n}\n\n.sk-estimator-doc-link:hover span {\n  display: block;\n}\n\n/* \"?\"-specific style due to the `<a>` HTML tag */\n\n#sk-container-id-8 a.estimator_doc_link {\n  float: right;\n  font-size: 1rem;\n  line-height: 1em;\n  font-family: monospace;\n  background-color: var(--sklearn-color-background);\n  border-radius: 1rem;\n  height: 1rem;\n  width: 1rem;\n  text-decoration: none;\n  /* unfitted */\n  color: var(--sklearn-color-unfitted-level-1);\n  border: var(--sklearn-color-unfitted-level-1) 1pt solid;\n}\n\n#sk-container-id-8 a.estimator_doc_link.fitted {\n  /* fitted */\n  border: var(--sklearn-color-fitted-level-1) 1pt solid;\n  color: var(--sklearn-color-fitted-level-1);\n}\n\n/* On hover */\n#sk-container-id-8 a.estimator_doc_link:hover {\n  /* unfitted */\n  background-color: var(--sklearn-color-unfitted-level-3);\n  color: var(--sklearn-color-background);\n  text-decoration: none;\n}\n\n#sk-container-id-8 a.estimator_doc_link.fitted:hover {\n  /* fitted */\n  background-color: var(--sklearn-color-fitted-level-3);\n}\n</style><div id=\"sk-container-id-8\" class=\"sk-top-container\"><div class=\"sk-text-repr-fallback\"><pre>GradientBoostingClassifier(learning_rate=0.21, n_estimators=150)</pre><b>In a Jupyter environment, please rerun this cell to show the HTML representation or trust the notebook. <br />On GitHub, the HTML representation is unable to render, please try loading this page with nbviewer.org.</b></div><div class=\"sk-container\" hidden><div class=\"sk-item\"><div class=\"sk-estimator fitted sk-toggleable\"><input class=\"sk-toggleable__control sk-hidden--visually\" id=\"sk-estimator-id-10\" type=\"checkbox\" checked><label for=\"sk-estimator-id-10\" class=\"sk-toggleable__label fitted sk-toggleable__label-arrow fitted\">&nbsp;&nbsp;GradientBoostingClassifier<a class=\"sk-estimator-doc-link fitted\" rel=\"noreferrer\" target=\"_blank\" href=\"https://scikit-learn.org/1.5/modules/generated/sklearn.ensemble.GradientBoostingClassifier.html\">?<span>Documentation for GradientBoostingClassifier</span></a><span class=\"sk-estimator-doc-link fitted\">i<span>Fitted</span></span></label><div class=\"sk-toggleable__content fitted\"><pre>GradientBoostingClassifier(learning_rate=0.21, n_estimators=150)</pre></div> </div></div></div></div>"
     },
     "execution_count": 81,
     "metadata": {},
     "output_type": "execute_result"
    }
   ],
   "source": [
    "gradient_booster_model = GradientBoostingClassifier(learning_rate=0.21,max_depth=3,n_estimators=150)\n",
    "#best parameters: {'learning_rate': np.float64(0.21000000000000002), 'max_depth': np.int64(3), 'n_estimators': np.int64(150)}\n",
    "gradient_booster_model.fit(train_val_features,train_val_targets)"
   ],
   "metadata": {
    "collapsed": false,
    "ExecuteTime": {
     "end_time": "2024-11-20T16:55:51.450724900Z",
     "start_time": "2024-11-20T16:55:48.568411800Z"
    }
   }
  },
  {
   "cell_type": "code",
   "execution_count": 82,
   "outputs": [
    {
     "name": "stdout",
     "output_type": "stream",
     "text": [
      "Training Accuracy: 0.9205990392766318\n",
      "Training Precision: 0.9205990392766318\n",
      "Training Recall: 0.9205990392766318\n",
      "Training F1: 0.9205990392766318\n",
      "Training ROC AUC: 0.9857103916389297\n",
      "Test Accuracy: 0.7864406779661017\n",
      "Test Precision: 0.7864406779661017\n",
      "Test Recall: 0.7864406779661017\n",
      "Test F1: 0.7864406779661017\n",
      "Test ROC AUC: 0.9204609148073669\n",
      "\n"
     ]
    }
   ],
   "source": [
    "evaluate(gradient_booster_model)"
   ],
   "metadata": {
    "collapsed": false,
    "ExecuteTime": {
     "end_time": "2024-11-20T16:55:51.534688700Z",
     "start_time": "2024-11-20T16:55:51.450724900Z"
    }
   }
  },
  {
   "cell_type": "code",
   "execution_count": 83,
   "outputs": [
    {
     "name": "stderr",
     "output_type": "stream",
     "text": [
      "C:\\Users\\Stavros\\AppData\\Local\\Programs\\Python\\Python311\\Lib\\site-packages\\sklearn\\ensemble\\_weight_boosting.py:527: FutureWarning: The SAMME.R algorithm (the default) is deprecated and will be removed in 1.6. Use the SAMME algorithm to circumvent this warning.\n",
      "  warnings.warn(\n"
     ]
    },
    {
     "data": {
      "text/plain": "AdaBoostClassifier(learning_rate=0.61, n_estimators=200)",
      "text/html": "<style>#sk-container-id-9 {\n  /* Definition of color scheme common for light and dark mode */\n  --sklearn-color-text: black;\n  --sklearn-color-line: gray;\n  /* Definition of color scheme for unfitted estimators */\n  --sklearn-color-unfitted-level-0: #fff5e6;\n  --sklearn-color-unfitted-level-1: #f6e4d2;\n  --sklearn-color-unfitted-level-2: #ffe0b3;\n  --sklearn-color-unfitted-level-3: chocolate;\n  /* Definition of color scheme for fitted estimators */\n  --sklearn-color-fitted-level-0: #f0f8ff;\n  --sklearn-color-fitted-level-1: #d4ebff;\n  --sklearn-color-fitted-level-2: #b3dbfd;\n  --sklearn-color-fitted-level-3: cornflowerblue;\n\n  /* Specific color for light theme */\n  --sklearn-color-text-on-default-background: var(--sg-text-color, var(--theme-code-foreground, var(--jp-content-font-color1, black)));\n  --sklearn-color-background: var(--sg-background-color, var(--theme-background, var(--jp-layout-color0, white)));\n  --sklearn-color-border-box: var(--sg-text-color, var(--theme-code-foreground, var(--jp-content-font-color1, black)));\n  --sklearn-color-icon: #696969;\n\n  @media (prefers-color-scheme: dark) {\n    /* Redefinition of color scheme for dark theme */\n    --sklearn-color-text-on-default-background: var(--sg-text-color, var(--theme-code-foreground, var(--jp-content-font-color1, white)));\n    --sklearn-color-background: var(--sg-background-color, var(--theme-background, var(--jp-layout-color0, #111)));\n    --sklearn-color-border-box: var(--sg-text-color, var(--theme-code-foreground, var(--jp-content-font-color1, white)));\n    --sklearn-color-icon: #878787;\n  }\n}\n\n#sk-container-id-9 {\n  color: var(--sklearn-color-text);\n}\n\n#sk-container-id-9 pre {\n  padding: 0;\n}\n\n#sk-container-id-9 input.sk-hidden--visually {\n  border: 0;\n  clip: rect(1px 1px 1px 1px);\n  clip: rect(1px, 1px, 1px, 1px);\n  height: 1px;\n  margin: -1px;\n  overflow: hidden;\n  padding: 0;\n  position: absolute;\n  width: 1px;\n}\n\n#sk-container-id-9 div.sk-dashed-wrapped {\n  border: 1px dashed var(--sklearn-color-line);\n  margin: 0 0.4em 0.5em 0.4em;\n  box-sizing: border-box;\n  padding-bottom: 0.4em;\n  background-color: var(--sklearn-color-background);\n}\n\n#sk-container-id-9 div.sk-container {\n  /* jupyter's `normalize.less` sets `[hidden] { display: none; }`\n     but bootstrap.min.css set `[hidden] { display: none !important; }`\n     so we also need the `!important` here to be able to override the\n     default hidden behavior on the sphinx rendered scikit-learn.org.\n     See: https://github.com/scikit-learn/scikit-learn/issues/21755 */\n  display: inline-block !important;\n  position: relative;\n}\n\n#sk-container-id-9 div.sk-text-repr-fallback {\n  display: none;\n}\n\ndiv.sk-parallel-item,\ndiv.sk-serial,\ndiv.sk-item {\n  /* draw centered vertical line to link estimators */\n  background-image: linear-gradient(var(--sklearn-color-text-on-default-background), var(--sklearn-color-text-on-default-background));\n  background-size: 2px 100%;\n  background-repeat: no-repeat;\n  background-position: center center;\n}\n\n/* Parallel-specific style estimator block */\n\n#sk-container-id-9 div.sk-parallel-item::after {\n  content: \"\";\n  width: 100%;\n  border-bottom: 2px solid var(--sklearn-color-text-on-default-background);\n  flex-grow: 1;\n}\n\n#sk-container-id-9 div.sk-parallel {\n  display: flex;\n  align-items: stretch;\n  justify-content: center;\n  background-color: var(--sklearn-color-background);\n  position: relative;\n}\n\n#sk-container-id-9 div.sk-parallel-item {\n  display: flex;\n  flex-direction: column;\n}\n\n#sk-container-id-9 div.sk-parallel-item:first-child::after {\n  align-self: flex-end;\n  width: 50%;\n}\n\n#sk-container-id-9 div.sk-parallel-item:last-child::after {\n  align-self: flex-start;\n  width: 50%;\n}\n\n#sk-container-id-9 div.sk-parallel-item:only-child::after {\n  width: 0;\n}\n\n/* Serial-specific style estimator block */\n\n#sk-container-id-9 div.sk-serial {\n  display: flex;\n  flex-direction: column;\n  align-items: center;\n  background-color: var(--sklearn-color-background);\n  padding-right: 1em;\n  padding-left: 1em;\n}\n\n\n/* Toggleable style: style used for estimator/Pipeline/ColumnTransformer box that is\nclickable and can be expanded/collapsed.\n- Pipeline and ColumnTransformer use this feature and define the default style\n- Estimators will overwrite some part of the style using the `sk-estimator` class\n*/\n\n/* Pipeline and ColumnTransformer style (default) */\n\n#sk-container-id-9 div.sk-toggleable {\n  /* Default theme specific background. It is overwritten whether we have a\n  specific estimator or a Pipeline/ColumnTransformer */\n  background-color: var(--sklearn-color-background);\n}\n\n/* Toggleable label */\n#sk-container-id-9 label.sk-toggleable__label {\n  cursor: pointer;\n  display: block;\n  width: 100%;\n  margin-bottom: 0;\n  padding: 0.5em;\n  box-sizing: border-box;\n  text-align: center;\n}\n\n#sk-container-id-9 label.sk-toggleable__label-arrow:before {\n  /* Arrow on the left of the label */\n  content: \"▸\";\n  float: left;\n  margin-right: 0.25em;\n  color: var(--sklearn-color-icon);\n}\n\n#sk-container-id-9 label.sk-toggleable__label-arrow:hover:before {\n  color: var(--sklearn-color-text);\n}\n\n/* Toggleable content - dropdown */\n\n#sk-container-id-9 div.sk-toggleable__content {\n  max-height: 0;\n  max-width: 0;\n  overflow: hidden;\n  text-align: left;\n  /* unfitted */\n  background-color: var(--sklearn-color-unfitted-level-0);\n}\n\n#sk-container-id-9 div.sk-toggleable__content.fitted {\n  /* fitted */\n  background-color: var(--sklearn-color-fitted-level-0);\n}\n\n#sk-container-id-9 div.sk-toggleable__content pre {\n  margin: 0.2em;\n  border-radius: 0.25em;\n  color: var(--sklearn-color-text);\n  /* unfitted */\n  background-color: var(--sklearn-color-unfitted-level-0);\n}\n\n#sk-container-id-9 div.sk-toggleable__content.fitted pre {\n  /* unfitted */\n  background-color: var(--sklearn-color-fitted-level-0);\n}\n\n#sk-container-id-9 input.sk-toggleable__control:checked~div.sk-toggleable__content {\n  /* Expand drop-down */\n  max-height: 200px;\n  max-width: 100%;\n  overflow: auto;\n}\n\n#sk-container-id-9 input.sk-toggleable__control:checked~label.sk-toggleable__label-arrow:before {\n  content: \"▾\";\n}\n\n/* Pipeline/ColumnTransformer-specific style */\n\n#sk-container-id-9 div.sk-label input.sk-toggleable__control:checked~label.sk-toggleable__label {\n  color: var(--sklearn-color-text);\n  background-color: var(--sklearn-color-unfitted-level-2);\n}\n\n#sk-container-id-9 div.sk-label.fitted input.sk-toggleable__control:checked~label.sk-toggleable__label {\n  background-color: var(--sklearn-color-fitted-level-2);\n}\n\n/* Estimator-specific style */\n\n/* Colorize estimator box */\n#sk-container-id-9 div.sk-estimator input.sk-toggleable__control:checked~label.sk-toggleable__label {\n  /* unfitted */\n  background-color: var(--sklearn-color-unfitted-level-2);\n}\n\n#sk-container-id-9 div.sk-estimator.fitted input.sk-toggleable__control:checked~label.sk-toggleable__label {\n  /* fitted */\n  background-color: var(--sklearn-color-fitted-level-2);\n}\n\n#sk-container-id-9 div.sk-label label.sk-toggleable__label,\n#sk-container-id-9 div.sk-label label {\n  /* The background is the default theme color */\n  color: var(--sklearn-color-text-on-default-background);\n}\n\n/* On hover, darken the color of the background */\n#sk-container-id-9 div.sk-label:hover label.sk-toggleable__label {\n  color: var(--sklearn-color-text);\n  background-color: var(--sklearn-color-unfitted-level-2);\n}\n\n/* Label box, darken color on hover, fitted */\n#sk-container-id-9 div.sk-label.fitted:hover label.sk-toggleable__label.fitted {\n  color: var(--sklearn-color-text);\n  background-color: var(--sklearn-color-fitted-level-2);\n}\n\n/* Estimator label */\n\n#sk-container-id-9 div.sk-label label {\n  font-family: monospace;\n  font-weight: bold;\n  display: inline-block;\n  line-height: 1.2em;\n}\n\n#sk-container-id-9 div.sk-label-container {\n  text-align: center;\n}\n\n/* Estimator-specific */\n#sk-container-id-9 div.sk-estimator {\n  font-family: monospace;\n  border: 1px dotted var(--sklearn-color-border-box);\n  border-radius: 0.25em;\n  box-sizing: border-box;\n  margin-bottom: 0.5em;\n  /* unfitted */\n  background-color: var(--sklearn-color-unfitted-level-0);\n}\n\n#sk-container-id-9 div.sk-estimator.fitted {\n  /* fitted */\n  background-color: var(--sklearn-color-fitted-level-0);\n}\n\n/* on hover */\n#sk-container-id-9 div.sk-estimator:hover {\n  /* unfitted */\n  background-color: var(--sklearn-color-unfitted-level-2);\n}\n\n#sk-container-id-9 div.sk-estimator.fitted:hover {\n  /* fitted */\n  background-color: var(--sklearn-color-fitted-level-2);\n}\n\n/* Specification for estimator info (e.g. \"i\" and \"?\") */\n\n/* Common style for \"i\" and \"?\" */\n\n.sk-estimator-doc-link,\na:link.sk-estimator-doc-link,\na:visited.sk-estimator-doc-link {\n  float: right;\n  font-size: smaller;\n  line-height: 1em;\n  font-family: monospace;\n  background-color: var(--sklearn-color-background);\n  border-radius: 1em;\n  height: 1em;\n  width: 1em;\n  text-decoration: none !important;\n  margin-left: 1ex;\n  /* unfitted */\n  border: var(--sklearn-color-unfitted-level-1) 1pt solid;\n  color: var(--sklearn-color-unfitted-level-1);\n}\n\n.sk-estimator-doc-link.fitted,\na:link.sk-estimator-doc-link.fitted,\na:visited.sk-estimator-doc-link.fitted {\n  /* fitted */\n  border: var(--sklearn-color-fitted-level-1) 1pt solid;\n  color: var(--sklearn-color-fitted-level-1);\n}\n\n/* On hover */\ndiv.sk-estimator:hover .sk-estimator-doc-link:hover,\n.sk-estimator-doc-link:hover,\ndiv.sk-label-container:hover .sk-estimator-doc-link:hover,\n.sk-estimator-doc-link:hover {\n  /* unfitted */\n  background-color: var(--sklearn-color-unfitted-level-3);\n  color: var(--sklearn-color-background);\n  text-decoration: none;\n}\n\ndiv.sk-estimator.fitted:hover .sk-estimator-doc-link.fitted:hover,\n.sk-estimator-doc-link.fitted:hover,\ndiv.sk-label-container:hover .sk-estimator-doc-link.fitted:hover,\n.sk-estimator-doc-link.fitted:hover {\n  /* fitted */\n  background-color: var(--sklearn-color-fitted-level-3);\n  color: var(--sklearn-color-background);\n  text-decoration: none;\n}\n\n/* Span, style for the box shown on hovering the info icon */\n.sk-estimator-doc-link span {\n  display: none;\n  z-index: 9999;\n  position: relative;\n  font-weight: normal;\n  right: .2ex;\n  padding: .5ex;\n  margin: .5ex;\n  width: min-content;\n  min-width: 20ex;\n  max-width: 50ex;\n  color: var(--sklearn-color-text);\n  box-shadow: 2pt 2pt 4pt #999;\n  /* unfitted */\n  background: var(--sklearn-color-unfitted-level-0);\n  border: .5pt solid var(--sklearn-color-unfitted-level-3);\n}\n\n.sk-estimator-doc-link.fitted span {\n  /* fitted */\n  background: var(--sklearn-color-fitted-level-0);\n  border: var(--sklearn-color-fitted-level-3);\n}\n\n.sk-estimator-doc-link:hover span {\n  display: block;\n}\n\n/* \"?\"-specific style due to the `<a>` HTML tag */\n\n#sk-container-id-9 a.estimator_doc_link {\n  float: right;\n  font-size: 1rem;\n  line-height: 1em;\n  font-family: monospace;\n  background-color: var(--sklearn-color-background);\n  border-radius: 1rem;\n  height: 1rem;\n  width: 1rem;\n  text-decoration: none;\n  /* unfitted */\n  color: var(--sklearn-color-unfitted-level-1);\n  border: var(--sklearn-color-unfitted-level-1) 1pt solid;\n}\n\n#sk-container-id-9 a.estimator_doc_link.fitted {\n  /* fitted */\n  border: var(--sklearn-color-fitted-level-1) 1pt solid;\n  color: var(--sklearn-color-fitted-level-1);\n}\n\n/* On hover */\n#sk-container-id-9 a.estimator_doc_link:hover {\n  /* unfitted */\n  background-color: var(--sklearn-color-unfitted-level-3);\n  color: var(--sklearn-color-background);\n  text-decoration: none;\n}\n\n#sk-container-id-9 a.estimator_doc_link.fitted:hover {\n  /* fitted */\n  background-color: var(--sklearn-color-fitted-level-3);\n}\n</style><div id=\"sk-container-id-9\" class=\"sk-top-container\"><div class=\"sk-text-repr-fallback\"><pre>AdaBoostClassifier(learning_rate=0.61, n_estimators=200)</pre><b>In a Jupyter environment, please rerun this cell to show the HTML representation or trust the notebook. <br />On GitHub, the HTML representation is unable to render, please try loading this page with nbviewer.org.</b></div><div class=\"sk-container\" hidden><div class=\"sk-item\"><div class=\"sk-estimator fitted sk-toggleable\"><input class=\"sk-toggleable__control sk-hidden--visually\" id=\"sk-estimator-id-11\" type=\"checkbox\" checked><label for=\"sk-estimator-id-11\" class=\"sk-toggleable__label fitted sk-toggleable__label-arrow fitted\">&nbsp;&nbsp;AdaBoostClassifier<a class=\"sk-estimator-doc-link fitted\" rel=\"noreferrer\" target=\"_blank\" href=\"https://scikit-learn.org/1.5/modules/generated/sklearn.ensemble.AdaBoostClassifier.html\">?<span>Documentation for AdaBoostClassifier</span></a><span class=\"sk-estimator-doc-link fitted\">i<span>Fitted</span></span></label><div class=\"sk-toggleable__content fitted\"><pre>AdaBoostClassifier(learning_rate=0.61, n_estimators=200)</pre></div> </div></div></div></div>"
     },
     "execution_count": 83,
     "metadata": {},
     "output_type": "execute_result"
    }
   ],
   "source": [
    "ada_booster_model = AdaBoostClassifier(learning_rate=0.61,n_estimators=200) # adding estimator__depth=1 makes things too difficult\n",
    "#best parameters: {'estimator__max_depth': np.int64(1), 'learning_rate': np.float64(0.61), 'n_estimators': np.int64(200)}\n",
    "\n",
    "ada_booster_model.fit(train_val_features,train_val_targets)"
   ],
   "metadata": {
    "collapsed": false,
    "ExecuteTime": {
     "end_time": "2024-11-20T16:55:52.593145900Z",
     "start_time": "2024-11-20T16:55:51.534688700Z"
    }
   }
  },
  {
   "cell_type": "code",
   "execution_count": 84,
   "outputs": [
    {
     "name": "stdout",
     "output_type": "stream",
     "text": [
      "Training Accuracy: 0.783272110765753\n",
      "Training Precision: 0.783272110765753\n",
      "Training Recall: 0.783272110765753\n",
      "Training F1: 0.783272110765753\n",
      "Training ROC AUC: 0.9019735365528151\n",
      "Test Accuracy: 0.7649717514124293\n",
      "Test Precision: 0.7649717514124293\n",
      "Test Recall: 0.7649717514124293\n",
      "Test F1: 0.7649717514124293\n",
      "Test ROC AUC: 0.887873854894826\n",
      "\n"
     ]
    }
   ],
   "source": [
    "evaluate(ada_booster_model)"
   ],
   "metadata": {
    "collapsed": false,
    "ExecuteTime": {
     "end_time": "2024-11-20T16:55:52.750212900Z",
     "start_time": "2024-11-20T16:55:52.590728500Z"
    }
   }
  },
  {
   "cell_type": "code",
   "execution_count": 85,
   "outputs": [
    {
     "data": {
      "text/plain": "GaussianNB(var_smoothing=1e-08)",
      "text/html": "<style>#sk-container-id-10 {\n  /* Definition of color scheme common for light and dark mode */\n  --sklearn-color-text: black;\n  --sklearn-color-line: gray;\n  /* Definition of color scheme for unfitted estimators */\n  --sklearn-color-unfitted-level-0: #fff5e6;\n  --sklearn-color-unfitted-level-1: #f6e4d2;\n  --sklearn-color-unfitted-level-2: #ffe0b3;\n  --sklearn-color-unfitted-level-3: chocolate;\n  /* Definition of color scheme for fitted estimators */\n  --sklearn-color-fitted-level-0: #f0f8ff;\n  --sklearn-color-fitted-level-1: #d4ebff;\n  --sklearn-color-fitted-level-2: #b3dbfd;\n  --sklearn-color-fitted-level-3: cornflowerblue;\n\n  /* Specific color for light theme */\n  --sklearn-color-text-on-default-background: var(--sg-text-color, var(--theme-code-foreground, var(--jp-content-font-color1, black)));\n  --sklearn-color-background: var(--sg-background-color, var(--theme-background, var(--jp-layout-color0, white)));\n  --sklearn-color-border-box: var(--sg-text-color, var(--theme-code-foreground, var(--jp-content-font-color1, black)));\n  --sklearn-color-icon: #696969;\n\n  @media (prefers-color-scheme: dark) {\n    /* Redefinition of color scheme for dark theme */\n    --sklearn-color-text-on-default-background: var(--sg-text-color, var(--theme-code-foreground, var(--jp-content-font-color1, white)));\n    --sklearn-color-background: var(--sg-background-color, var(--theme-background, var(--jp-layout-color0, #111)));\n    --sklearn-color-border-box: var(--sg-text-color, var(--theme-code-foreground, var(--jp-content-font-color1, white)));\n    --sklearn-color-icon: #878787;\n  }\n}\n\n#sk-container-id-10 {\n  color: var(--sklearn-color-text);\n}\n\n#sk-container-id-10 pre {\n  padding: 0;\n}\n\n#sk-container-id-10 input.sk-hidden--visually {\n  border: 0;\n  clip: rect(1px 1px 1px 1px);\n  clip: rect(1px, 1px, 1px, 1px);\n  height: 1px;\n  margin: -1px;\n  overflow: hidden;\n  padding: 0;\n  position: absolute;\n  width: 1px;\n}\n\n#sk-container-id-10 div.sk-dashed-wrapped {\n  border: 1px dashed var(--sklearn-color-line);\n  margin: 0 0.4em 0.5em 0.4em;\n  box-sizing: border-box;\n  padding-bottom: 0.4em;\n  background-color: var(--sklearn-color-background);\n}\n\n#sk-container-id-10 div.sk-container {\n  /* jupyter's `normalize.less` sets `[hidden] { display: none; }`\n     but bootstrap.min.css set `[hidden] { display: none !important; }`\n     so we also need the `!important` here to be able to override the\n     default hidden behavior on the sphinx rendered scikit-learn.org.\n     See: https://github.com/scikit-learn/scikit-learn/issues/21755 */\n  display: inline-block !important;\n  position: relative;\n}\n\n#sk-container-id-10 div.sk-text-repr-fallback {\n  display: none;\n}\n\ndiv.sk-parallel-item,\ndiv.sk-serial,\ndiv.sk-item {\n  /* draw centered vertical line to link estimators */\n  background-image: linear-gradient(var(--sklearn-color-text-on-default-background), var(--sklearn-color-text-on-default-background));\n  background-size: 2px 100%;\n  background-repeat: no-repeat;\n  background-position: center center;\n}\n\n/* Parallel-specific style estimator block */\n\n#sk-container-id-10 div.sk-parallel-item::after {\n  content: \"\";\n  width: 100%;\n  border-bottom: 2px solid var(--sklearn-color-text-on-default-background);\n  flex-grow: 1;\n}\n\n#sk-container-id-10 div.sk-parallel {\n  display: flex;\n  align-items: stretch;\n  justify-content: center;\n  background-color: var(--sklearn-color-background);\n  position: relative;\n}\n\n#sk-container-id-10 div.sk-parallel-item {\n  display: flex;\n  flex-direction: column;\n}\n\n#sk-container-id-10 div.sk-parallel-item:first-child::after {\n  align-self: flex-end;\n  width: 50%;\n}\n\n#sk-container-id-10 div.sk-parallel-item:last-child::after {\n  align-self: flex-start;\n  width: 50%;\n}\n\n#sk-container-id-10 div.sk-parallel-item:only-child::after {\n  width: 0;\n}\n\n/* Serial-specific style estimator block */\n\n#sk-container-id-10 div.sk-serial {\n  display: flex;\n  flex-direction: column;\n  align-items: center;\n  background-color: var(--sklearn-color-background);\n  padding-right: 1em;\n  padding-left: 1em;\n}\n\n\n/* Toggleable style: style used for estimator/Pipeline/ColumnTransformer box that is\nclickable and can be expanded/collapsed.\n- Pipeline and ColumnTransformer use this feature and define the default style\n- Estimators will overwrite some part of the style using the `sk-estimator` class\n*/\n\n/* Pipeline and ColumnTransformer style (default) */\n\n#sk-container-id-10 div.sk-toggleable {\n  /* Default theme specific background. It is overwritten whether we have a\n  specific estimator or a Pipeline/ColumnTransformer */\n  background-color: var(--sklearn-color-background);\n}\n\n/* Toggleable label */\n#sk-container-id-10 label.sk-toggleable__label {\n  cursor: pointer;\n  display: block;\n  width: 100%;\n  margin-bottom: 0;\n  padding: 0.5em;\n  box-sizing: border-box;\n  text-align: center;\n}\n\n#sk-container-id-10 label.sk-toggleable__label-arrow:before {\n  /* Arrow on the left of the label */\n  content: \"▸\";\n  float: left;\n  margin-right: 0.25em;\n  color: var(--sklearn-color-icon);\n}\n\n#sk-container-id-10 label.sk-toggleable__label-arrow:hover:before {\n  color: var(--sklearn-color-text);\n}\n\n/* Toggleable content - dropdown */\n\n#sk-container-id-10 div.sk-toggleable__content {\n  max-height: 0;\n  max-width: 0;\n  overflow: hidden;\n  text-align: left;\n  /* unfitted */\n  background-color: var(--sklearn-color-unfitted-level-0);\n}\n\n#sk-container-id-10 div.sk-toggleable__content.fitted {\n  /* fitted */\n  background-color: var(--sklearn-color-fitted-level-0);\n}\n\n#sk-container-id-10 div.sk-toggleable__content pre {\n  margin: 0.2em;\n  border-radius: 0.25em;\n  color: var(--sklearn-color-text);\n  /* unfitted */\n  background-color: var(--sklearn-color-unfitted-level-0);\n}\n\n#sk-container-id-10 div.sk-toggleable__content.fitted pre {\n  /* unfitted */\n  background-color: var(--sklearn-color-fitted-level-0);\n}\n\n#sk-container-id-10 input.sk-toggleable__control:checked~div.sk-toggleable__content {\n  /* Expand drop-down */\n  max-height: 200px;\n  max-width: 100%;\n  overflow: auto;\n}\n\n#sk-container-id-10 input.sk-toggleable__control:checked~label.sk-toggleable__label-arrow:before {\n  content: \"▾\";\n}\n\n/* Pipeline/ColumnTransformer-specific style */\n\n#sk-container-id-10 div.sk-label input.sk-toggleable__control:checked~label.sk-toggleable__label {\n  color: var(--sklearn-color-text);\n  background-color: var(--sklearn-color-unfitted-level-2);\n}\n\n#sk-container-id-10 div.sk-label.fitted input.sk-toggleable__control:checked~label.sk-toggleable__label {\n  background-color: var(--sklearn-color-fitted-level-2);\n}\n\n/* Estimator-specific style */\n\n/* Colorize estimator box */\n#sk-container-id-10 div.sk-estimator input.sk-toggleable__control:checked~label.sk-toggleable__label {\n  /* unfitted */\n  background-color: var(--sklearn-color-unfitted-level-2);\n}\n\n#sk-container-id-10 div.sk-estimator.fitted input.sk-toggleable__control:checked~label.sk-toggleable__label {\n  /* fitted */\n  background-color: var(--sklearn-color-fitted-level-2);\n}\n\n#sk-container-id-10 div.sk-label label.sk-toggleable__label,\n#sk-container-id-10 div.sk-label label {\n  /* The background is the default theme color */\n  color: var(--sklearn-color-text-on-default-background);\n}\n\n/* On hover, darken the color of the background */\n#sk-container-id-10 div.sk-label:hover label.sk-toggleable__label {\n  color: var(--sklearn-color-text);\n  background-color: var(--sklearn-color-unfitted-level-2);\n}\n\n/* Label box, darken color on hover, fitted */\n#sk-container-id-10 div.sk-label.fitted:hover label.sk-toggleable__label.fitted {\n  color: var(--sklearn-color-text);\n  background-color: var(--sklearn-color-fitted-level-2);\n}\n\n/* Estimator label */\n\n#sk-container-id-10 div.sk-label label {\n  font-family: monospace;\n  font-weight: bold;\n  display: inline-block;\n  line-height: 1.2em;\n}\n\n#sk-container-id-10 div.sk-label-container {\n  text-align: center;\n}\n\n/* Estimator-specific */\n#sk-container-id-10 div.sk-estimator {\n  font-family: monospace;\n  border: 1px dotted var(--sklearn-color-border-box);\n  border-radius: 0.25em;\n  box-sizing: border-box;\n  margin-bottom: 0.5em;\n  /* unfitted */\n  background-color: var(--sklearn-color-unfitted-level-0);\n}\n\n#sk-container-id-10 div.sk-estimator.fitted {\n  /* fitted */\n  background-color: var(--sklearn-color-fitted-level-0);\n}\n\n/* on hover */\n#sk-container-id-10 div.sk-estimator:hover {\n  /* unfitted */\n  background-color: var(--sklearn-color-unfitted-level-2);\n}\n\n#sk-container-id-10 div.sk-estimator.fitted:hover {\n  /* fitted */\n  background-color: var(--sklearn-color-fitted-level-2);\n}\n\n/* Specification for estimator info (e.g. \"i\" and \"?\") */\n\n/* Common style for \"i\" and \"?\" */\n\n.sk-estimator-doc-link,\na:link.sk-estimator-doc-link,\na:visited.sk-estimator-doc-link {\n  float: right;\n  font-size: smaller;\n  line-height: 1em;\n  font-family: monospace;\n  background-color: var(--sklearn-color-background);\n  border-radius: 1em;\n  height: 1em;\n  width: 1em;\n  text-decoration: none !important;\n  margin-left: 1ex;\n  /* unfitted */\n  border: var(--sklearn-color-unfitted-level-1) 1pt solid;\n  color: var(--sklearn-color-unfitted-level-1);\n}\n\n.sk-estimator-doc-link.fitted,\na:link.sk-estimator-doc-link.fitted,\na:visited.sk-estimator-doc-link.fitted {\n  /* fitted */\n  border: var(--sklearn-color-fitted-level-1) 1pt solid;\n  color: var(--sklearn-color-fitted-level-1);\n}\n\n/* On hover */\ndiv.sk-estimator:hover .sk-estimator-doc-link:hover,\n.sk-estimator-doc-link:hover,\ndiv.sk-label-container:hover .sk-estimator-doc-link:hover,\n.sk-estimator-doc-link:hover {\n  /* unfitted */\n  background-color: var(--sklearn-color-unfitted-level-3);\n  color: var(--sklearn-color-background);\n  text-decoration: none;\n}\n\ndiv.sk-estimator.fitted:hover .sk-estimator-doc-link.fitted:hover,\n.sk-estimator-doc-link.fitted:hover,\ndiv.sk-label-container:hover .sk-estimator-doc-link.fitted:hover,\n.sk-estimator-doc-link.fitted:hover {\n  /* fitted */\n  background-color: var(--sklearn-color-fitted-level-3);\n  color: var(--sklearn-color-background);\n  text-decoration: none;\n}\n\n/* Span, style for the box shown on hovering the info icon */\n.sk-estimator-doc-link span {\n  display: none;\n  z-index: 9999;\n  position: relative;\n  font-weight: normal;\n  right: .2ex;\n  padding: .5ex;\n  margin: .5ex;\n  width: min-content;\n  min-width: 20ex;\n  max-width: 50ex;\n  color: var(--sklearn-color-text);\n  box-shadow: 2pt 2pt 4pt #999;\n  /* unfitted */\n  background: var(--sklearn-color-unfitted-level-0);\n  border: .5pt solid var(--sklearn-color-unfitted-level-3);\n}\n\n.sk-estimator-doc-link.fitted span {\n  /* fitted */\n  background: var(--sklearn-color-fitted-level-0);\n  border: var(--sklearn-color-fitted-level-3);\n}\n\n.sk-estimator-doc-link:hover span {\n  display: block;\n}\n\n/* \"?\"-specific style due to the `<a>` HTML tag */\n\n#sk-container-id-10 a.estimator_doc_link {\n  float: right;\n  font-size: 1rem;\n  line-height: 1em;\n  font-family: monospace;\n  background-color: var(--sklearn-color-background);\n  border-radius: 1rem;\n  height: 1rem;\n  width: 1rem;\n  text-decoration: none;\n  /* unfitted */\n  color: var(--sklearn-color-unfitted-level-1);\n  border: var(--sklearn-color-unfitted-level-1) 1pt solid;\n}\n\n#sk-container-id-10 a.estimator_doc_link.fitted {\n  /* fitted */\n  border: var(--sklearn-color-fitted-level-1) 1pt solid;\n  color: var(--sklearn-color-fitted-level-1);\n}\n\n/* On hover */\n#sk-container-id-10 a.estimator_doc_link:hover {\n  /* unfitted */\n  background-color: var(--sklearn-color-unfitted-level-3);\n  color: var(--sklearn-color-background);\n  text-decoration: none;\n}\n\n#sk-container-id-10 a.estimator_doc_link.fitted:hover {\n  /* fitted */\n  background-color: var(--sklearn-color-fitted-level-3);\n}\n</style><div id=\"sk-container-id-10\" class=\"sk-top-container\"><div class=\"sk-text-repr-fallback\"><pre>GaussianNB(var_smoothing=1e-08)</pre><b>In a Jupyter environment, please rerun this cell to show the HTML representation or trust the notebook. <br />On GitHub, the HTML representation is unable to render, please try loading this page with nbviewer.org.</b></div><div class=\"sk-container\" hidden><div class=\"sk-item\"><div class=\"sk-estimator fitted sk-toggleable\"><input class=\"sk-toggleable__control sk-hidden--visually\" id=\"sk-estimator-id-12\" type=\"checkbox\" checked><label for=\"sk-estimator-id-12\" class=\"sk-toggleable__label fitted sk-toggleable__label-arrow fitted\">&nbsp;&nbsp;GaussianNB<a class=\"sk-estimator-doc-link fitted\" rel=\"noreferrer\" target=\"_blank\" href=\"https://scikit-learn.org/1.5/modules/generated/sklearn.naive_bayes.GaussianNB.html\">?<span>Documentation for GaussianNB</span></a><span class=\"sk-estimator-doc-link fitted\">i<span>Fitted</span></span></label><div class=\"sk-toggleable__content fitted\"><pre>GaussianNB(var_smoothing=1e-08)</pre></div> </div></div></div></div>"
     },
     "execution_count": 85,
     "metadata": {},
     "output_type": "execute_result"
    }
   ],
   "source": [
    "naive_bayes_model = GaussianNB(var_smoothing=1e-08)\n",
    "naive_bayes_model.fit(train_val_features,train_val_targets)"
   ],
   "metadata": {
    "collapsed": false,
    "ExecuteTime": {
     "end_time": "2024-11-20T16:55:52.762490100Z",
     "start_time": "2024-11-20T16:55:52.750212900Z"
    }
   }
  },
  {
   "cell_type": "code",
   "execution_count": 86,
   "outputs": [
    {
     "name": "stdout",
     "output_type": "stream",
     "text": [
      "Training Accuracy: 0.6990675332014693\n",
      "Training Precision: 0.6990675332014693\n",
      "Training Recall: 0.6990675332014693\n",
      "Training F1: 0.6990675332014693\n",
      "Training ROC AUC: 0.8288560895861805\n",
      "Test Accuracy: 0.711864406779661\n",
      "Test Precision: 0.711864406779661\n",
      "Test Recall: 0.711864406779661\n",
      "Test F1: 0.711864406779661\n",
      "Test ROC AUC: 0.8368182833796164\n",
      "\n"
     ]
    }
   ],
   "source": [
    "evaluate(naive_bayes_model)"
   ],
   "metadata": {
    "collapsed": false,
    "ExecuteTime": {
     "end_time": "2024-11-20T16:55:52.823955900Z",
     "start_time": "2024-11-20T16:55:52.764549200Z"
    }
   }
  },
  {
   "cell_type": "markdown",
   "source": [
    "## The results\n",
    "\n",
    "Random forest:\n",
    "\n",
    "- Training Accuracy: 0.9355750211924272\n",
    "- Training Precision: 0.9355750211924272\n",
    "- Training Recall: 0.9355750211924272\n",
    "- Training F1: 0.9355750211924272\n",
    "- Training ROC AUC: 0.986769673666562\n",
    "- Test Accuracy: 0.7796610169491526\n",
    "- Test Precision: 0.7796610169491526\n",
    "- Test Recall: 0.7796610169491526\n",
    "- Test F1: 0.7796610169491526\n",
    "- Test ROC AUC: 0.9200555395959016\n",
    "\n",
    "\n",
    "Gradient booster:\n",
    "\n",
    "- Training Accuracy: 0.919468776490534\n",
    "- Training Precision: 0.919468776490534\n",
    "- Training Recall: 0.919468776490534\n",
    "- Training F1: 0.919468776490534\n",
    "- Training ROC AUC: 0.9849100815911443\n",
    "- Test Accuracy: 0.7706214689265537\n",
    "- Test Precision: 0.7706214689265537\n",
    "- Test Recall: 0.7706214689265537\n",
    "- Test F1: 0.7706214689265537\n",
    "- Test ROC AUC: 0.9246704331450094\n",
    "\n",
    "Ada booster:\n",
    "\n",
    "- Training Accuracy: 0.7855326363379486\n",
    "- Training Precision: 0.7855326363379486\n",
    "- Training Recall: 0.7855326363379486\n",
    "- Training F1: 0.7855326363379486\n",
    "- Training ROC AUC: 0.8923516516120655\n",
    "- Test Accuracy: 0.7728813559322034\n",
    "- Test Precision: 0.7728813559322034\n",
    "- Test Recall: 0.7728813559322034\n",
    "- Test F1: 0.7728813559322034\n",
    "- Test ROC AUC: 0.8779495036547609\n",
    "\n",
    "GaussianDB:\n",
    "\n",
    "- Training Accuracy: 0.6908731280022605\n",
    "- Training Precision: 0.6908731280022605\n",
    "- Training Recall: 0.6908731280022605\n",
    "- Training F1: 0.6908731280022605\n",
    "- Training ROC AUC: 0.8247690270949284\n",
    "- Test Accuracy: 0.6903954802259887\n",
    "- Test Precision: 0.6903954802259887\n",
    "- Test Recall: 0.6903954802259887\n",
    "- Test F1: 0.6903954802259887\n",
    "- Test ROC AUC: 0.8304315490440166\n",
    "\n"
   ],
   "metadata": {
    "collapsed": false
   }
  },
  {
   "cell_type": "markdown",
   "metadata": {},
   "source": [
    "## Comparison of the classifiers\n",
    "\n",
    "based on the results"
   ]
  },
  {
   "cell_type": "markdown",
   "metadata": {},
   "source": [
    "## Conclusion"
   ]
  },
  {
   "cell_type": "markdown",
   "metadata": {},
   "source": [
    "## Possible improvements\n",
    "Using pipeline in the \"data washing\"\n"
   ]
  },
  {
   "cell_type": "code",
   "execution_count": 86,
   "outputs": [],
   "source": [],
   "metadata": {
    "collapsed": false,
    "ExecuteTime": {
     "end_time": "2024-11-20T16:55:52.823955900Z",
     "start_time": "2024-11-20T16:55:52.818947800Z"
    }
   }
  }
 ],
 "metadata": {
  "kernelspec": {
   "display_name": "Python 3",
   "language": "python",
   "name": "python3"
  },
  "language_info": {
   "codemirror_mode": {
    "name": "ipython",
    "version": 3
   },
   "file_extension": ".py",
   "mimetype": "text/x-python",
   "name": "python",
   "nbconvert_exporter": "python",
   "pygments_lexer": "ipython3",
   "version": "3.12.4"
  }
 },
 "nbformat": 4,
 "nbformat_minor": 2
}
