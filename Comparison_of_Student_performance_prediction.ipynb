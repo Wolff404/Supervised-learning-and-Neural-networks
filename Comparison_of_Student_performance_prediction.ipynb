{
 "cells": [
  {
   "cell_type": "markdown",
   "metadata": {},
   "source": [
    "# Comparison of Classifiers for Student Performance Prediction"
   ]
  },
  {
   "cell_type": "markdown",
   "metadata": {},
   "source": [
    "## The dataset\n",
    "\n",
    "\n",
    "### What is the purpose of the dataset?\n",
    "This dataset is for creating classification models that will predict the students dropout and their academic success.\n",
    "\n",
    "### What are the features\n",
    "\n",
    "\n",
    "Each instance in the dataset represents a student.\n",
    "\n",
    "### What is the target?\n",
    "\n",
    "The target is\n"
   ]
  },
  {
   "cell_type": "markdown",
   "metadata": {},
   "source": [
    "## Analyzing the dataset"
   ]
  },
  {
   "cell_type": "code",
   "execution_count": 22,
   "metadata": {
    "collapsed": false,
    "ExecuteTime": {
     "end_time": "2024-11-20T12:43:12.340120100Z",
     "start_time": "2024-11-20T12:43:12.312641300Z"
    }
   },
   "outputs": [],
   "source": [
    "import pandas as pd\n",
    "import numpy as np\n",
    "\n",
    "from imblearn.over_sampling import SMOTENC\n",
    "from sklearn.ensemble import RandomForestClassifier\n",
    "from sklearn.preprocessing import OneHotEncoder\n",
    "from sklearn.ensemble import AdaBoostClassifier\n",
    "from sklearn.ensemble import GradientBoostingClassifier\n",
    "from sklearn.tree import DecisionTreeClassifier\n",
    "\n",
    "from sklearn.naive_bayes import GaussianNB\n",
    "from sklearn.tree import DecisionTreeClassifier\n",
    "from sklearn.metrics import accuracy_score, precision_score, recall_score, f1_score, roc_auc_score\n",
    "from sklearn.model_selection import GridSearchCV\n",
    "\n"
   ]
  },
  {
   "cell_type": "code",
   "execution_count": 2,
   "metadata": {
    "collapsed": false,
    "ExecuteTime": {
     "end_time": "2024-11-20T11:12:04.543707600Z",
     "start_time": "2024-11-20T11:12:04.476317200Z"
    }
   },
   "outputs": [
    {
     "name": "stdout",
     "output_type": "stream",
     "text": [
      "<class 'pandas.core.frame.DataFrame'>\n",
      "RangeIndex: 4424 entries, 0 to 4423\n",
      "Data columns (total 37 columns):\n",
      " #   Column                                          Non-Null Count  Dtype  \n",
      "---  ------                                          --------------  -----  \n",
      " 0   Marital status                                  4424 non-null   int64  \n",
      " 1   Application mode                                4424 non-null   int64  \n",
      " 2   Application order                               4424 non-null   int64  \n",
      " 3   Course                                          4424 non-null   int64  \n",
      " 4   Daytime/evening attendance\t                     4424 non-null   int64  \n",
      " 5   Previous qualification                          4424 non-null   int64  \n",
      " 6   Previous qualification (grade)                  4424 non-null   float64\n",
      " 7   Nacionality                                     4424 non-null   int64  \n",
      " 8   Mother's qualification                          4424 non-null   int64  \n",
      " 9   Father's qualification                          4424 non-null   int64  \n",
      " 10  Mother's occupation                             4424 non-null   int64  \n",
      " 11  Father's occupation                             4424 non-null   int64  \n",
      " 12  Admission grade                                 4424 non-null   float64\n",
      " 13  Displaced                                       4424 non-null   int64  \n",
      " 14  Educational special needs                       4424 non-null   int64  \n",
      " 15  Debtor                                          4424 non-null   int64  \n",
      " 16  Tuition fees up to date                         4424 non-null   int64  \n",
      " 17  Gender                                          4424 non-null   int64  \n",
      " 18  Scholarship holder                              4424 non-null   int64  \n",
      " 19  Age at enrollment                               4424 non-null   int64  \n",
      " 20  International                                   4424 non-null   int64  \n",
      " 21  Curricular units 1st sem (credited)             4424 non-null   int64  \n",
      " 22  Curricular units 1st sem (enrolled)             4424 non-null   int64  \n",
      " 23  Curricular units 1st sem (evaluations)          4424 non-null   int64  \n",
      " 24  Curricular units 1st sem (approved)             4424 non-null   int64  \n",
      " 25  Curricular units 1st sem (grade)                4424 non-null   float64\n",
      " 26  Curricular units 1st sem (without evaluations)  4424 non-null   int64  \n",
      " 27  Curricular units 2nd sem (credited)             4424 non-null   int64  \n",
      " 28  Curricular units 2nd sem (enrolled)             4424 non-null   int64  \n",
      " 29  Curricular units 2nd sem (evaluations)          4424 non-null   int64  \n",
      " 30  Curricular units 2nd sem (approved)             4424 non-null   int64  \n",
      " 31  Curricular units 2nd sem (grade)                4424 non-null   float64\n",
      " 32  Curricular units 2nd sem (without evaluations)  4424 non-null   int64  \n",
      " 33  Unemployment rate                               4424 non-null   float64\n",
      " 34  Inflation rate                                  4424 non-null   float64\n",
      " 35  GDP                                             4424 non-null   float64\n",
      " 36  Target                                          4424 non-null   object \n",
      "dtypes: float64(7), int64(29), object(1)\n",
      "memory usage: 1.2+ MB\n"
     ]
    }
   ],
   "source": [
    "dataset = pd.read_csv('dataset_student_performance.csv',sep=\";\")\n",
    "dataset.info()\n",
    "#dataframe = pd.DataFrame(dataset)\n",
    "\n"
   ]
  },
  {
   "cell_type": "code",
   "execution_count": 3,
   "metadata": {
    "ExecuteTime": {
     "end_time": "2024-11-20T11:12:04.543707600Z",
     "start_time": "2024-11-20T11:12:04.512138800Z"
    }
   },
   "outputs": [],
   "source": [
    "#dataset.head()"
   ]
  },
  {
   "cell_type": "markdown",
   "metadata": {},
   "source": [
    "## \"Data washing\"\n",
    "\n",
    "By looking at the contents of the dataset. We observe that the features are already encoded into integers.\n",
    "So what we will need to do is \n",
    "- Split the features into categorical and numerical features.\n",
    "\n",
    "After that is done, we will need to \n",
    "- Encode the categorical ones differently so they are not integers, we can achieve this by using one hot encoding."
   ]
  },
  {
   "cell_type": "markdown",
   "metadata": {},
   "source": [
    "### Splitting the features into categorical and numerical features\n",
    "\n",
    "By using the dataset.info(), we can see what features are numerical and integer(categorical).\n",
    "We need to be cautious to not assume all the integers are categorical. For instance, age, is not a catagorical feature even though it's an integer.\n",
    "\n",
    "The numerical:\n",
    "\n",
    "- 6,   Previous qualification (grade)                  , float64\n",
    "- 12,  Admission grade                                 , float64\n",
    "- 25,  Curricular units 1st sem (grade)                , float64\n",
    "- 31,  Curricular units 2nd sem (grade)                , float64\n",
    "- 33,  Unemployment rate                               , float64\n",
    "- 34,  Inflation rate                                  , float64\n",
    "- 35,  GDP                                             , float64\n",
    "\n",
    "The target: \n",
    "- 36  Target,  object, which is three categories, encoded as ints. (dropout, enrolled, and graduate)\n",
    "\n",
    "By inspecting the documentation further, we can now make an overview over what integers are categorical, and which are not.\n",
    "\n",
    "The categorical:\n",
    "\n",
    "- 0,   Marital status, int64  \n",
    "- 1,   Application mode, int64  \n",
    "- 2,   Application order, int64  \n",
    "- 3,   Course, int64  \n",
    "- 4,   Daytime/evening attendance, int64  \n",
    "- 5,   Previous qualification, int64  \n",
    "- 7,   Nacionality, int64  \n",
    "- 8,   Mother's qualification, int64  \n",
    "- 9,   Father's qualification, int64  \n",
    "- 10,  Mother's occupation, int64  \n",
    "- 11,  Father's occupation, int64  \n",
    "- 13,  Displaced, int64  \n",
    "- 14,  Educational special needs, int64  \n",
    "- 15,  Debtor, int64  \n",
    "- 16,  Tuition fees up to date, int64  \n",
    "- 17,  Gender, int64  \n",
    "- 18,  Scholarship holder, int64 \n",
    "- 20,  International, int64 \n",
    "\n",
    "The non categorical: \n",
    "\n",
    "- 19, Age at enrollment, int64\n",
    "- 21, Curricular units 1st sem (credited),  int64  \n",
    "- 22, Curricular units 1st sem (enrolled),  int64  \n",
    "- 23, Curricular units 1st sem (evaluations),  int64  \n",
    "- 24, Curricular units 1st sem (approved),  int64  \n",
    "- 26, Curricular units 1st sem (without evaluations),  int64  \n",
    "- 27, Curricular units 2nd sem (credited),  int64  \n",
    "- 28, Curricular units 2nd sem (enrolled),  int64  \n",
    "- 29, Curricular units 2nd sem (evaluations),  int64  \n",
    "- 30, Curricular units 2nd sem (approved),  int64  \n",
    "- 32  Curricular units 2nd sem (without evaluations), int64  \n",
    "\n",
    "\n",
    "So, now we can combine them and perphaps group them into the following:\n",
    "\n",
    "\n",
    "The categorical:\n",
    "\n",
    "- 0,   Marital status, int64  \n",
    "- 1,   Application mode, int64  \n",
    "- 2,   Application order, int64  \n",
    "- 3,   Course, int64  \n",
    "- 4,   Daytime/evening attendance, int64  \n",
    "- 5,   Previous qualification, int64  \n",
    "- 7,   Nacionality, int64  \n",
    "- 8,   Mother's qualification, int64  \n",
    "- 9,   Father's qualification, int64  \n",
    "- 10,  Mother's occupation, int64  \n",
    "- 11,  Father's occupation, int64  \n",
    "- 13,  Displaced, int64  \n",
    "- 14,  Educational special needs, int64  \n",
    "- 15,  Debtor, int64  \n",
    "- 16,  Tuition fees up to date, int64  \n",
    "- 17,  Gender, int64  \n",
    "- 18,  Scholarship holder, int64 \n",
    "- 20,  International, int64 \n",
    "\n",
    "The numerical:\n",
    "\n",
    "- 6,  Previous qualification (grade), float64\n",
    "- 12, Admission grade, float64\n",
    "- 25, Curricular units 1st sem (grade), float64\n",
    "- 31, Curricular units 2nd sem (grade), float64\n",
    "- 33, Unemployment rate, float64\n",
    "- 34, Inflation rate, float64\n",
    "- 35, GDP, float64\n",
    "- 19, Age at enrollment, int64\n",
    "- 21, Curricular units 1st sem (credited),  int64  \n",
    "- 22, Curricular units 1st sem (enrolled),  int64  \n",
    "- 23, Curricular units 1st sem (evaluations),  int64  \n",
    "- 24, Curricular units 1st sem (approved),  int64  \n",
    "- 26, Curricular units 1st sem (without evaluations),  int64  \n",
    "- 27, Curricular units 2nd sem (credited),  int64  \n",
    "- 28, Curricular units 2nd sem (enrolled),  int64  \n",
    "- 29, Curricular units 2nd sem (evaluations),  int64  \n",
    "- 30, Curricular units 2nd sem (approved),  int64  \n",
    "- 32, Curricular units 2nd sem (without evaluations), int64  \n",
    "\n",
    "The target(categorical): \n",
    "- 36  Target,  object"
   ]
  },
  {
   "cell_type": "code",
   "execution_count": 4,
   "metadata": {
    "ExecuteTime": {
     "end_time": "2024-11-20T11:12:04.543707600Z",
     "start_time": "2024-11-20T11:12:04.516602900Z"
    }
   },
   "outputs": [],
   "source": [
    "#print(dataset.columns.tolist())\n",
    "#Here we can double check that the syntax of the lists are correct according to the index.\n",
    "#'Daytime/evening attendance\\t' will give an index error if the \\t is not included."
   ]
  },
  {
   "cell_type": "code",
   "execution_count": 5,
   "metadata": {
    "ExecuteTime": {
     "end_time": "2024-11-20T11:12:04.543707600Z",
     "start_time": "2024-11-20T11:12:04.530387600Z"
    }
   },
   "outputs": [],
   "source": [
    "categorical_features = [\n",
    "    \"Marital status\", \"Application mode\", \"Application order\", \"Course\", \n",
    "    \"Daytime/evening attendance\\t\", \"Previous qualification\", \"Nacionality\", \n",
    "    \"Mother's qualification\", \"Father's qualification\", \"Mother's occupation\", \n",
    "    \"Father's occupation\", \"Displaced\", \"Educational special needs\", \"Debtor\", \n",
    "    \"Tuition fees up to date\", \"Gender\", \"Scholarship holder\", \"International\"\n",
    "]\n",
    "\n",
    "numerical_features = [\n",
    "    \"Previous qualification (grade)\", \"Admission grade\", \"Curricular units 1st sem (grade)\", \n",
    "    \"Curricular units 2nd sem (grade)\", \"Unemployment rate\", \"Inflation rate\", \"GDP\", \n",
    "    \"Age at enrollment\", \"Curricular units 1st sem (credited)\", \"Curricular units 1st sem (enrolled)\", \n",
    "    \"Curricular units 1st sem (evaluations)\", \"Curricular units 1st sem (approved)\", \n",
    "    \"Curricular units 1st sem (without evaluations)\", \"Curricular units 2nd sem (credited)\", \n",
    "    \"Curricular units 2nd sem (enrolled)\", \"Curricular units 2nd sem (evaluations)\", \n",
    "    \"Curricular units 2nd sem (approved)\", \"Curricular units 2nd sem (without evaluations)\"\n",
    "]\n",
    "\n",
    "target = \"Target\"\n",
    "dataset_categorical = dataset[categorical_features]\n",
    "dataset_numerical = dataset[numerical_features]\n",
    "dataset_target = dataset[target]"
   ]
  },
  {
   "cell_type": "code",
   "execution_count": 6,
   "outputs": [
    {
     "data": {
      "text/plain": "<Axes: >"
     },
     "execution_count": 6,
     "metadata": {},
     "output_type": "execute_result"
    },
    {
     "data": {
      "text/plain": "<Figure size 640x480 with 1 Axes>",
      "image/png": "[encoded data removed]"
     },
     "metadata": {},
     "output_type": "display_data"
    }
   ],
   "source": [
    "dataset_target.hist()"
   ],
   "metadata": {
    "collapsed": false,
    "ExecuteTime": {
     "end_time": "2024-11-20T11:12:05.620261100Z",
     "start_time": "2024-11-20T11:12:04.538846500Z"
    }
   }
  },
  {
   "cell_type": "markdown",
   "source": [
    "We need to balance the classes, because we can see that the model will train on more graduate since there is more data in that output?"
   ],
   "metadata": {
    "collapsed": false
   }
  },
  {
   "cell_type": "code",
   "execution_count": 7,
   "outputs": [],
   "source": [
    "#dataset_oversampled,_ = SMOTENC('auto').fit_resample(categorical_features, dataset['Target'])\n",
    "#dataset_oversampled_dataframe = pd.concat\n"
   ],
   "metadata": {
    "collapsed": false,
    "ExecuteTime": {
     "end_time": "2024-11-20T11:12:05.626645100Z",
     "start_time": "2024-11-20T11:12:05.618031600Z"
    }
   }
  },
  {
   "cell_type": "markdown",
   "metadata": {},
   "source": [
    "## Making Onehot encoding of the categorical features\n"
   ]
  },
  {
   "cell_type": "code",
   "execution_count": 8,
   "metadata": {
    "ExecuteTime": {
     "end_time": "2024-11-20T11:12:05.630327600Z",
     "start_time": "2024-11-20T11:12:05.622244200Z"
    }
   },
   "outputs": [],
   "source": [
    "dataset_categorical_onehot = pd.get_dummies(dataset_categorical)\n",
    "#dataset_categorical_onehot.info()"
   ]
  },
  {
   "cell_type": "code",
   "execution_count": 9,
   "outputs": [
    {
     "data": {
      "text/plain": "   Previous qualification (grade)  Admission grade  \\\n0                           122.0            127.3   \n1                           160.0            142.5   \n2                           122.0            124.8   \n3                           122.0            119.6   \n4                           100.0            141.5   \n\n   Curricular units 1st sem (grade)  Curricular units 2nd sem (grade)  \\\n0                          0.000000                          0.000000   \n1                         14.000000                         13.666667   \n2                          0.000000                          0.000000   \n3                         13.428571                         12.400000   \n4                         12.333333                         13.000000   \n\n   Unemployment rate  Inflation rate   GDP  Age at enrollment  \\\n0               10.8             1.4  1.74                 20   \n1               13.9            -0.3  0.79                 19   \n2               10.8             1.4  1.74                 19   \n3                9.4            -0.8 -3.12                 20   \n4               13.9            -0.3  0.79                 45   \n\n   Curricular units 1st sem (credited)  Curricular units 1st sem (enrolled)  \\\n0                                    0                                    0   \n1                                    0                                    6   \n2                                    0                                    6   \n3                                    0                                    6   \n4                                    0                                    6   \n\n   ...  Father's qualification  Mother's occupation  Father's occupation  \\\n0  ...                      12                    5                    9   \n1  ...                       3                    3                    3   \n2  ...                      37                    9                    9   \n3  ...                      37                    5                    3   \n4  ...                      38                    9                    9   \n\n   Displaced  Educational special needs  Debtor  Tuition fees up to date  \\\n0          1                          0       0                        1   \n1          1                          0       0                        0   \n2          1                          0       0                        0   \n3          1                          0       0                        1   \n4          0                          0       0                        1   \n\n   Gender Scholarship holder  International  \n0       1                  0              0  \n1       1                  0              0  \n2       1                  0              0  \n3       0                  0              0  \n4       0                  0              0  \n\n[5 rows x 37 columns]",
      "text/html": "<div>\n<style scoped>\n    .dataframe tbody tr th:only-of-type {\n        vertical-align: middle;\n    }\n\n    .dataframe tbody tr th {\n        vertical-align: top;\n    }\n\n    .dataframe thead th {\n        text-align: right;\n    }\n</style>\n<table border=\"1\" class=\"dataframe\">\n  <thead>\n    <tr style=\"text-align: right;\">\n      <th></th>\n      <th>Previous qualification (grade)</th>\n      <th>Admission grade</th>\n      <th>Curricular units 1st sem (grade)</th>\n      <th>Curricular units 2nd sem (grade)</th>\n      <th>Unemployment rate</th>\n      <th>Inflation rate</th>\n      <th>GDP</th>\n      <th>Age at enrollment</th>\n      <th>Curricular units 1st sem (credited)</th>\n      <th>Curricular units 1st sem (enrolled)</th>\n      <th>...</th>\n      <th>Father's qualification</th>\n      <th>Mother's occupation</th>\n      <th>Father's occupation</th>\n      <th>Displaced</th>\n      <th>Educational special needs</th>\n      <th>Debtor</th>\n      <th>Tuition fees up to date</th>\n      <th>Gender</th>\n      <th>Scholarship holder</th>\n      <th>International</th>\n    </tr>\n  </thead>\n  <tbody>\n    <tr>\n      <th>0</th>\n      <td>122.0</td>\n      <td>127.3</td>\n      <td>0.000000</td>\n      <td>0.000000</td>\n      <td>10.8</td>\n      <td>1.4</td>\n      <td>1.74</td>\n      <td>20</td>\n      <td>0</td>\n      <td>0</td>\n      <td>...</td>\n      <td>12</td>\n      <td>5</td>\n      <td>9</td>\n      <td>1</td>\n      <td>0</td>\n      <td>0</td>\n      <td>1</td>\n      <td>1</td>\n      <td>0</td>\n      <td>0</td>\n    </tr>\n    <tr>\n      <th>1</th>\n      <td>160.0</td>\n      <td>142.5</td>\n      <td>14.000000</td>\n      <td>13.666667</td>\n      <td>13.9</td>\n      <td>-0.3</td>\n      <td>0.79</td>\n      <td>19</td>\n      <td>0</td>\n      <td>6</td>\n      <td>...</td>\n      <td>3</td>\n      <td>3</td>\n      <td>3</td>\n      <td>1</td>\n      <td>0</td>\n      <td>0</td>\n      <td>0</td>\n      <td>1</td>\n      <td>0</td>\n      <td>0</td>\n    </tr>\n    <tr>\n      <th>2</th>\n      <td>122.0</td>\n      <td>124.8</td>\n      <td>0.000000</td>\n      <td>0.000000</td>\n      <td>10.8</td>\n      <td>1.4</td>\n      <td>1.74</td>\n      <td>19</td>\n      <td>0</td>\n      <td>6</td>\n      <td>...</td>\n      <td>37</td>\n      <td>9</td>\n      <td>9</td>\n      <td>1</td>\n      <td>0</td>\n      <td>0</td>\n      <td>0</td>\n      <td>1</td>\n      <td>0</td>\n      <td>0</td>\n    </tr>\n    <tr>\n      <th>3</th>\n      <td>122.0</td>\n      <td>119.6</td>\n      <td>13.428571</td>\n      <td>12.400000</td>\n      <td>9.4</td>\n      <td>-0.8</td>\n      <td>-3.12</td>\n      <td>20</td>\n      <td>0</td>\n      <td>6</td>\n      <td>...</td>\n      <td>37</td>\n      <td>5</td>\n      <td>3</td>\n      <td>1</td>\n      <td>0</td>\n      <td>0</td>\n      <td>1</td>\n      <td>0</td>\n      <td>0</td>\n      <td>0</td>\n    </tr>\n    <tr>\n      <th>4</th>\n      <td>100.0</td>\n      <td>141.5</td>\n      <td>12.333333</td>\n      <td>13.000000</td>\n      <td>13.9</td>\n      <td>-0.3</td>\n      <td>0.79</td>\n      <td>45</td>\n      <td>0</td>\n      <td>6</td>\n      <td>...</td>\n      <td>38</td>\n      <td>9</td>\n      <td>9</td>\n      <td>0</td>\n      <td>0</td>\n      <td>0</td>\n      <td>1</td>\n      <td>0</td>\n      <td>0</td>\n      <td>0</td>\n    </tr>\n  </tbody>\n</table>\n<p>5 rows × 37 columns</p>\n</div>"
     },
     "execution_count": 9,
     "metadata": {},
     "output_type": "execute_result"
    }
   ],
   "source": [
    "combined_dataset = pd.concat([dataset_numerical, dataset_target, dataset_categorical_onehot], axis=1)\n",
    "combined_dataset.head()"
   ],
   "metadata": {
    "collapsed": false,
    "ExecuteTime": {
     "end_time": "2024-11-20T11:12:05.790955Z",
     "start_time": "2024-11-20T11:12:05.632933100Z"
    }
   }
  },
  {
   "cell_type": "code",
   "execution_count": 9,
   "outputs": [],
   "source": [],
   "metadata": {
    "collapsed": false,
    "ExecuteTime": {
     "end_time": "2024-11-20T11:12:05.790955Z",
     "start_time": "2024-11-20T11:12:05.659705700Z"
    }
   }
  },
  {
   "cell_type": "markdown",
   "source": [
    "## Now lets combine them together again\n"
   ],
   "metadata": {
    "collapsed": false
   }
  },
  {
   "cell_type": "code",
   "execution_count": 10,
   "outputs": [],
   "source": [
    "combined_dataset = pd.concat([dataset_numerical, dataset_target, dataset_categorical_onehot], axis=1)\n",
    "#combined_dataset.info()"
   ],
   "metadata": {
    "collapsed": false,
    "ExecuteTime": {
     "end_time": "2024-11-20T11:12:05.790955Z",
     "start_time": "2024-11-20T11:12:05.665253800Z"
    }
   }
  },
  {
   "cell_type": "code",
   "execution_count": 11,
   "outputs": [],
   "source": [
    "#dataset_features = combined_dataset.drop([\"Target\"], axis=1)"
   ],
   "metadata": {
    "collapsed": false,
    "ExecuteTime": {
     "end_time": "2024-11-20T11:12:05.790955Z",
     "start_time": "2024-11-20T11:12:05.677014800Z"
    }
   }
  },
  {
   "cell_type": "markdown",
   "source": [
    "## Creating our split"
   ],
   "metadata": {
    "collapsed": false
   }
  },
  {
   "cell_type": "code",
   "execution_count": 12,
   "outputs": [],
   "source": [
    "train_val = combined_dataset.groupby('Target', group_keys=False)[combined_dataset.columns].apply(lambda x: x.sample(frac=0.8))\n",
    "test_set = combined_dataset.drop(train_val.index)"
   ],
   "metadata": {
    "collapsed": false,
    "ExecuteTime": {
     "end_time": "2024-11-20T11:12:05.790955Z",
     "start_time": "2024-11-20T11:12:05.681384100Z"
    }
   }
  },
  {
   "cell_type": "code",
   "execution_count": 13,
   "outputs": [],
   "source": [
    "#feature_train, feature_test, target_train, target_test = train_test_split(dataset_features,dataset_target, test_size=0.2, random_state=42)"
   ],
   "metadata": {
    "collapsed": false,
    "ExecuteTime": {
     "end_time": "2024-11-20T11:12:05.790955Z",
     "start_time": "2024-11-20T11:12:05.700736Z"
    }
   }
  },
  {
   "cell_type": "code",
   "execution_count": 14,
   "outputs": [],
   "source": [
    "features = combined_dataset.drop('Target', axis=1)\n",
    "targets = combined_dataset['Target']\n",
    "\n",
    "train_val_features = train_val.drop('Target', axis=1)\n",
    "train_val_targets = train_val['Target']\n",
    "\n",
    "test_features = test_set.drop('Target', axis=1)\n",
    "test_targets = test_set['Target']"
   ],
   "metadata": {
    "collapsed": false,
    "ExecuteTime": {
     "end_time": "2024-11-20T11:12:05.790955Z",
     "start_time": "2024-11-20T11:12:05.700736Z"
    }
   }
  },
  {
   "cell_type": "code",
   "execution_count": 14,
   "outputs": [],
   "source": [],
   "metadata": {
    "collapsed": false,
    "ExecuteTime": {
     "end_time": "2024-11-20T11:12:05.790955Z",
     "start_time": "2024-11-20T11:12:05.716267600Z"
    }
   }
  },
  {
   "cell_type": "markdown",
   "metadata": {},
   "source": [
    "## Pre-proccessing \n",
    "\n",
    "Lets proceed with the dataset now, and see what kind of results it produces. After that we can take pre processing steps to see how it changes the result.\n",
    "But here we can expand by trying out normalization, PCA, etc."
   ]
  },
  {
   "cell_type": "markdown",
   "metadata": {},
   "source": [
    "## Splitting\n",
    "\n",
    "### Why this split percentage\n",
    "### Why this sampling technique"
   ]
  },
  {
   "cell_type": "markdown",
   "source": [
    "## Creating the models\n"
   ],
   "metadata": {
    "collapsed": false
   }
  },
  {
   "cell_type": "markdown",
   "source": [
    "### Evaluation function\n"
   ],
   "metadata": {
    "collapsed": false
   }
  },
  {
   "cell_type": "code",
   "execution_count": 15,
   "outputs": [],
   "source": [
    "'''\n",
    "def evaluate(model):\n",
    "    train_probabilities = model.predict_proba(train_val_features)\n",
    "    train_predictions = model.classes_.take(np.argmax(train_probabilities, axis=1), axis=0)\n",
    "\n",
    "    print(f'Training Accuracy: {accuracy_score(train_val_targets, train_predictions)}')\n",
    "    print(f'Training Precision: {precision_score(train_val_targets, train_predictions, average=\"weighted\")}')\n",
    "    print(f'Training Recall: {recall_score(train_val_targets, train_predictions, average=\"weighted\")}')\n",
    "    print(f'Training F1: {f1_score(train_val_targets, train_predictions, average=\"weighted\")}')\n",
    "    print(f'Training ROC AUC: {roc_auc_score(train_val_targets, train_probabilities, average=\"macro\", multi_class=\"ovr\")}')\n",
    "\n",
    "    test_probabilities = model.predict_proba(test_features)\n",
    "    test_predictions = model.classes_.take(np.argmax(test_probabilities, axis=1), axis=0)\n",
    "\n",
    "    print(f'Test Accuracy: {accuracy_score(test_targets, test_predictions)}')\n",
    "    print(f'Test Precision: {precision_score(test_targets, test_predictions, average=\"weighted\")}')\n",
    "    print(f'Test Recall: {recall_score(test_targets, test_predictions, average=\"weighted\")}')\n",
    "    print(f'Test F1: {f1_score(test_targets, test_predictions, average=\"weighted\")}')\n",
    "    print(f'Test ROC AUC: {roc_auc_score(test_targets, test_probabilities, average=\"macro\", multi_class=\"ovr\")}')\n",
    "    print()\n",
    "'''\n",
    "#"
   ],
   "metadata": {
    "collapsed": false,
    "ExecuteTime": {
     "end_time": "2024-11-20T11:12:05.790955Z",
     "start_time": "2024-11-20T11:12:05.716776700Z"
    }
   }
  },
  {
   "cell_type": "code",
   "execution_count": 50,
   "outputs": [],
   "source": [
    "def evaluate(model):\n",
    "    train_probabilities = model.predict_proba(train_val_features)\n",
    "    train_predictions = model.classes_.take(np.argmax(train_probabilities, axis=1), axis=0)\n",
    "\n",
    "    print(f'Training Accuracy: {accuracy_score(train_val_targets, train_predictions)}')\n",
    "    print(f'Training Precision: {precision_score(train_val_targets, train_predictions, average=\"micro\")}')\n",
    "    print(f'Training Recall: {recall_score(train_val_targets, train_predictions, average=\"micro\")}')\n",
    "    print(f'Training F1: {f1_score(train_val_targets, train_predictions, average=\"micro\")}')\n",
    "    print(f'Training ROC AUC: {roc_auc_score(train_val_targets, train_probabilities, average=\"micro\", multi_class=\"ovr\")}')\n",
    "\n",
    "    test_probabilities = model.predict_proba(test_features)\n",
    "    test_predictions = model.classes_.take(np.argmax(test_probabilities, axis=1), axis=0)\n",
    "\n",
    "    print(f'Test Accuracy: {accuracy_score(test_targets, test_predictions)}')\n",
    "    print(f'Test Precision: {precision_score(test_targets, test_predictions, average=\"micro\")}')\n",
    "    print(f'Test Recall: {recall_score(test_targets, test_predictions, average=\"micro\")}')\n",
    "    print(f'Test F1: {f1_score(test_targets, test_predictions, average=\"micro\")}')\n",
    "    print(f'Test ROC AUC: {roc_auc_score(test_targets, test_probabilities, average=\"micro\", multi_class=\"ovr\")}')\n",
    "    print()\n"
   ],
   "metadata": {
    "collapsed": false,
    "ExecuteTime": {
     "end_time": "2024-11-20T16:10:52.063246100Z",
     "start_time": "2024-11-20T16:10:52.049905100Z"
    }
   }
  },
  {
   "cell_type": "markdown",
   "metadata": {},
   "source": [
    "## Tuning the hyperparameters\n",
    "\n",
    "### Grid search"
   ]
  },
  {
   "cell_type": "code",
   "execution_count": 57,
   "outputs": [],
   "source": [
    "metrics = ['accuracy', 'precision_micro', 'recall_micro', 'f1_micro', 'roc_auc_ovr']\n"
   ],
   "metadata": {
    "collapsed": false,
    "ExecuteTime": {
     "end_time": "2024-11-20T16:18:16.422057700Z",
     "start_time": "2024-11-20T16:18:16.418688600Z"
    }
   }
  },
  {
   "cell_type": "markdown",
   "source": [
    "## Creating a function for GridSearch\n",
    "\n",
    "### and creating param grid dictionaries"
   ],
   "metadata": {
    "collapsed": false
   }
  },
  {
   "cell_type": "code",
   "execution_count": 30,
   "outputs": [],
   "source": [
    "param_grid_RF = {\n",
    "        'max_depth': np.arange(1, 15, 5),\n",
    "        'n_estimators': np.arange(5, 100, 10),\n",
    "        'max_features': np.arange(0.1, 1.0, 0.05),\n",
    "        }\n",
    "\n",
    "\n",
    "param_grid_GB = {\n",
    "    'n_estimators': np.arange(50, 201, 50),\n",
    "    'learning_rate': np.arange(0.01, 0.25, 0.05),\n",
    "    'max_depth': np.arange(3, 11, 2)\n",
    "    }\n",
    "\n",
    "\n",
    "param_grid_ADA = {\n",
    "    'n_estimators': np.arange(50, 201, 50),\n",
    "    'learning_rate': np.arange(0.01, 1.1, 0.3),\n",
    "    'estimator__max_depth': np.arange(1, 6, 2)\n",
    "    }\n",
    "\n",
    "\n",
    "param_grid_NB = {\n",
    "    'var_smoothing': np.logspace(-9, -6, 4)  # 1e-9, 1e-8, 1e-7, 1e-6 ?\n",
    "    }\n"
   ],
   "metadata": {
    "collapsed": false,
    "ExecuteTime": {
     "end_time": "2024-11-20T15:16:29.751382800Z",
     "start_time": "2024-11-20T15:16:29.719610600Z"
    }
   }
  },
  {
   "cell_type": "code",
   "execution_count": 19,
   "outputs": [],
   "source": [
    "def train_grid_search(classifier, parameter_grid, scoring,refit, features, target, cv=5, verbose=1):\n",
    "    grid_search = GridSearchCV(\n",
    "        estimator=classifier,\n",
    "        param_grid=parameter_grid,\n",
    "        scoring=scoring,\n",
    "        refit=refit,\n",
    "        cv=cv,\n",
    "        verbose=verbose,\n",
    "        n_jobs=-1\n",
    "    )\n",
    "\n",
    "    grid_search.fit(features, target)\n",
    "    results = pd.DataFrame(grid_search.cv_results_)\n",
    "    best_model = grid_search.best_estimator_\n",
    "\n",
    "    print(f\"best parameters: {grid_search.best_params_}\")\n",
    "    print(f\"best score: {grid_search.best_score_:.4f}\")\n",
    "\n",
    "    return best_model, results"
   ],
   "metadata": {
    "collapsed": false,
    "ExecuteTime": {
     "end_time": "2024-11-20T11:12:13.092510800Z",
     "start_time": "2024-11-20T11:12:13.066409Z"
    }
   }
  },
  {
   "cell_type": "code",
   "execution_count": 20,
   "outputs": [
    {
     "name": "stdout",
     "output_type": "stream",
     "text": [
      "Fitting 5 folds for each of 540 candidates, totalling 2700 fits\n",
      "best parameters: {'max_depth': np.int64(11), 'max_features': np.float64(0.25000000000000006), 'n_estimators': np.int64(75)}\n",
      "best score: 0.7739\n"
     ]
    },
    {
     "data": {
      "text/plain": "(RandomForestClassifier(max_depth=np.int64(11),\n                        max_features=np.float64(0.25000000000000006),\n                        n_estimators=np.int64(75)),\n      mean_fit_time  std_fit_time  mean_score_time  std_score_time  \\\n 0         0.023757      0.008649         0.053117        0.023853   \n 1         0.052490      0.012260         0.058296        0.040145   \n 2         0.075559      0.025553         0.064853        0.004775   \n 3         0.116127      0.009251         0.055165        0.010883   \n 4         0.135256      0.030791         0.041226        0.008007   \n ..             ...           ...              ...             ...   \n 535       1.162441      0.008290         0.041869        0.002218   \n 536       1.376619      0.013587         0.044397        0.003355   \n 537       1.587335      0.036984         0.046718        0.003621   \n 538       1.755140      0.042573         0.038041        0.007205   \n 539       1.807845      0.035451         0.036308        0.007739   \n \n      param_max_depth  param_max_features  param_n_estimators  \\\n 0                  1                0.10                   5   \n 1                  1                0.10                  15   \n 2                  1                0.10                  25   \n 3                  1                0.10                  35   \n 4                  1                0.10                  45   \n ..               ...                 ...                 ...   \n 535               11                0.95                  55   \n 536               11                0.95                  65   \n 537               11                0.95                  75   \n 538               11                0.95                  85   \n 539               11                0.95                  95   \n \n                                                 params  split0_test_accuracy  \\\n 0    {'max_depth': 1, 'max_features': 0.1, 'n_estim...              0.686441   \n 1    {'max_depth': 1, 'max_features': 0.1, 'n_estim...              0.631356   \n 2    {'max_depth': 1, 'max_features': 0.1, 'n_estim...              0.620056   \n 3    {'max_depth': 1, 'max_features': 0.1, 'n_estim...              0.655367   \n 4    {'max_depth': 1, 'max_features': 0.1, 'n_estim...              0.676554   \n ..                                                 ...                   ...   \n 535  {'max_depth': 11, 'max_features': 0.9500000000...              0.765537   \n 536  {'max_depth': 11, 'max_features': 0.9500000000...              0.765537   \n 537  {'max_depth': 11, 'max_features': 0.9500000000...              0.766949   \n 538  {'max_depth': 11, 'max_features': 0.9500000000...              0.766949   \n 539  {'max_depth': 11, 'max_features': 0.9500000000...              0.769774   \n \n      split1_test_accuracy  ...  std_test_f1_micro  rank_test_f1_micro  \\\n 0                0.704802  ...           0.044265                 536   \n 1                0.631356  ...           0.044051                 540   \n 2                0.646893  ...           0.024482                 534   \n 3                0.661017  ...           0.017946                 537   \n 4                0.662429  ...           0.014423                 535   \n ..                    ...  ...                ...                 ...   \n 535              0.764124  ...           0.008507                  37   \n 536              0.761299  ...           0.006012                 114   \n 537              0.761299  ...           0.006573                  39   \n 538              0.764124  ...           0.003864                 120   \n 539              0.758475  ...           0.007698                  18   \n \n      split0_test_roc_auc_ovr  split1_test_roc_auc_ovr  \\\n 0                   0.770652                 0.780346   \n 1                   0.786777                 0.784643   \n 2                   0.795424                 0.780139   \n 3                   0.806952                 0.802747   \n 4                   0.825011                 0.806645   \n ..                       ...                      ...   \n 535                 0.877999                 0.867108   \n 536                 0.882453                 0.869687   \n 537                 0.880187                 0.873668   \n 538                 0.882833                 0.874278   \n 539                 0.881809                 0.868661   \n \n      split2_test_roc_auc_ovr  split3_test_roc_auc_ovr  \\\n 0                   0.717312                 0.702819   \n 1                   0.769456                 0.792031   \n 2                   0.799400                 0.806741   \n 3                   0.805447                 0.821280   \n 4                   0.810551                 0.820133   \n ..                       ...                      ...   \n 535                 0.889239                 0.869705   \n 536                 0.885764                 0.875090   \n 537                 0.885473                 0.879126   \n 538                 0.886904                 0.872363   \n 539                 0.884355                 0.877615   \n \n      split4_test_roc_auc_ovr  mean_test_roc_auc_ovr  std_test_roc_auc_ovr  \\\n 0                   0.743744               0.742975              0.029780   \n 1                   0.776308               0.781843              0.008000   \n 2                   0.790190               0.794379              0.008938   \n 3                   0.788003               0.804886              0.010611   \n 4                   0.785428               0.809554              0.013728   \n ..                       ...                    ...                   ...   \n 535                 0.859990               0.872808              0.010033   \n 536                 0.864236               0.875446              0.007931   \n 537                 0.863831               0.876457              0.007342   \n 538                 0.866790               0.876633              0.007275   \n 539                 0.869420               0.876372              0.006366   \n \n      rank_test_roc_auc_ovr  \n 0                      532  \n 1                      422  \n 2                      388  \n 3                      373  \n 4                      366  \n ..                     ...  \n 535                    232  \n 536                    109  \n 537                     81  \n 538                     75  \n 539                     85  \n \n [540 rows x 48 columns])"
     },
     "execution_count": 20,
     "metadata": {},
     "output_type": "execute_result"
    }
   ],
   "source": [
    "train_grid_search(RandomForestClassifier(),param_grid_RF,metrics,'f1_micro',train_val_features,train_val_targets)"
   ],
   "metadata": {
    "collapsed": false,
    "ExecuteTime": {
     "end_time": "2024-11-20T11:13:57.261390500Z",
     "start_time": "2024-11-20T11:12:13.072013500Z"
    }
   }
  },
  {
   "cell_type": "code",
   "execution_count": 31,
   "outputs": [
    {
     "name": "stdout",
     "output_type": "stream",
     "text": [
      "Fitting 5 folds for each of 80 candidates, totalling 400 fits\n",
      "best parameters: {'learning_rate': np.float64(0.21000000000000002), 'max_depth': np.int64(3), 'n_estimators': np.int64(150)}\n",
      "best score: 0.7776\n"
     ]
    },
    {
     "data": {
      "text/plain": "(GradientBoostingClassifier(learning_rate=np.float64(0.21000000000000002),\n                            max_depth=np.int64(3), n_estimators=np.int64(150)),\n     mean_fit_time  std_fit_time  mean_score_time  std_score_time  \\\n 0        1.820516      0.179810         0.044726        0.005740   \n 1        3.423764      0.080260         0.044250        0.002554   \n 2        4.749041      0.325989         0.035401        0.006087   \n 3        5.292759      0.240140         0.039511        0.002420   \n 4        2.264199      0.084417         0.033109        0.002412   \n ..            ...           ...              ...             ...   \n 75      15.203190      0.215978         0.073077        0.004254   \n 76       6.418657      0.071788         0.046887        0.001854   \n 77      12.641185      0.138508         0.062899        0.001313   \n 78      18.074521      0.244078         0.064541        0.006922   \n 79      20.141608      0.787738         0.070074        0.008488   \n \n     param_learning_rate  param_max_depth  param_n_estimators  \\\n 0                  0.01                3                  50   \n 1                  0.01                3                 100   \n 2                  0.01                3                 150   \n 3                  0.01                3                 200   \n 4                  0.01                5                  50   \n ..                  ...              ...                 ...   \n 75                 0.21                7                 200   \n 76                 0.21                9                  50   \n 77                 0.21                9                 100   \n 78                 0.21                9                 150   \n 79                 0.21                9                 200   \n \n                                                params  split0_test_accuracy  \\\n 0   {'learning_rate': 0.01, 'max_depth': 3, 'n_est...              0.713277   \n 1   {'learning_rate': 0.01, 'max_depth': 3, 'n_est...              0.733051   \n 2   {'learning_rate': 0.01, 'max_depth': 3, 'n_est...              0.751412   \n 3   {'learning_rate': 0.01, 'max_depth': 3, 'n_est...              0.757062   \n 4   {'learning_rate': 0.01, 'max_depth': 5, 'n_est...              0.731638   \n ..                                                ...                   ...   \n 75  {'learning_rate': 0.21000000000000002, 'max_de...              0.792373   \n 76  {'learning_rate': 0.21000000000000002, 'max_de...              0.768362   \n 77  {'learning_rate': 0.21000000000000002, 'max_de...              0.786723   \n 78  {'learning_rate': 0.21000000000000002, 'max_de...              0.774011   \n 79  {'learning_rate': 0.21000000000000002, 'max_de...              0.789548   \n \n     split1_test_accuracy  ...  std_test_f1_micro  rank_test_f1_micro  \\\n 0               0.730226  ...           0.007442                  80   \n 1               0.737288  ...           0.004954                  76   \n 2               0.740113  ...           0.004758                  75   \n 3               0.741525  ...           0.007133                  74   \n 4               0.727401  ...           0.005147                  79   \n ..                   ...  ...                ...                 ...   \n 75              0.765537  ...           0.012184                  17   \n 76              0.761299  ...           0.006376                  56   \n 77              0.765537  ...           0.011715                  43   \n 78              0.764124  ...           0.006472                  51   \n 79              0.761299  ...           0.012863                  47   \n \n     split0_test_roc_auc_ovr  split1_test_roc_auc_ovr  split2_test_roc_auc_ovr  \\\n 0                  0.865826                 0.843494                 0.859031   \n 1                  0.872816                 0.856647                 0.864735   \n 2                  0.877936                 0.863846                 0.871772   \n 3                  0.881727                 0.866945                 0.874711   \n 4                  0.875566                 0.847502                 0.865737   \n ..                      ...                      ...                      ...   \n 75                 0.890408                 0.873473                 0.890569   \n 76                 0.882698                 0.872783                 0.883943   \n 77                 0.894221                 0.877452                 0.889261   \n 78                 0.889556                 0.873054                 0.884305   \n 79                 0.893284                 0.875260                 0.889677   \n \n     split3_test_roc_auc_ovr  split4_test_roc_auc_ovr  mean_test_roc_auc_ovr  \\\n 0                  0.862298                 0.841444               0.854419   \n 1                  0.870171                 0.849662               0.862806   \n 2                  0.877538                 0.855139               0.869246   \n 3                  0.882183                 0.859845               0.873082   \n 4                  0.866049                 0.854402               0.861851   \n ..                      ...                      ...                    ...   \n 75                 0.873732                 0.868779               0.879392   \n 76                 0.877917                 0.860161               0.875500   \n 77                 0.873760                 0.868552               0.880649   \n 78                 0.879789                 0.864577               0.878256   \n 79                 0.871263                 0.866617               0.879220   \n \n     std_test_roc_auc_ovr  rank_test_roc_auc_ovr  \n 0               0.010012                     79  \n 1               0.008589                     75  \n 2               0.008704                     71  \n 3               0.008639                     67  \n 4               0.009821                     77  \n ..                   ...                    ...  \n 75              0.009230                     42  \n 76              0.008621                     64  \n 77              0.009617                     30  \n 78              0.008727                     53  \n 79              0.010440                     44  \n \n [80 rows x 48 columns])"
     },
     "execution_count": 31,
     "metadata": {},
     "output_type": "execute_result"
    }
   ],
   "source": [
    "train_grid_search(GradientBoostingClassifier(),param_grid_GB,metrics,'f1_micro',train_val_features,train_val_targets)"
   ],
   "metadata": {
    "collapsed": false,
    "ExecuteTime": {
     "end_time": "2024-11-20T15:21:49.573041300Z",
     "start_time": "2024-11-20T15:16:41.360070Z"
    }
   }
  },
  {
   "cell_type": "code",
   "execution_count": 33,
   "outputs": [
    {
     "name": "stdout",
     "output_type": "stream",
     "text": [
      "Fitting 5 folds for each of 48 candidates, totalling 240 fits\n"
     ]
    },
    {
     "name": "stderr",
     "output_type": "stream",
     "text": [
      "C:\\Users\\Stavros\\AppData\\Local\\Programs\\Python\\Python311\\Lib\\site-packages\\sklearn\\ensemble\\_weight_boosting.py:527: FutureWarning: The SAMME.R algorithm (the default) is deprecated and will be removed in 1.6. Use the SAMME algorithm to circumvent this warning.\n",
      "  warnings.warn(\n"
     ]
    },
    {
     "name": "stdout",
     "output_type": "stream",
     "text": [
      "best parameters: {'estimator__max_depth': np.int64(1), 'learning_rate': np.float64(0.61), 'n_estimators': np.int64(200)}\n",
      "best score: 0.7621\n"
     ]
    },
    {
     "data": {
      "text/plain": "(AdaBoostClassifier(estimator=DecisionTreeClassifier(max_depth=np.int64(1)),\n                    learning_rate=np.float64(0.61), n_estimators=np.int64(200)),\n     mean_fit_time  std_fit_time  mean_score_time  std_score_time  \\\n 0        0.563190      0.010446         0.072595        0.003727   \n 1        1.093738      0.012975         0.118550        0.008571   \n 2        1.645797      0.012444         0.153139        0.009632   \n 3        2.253247      0.025135         0.183804        0.007441   \n 4        0.564421      0.023281         0.081430        0.008136   \n 5        1.140563      0.029239         0.122287        0.011910   \n 6        1.640124      0.041392         0.129632        0.010630   \n 7        1.930340      0.027699         0.128662        0.004215   \n 8        0.539909      0.016245         0.060734        0.005892   \n 9        0.840429      0.038205         0.076787        0.004709   \n 10       1.211579      0.033726         0.101440        0.003670   \n 11       1.602939      0.016558         0.128179        0.005448   \n 12       0.400880      0.007646         0.047832        0.003104   \n 13       0.802865      0.012803         0.075737        0.006045   \n 14       1.189887      0.010024         0.103625        0.002257   \n 15       1.593763      0.022478         0.132471        0.003193   \n 16       0.649131      0.007827         0.053003        0.002232   \n 17       1.351000      0.008983         0.084680        0.002961   \n 18       2.116339      0.021930         0.118566        0.006293   \n 19       2.832478      0.030699         0.143116        0.008919   \n 20       0.711829      0.020564         0.056862        0.003435   \n 21       1.431819      0.027777         0.088243        0.004024   \n 22       2.102673      0.010295         0.114399        0.007405   \n 23       2.841652      0.021168         0.150781        0.004502   \n 24       0.702557      0.009206         0.055214        0.005609   \n 25       1.412480      0.019015         0.086216        0.003113   \n 26       2.112528      0.019604         0.112733        0.002445   \n 27       2.826606      0.018218         0.144609        0.004746   \n 28       0.701636      0.008787         0.058258        0.002943   \n 29       1.411440      0.011173         0.086111        0.004536   \n 30       2.118727      0.019035         0.114629        0.004204   \n 31       2.828758      0.023604         0.143711        0.002757   \n 32       0.996201      0.011207         0.054857        0.004358   \n 33       1.997571      0.013230         0.087401        0.003347   \n 34       2.995640      0.039952         0.114742        0.005805   \n 35       3.982740      0.022362         0.150504        0.004705   \n 36       0.994931      0.009615         0.058776        0.006135   \n 37       1.993383      0.023570         0.088686        0.005104   \n 38       2.987833      0.024937         0.116547        0.005968   \n 39       3.987319      0.041317         0.147246        0.004068   \n 40       0.990188      0.008845         0.056160        0.005254   \n 41       1.999804      0.015754         0.084795        0.002153   \n 42       3.046943      0.045444         0.120478        0.010084   \n 43       4.097986      0.072514         0.165072        0.008400   \n 44       1.003332      0.007055         0.074089        0.015136   \n 45       2.071935      0.023742         0.082233        0.007345   \n 46       2.805610      0.093732         0.095400        0.012719   \n 47       3.384450      0.092677         0.097086        0.008359   \n \n     param_estimator__max_depth  param_learning_rate  param_n_estimators  \\\n 0                            1                 0.01                  50   \n 1                            1                 0.01                 100   \n 2                            1                 0.01                 150   \n 3                            1                 0.01                 200   \n 4                            1                 0.31                  50   \n 5                            1                 0.31                 100   \n 6                            1                 0.31                 150   \n 7                            1                 0.31                 200   \n 8                            1                 0.61                  50   \n 9                            1                 0.61                 100   \n 10                           1                 0.61                 150   \n 11                           1                 0.61                 200   \n 12                           1                 0.91                  50   \n 13                           1                 0.91                 100   \n 14                           1                 0.91                 150   \n 15                           1                 0.91                 200   \n 16                           3                 0.01                  50   \n 17                           3                 0.01                 100   \n 18                           3                 0.01                 150   \n 19                           3                 0.01                 200   \n 20                           3                 0.31                  50   \n 21                           3                 0.31                 100   \n 22                           3                 0.31                 150   \n 23                           3                 0.31                 200   \n 24                           3                 0.61                  50   \n 25                           3                 0.61                 100   \n 26                           3                 0.61                 150   \n 27                           3                 0.61                 200   \n 28                           3                 0.91                  50   \n 29                           3                 0.91                 100   \n 30                           3                 0.91                 150   \n 31                           3                 0.91                 200   \n 32                           5                 0.01                  50   \n 33                           5                 0.01                 100   \n 34                           5                 0.01                 150   \n 35                           5                 0.01                 200   \n 36                           5                 0.31                  50   \n 37                           5                 0.31                 100   \n 38                           5                 0.31                 150   \n 39                           5                 0.31                 200   \n 40                           5                 0.61                  50   \n 41                           5                 0.61                 100   \n 42                           5                 0.61                 150   \n 43                           5                 0.61                 200   \n 44                           5                 0.91                  50   \n 45                           5                 0.91                 100   \n 46                           5                 0.91                 150   \n 47                           5                 0.91                 200   \n \n                                                params  split0_test_accuracy  \\\n 0   {'estimator__max_depth': 1, 'learning_rate': 0...              0.716102   \n 1   {'estimator__max_depth': 1, 'learning_rate': 0...              0.725989   \n 2   {'estimator__max_depth': 1, 'learning_rate': 0...              0.725989   \n 3   {'estimator__max_depth': 1, 'learning_rate': 0...              0.728814   \n 4   {'estimator__max_depth': 1, 'learning_rate': 0...              0.757062   \n 5   {'estimator__max_depth': 1, 'learning_rate': 0...              0.769774   \n 6   {'estimator__max_depth': 1, 'learning_rate': 0...              0.766949   \n 7   {'estimator__max_depth': 1, 'learning_rate': 0...              0.765537   \n 8   {'estimator__max_depth': 1, 'learning_rate': 0...              0.759887   \n 9   {'estimator__max_depth': 1, 'learning_rate': 0...              0.772599   \n 10  {'estimator__max_depth': 1, 'learning_rate': 0...              0.774011   \n 11  {'estimator__max_depth': 1, 'learning_rate': 0...              0.775424   \n 12  {'estimator__max_depth': 1, 'learning_rate': 0...              0.764124   \n 13  {'estimator__max_depth': 1, 'learning_rate': 0...              0.764124   \n 14  {'estimator__max_depth': 1, 'learning_rate': 0...              0.764124   \n 15  {'estimator__max_depth': 1, 'learning_rate': 0...              0.768362   \n 16  {'estimator__max_depth': 3, 'learning_rate': 0...              0.745763   \n 17  {'estimator__max_depth': 3, 'learning_rate': 0...              0.750000   \n 18  {'estimator__max_depth': 3, 'learning_rate': 0...              0.751412   \n 19  {'estimator__max_depth': 3, 'learning_rate': 0...              0.751412   \n 20  {'estimator__max_depth': 3, 'learning_rate': 0...              0.744350   \n 21  {'estimator__max_depth': 3, 'learning_rate': 0...              0.737288   \n 22  {'estimator__max_depth': 3, 'learning_rate': 0...              0.745763   \n 23  {'estimator__max_depth': 3, 'learning_rate': 0...              0.754237   \n 24  {'estimator__max_depth': 3, 'learning_rate': 0...              0.741525   \n 25  {'estimator__max_depth': 3, 'learning_rate': 0...              0.740113   \n 26  {'estimator__max_depth': 3, 'learning_rate': 0...              0.754237   \n 27  {'estimator__max_depth': 3, 'learning_rate': 0...              0.755650   \n 28  {'estimator__max_depth': 3, 'learning_rate': 0...              0.744350   \n 29  {'estimator__max_depth': 3, 'learning_rate': 0...              0.724576   \n 30  {'estimator__max_depth': 3, 'learning_rate': 0...              0.711864   \n 31  {'estimator__max_depth': 3, 'learning_rate': 0...              0.731638   \n 32  {'estimator__max_depth': 5, 'learning_rate': 0...              0.750000   \n 33  {'estimator__max_depth': 5, 'learning_rate': 0...              0.738701   \n 34  {'estimator__max_depth': 5, 'learning_rate': 0...              0.752825   \n 35  {'estimator__max_depth': 5, 'learning_rate': 0...              0.747175   \n 36  {'estimator__max_depth': 5, 'learning_rate': 0...              0.744350   \n 37  {'estimator__max_depth': 5, 'learning_rate': 0...              0.747175   \n 38  {'estimator__max_depth': 5, 'learning_rate': 0...              0.748588   \n 39  {'estimator__max_depth': 5, 'learning_rate': 0...              0.764124   \n 40  {'estimator__max_depth': 5, 'learning_rate': 0...              0.725989   \n 41  {'estimator__max_depth': 5, 'learning_rate': 0...              0.758475   \n 42  {'estimator__max_depth': 5, 'learning_rate': 0...              0.747175   \n 43  {'estimator__max_depth': 5, 'learning_rate': 0...              0.755650   \n 44  {'estimator__max_depth': 5, 'learning_rate': 0...              0.676554   \n 45  {'estimator__max_depth': 5, 'learning_rate': 0...              0.737288   \n 46  {'estimator__max_depth': 5, 'learning_rate': 0...              0.752825   \n 47  {'estimator__max_depth': 5, 'learning_rate': 0...              0.759887   \n \n     split1_test_accuracy  ...  std_test_f1_micro  rank_test_f1_micro  \\\n 0               0.703390  ...           0.004294                  47   \n 1               0.727401  ...           0.006375                  44   \n 2               0.727401  ...           0.005766                  43   \n 3               0.728814  ...           0.006782                  40   \n 4               0.757062  ...           0.004972                  17   \n 5               0.761299  ...           0.006203                   3   \n 6               0.765537  ...           0.007392                   7   \n 7               0.768362  ...           0.008309                   4   \n 8               0.759887  ...           0.004965                   8   \n 9               0.755650  ...           0.008355                   6   \n 10              0.754237  ...           0.009990                   2   \n 11              0.750000  ...           0.011313                   1   \n 12              0.754237  ...           0.006024                  13   \n 13              0.759887  ...           0.008958                  18   \n 14              0.748588  ...           0.008080                  15   \n 15              0.750000  ...           0.013769                  14   \n 16              0.742938  ...           0.011642                  30   \n 17              0.757062  ...           0.009836                  23   \n 18              0.751412  ...           0.005056                  20   \n 19              0.752825  ...           0.011308                   5   \n 20              0.731638  ...           0.009319                  26   \n 21              0.716102  ...           0.009239                  32   \n 22              0.720339  ...           0.013495                  34   \n 23              0.713277  ...           0.016292                  28   \n 24              0.710452  ...           0.012988                  38   \n 25              0.717514  ...           0.011078                  36   \n 26              0.707627  ...           0.017222                  35   \n 27              0.703390  ...           0.017763                  33   \n 28              0.700565  ...           0.019923                  45   \n 29              0.725989  ...           0.008844                  41   \n 30              0.711864  ...           0.002710                  46   \n 31              0.728814  ...           0.011111                  39   \n 32              0.747175  ...           0.005130                  12   \n 33              0.750000  ...           0.012223                  11   \n 34              0.750000  ...           0.005200                   8   \n 35              0.750000  ...           0.008008                  10   \n 36              0.737288  ...           0.011291                  37   \n 37              0.738701  ...           0.016586                  24   \n 38              0.735876  ...           0.008775                  21   \n 39              0.769774  ...           0.013519                  16   \n 40              0.728814  ...           0.009833                  42   \n 41              0.728814  ...           0.012759                  29   \n 42              0.723164  ...           0.011651                  25   \n 43              0.728814  ...           0.013075                  22   \n 44              0.668079  ...           0.014929                  48   \n 45              0.717514  ...           0.009998                  31   \n 46              0.735876  ...           0.012232                  27   \n 47              0.733051  ...           0.014349                  19   \n \n     split0_test_roc_auc_ovr  split1_test_roc_auc_ovr  split2_test_roc_auc_ovr  \\\n 0                  0.769815                 0.741123                 0.744049   \n 1                  0.813625                 0.803748                 0.802162   \n 2                  0.830946                 0.813076                 0.806375   \n 3                  0.840480                 0.828663                 0.833102   \n 4                  0.856865                 0.839121                 0.843359   \n 5                  0.852686                 0.829223                 0.834014   \n 6                  0.849354                 0.823134                 0.833927   \n 7                  0.847150                 0.819630                 0.836080   \n 8                  0.845741                 0.814259                 0.834194   \n 9                  0.841403                 0.805793                 0.835535   \n 10                 0.836960                 0.800566                 0.828767   \n 11                 0.837285                 0.803669                 0.826506   \n 12                 0.827542                 0.810206                 0.820964   \n 13                 0.826230                 0.802737                 0.826082   \n 14                 0.815261                 0.799450                 0.816424   \n 15                 0.813709                 0.800571                 0.811684   \n 16                 0.849293                 0.838868                 0.855526   \n 17                 0.861776                 0.848008                 0.857475   \n 18                 0.858423                 0.841971                 0.854826   \n 19                 0.854810                 0.836861                 0.855770   \n 20                 0.817114                 0.802460                 0.824435   \n 21                 0.814899                 0.805186                 0.820825   \n 22                 0.811769                 0.797035                 0.821692   \n 23                 0.821138                 0.797528                 0.824438   \n 24                 0.798270                 0.786721                 0.800072   \n 25                 0.811735                 0.786957                 0.795472   \n 26                 0.813715                 0.797633                 0.805690   \n 27                 0.828306                 0.797856                 0.821851   \n 28                 0.812515                 0.783934                 0.807377   \n 29                 0.794808                 0.796382                 0.798170   \n 30                 0.807258                 0.794648                 0.802861   \n 31                 0.811623                 0.808176                 0.802800   \n 32                 0.853926                 0.862862                 0.850950   \n 33                 0.851522                 0.855928                 0.854851   \n 34                 0.854899                 0.854103                 0.860287   \n 35                 0.856095                 0.852260                 0.856031   \n 36                 0.825472                 0.831933                 0.814236   \n 37                 0.840822                 0.835198                 0.840849   \n 38                 0.834659                 0.839085                 0.841570   \n 39                 0.857279                 0.844764                 0.856858   \n 40                 0.814170                 0.827653                 0.809073   \n 41                 0.844838                 0.825731                 0.823700   \n 42                 0.840161                 0.835424                 0.844964   \n 43                 0.867543                 0.837971                 0.843102   \n 44                 0.796959                 0.807557                 0.810987   \n 45                 0.833610                 0.841749                 0.842637   \n 46                 0.849760                 0.856991                 0.837272   \n 47                 0.856035                 0.847315                 0.857712   \n \n     split3_test_roc_auc_ovr  split4_test_roc_auc_ovr  mean_test_roc_auc_ovr  \\\n 0                  0.753071                 0.741860               0.749984   \n 1                  0.804431                 0.793288               0.803451   \n 2                  0.820266                 0.801349               0.814403   \n 3                  0.846020                 0.821431               0.833939   \n 4                  0.843215                 0.841887               0.844889   \n 5                  0.831471                 0.838893               0.837258   \n 6                  0.819985                 0.837361               0.832752   \n 7                  0.816086                 0.835123               0.830814   \n 8                  0.827602                 0.834468               0.831253   \n 9                  0.812588                 0.827260               0.824516   \n 10                 0.808984                 0.824807               0.820017   \n 11                 0.805575                 0.823316               0.819270   \n 12                 0.819965                 0.821908               0.820117   \n 13                 0.799431                 0.814812               0.813858   \n 14                 0.787504                 0.814067               0.806541   \n 15                 0.787318                 0.808049               0.804266   \n 16                 0.861830                 0.840334               0.849170   \n 17                 0.863780                 0.846426               0.855493   \n 18                 0.863523                 0.844829               0.852714   \n 19                 0.859601                 0.845480               0.850504   \n 20                 0.790781                 0.814894               0.809937   \n 21                 0.795176                 0.818918               0.811001   \n 22                 0.793173                 0.822197               0.809173   \n 23                 0.795512                 0.824886               0.812700   \n 24                 0.784548                 0.803096               0.794541   \n 25                 0.791485                 0.801432               0.797416   \n 26                 0.798352                 0.802870               0.803652   \n 27                 0.802916                 0.808017               0.811789   \n 28                 0.799696                 0.794131               0.799531   \n 29                 0.792329                 0.787464               0.793831   \n 30                 0.797400                 0.812315               0.802896   \n 31                 0.792897                 0.811182               0.805336   \n 32                 0.851591                 0.845387               0.852943   \n 33                 0.855705                 0.840611               0.851723   \n 34                 0.849703                 0.830038               0.849806   \n 35                 0.851396                 0.831240               0.849405   \n 36                 0.813842                 0.797693               0.816635   \n 37                 0.821217                 0.831100               0.833837   \n 38                 0.829701                 0.834119               0.835827   \n 39                 0.837031                 0.833262               0.845839   \n 40                 0.793739                 0.817134               0.812354   \n 41                 0.826822                 0.832804               0.830779   \n 42                 0.827690                 0.839910               0.837630   \n 43                 0.833106                 0.838976               0.844140   \n 44                 0.801727                 0.812320               0.805910   \n 45                 0.825827                 0.830177               0.834800   \n 46                 0.838277                 0.831325               0.842725   \n 47                 0.831866                 0.839928               0.846571   \n \n     std_test_roc_auc_ovr  rank_test_roc_auc_ovr  \n 0               0.010794                     48  \n 1               0.006473                     42  \n 2               0.010437                     29  \n 3               0.008646                     18  \n 4               0.006178                     11  \n 5               0.008358                     15  \n 6               0.010524                     20  \n 7               0.011447                     22  \n 8               0.010305                     21  \n 9               0.013468                     24  \n 10              0.013317                     26  \n 11              0.012839                     27  \n 12              0.005609                     25  \n 13              0.011271                     30  \n 14              0.011341                     37  \n 15              0.009585                     40  \n 16              0.008774                      8  \n 17              0.007075                      1  \n 18              0.008142                      3  \n 19              0.008251                      5  \n 20              0.011909                     35  \n 21              0.009577                     34  \n 22              0.012136                     36  \n 23              0.013290                     31  \n 24              0.007466                     46  \n 25              0.008597                     45  \n 26              0.005837                     41  \n 27              0.011499                     33  \n 28              0.010026                     44  \n 29              0.003717                     47  \n 30              0.006418                     43  \n 31              0.006971                     39  \n 32              0.005696                      2  \n 33              0.005777                      4  \n 34              0.010441                      6  \n 35              0.009281                      7  \n 36              0.011700                     28  \n 37              0.007302                     19  \n 38              0.004133                     16  \n 39              0.009892                     10  \n 40              0.011113                     32  \n 41              0.007655                     23  \n 42              0.005815                     14  \n 43              0.012127                     12  \n 44              0.005783                     38  \n 45              0.006527                     17  \n 46              0.009301                     13  \n 47              0.009743                      9  \n \n [48 rows x 48 columns])"
     },
     "execution_count": 33,
     "metadata": {},
     "output_type": "execute_result"
    }
   ],
   "source": [
    "train_grid_search(AdaBoostClassifier(estimator=DecisionTreeClassifier()),param_grid_ADA,metrics,'f1_micro',train_val_features,train_val_targets)"
   ],
   "metadata": {
    "collapsed": false,
    "ExecuteTime": {
     "end_time": "2024-11-20T15:41:33.071778800Z",
     "start_time": "2024-11-20T15:40:48.734217500Z"
    }
   }
  },
  {
   "cell_type": "code",
   "execution_count": 32,
   "outputs": [
    {
     "name": "stdout",
     "output_type": "stream",
     "text": [
      "Fitting 5 folds for each of 4 candidates, totalling 20 fits\n",
      "best parameters: {'var_smoothing': np.float64(1e-08)}\n",
      "best score: 0.6883\n"
     ]
    },
    {
     "data": {
      "text/plain": "(GaussianNB(var_smoothing=np.float64(1e-08)),\n    mean_fit_time  std_fit_time  mean_score_time  std_score_time  \\\n 0       0.037475      0.007630         0.060822        0.004291   \n 1       0.029609      0.002606         0.054171        0.019228   \n 2       0.038403      0.013511         0.044528        0.003968   \n 3       0.033672      0.006603         0.027560        0.005002   \n \n    param_var_smoothing                    params  split0_test_accuracy  \\\n 0         1.000000e-09  {'var_smoothing': 1e-09}              0.693503   \n 1         1.000000e-08  {'var_smoothing': 1e-08}              0.697740   \n 2         1.000000e-07  {'var_smoothing': 1e-07}              0.690678   \n 3         1.000000e-06  {'var_smoothing': 1e-06}              0.662429   \n \n    split1_test_accuracy  split2_test_accuracy  split3_test_accuracy  ...  \\\n 0              0.666667              0.655367              0.689266  ...   \n 1              0.675141              0.668079              0.687853  ...   \n 2              0.663842              0.659605              0.682203  ...   \n 3              0.645480              0.652542              0.662429  ...   \n \n    std_test_f1_micro  rank_test_f1_micro  split0_test_roc_auc_ovr  \\\n 0           0.016739                   2                 0.806373   \n 1           0.015969                   1                 0.808518   \n 2           0.012633                   3                 0.803137   \n 3           0.006871                   4                 0.798235   \n \n    split1_test_roc_auc_ovr  split2_test_roc_auc_ovr  split3_test_roc_auc_ovr  \\\n 0                 0.785305                 0.771134                 0.783321   \n 1                 0.785565                 0.773336                 0.776174   \n 2                 0.778483                 0.772072                 0.763973   \n 3                 0.773866                 0.767958                 0.758497   \n \n    split4_test_roc_auc_ovr  mean_test_roc_auc_ovr  std_test_roc_auc_ovr  \\\n 0                 0.805473               0.790321              0.013635   \n 1                 0.801291               0.788977              0.013811   \n 2                 0.785610               0.780655              0.013317   \n 3                 0.779051               0.775521              0.013252   \n \n    rank_test_roc_auc_ovr  \n 0                      1  \n 1                      2  \n 2                      3  \n 3                      4  \n \n [4 rows x 46 columns])"
     },
     "execution_count": 32,
     "metadata": {},
     "output_type": "execute_result"
    }
   ],
   "source": [
    "train_grid_search(GaussianNB(),param_grid_NB,metrics,'f1_micro',train_val_features,train_val_targets)"
   ],
   "metadata": {
    "collapsed": false,
    "ExecuteTime": {
     "end_time": "2024-11-20T15:22:07.152520200Z",
     "start_time": "2024-11-20T15:22:06.785684400Z"
    }
   }
  },
  {
   "cell_type": "markdown",
   "metadata": {},
   "source": [
    "## Creating the classifiers\n"
   ]
  },
  {
   "cell_type": "code",
   "execution_count": 38,
   "outputs": [
    {
     "data": {
      "text/plain": "RandomForestClassifier(max_depth=11, max_features=0.25, n_estimators=75)",
      "text/html": "<style>#sk-container-id-2 {\n  /* Definition of color scheme common for light and dark mode */\n  --sklearn-color-text: black;\n  --sklearn-color-line: gray;\n  /* Definition of color scheme for unfitted estimators */\n  --sklearn-color-unfitted-level-0: #fff5e6;\n  --sklearn-color-unfitted-level-1: #f6e4d2;\n  --sklearn-color-unfitted-level-2: #ffe0b3;\n  --sklearn-color-unfitted-level-3: chocolate;\n  /* Definition of color scheme for fitted estimators */\n  --sklearn-color-fitted-level-0: #f0f8ff;\n  --sklearn-color-fitted-level-1: #d4ebff;\n  --sklearn-color-fitted-level-2: #b3dbfd;\n  --sklearn-color-fitted-level-3: cornflowerblue;\n\n  /* Specific color for light theme */\n  --sklearn-color-text-on-default-background: var(--sg-text-color, var(--theme-code-foreground, var(--jp-content-font-color1, black)));\n  --sklearn-color-background: var(--sg-background-color, var(--theme-background, var(--jp-layout-color0, white)));\n  --sklearn-color-border-box: var(--sg-text-color, var(--theme-code-foreground, var(--jp-content-font-color1, black)));\n  --sklearn-color-icon: #696969;\n\n  @media (prefers-color-scheme: dark) {\n    /* Redefinition of color scheme for dark theme */\n    --sklearn-color-text-on-default-background: var(--sg-text-color, var(--theme-code-foreground, var(--jp-content-font-color1, white)));\n    --sklearn-color-background: var(--sg-background-color, var(--theme-background, var(--jp-layout-color0, #111)));\n    --sklearn-color-border-box: var(--sg-text-color, var(--theme-code-foreground, var(--jp-content-font-color1, white)));\n    --sklearn-color-icon: #878787;\n  }\n}\n\n#sk-container-id-2 {\n  color: var(--sklearn-color-text);\n}\n\n#sk-container-id-2 pre {\n  padding: 0;\n}\n\n#sk-container-id-2 input.sk-hidden--visually {\n  border: 0;\n  clip: rect(1px 1px 1px 1px);\n  clip: rect(1px, 1px, 1px, 1px);\n  height: 1px;\n  margin: -1px;\n  overflow: hidden;\n  padding: 0;\n  position: absolute;\n  width: 1px;\n}\n\n#sk-container-id-2 div.sk-dashed-wrapped {\n  border: 1px dashed var(--sklearn-color-line);\n  margin: 0 0.4em 0.5em 0.4em;\n  box-sizing: border-box;\n  padding-bottom: 0.4em;\n  background-color: var(--sklearn-color-background);\n}\n\n#sk-container-id-2 div.sk-container {\n  /* jupyter's `normalize.less` sets `[hidden] { display: none; }`\n     but bootstrap.min.css set `[hidden] { display: none !important; }`\n     so we also need the `!important` here to be able to override the\n     default hidden behavior on the sphinx rendered scikit-learn.org.\n     See: https://github.com/scikit-learn/scikit-learn/issues/21755 */\n  display: inline-block !important;\n  position: relative;\n}\n\n#sk-container-id-2 div.sk-text-repr-fallback {\n  display: none;\n}\n\ndiv.sk-parallel-item,\ndiv.sk-serial,\ndiv.sk-item {\n  /* draw centered vertical line to link estimators */\n  background-image: linear-gradient(var(--sklearn-color-text-on-default-background), var(--sklearn-color-text-on-default-background));\n  background-size: 2px 100%;\n  background-repeat: no-repeat;\n  background-position: center center;\n}\n\n/* Parallel-specific style estimator block */\n\n#sk-container-id-2 div.sk-parallel-item::after {\n  content: \"\";\n  width: 100%;\n  border-bottom: 2px solid var(--sklearn-color-text-on-default-background);\n  flex-grow: 1;\n}\n\n#sk-container-id-2 div.sk-parallel {\n  display: flex;\n  align-items: stretch;\n  justify-content: center;\n  background-color: var(--sklearn-color-background);\n  position: relative;\n}\n\n#sk-container-id-2 div.sk-parallel-item {\n  display: flex;\n  flex-direction: column;\n}\n\n#sk-container-id-2 div.sk-parallel-item:first-child::after {\n  align-self: flex-end;\n  width: 50%;\n}\n\n#sk-container-id-2 div.sk-parallel-item:last-child::after {\n  align-self: flex-start;\n  width: 50%;\n}\n\n#sk-container-id-2 div.sk-parallel-item:only-child::after {\n  width: 0;\n}\n\n/* Serial-specific style estimator block */\n\n#sk-container-id-2 div.sk-serial {\n  display: flex;\n  flex-direction: column;\n  align-items: center;\n  background-color: var(--sklearn-color-background);\n  padding-right: 1em;\n  padding-left: 1em;\n}\n\n\n/* Toggleable style: style used for estimator/Pipeline/ColumnTransformer box that is\nclickable and can be expanded/collapsed.\n- Pipeline and ColumnTransformer use this feature and define the default style\n- Estimators will overwrite some part of the style using the `sk-estimator` class\n*/\n\n/* Pipeline and ColumnTransformer style (default) */\n\n#sk-container-id-2 div.sk-toggleable {\n  /* Default theme specific background. It is overwritten whether we have a\n  specific estimator or a Pipeline/ColumnTransformer */\n  background-color: var(--sklearn-color-background);\n}\n\n/* Toggleable label */\n#sk-container-id-2 label.sk-toggleable__label {\n  cursor: pointer;\n  display: block;\n  width: 100%;\n  margin-bottom: 0;\n  padding: 0.5em;\n  box-sizing: border-box;\n  text-align: center;\n}\n\n#sk-container-id-2 label.sk-toggleable__label-arrow:before {\n  /* Arrow on the left of the label */\n  content: \"▸\";\n  float: left;\n  margin-right: 0.25em;\n  color: var(--sklearn-color-icon);\n}\n\n#sk-container-id-2 label.sk-toggleable__label-arrow:hover:before {\n  color: var(--sklearn-color-text);\n}\n\n/* Toggleable content - dropdown */\n\n#sk-container-id-2 div.sk-toggleable__content {\n  max-height: 0;\n  max-width: 0;\n  overflow: hidden;\n  text-align: left;\n  /* unfitted */\n  background-color: var(--sklearn-color-unfitted-level-0);\n}\n\n#sk-container-id-2 div.sk-toggleable__content.fitted {\n  /* fitted */\n  background-color: var(--sklearn-color-fitted-level-0);\n}\n\n#sk-container-id-2 div.sk-toggleable__content pre {\n  margin: 0.2em;\n  border-radius: 0.25em;\n  color: var(--sklearn-color-text);\n  /* unfitted */\n  background-color: var(--sklearn-color-unfitted-level-0);\n}\n\n#sk-container-id-2 div.sk-toggleable__content.fitted pre {\n  /* unfitted */\n  background-color: var(--sklearn-color-fitted-level-0);\n}\n\n#sk-container-id-2 input.sk-toggleable__control:checked~div.sk-toggleable__content {\n  /* Expand drop-down */\n  max-height: 200px;\n  max-width: 100%;\n  overflow: auto;\n}\n\n#sk-container-id-2 input.sk-toggleable__control:checked~label.sk-toggleable__label-arrow:before {\n  content: \"▾\";\n}\n\n/* Pipeline/ColumnTransformer-specific style */\n\n#sk-container-id-2 div.sk-label input.sk-toggleable__control:checked~label.sk-toggleable__label {\n  color: var(--sklearn-color-text);\n  background-color: var(--sklearn-color-unfitted-level-2);\n}\n\n#sk-container-id-2 div.sk-label.fitted input.sk-toggleable__control:checked~label.sk-toggleable__label {\n  background-color: var(--sklearn-color-fitted-level-2);\n}\n\n/* Estimator-specific style */\n\n/* Colorize estimator box */\n#sk-container-id-2 div.sk-estimator input.sk-toggleable__control:checked~label.sk-toggleable__label {\n  /* unfitted */\n  background-color: var(--sklearn-color-unfitted-level-2);\n}\n\n#sk-container-id-2 div.sk-estimator.fitted input.sk-toggleable__control:checked~label.sk-toggleable__label {\n  /* fitted */\n  background-color: var(--sklearn-color-fitted-level-2);\n}\n\n#sk-container-id-2 div.sk-label label.sk-toggleable__label,\n#sk-container-id-2 div.sk-label label {\n  /* The background is the default theme color */\n  color: var(--sklearn-color-text-on-default-background);\n}\n\n/* On hover, darken the color of the background */\n#sk-container-id-2 div.sk-label:hover label.sk-toggleable__label {\n  color: var(--sklearn-color-text);\n  background-color: var(--sklearn-color-unfitted-level-2);\n}\n\n/* Label box, darken color on hover, fitted */\n#sk-container-id-2 div.sk-label.fitted:hover label.sk-toggleable__label.fitted {\n  color: var(--sklearn-color-text);\n  background-color: var(--sklearn-color-fitted-level-2);\n}\n\n/* Estimator label */\n\n#sk-container-id-2 div.sk-label label {\n  font-family: monospace;\n  font-weight: bold;\n  display: inline-block;\n  line-height: 1.2em;\n}\n\n#sk-container-id-2 div.sk-label-container {\n  text-align: center;\n}\n\n/* Estimator-specific */\n#sk-container-id-2 div.sk-estimator {\n  font-family: monospace;\n  border: 1px dotted var(--sklearn-color-border-box);\n  border-radius: 0.25em;\n  box-sizing: border-box;\n  margin-bottom: 0.5em;\n  /* unfitted */\n  background-color: var(--sklearn-color-unfitted-level-0);\n}\n\n#sk-container-id-2 div.sk-estimator.fitted {\n  /* fitted */\n  background-color: var(--sklearn-color-fitted-level-0);\n}\n\n/* on hover */\n#sk-container-id-2 div.sk-estimator:hover {\n  /* unfitted */\n  background-color: var(--sklearn-color-unfitted-level-2);\n}\n\n#sk-container-id-2 div.sk-estimator.fitted:hover {\n  /* fitted */\n  background-color: var(--sklearn-color-fitted-level-2);\n}\n\n/* Specification for estimator info (e.g. \"i\" and \"?\") */\n\n/* Common style for \"i\" and \"?\" */\n\n.sk-estimator-doc-link,\na:link.sk-estimator-doc-link,\na:visited.sk-estimator-doc-link {\n  float: right;\n  font-size: smaller;\n  line-height: 1em;\n  font-family: monospace;\n  background-color: var(--sklearn-color-background);\n  border-radius: 1em;\n  height: 1em;\n  width: 1em;\n  text-decoration: none !important;\n  margin-left: 1ex;\n  /* unfitted */\n  border: var(--sklearn-color-unfitted-level-1) 1pt solid;\n  color: var(--sklearn-color-unfitted-level-1);\n}\n\n.sk-estimator-doc-link.fitted,\na:link.sk-estimator-doc-link.fitted,\na:visited.sk-estimator-doc-link.fitted {\n  /* fitted */\n  border: var(--sklearn-color-fitted-level-1) 1pt solid;\n  color: var(--sklearn-color-fitted-level-1);\n}\n\n/* On hover */\ndiv.sk-estimator:hover .sk-estimator-doc-link:hover,\n.sk-estimator-doc-link:hover,\ndiv.sk-label-container:hover .sk-estimator-doc-link:hover,\n.sk-estimator-doc-link:hover {\n  /* unfitted */\n  background-color: var(--sklearn-color-unfitted-level-3);\n  color: var(--sklearn-color-background);\n  text-decoration: none;\n}\n\ndiv.sk-estimator.fitted:hover .sk-estimator-doc-link.fitted:hover,\n.sk-estimator-doc-link.fitted:hover,\ndiv.sk-label-container:hover .sk-estimator-doc-link.fitted:hover,\n.sk-estimator-doc-link.fitted:hover {\n  /* fitted */\n  background-color: var(--sklearn-color-fitted-level-3);\n  color: var(--sklearn-color-background);\n  text-decoration: none;\n}\n\n/* Span, style for the box shown on hovering the info icon */\n.sk-estimator-doc-link span {\n  display: none;\n  z-index: 9999;\n  position: relative;\n  font-weight: normal;\n  right: .2ex;\n  padding: .5ex;\n  margin: .5ex;\n  width: min-content;\n  min-width: 20ex;\n  max-width: 50ex;\n  color: var(--sklearn-color-text);\n  box-shadow: 2pt 2pt 4pt #999;\n  /* unfitted */\n  background: var(--sklearn-color-unfitted-level-0);\n  border: .5pt solid var(--sklearn-color-unfitted-level-3);\n}\n\n.sk-estimator-doc-link.fitted span {\n  /* fitted */\n  background: var(--sklearn-color-fitted-level-0);\n  border: var(--sklearn-color-fitted-level-3);\n}\n\n.sk-estimator-doc-link:hover span {\n  display: block;\n}\n\n/* \"?\"-specific style due to the `<a>` HTML tag */\n\n#sk-container-id-2 a.estimator_doc_link {\n  float: right;\n  font-size: 1rem;\n  line-height: 1em;\n  font-family: monospace;\n  background-color: var(--sklearn-color-background);\n  border-radius: 1rem;\n  height: 1rem;\n  width: 1rem;\n  text-decoration: none;\n  /* unfitted */\n  color: var(--sklearn-color-unfitted-level-1);\n  border: var(--sklearn-color-unfitted-level-1) 1pt solid;\n}\n\n#sk-container-id-2 a.estimator_doc_link.fitted {\n  /* fitted */\n  border: var(--sklearn-color-fitted-level-1) 1pt solid;\n  color: var(--sklearn-color-fitted-level-1);\n}\n\n/* On hover */\n#sk-container-id-2 a.estimator_doc_link:hover {\n  /* unfitted */\n  background-color: var(--sklearn-color-unfitted-level-3);\n  color: var(--sklearn-color-background);\n  text-decoration: none;\n}\n\n#sk-container-id-2 a.estimator_doc_link.fitted:hover {\n  /* fitted */\n  background-color: var(--sklearn-color-fitted-level-3);\n}\n</style><div id=\"sk-container-id-2\" class=\"sk-top-container\"><div class=\"sk-text-repr-fallback\"><pre>RandomForestClassifier(max_depth=11, max_features=0.25, n_estimators=75)</pre><b>In a Jupyter environment, please rerun this cell to show the HTML representation or trust the notebook. <br />On GitHub, the HTML representation is unable to render, please try loading this page with nbviewer.org.</b></div><div class=\"sk-container\" hidden><div class=\"sk-item\"><div class=\"sk-estimator fitted sk-toggleable\"><input class=\"sk-toggleable__control sk-hidden--visually\" id=\"sk-estimator-id-4\" type=\"checkbox\" checked><label for=\"sk-estimator-id-4\" class=\"sk-toggleable__label fitted sk-toggleable__label-arrow fitted\">&nbsp;&nbsp;RandomForestClassifier<a class=\"sk-estimator-doc-link fitted\" rel=\"noreferrer\" target=\"_blank\" href=\"https://scikit-learn.org/1.5/modules/generated/sklearn.ensemble.RandomForestClassifier.html\">?<span>Documentation for RandomForestClassifier</span></a><span class=\"sk-estimator-doc-link fitted\">i<span>Fitted</span></span></label><div class=\"sk-toggleable__content fitted\"><pre>RandomForestClassifier(max_depth=11, max_features=0.25, n_estimators=75)</pre></div> </div></div></div></div>"
     },
     "execution_count": 38,
     "metadata": {},
     "output_type": "execute_result"
    }
   ],
   "source": [
    "random_forest_model = RandomForestClassifier(max_depth=11,max_features=0.25,n_estimators=75)\n",
    "random_forest_model.fit(train_val_features,train_val_targets)"
   ],
   "metadata": {
    "collapsed": false,
    "ExecuteTime": {
     "end_time": "2024-11-20T15:56:08.107035800Z",
     "start_time": "2024-11-20T15:56:07.769455700Z"
    }
   }
  },
  {
   "cell_type": "code",
   "execution_count": 51,
   "outputs": [
    {
     "name": "stdout",
     "output_type": "stream",
     "text": [
      "Training Accuracy: 0.9355750211924272\n",
      "Training Precision: 0.9355750211924272\n",
      "Training Recall: 0.9355750211924272\n",
      "Training F1: 0.9355750211924272\n",
      "Training ROC AUC: 0.986769673666562\n",
      "Test Accuracy: 0.7796610169491526\n",
      "Test Precision: 0.7796610169491526\n",
      "Test Recall: 0.7796610169491526\n",
      "Test F1: 0.7796610169491526\n",
      "Test ROC AUC: 0.9200555395959016\n",
      "\n"
     ]
    }
   ],
   "source": [
    "evaluate(random_forest_model)"
   ],
   "metadata": {
    "collapsed": false,
    "ExecuteTime": {
     "end_time": "2024-11-20T16:11:04.356437400Z",
     "start_time": "2024-11-20T16:11:04.272095100Z"
    }
   }
  },
  {
   "cell_type": "code",
   "execution_count": 52,
   "outputs": [
    {
     "data": {
      "text/plain": "GradientBoostingClassifier(learning_rate=0.21, n_estimators=150)",
      "text/html": "<style>#sk-container-id-6 {\n  /* Definition of color scheme common for light and dark mode */\n  --sklearn-color-text: black;\n  --sklearn-color-line: gray;\n  /* Definition of color scheme for unfitted estimators */\n  --sklearn-color-unfitted-level-0: #fff5e6;\n  --sklearn-color-unfitted-level-1: #f6e4d2;\n  --sklearn-color-unfitted-level-2: #ffe0b3;\n  --sklearn-color-unfitted-level-3: chocolate;\n  /* Definition of color scheme for fitted estimators */\n  --sklearn-color-fitted-level-0: #f0f8ff;\n  --sklearn-color-fitted-level-1: #d4ebff;\n  --sklearn-color-fitted-level-2: #b3dbfd;\n  --sklearn-color-fitted-level-3: cornflowerblue;\n\n  /* Specific color for light theme */\n  --sklearn-color-text-on-default-background: var(--sg-text-color, var(--theme-code-foreground, var(--jp-content-font-color1, black)));\n  --sklearn-color-background: var(--sg-background-color, var(--theme-background, var(--jp-layout-color0, white)));\n  --sklearn-color-border-box: var(--sg-text-color, var(--theme-code-foreground, var(--jp-content-font-color1, black)));\n  --sklearn-color-icon: #696969;\n\n  @media (prefers-color-scheme: dark) {\n    /* Redefinition of color scheme for dark theme */\n    --sklearn-color-text-on-default-background: var(--sg-text-color, var(--theme-code-foreground, var(--jp-content-font-color1, white)));\n    --sklearn-color-background: var(--sg-background-color, var(--theme-background, var(--jp-layout-color0, #111)));\n    --sklearn-color-border-box: var(--sg-text-color, var(--theme-code-foreground, var(--jp-content-font-color1, white)));\n    --sklearn-color-icon: #878787;\n  }\n}\n\n#sk-container-id-6 {\n  color: var(--sklearn-color-text);\n}\n\n#sk-container-id-6 pre {\n  padding: 0;\n}\n\n#sk-container-id-6 input.sk-hidden--visually {\n  border: 0;\n  clip: rect(1px 1px 1px 1px);\n  clip: rect(1px, 1px, 1px, 1px);\n  height: 1px;\n  margin: -1px;\n  overflow: hidden;\n  padding: 0;\n  position: absolute;\n  width: 1px;\n}\n\n#sk-container-id-6 div.sk-dashed-wrapped {\n  border: 1px dashed var(--sklearn-color-line);\n  margin: 0 0.4em 0.5em 0.4em;\n  box-sizing: border-box;\n  padding-bottom: 0.4em;\n  background-color: var(--sklearn-color-background);\n}\n\n#sk-container-id-6 div.sk-container {\n  /* jupyter's `normalize.less` sets `[hidden] { display: none; }`\n     but bootstrap.min.css set `[hidden] { display: none !important; }`\n     so we also need the `!important` here to be able to override the\n     default hidden behavior on the sphinx rendered scikit-learn.org.\n     See: https://github.com/scikit-learn/scikit-learn/issues/21755 */\n  display: inline-block !important;\n  position: relative;\n}\n\n#sk-container-id-6 div.sk-text-repr-fallback {\n  display: none;\n}\n\ndiv.sk-parallel-item,\ndiv.sk-serial,\ndiv.sk-item {\n  /* draw centered vertical line to link estimators */\n  background-image: linear-gradient(var(--sklearn-color-text-on-default-background), var(--sklearn-color-text-on-default-background));\n  background-size: 2px 100%;\n  background-repeat: no-repeat;\n  background-position: center center;\n}\n\n/* Parallel-specific style estimator block */\n\n#sk-container-id-6 div.sk-parallel-item::after {\n  content: \"\";\n  width: 100%;\n  border-bottom: 2px solid var(--sklearn-color-text-on-default-background);\n  flex-grow: 1;\n}\n\n#sk-container-id-6 div.sk-parallel {\n  display: flex;\n  align-items: stretch;\n  justify-content: center;\n  background-color: var(--sklearn-color-background);\n  position: relative;\n}\n\n#sk-container-id-6 div.sk-parallel-item {\n  display: flex;\n  flex-direction: column;\n}\n\n#sk-container-id-6 div.sk-parallel-item:first-child::after {\n  align-self: flex-end;\n  width: 50%;\n}\n\n#sk-container-id-6 div.sk-parallel-item:last-child::after {\n  align-self: flex-start;\n  width: 50%;\n}\n\n#sk-container-id-6 div.sk-parallel-item:only-child::after {\n  width: 0;\n}\n\n/* Serial-specific style estimator block */\n\n#sk-container-id-6 div.sk-serial {\n  display: flex;\n  flex-direction: column;\n  align-items: center;\n  background-color: var(--sklearn-color-background);\n  padding-right: 1em;\n  padding-left: 1em;\n}\n\n\n/* Toggleable style: style used for estimator/Pipeline/ColumnTransformer box that is\nclickable and can be expanded/collapsed.\n- Pipeline and ColumnTransformer use this feature and define the default style\n- Estimators will overwrite some part of the style using the `sk-estimator` class\n*/\n\n/* Pipeline and ColumnTransformer style (default) */\n\n#sk-container-id-6 div.sk-toggleable {\n  /* Default theme specific background. It is overwritten whether we have a\n  specific estimator or a Pipeline/ColumnTransformer */\n  background-color: var(--sklearn-color-background);\n}\n\n/* Toggleable label */\n#sk-container-id-6 label.sk-toggleable__label {\n  cursor: pointer;\n  display: block;\n  width: 100%;\n  margin-bottom: 0;\n  padding: 0.5em;\n  box-sizing: border-box;\n  text-align: center;\n}\n\n#sk-container-id-6 label.sk-toggleable__label-arrow:before {\n  /* Arrow on the left of the label */\n  content: \"▸\";\n  float: left;\n  margin-right: 0.25em;\n  color: var(--sklearn-color-icon);\n}\n\n#sk-container-id-6 label.sk-toggleable__label-arrow:hover:before {\n  color: var(--sklearn-color-text);\n}\n\n/* Toggleable content - dropdown */\n\n#sk-container-id-6 div.sk-toggleable__content {\n  max-height: 0;\n  max-width: 0;\n  overflow: hidden;\n  text-align: left;\n  /* unfitted */\n  background-color: var(--sklearn-color-unfitted-level-0);\n}\n\n#sk-container-id-6 div.sk-toggleable__content.fitted {\n  /* fitted */\n  background-color: var(--sklearn-color-fitted-level-0);\n}\n\n#sk-container-id-6 div.sk-toggleable__content pre {\n  margin: 0.2em;\n  border-radius: 0.25em;\n  color: var(--sklearn-color-text);\n  /* unfitted */\n  background-color: var(--sklearn-color-unfitted-level-0);\n}\n\n#sk-container-id-6 div.sk-toggleable__content.fitted pre {\n  /* unfitted */\n  background-color: var(--sklearn-color-fitted-level-0);\n}\n\n#sk-container-id-6 input.sk-toggleable__control:checked~div.sk-toggleable__content {\n  /* Expand drop-down */\n  max-height: 200px;\n  max-width: 100%;\n  overflow: auto;\n}\n\n#sk-container-id-6 input.sk-toggleable__control:checked~label.sk-toggleable__label-arrow:before {\n  content: \"▾\";\n}\n\n/* Pipeline/ColumnTransformer-specific style */\n\n#sk-container-id-6 div.sk-label input.sk-toggleable__control:checked~label.sk-toggleable__label {\n  color: var(--sklearn-color-text);\n  background-color: var(--sklearn-color-unfitted-level-2);\n}\n\n#sk-container-id-6 div.sk-label.fitted input.sk-toggleable__control:checked~label.sk-toggleable__label {\n  background-color: var(--sklearn-color-fitted-level-2);\n}\n\n/* Estimator-specific style */\n\n/* Colorize estimator box */\n#sk-container-id-6 div.sk-estimator input.sk-toggleable__control:checked~label.sk-toggleable__label {\n  /* unfitted */\n  background-color: var(--sklearn-color-unfitted-level-2);\n}\n\n#sk-container-id-6 div.sk-estimator.fitted input.sk-toggleable__control:checked~label.sk-toggleable__label {\n  /* fitted */\n  background-color: var(--sklearn-color-fitted-level-2);\n}\n\n#sk-container-id-6 div.sk-label label.sk-toggleable__label,\n#sk-container-id-6 div.sk-label label {\n  /* The background is the default theme color */\n  color: var(--sklearn-color-text-on-default-background);\n}\n\n/* On hover, darken the color of the background */\n#sk-container-id-6 div.sk-label:hover label.sk-toggleable__label {\n  color: var(--sklearn-color-text);\n  background-color: var(--sklearn-color-unfitted-level-2);\n}\n\n/* Label box, darken color on hover, fitted */\n#sk-container-id-6 div.sk-label.fitted:hover label.sk-toggleable__label.fitted {\n  color: var(--sklearn-color-text);\n  background-color: var(--sklearn-color-fitted-level-2);\n}\n\n/* Estimator label */\n\n#sk-container-id-6 div.sk-label label {\n  font-family: monospace;\n  font-weight: bold;\n  display: inline-block;\n  line-height: 1.2em;\n}\n\n#sk-container-id-6 div.sk-label-container {\n  text-align: center;\n}\n\n/* Estimator-specific */\n#sk-container-id-6 div.sk-estimator {\n  font-family: monospace;\n  border: 1px dotted var(--sklearn-color-border-box);\n  border-radius: 0.25em;\n  box-sizing: border-box;\n  margin-bottom: 0.5em;\n  /* unfitted */\n  background-color: var(--sklearn-color-unfitted-level-0);\n}\n\n#sk-container-id-6 div.sk-estimator.fitted {\n  /* fitted */\n  background-color: var(--sklearn-color-fitted-level-0);\n}\n\n/* on hover */\n#sk-container-id-6 div.sk-estimator:hover {\n  /* unfitted */\n  background-color: var(--sklearn-color-unfitted-level-2);\n}\n\n#sk-container-id-6 div.sk-estimator.fitted:hover {\n  /* fitted */\n  background-color: var(--sklearn-color-fitted-level-2);\n}\n\n/* Specification for estimator info (e.g. \"i\" and \"?\") */\n\n/* Common style for \"i\" and \"?\" */\n\n.sk-estimator-doc-link,\na:link.sk-estimator-doc-link,\na:visited.sk-estimator-doc-link {\n  float: right;\n  font-size: smaller;\n  line-height: 1em;\n  font-family: monospace;\n  background-color: var(--sklearn-color-background);\n  border-radius: 1em;\n  height: 1em;\n  width: 1em;\n  text-decoration: none !important;\n  margin-left: 1ex;\n  /* unfitted */\n  border: var(--sklearn-color-unfitted-level-1) 1pt solid;\n  color: var(--sklearn-color-unfitted-level-1);\n}\n\n.sk-estimator-doc-link.fitted,\na:link.sk-estimator-doc-link.fitted,\na:visited.sk-estimator-doc-link.fitted {\n  /* fitted */\n  border: var(--sklearn-color-fitted-level-1) 1pt solid;\n  color: var(--sklearn-color-fitted-level-1);\n}\n\n/* On hover */\ndiv.sk-estimator:hover .sk-estimator-doc-link:hover,\n.sk-estimator-doc-link:hover,\ndiv.sk-label-container:hover .sk-estimator-doc-link:hover,\n.sk-estimator-doc-link:hover {\n  /* unfitted */\n  background-color: var(--sklearn-color-unfitted-level-3);\n  color: var(--sklearn-color-background);\n  text-decoration: none;\n}\n\ndiv.sk-estimator.fitted:hover .sk-estimator-doc-link.fitted:hover,\n.sk-estimator-doc-link.fitted:hover,\ndiv.sk-label-container:hover .sk-estimator-doc-link.fitted:hover,\n.sk-estimator-doc-link.fitted:hover {\n  /* fitted */\n  background-color: var(--sklearn-color-fitted-level-3);\n  color: var(--sklearn-color-background);\n  text-decoration: none;\n}\n\n/* Span, style for the box shown on hovering the info icon */\n.sk-estimator-doc-link span {\n  display: none;\n  z-index: 9999;\n  position: relative;\n  font-weight: normal;\n  right: .2ex;\n  padding: .5ex;\n  margin: .5ex;\n  width: min-content;\n  min-width: 20ex;\n  max-width: 50ex;\n  color: var(--sklearn-color-text);\n  box-shadow: 2pt 2pt 4pt #999;\n  /* unfitted */\n  background: var(--sklearn-color-unfitted-level-0);\n  border: .5pt solid var(--sklearn-color-unfitted-level-3);\n}\n\n.sk-estimator-doc-link.fitted span {\n  /* fitted */\n  background: var(--sklearn-color-fitted-level-0);\n  border: var(--sklearn-color-fitted-level-3);\n}\n\n.sk-estimator-doc-link:hover span {\n  display: block;\n}\n\n/* \"?\"-specific style due to the `<a>` HTML tag */\n\n#sk-container-id-6 a.estimator_doc_link {\n  float: right;\n  font-size: 1rem;\n  line-height: 1em;\n  font-family: monospace;\n  background-color: var(--sklearn-color-background);\n  border-radius: 1rem;\n  height: 1rem;\n  width: 1rem;\n  text-decoration: none;\n  /* unfitted */\n  color: var(--sklearn-color-unfitted-level-1);\n  border: var(--sklearn-color-unfitted-level-1) 1pt solid;\n}\n\n#sk-container-id-6 a.estimator_doc_link.fitted {\n  /* fitted */\n  border: var(--sklearn-color-fitted-level-1) 1pt solid;\n  color: var(--sklearn-color-fitted-level-1);\n}\n\n/* On hover */\n#sk-container-id-6 a.estimator_doc_link:hover {\n  /* unfitted */\n  background-color: var(--sklearn-color-unfitted-level-3);\n  color: var(--sklearn-color-background);\n  text-decoration: none;\n}\n\n#sk-container-id-6 a.estimator_doc_link.fitted:hover {\n  /* fitted */\n  background-color: var(--sklearn-color-fitted-level-3);\n}\n</style><div id=\"sk-container-id-6\" class=\"sk-top-container\"><div class=\"sk-text-repr-fallback\"><pre>GradientBoostingClassifier(learning_rate=0.21, n_estimators=150)</pre><b>In a Jupyter environment, please rerun this cell to show the HTML representation or trust the notebook. <br />On GitHub, the HTML representation is unable to render, please try loading this page with nbviewer.org.</b></div><div class=\"sk-container\" hidden><div class=\"sk-item\"><div class=\"sk-estimator fitted sk-toggleable\"><input class=\"sk-toggleable__control sk-hidden--visually\" id=\"sk-estimator-id-8\" type=\"checkbox\" checked><label for=\"sk-estimator-id-8\" class=\"sk-toggleable__label fitted sk-toggleable__label-arrow fitted\">&nbsp;&nbsp;GradientBoostingClassifier<a class=\"sk-estimator-doc-link fitted\" rel=\"noreferrer\" target=\"_blank\" href=\"https://scikit-learn.org/1.5/modules/generated/sklearn.ensemble.GradientBoostingClassifier.html\">?<span>Documentation for GradientBoostingClassifier</span></a><span class=\"sk-estimator-doc-link fitted\">i<span>Fitted</span></span></label><div class=\"sk-toggleable__content fitted\"><pre>GradientBoostingClassifier(learning_rate=0.21, n_estimators=150)</pre></div> </div></div></div></div>"
     },
     "execution_count": 52,
     "metadata": {},
     "output_type": "execute_result"
    }
   ],
   "source": [
    "gradient_booster_model = GradientBoostingClassifier(learning_rate=0.21,max_depth=3,n_estimators=150)\n",
    "#best parameters: {'learning_rate': np.float64(0.21000000000000002), 'max_depth': np.int64(3), 'n_estimators': np.int64(150)}\n",
    "gradient_booster_model.fit(train_val_features,train_val_targets)"
   ],
   "metadata": {
    "collapsed": false,
    "ExecuteTime": {
     "end_time": "2024-11-20T16:11:09.096196Z",
     "start_time": "2024-11-20T16:11:06.134069100Z"
    }
   }
  },
  {
   "cell_type": "code",
   "execution_count": 54,
   "outputs": [
    {
     "name": "stdout",
     "output_type": "stream",
     "text": [
      "Training Accuracy: 0.919468776490534\n",
      "Training Precision: 0.919468776490534\n",
      "Training Recall: 0.919468776490534\n",
      "Training F1: 0.919468776490534\n",
      "Training ROC AUC: 0.9849100815911443\n",
      "Test Accuracy: 0.7706214689265537\n",
      "Test Precision: 0.7706214689265537\n",
      "Test Recall: 0.7706214689265537\n",
      "Test F1: 0.7706214689265537\n",
      "Test ROC AUC: 0.9246704331450094\n",
      "\n"
     ]
    }
   ],
   "source": [
    "evaluate(gradient_booster_model)"
   ],
   "metadata": {
    "collapsed": false,
    "ExecuteTime": {
     "end_time": "2024-11-20T16:11:13.055144400Z",
     "start_time": "2024-11-20T16:11:12.982210700Z"
    }
   }
  },
  {
   "cell_type": "code",
   "execution_count": 46,
   "outputs": [
    {
     "name": "stderr",
     "output_type": "stream",
     "text": [
      "C:\\Users\\Stavros\\AppData\\Local\\Programs\\Python\\Python311\\Lib\\site-packages\\sklearn\\ensemble\\_weight_boosting.py:527: FutureWarning: The SAMME.R algorithm (the default) is deprecated and will be removed in 1.6. Use the SAMME algorithm to circumvent this warning.\n",
      "  warnings.warn(\n"
     ]
    },
    {
     "data": {
      "text/plain": "AdaBoostClassifier(learning_rate=0.61, n_estimators=200)",
      "text/html": "<style>#sk-container-id-4 {\n  /* Definition of color scheme common for light and dark mode */\n  --sklearn-color-text: black;\n  --sklearn-color-line: gray;\n  /* Definition of color scheme for unfitted estimators */\n  --sklearn-color-unfitted-level-0: #fff5e6;\n  --sklearn-color-unfitted-level-1: #f6e4d2;\n  --sklearn-color-unfitted-level-2: #ffe0b3;\n  --sklearn-color-unfitted-level-3: chocolate;\n  /* Definition of color scheme for fitted estimators */\n  --sklearn-color-fitted-level-0: #f0f8ff;\n  --sklearn-color-fitted-level-1: #d4ebff;\n  --sklearn-color-fitted-level-2: #b3dbfd;\n  --sklearn-color-fitted-level-3: cornflowerblue;\n\n  /* Specific color for light theme */\n  --sklearn-color-text-on-default-background: var(--sg-text-color, var(--theme-code-foreground, var(--jp-content-font-color1, black)));\n  --sklearn-color-background: var(--sg-background-color, var(--theme-background, var(--jp-layout-color0, white)));\n  --sklearn-color-border-box: var(--sg-text-color, var(--theme-code-foreground, var(--jp-content-font-color1, black)));\n  --sklearn-color-icon: #696969;\n\n  @media (prefers-color-scheme: dark) {\n    /* Redefinition of color scheme for dark theme */\n    --sklearn-color-text-on-default-background: var(--sg-text-color, var(--theme-code-foreground, var(--jp-content-font-color1, white)));\n    --sklearn-color-background: var(--sg-background-color, var(--theme-background, var(--jp-layout-color0, #111)));\n    --sklearn-color-border-box: var(--sg-text-color, var(--theme-code-foreground, var(--jp-content-font-color1, white)));\n    --sklearn-color-icon: #878787;\n  }\n}\n\n#sk-container-id-4 {\n  color: var(--sklearn-color-text);\n}\n\n#sk-container-id-4 pre {\n  padding: 0;\n}\n\n#sk-container-id-4 input.sk-hidden--visually {\n  border: 0;\n  clip: rect(1px 1px 1px 1px);\n  clip: rect(1px, 1px, 1px, 1px);\n  height: 1px;\n  margin: -1px;\n  overflow: hidden;\n  padding: 0;\n  position: absolute;\n  width: 1px;\n}\n\n#sk-container-id-4 div.sk-dashed-wrapped {\n  border: 1px dashed var(--sklearn-color-line);\n  margin: 0 0.4em 0.5em 0.4em;\n  box-sizing: border-box;\n  padding-bottom: 0.4em;\n  background-color: var(--sklearn-color-background);\n}\n\n#sk-container-id-4 div.sk-container {\n  /* jupyter's `normalize.less` sets `[hidden] { display: none; }`\n     but bootstrap.min.css set `[hidden] { display: none !important; }`\n     so we also need the `!important` here to be able to override the\n     default hidden behavior on the sphinx rendered scikit-learn.org.\n     See: https://github.com/scikit-learn/scikit-learn/issues/21755 */\n  display: inline-block !important;\n  position: relative;\n}\n\n#sk-container-id-4 div.sk-text-repr-fallback {\n  display: none;\n}\n\ndiv.sk-parallel-item,\ndiv.sk-serial,\ndiv.sk-item {\n  /* draw centered vertical line to link estimators */\n  background-image: linear-gradient(var(--sklearn-color-text-on-default-background), var(--sklearn-color-text-on-default-background));\n  background-size: 2px 100%;\n  background-repeat: no-repeat;\n  background-position: center center;\n}\n\n/* Parallel-specific style estimator block */\n\n#sk-container-id-4 div.sk-parallel-item::after {\n  content: \"\";\n  width: 100%;\n  border-bottom: 2px solid var(--sklearn-color-text-on-default-background);\n  flex-grow: 1;\n}\n\n#sk-container-id-4 div.sk-parallel {\n  display: flex;\n  align-items: stretch;\n  justify-content: center;\n  background-color: var(--sklearn-color-background);\n  position: relative;\n}\n\n#sk-container-id-4 div.sk-parallel-item {\n  display: flex;\n  flex-direction: column;\n}\n\n#sk-container-id-4 div.sk-parallel-item:first-child::after {\n  align-self: flex-end;\n  width: 50%;\n}\n\n#sk-container-id-4 div.sk-parallel-item:last-child::after {\n  align-self: flex-start;\n  width: 50%;\n}\n\n#sk-container-id-4 div.sk-parallel-item:only-child::after {\n  width: 0;\n}\n\n/* Serial-specific style estimator block */\n\n#sk-container-id-4 div.sk-serial {\n  display: flex;\n  flex-direction: column;\n  align-items: center;\n  background-color: var(--sklearn-color-background);\n  padding-right: 1em;\n  padding-left: 1em;\n}\n\n\n/* Toggleable style: style used for estimator/Pipeline/ColumnTransformer box that is\nclickable and can be expanded/collapsed.\n- Pipeline and ColumnTransformer use this feature and define the default style\n- Estimators will overwrite some part of the style using the `sk-estimator` class\n*/\n\n/* Pipeline and ColumnTransformer style (default) */\n\n#sk-container-id-4 div.sk-toggleable {\n  /* Default theme specific background. It is overwritten whether we have a\n  specific estimator or a Pipeline/ColumnTransformer */\n  background-color: var(--sklearn-color-background);\n}\n\n/* Toggleable label */\n#sk-container-id-4 label.sk-toggleable__label {\n  cursor: pointer;\n  display: block;\n  width: 100%;\n  margin-bottom: 0;\n  padding: 0.5em;\n  box-sizing: border-box;\n  text-align: center;\n}\n\n#sk-container-id-4 label.sk-toggleable__label-arrow:before {\n  /* Arrow on the left of the label */\n  content: \"▸\";\n  float: left;\n  margin-right: 0.25em;\n  color: var(--sklearn-color-icon);\n}\n\n#sk-container-id-4 label.sk-toggleable__label-arrow:hover:before {\n  color: var(--sklearn-color-text);\n}\n\n/* Toggleable content - dropdown */\n\n#sk-container-id-4 div.sk-toggleable__content {\n  max-height: 0;\n  max-width: 0;\n  overflow: hidden;\n  text-align: left;\n  /* unfitted */\n  background-color: var(--sklearn-color-unfitted-level-0);\n}\n\n#sk-container-id-4 div.sk-toggleable__content.fitted {\n  /* fitted */\n  background-color: var(--sklearn-color-fitted-level-0);\n}\n\n#sk-container-id-4 div.sk-toggleable__content pre {\n  margin: 0.2em;\n  border-radius: 0.25em;\n  color: var(--sklearn-color-text);\n  /* unfitted */\n  background-color: var(--sklearn-color-unfitted-level-0);\n}\n\n#sk-container-id-4 div.sk-toggleable__content.fitted pre {\n  /* unfitted */\n  background-color: var(--sklearn-color-fitted-level-0);\n}\n\n#sk-container-id-4 input.sk-toggleable__control:checked~div.sk-toggleable__content {\n  /* Expand drop-down */\n  max-height: 200px;\n  max-width: 100%;\n  overflow: auto;\n}\n\n#sk-container-id-4 input.sk-toggleable__control:checked~label.sk-toggleable__label-arrow:before {\n  content: \"▾\";\n}\n\n/* Pipeline/ColumnTransformer-specific style */\n\n#sk-container-id-4 div.sk-label input.sk-toggleable__control:checked~label.sk-toggleable__label {\n  color: var(--sklearn-color-text);\n  background-color: var(--sklearn-color-unfitted-level-2);\n}\n\n#sk-container-id-4 div.sk-label.fitted input.sk-toggleable__control:checked~label.sk-toggleable__label {\n  background-color: var(--sklearn-color-fitted-level-2);\n}\n\n/* Estimator-specific style */\n\n/* Colorize estimator box */\n#sk-container-id-4 div.sk-estimator input.sk-toggleable__control:checked~label.sk-toggleable__label {\n  /* unfitted */\n  background-color: var(--sklearn-color-unfitted-level-2);\n}\n\n#sk-container-id-4 div.sk-estimator.fitted input.sk-toggleable__control:checked~label.sk-toggleable__label {\n  /* fitted */\n  background-color: var(--sklearn-color-fitted-level-2);\n}\n\n#sk-container-id-4 div.sk-label label.sk-toggleable__label,\n#sk-container-id-4 div.sk-label label {\n  /* The background is the default theme color */\n  color: var(--sklearn-color-text-on-default-background);\n}\n\n/* On hover, darken the color of the background */\n#sk-container-id-4 div.sk-label:hover label.sk-toggleable__label {\n  color: var(--sklearn-color-text);\n  background-color: var(--sklearn-color-unfitted-level-2);\n}\n\n/* Label box, darken color on hover, fitted */\n#sk-container-id-4 div.sk-label.fitted:hover label.sk-toggleable__label.fitted {\n  color: var(--sklearn-color-text);\n  background-color: var(--sklearn-color-fitted-level-2);\n}\n\n/* Estimator label */\n\n#sk-container-id-4 div.sk-label label {\n  font-family: monospace;\n  font-weight: bold;\n  display: inline-block;\n  line-height: 1.2em;\n}\n\n#sk-container-id-4 div.sk-label-container {\n  text-align: center;\n}\n\n/* Estimator-specific */\n#sk-container-id-4 div.sk-estimator {\n  font-family: monospace;\n  border: 1px dotted var(--sklearn-color-border-box);\n  border-radius: 0.25em;\n  box-sizing: border-box;\n  margin-bottom: 0.5em;\n  /* unfitted */\n  background-color: var(--sklearn-color-unfitted-level-0);\n}\n\n#sk-container-id-4 div.sk-estimator.fitted {\n  /* fitted */\n  background-color: var(--sklearn-color-fitted-level-0);\n}\n\n/* on hover */\n#sk-container-id-4 div.sk-estimator:hover {\n  /* unfitted */\n  background-color: var(--sklearn-color-unfitted-level-2);\n}\n\n#sk-container-id-4 div.sk-estimator.fitted:hover {\n  /* fitted */\n  background-color: var(--sklearn-color-fitted-level-2);\n}\n\n/* Specification for estimator info (e.g. \"i\" and \"?\") */\n\n/* Common style for \"i\" and \"?\" */\n\n.sk-estimator-doc-link,\na:link.sk-estimator-doc-link,\na:visited.sk-estimator-doc-link {\n  float: right;\n  font-size: smaller;\n  line-height: 1em;\n  font-family: monospace;\n  background-color: var(--sklearn-color-background);\n  border-radius: 1em;\n  height: 1em;\n  width: 1em;\n  text-decoration: none !important;\n  margin-left: 1ex;\n  /* unfitted */\n  border: var(--sklearn-color-unfitted-level-1) 1pt solid;\n  color: var(--sklearn-color-unfitted-level-1);\n}\n\n.sk-estimator-doc-link.fitted,\na:link.sk-estimator-doc-link.fitted,\na:visited.sk-estimator-doc-link.fitted {\n  /* fitted */\n  border: var(--sklearn-color-fitted-level-1) 1pt solid;\n  color: var(--sklearn-color-fitted-level-1);\n}\n\n/* On hover */\ndiv.sk-estimator:hover .sk-estimator-doc-link:hover,\n.sk-estimator-doc-link:hover,\ndiv.sk-label-container:hover .sk-estimator-doc-link:hover,\n.sk-estimator-doc-link:hover {\n  /* unfitted */\n  background-color: var(--sklearn-color-unfitted-level-3);\n  color: var(--sklearn-color-background);\n  text-decoration: none;\n}\n\ndiv.sk-estimator.fitted:hover .sk-estimator-doc-link.fitted:hover,\n.sk-estimator-doc-link.fitted:hover,\ndiv.sk-label-container:hover .sk-estimator-doc-link.fitted:hover,\n.sk-estimator-doc-link.fitted:hover {\n  /* fitted */\n  background-color: var(--sklearn-color-fitted-level-3);\n  color: var(--sklearn-color-background);\n  text-decoration: none;\n}\n\n/* Span, style for the box shown on hovering the info icon */\n.sk-estimator-doc-link span {\n  display: none;\n  z-index: 9999;\n  position: relative;\n  font-weight: normal;\n  right: .2ex;\n  padding: .5ex;\n  margin: .5ex;\n  width: min-content;\n  min-width: 20ex;\n  max-width: 50ex;\n  color: var(--sklearn-color-text);\n  box-shadow: 2pt 2pt 4pt #999;\n  /* unfitted */\n  background: var(--sklearn-color-unfitted-level-0);\n  border: .5pt solid var(--sklearn-color-unfitted-level-3);\n}\n\n.sk-estimator-doc-link.fitted span {\n  /* fitted */\n  background: var(--sklearn-color-fitted-level-0);\n  border: var(--sklearn-color-fitted-level-3);\n}\n\n.sk-estimator-doc-link:hover span {\n  display: block;\n}\n\n/* \"?\"-specific style due to the `<a>` HTML tag */\n\n#sk-container-id-4 a.estimator_doc_link {\n  float: right;\n  font-size: 1rem;\n  line-height: 1em;\n  font-family: monospace;\n  background-color: var(--sklearn-color-background);\n  border-radius: 1rem;\n  height: 1rem;\n  width: 1rem;\n  text-decoration: none;\n  /* unfitted */\n  color: var(--sklearn-color-unfitted-level-1);\n  border: var(--sklearn-color-unfitted-level-1) 1pt solid;\n}\n\n#sk-container-id-4 a.estimator_doc_link.fitted {\n  /* fitted */\n  border: var(--sklearn-color-fitted-level-1) 1pt solid;\n  color: var(--sklearn-color-fitted-level-1);\n}\n\n/* On hover */\n#sk-container-id-4 a.estimator_doc_link:hover {\n  /* unfitted */\n  background-color: var(--sklearn-color-unfitted-level-3);\n  color: var(--sklearn-color-background);\n  text-decoration: none;\n}\n\n#sk-container-id-4 a.estimator_doc_link.fitted:hover {\n  /* fitted */\n  background-color: var(--sklearn-color-fitted-level-3);\n}\n</style><div id=\"sk-container-id-4\" class=\"sk-top-container\"><div class=\"sk-text-repr-fallback\"><pre>AdaBoostClassifier(learning_rate=0.61, n_estimators=200)</pre><b>In a Jupyter environment, please rerun this cell to show the HTML representation or trust the notebook. <br />On GitHub, the HTML representation is unable to render, please try loading this page with nbviewer.org.</b></div><div class=\"sk-container\" hidden><div class=\"sk-item\"><div class=\"sk-estimator fitted sk-toggleable\"><input class=\"sk-toggleable__control sk-hidden--visually\" id=\"sk-estimator-id-6\" type=\"checkbox\" checked><label for=\"sk-estimator-id-6\" class=\"sk-toggleable__label fitted sk-toggleable__label-arrow fitted\">&nbsp;&nbsp;AdaBoostClassifier<a class=\"sk-estimator-doc-link fitted\" rel=\"noreferrer\" target=\"_blank\" href=\"https://scikit-learn.org/1.5/modules/generated/sklearn.ensemble.AdaBoostClassifier.html\">?<span>Documentation for AdaBoostClassifier</span></a><span class=\"sk-estimator-doc-link fitted\">i<span>Fitted</span></span></label><div class=\"sk-toggleable__content fitted\"><pre>AdaBoostClassifier(learning_rate=0.61, n_estimators=200)</pre></div> </div></div></div></div>"
     },
     "execution_count": 46,
     "metadata": {},
     "output_type": "execute_result"
    }
   ],
   "source": [
    "ada_booster_model = AdaBoostClassifier(learning_rate=0.61,n_estimators=200) # adding estimator__depth=1 makes things too difficult\n",
    "#best parameters: {'estimator__max_depth': np.int64(1), 'learning_rate': np.float64(0.61), 'n_estimators': np.int64(200)}\n",
    "\n",
    "ada_booster_model.fit(train_val_features,train_val_targets)"
   ],
   "metadata": {
    "collapsed": false,
    "ExecuteTime": {
     "end_time": "2024-11-20T16:07:08.577388500Z",
     "start_time": "2024-11-20T16:07:07.301762400Z"
    }
   }
  },
  {
   "cell_type": "code",
   "execution_count": 55,
   "outputs": [
    {
     "name": "stdout",
     "output_type": "stream",
     "text": [
      "Training Accuracy: 0.7855326363379486\n",
      "Training Precision: 0.7855326363379486\n",
      "Training Recall: 0.7855326363379486\n",
      "Training F1: 0.7855326363379486\n",
      "Training ROC AUC: 0.8923516516120655\n",
      "Test Accuracy: 0.7728813559322034\n",
      "Test Precision: 0.7728813559322034\n",
      "Test Recall: 0.7728813559322034\n",
      "Test F1: 0.7728813559322034\n",
      "Test ROC AUC: 0.8779495036547609\n",
      "\n"
     ]
    }
   ],
   "source": [
    "evaluate(ada_booster_model)"
   ],
   "metadata": {
    "collapsed": false,
    "ExecuteTime": {
     "end_time": "2024-11-20T16:11:23.131945100Z",
     "start_time": "2024-11-20T16:11:22.972593400Z"
    }
   }
  },
  {
   "cell_type": "code",
   "execution_count": 48,
   "outputs": [
    {
     "data": {
      "text/plain": "GaussianNB(var_smoothing=1e-08)",
      "text/html": "<style>#sk-container-id-5 {\n  /* Definition of color scheme common for light and dark mode */\n  --sklearn-color-text: black;\n  --sklearn-color-line: gray;\n  /* Definition of color scheme for unfitted estimators */\n  --sklearn-color-unfitted-level-0: #fff5e6;\n  --sklearn-color-unfitted-level-1: #f6e4d2;\n  --sklearn-color-unfitted-level-2: #ffe0b3;\n  --sklearn-color-unfitted-level-3: chocolate;\n  /* Definition of color scheme for fitted estimators */\n  --sklearn-color-fitted-level-0: #f0f8ff;\n  --sklearn-color-fitted-level-1: #d4ebff;\n  --sklearn-color-fitted-level-2: #b3dbfd;\n  --sklearn-color-fitted-level-3: cornflowerblue;\n\n  /* Specific color for light theme */\n  --sklearn-color-text-on-default-background: var(--sg-text-color, var(--theme-code-foreground, var(--jp-content-font-color1, black)));\n  --sklearn-color-background: var(--sg-background-color, var(--theme-background, var(--jp-layout-color0, white)));\n  --sklearn-color-border-box: var(--sg-text-color, var(--theme-code-foreground, var(--jp-content-font-color1, black)));\n  --sklearn-color-icon: #696969;\n\n  @media (prefers-color-scheme: dark) {\n    /* Redefinition of color scheme for dark theme */\n    --sklearn-color-text-on-default-background: var(--sg-text-color, var(--theme-code-foreground, var(--jp-content-font-color1, white)));\n    --sklearn-color-background: var(--sg-background-color, var(--theme-background, var(--jp-layout-color0, #111)));\n    --sklearn-color-border-box: var(--sg-text-color, var(--theme-code-foreground, var(--jp-content-font-color1, white)));\n    --sklearn-color-icon: #878787;\n  }\n}\n\n#sk-container-id-5 {\n  color: var(--sklearn-color-text);\n}\n\n#sk-container-id-5 pre {\n  padding: 0;\n}\n\n#sk-container-id-5 input.sk-hidden--visually {\n  border: 0;\n  clip: rect(1px 1px 1px 1px);\n  clip: rect(1px, 1px, 1px, 1px);\n  height: 1px;\n  margin: -1px;\n  overflow: hidden;\n  padding: 0;\n  position: absolute;\n  width: 1px;\n}\n\n#sk-container-id-5 div.sk-dashed-wrapped {\n  border: 1px dashed var(--sklearn-color-line);\n  margin: 0 0.4em 0.5em 0.4em;\n  box-sizing: border-box;\n  padding-bottom: 0.4em;\n  background-color: var(--sklearn-color-background);\n}\n\n#sk-container-id-5 div.sk-container {\n  /* jupyter's `normalize.less` sets `[hidden] { display: none; }`\n     but bootstrap.min.css set `[hidden] { display: none !important; }`\n     so we also need the `!important` here to be able to override the\n     default hidden behavior on the sphinx rendered scikit-learn.org.\n     See: https://github.com/scikit-learn/scikit-learn/issues/21755 */\n  display: inline-block !important;\n  position: relative;\n}\n\n#sk-container-id-5 div.sk-text-repr-fallback {\n  display: none;\n}\n\ndiv.sk-parallel-item,\ndiv.sk-serial,\ndiv.sk-item {\n  /* draw centered vertical line to link estimators */\n  background-image: linear-gradient(var(--sklearn-color-text-on-default-background), var(--sklearn-color-text-on-default-background));\n  background-size: 2px 100%;\n  background-repeat: no-repeat;\n  background-position: center center;\n}\n\n/* Parallel-specific style estimator block */\n\n#sk-container-id-5 div.sk-parallel-item::after {\n  content: \"\";\n  width: 100%;\n  border-bottom: 2px solid var(--sklearn-color-text-on-default-background);\n  flex-grow: 1;\n}\n\n#sk-container-id-5 div.sk-parallel {\n  display: flex;\n  align-items: stretch;\n  justify-content: center;\n  background-color: var(--sklearn-color-background);\n  position: relative;\n}\n\n#sk-container-id-5 div.sk-parallel-item {\n  display: flex;\n  flex-direction: column;\n}\n\n#sk-container-id-5 div.sk-parallel-item:first-child::after {\n  align-self: flex-end;\n  width: 50%;\n}\n\n#sk-container-id-5 div.sk-parallel-item:last-child::after {\n  align-self: flex-start;\n  width: 50%;\n}\n\n#sk-container-id-5 div.sk-parallel-item:only-child::after {\n  width: 0;\n}\n\n/* Serial-specific style estimator block */\n\n#sk-container-id-5 div.sk-serial {\n  display: flex;\n  flex-direction: column;\n  align-items: center;\n  background-color: var(--sklearn-color-background);\n  padding-right: 1em;\n  padding-left: 1em;\n}\n\n\n/* Toggleable style: style used for estimator/Pipeline/ColumnTransformer box that is\nclickable and can be expanded/collapsed.\n- Pipeline and ColumnTransformer use this feature and define the default style\n- Estimators will overwrite some part of the style using the `sk-estimator` class\n*/\n\n/* Pipeline and ColumnTransformer style (default) */\n\n#sk-container-id-5 div.sk-toggleable {\n  /* Default theme specific background. It is overwritten whether we have a\n  specific estimator or a Pipeline/ColumnTransformer */\n  background-color: var(--sklearn-color-background);\n}\n\n/* Toggleable label */\n#sk-container-id-5 label.sk-toggleable__label {\n  cursor: pointer;\n  display: block;\n  width: 100%;\n  margin-bottom: 0;\n  padding: 0.5em;\n  box-sizing: border-box;\n  text-align: center;\n}\n\n#sk-container-id-5 label.sk-toggleable__label-arrow:before {\n  /* Arrow on the left of the label */\n  content: \"▸\";\n  float: left;\n  margin-right: 0.25em;\n  color: var(--sklearn-color-icon);\n}\n\n#sk-container-id-5 label.sk-toggleable__label-arrow:hover:before {\n  color: var(--sklearn-color-text);\n}\n\n/* Toggleable content - dropdown */\n\n#sk-container-id-5 div.sk-toggleable__content {\n  max-height: 0;\n  max-width: 0;\n  overflow: hidden;\n  text-align: left;\n  /* unfitted */\n  background-color: var(--sklearn-color-unfitted-level-0);\n}\n\n#sk-container-id-5 div.sk-toggleable__content.fitted {\n  /* fitted */\n  background-color: var(--sklearn-color-fitted-level-0);\n}\n\n#sk-container-id-5 div.sk-toggleable__content pre {\n  margin: 0.2em;\n  border-radius: 0.25em;\n  color: var(--sklearn-color-text);\n  /* unfitted */\n  background-color: var(--sklearn-color-unfitted-level-0);\n}\n\n#sk-container-id-5 div.sk-toggleable__content.fitted pre {\n  /* unfitted */\n  background-color: var(--sklearn-color-fitted-level-0);\n}\n\n#sk-container-id-5 input.sk-toggleable__control:checked~div.sk-toggleable__content {\n  /* Expand drop-down */\n  max-height: 200px;\n  max-width: 100%;\n  overflow: auto;\n}\n\n#sk-container-id-5 input.sk-toggleable__control:checked~label.sk-toggleable__label-arrow:before {\n  content: \"▾\";\n}\n\n/* Pipeline/ColumnTransformer-specific style */\n\n#sk-container-id-5 div.sk-label input.sk-toggleable__control:checked~label.sk-toggleable__label {\n  color: var(--sklearn-color-text);\n  background-color: var(--sklearn-color-unfitted-level-2);\n}\n\n#sk-container-id-5 div.sk-label.fitted input.sk-toggleable__control:checked~label.sk-toggleable__label {\n  background-color: var(--sklearn-color-fitted-level-2);\n}\n\n/* Estimator-specific style */\n\n/* Colorize estimator box */\n#sk-container-id-5 div.sk-estimator input.sk-toggleable__control:checked~label.sk-toggleable__label {\n  /* unfitted */\n  background-color: var(--sklearn-color-unfitted-level-2);\n}\n\n#sk-container-id-5 div.sk-estimator.fitted input.sk-toggleable__control:checked~label.sk-toggleable__label {\n  /* fitted */\n  background-color: var(--sklearn-color-fitted-level-2);\n}\n\n#sk-container-id-5 div.sk-label label.sk-toggleable__label,\n#sk-container-id-5 div.sk-label label {\n  /* The background is the default theme color */\n  color: var(--sklearn-color-text-on-default-background);\n}\n\n/* On hover, darken the color of the background */\n#sk-container-id-5 div.sk-label:hover label.sk-toggleable__label {\n  color: var(--sklearn-color-text);\n  background-color: var(--sklearn-color-unfitted-level-2);\n}\n\n/* Label box, darken color on hover, fitted */\n#sk-container-id-5 div.sk-label.fitted:hover label.sk-toggleable__label.fitted {\n  color: var(--sklearn-color-text);\n  background-color: var(--sklearn-color-fitted-level-2);\n}\n\n/* Estimator label */\n\n#sk-container-id-5 div.sk-label label {\n  font-family: monospace;\n  font-weight: bold;\n  display: inline-block;\n  line-height: 1.2em;\n}\n\n#sk-container-id-5 div.sk-label-container {\n  text-align: center;\n}\n\n/* Estimator-specific */\n#sk-container-id-5 div.sk-estimator {\n  font-family: monospace;\n  border: 1px dotted var(--sklearn-color-border-box);\n  border-radius: 0.25em;\n  box-sizing: border-box;\n  margin-bottom: 0.5em;\n  /* unfitted */\n  background-color: var(--sklearn-color-unfitted-level-0);\n}\n\n#sk-container-id-5 div.sk-estimator.fitted {\n  /* fitted */\n  background-color: var(--sklearn-color-fitted-level-0);\n}\n\n/* on hover */\n#sk-container-id-5 div.sk-estimator:hover {\n  /* unfitted */\n  background-color: var(--sklearn-color-unfitted-level-2);\n}\n\n#sk-container-id-5 div.sk-estimator.fitted:hover {\n  /* fitted */\n  background-color: var(--sklearn-color-fitted-level-2);\n}\n\n/* Specification for estimator info (e.g. \"i\" and \"?\") */\n\n/* Common style for \"i\" and \"?\" */\n\n.sk-estimator-doc-link,\na:link.sk-estimator-doc-link,\na:visited.sk-estimator-doc-link {\n  float: right;\n  font-size: smaller;\n  line-height: 1em;\n  font-family: monospace;\n  background-color: var(--sklearn-color-background);\n  border-radius: 1em;\n  height: 1em;\n  width: 1em;\n  text-decoration: none !important;\n  margin-left: 1ex;\n  /* unfitted */\n  border: var(--sklearn-color-unfitted-level-1) 1pt solid;\n  color: var(--sklearn-color-unfitted-level-1);\n}\n\n.sk-estimator-doc-link.fitted,\na:link.sk-estimator-doc-link.fitted,\na:visited.sk-estimator-doc-link.fitted {\n  /* fitted */\n  border: var(--sklearn-color-fitted-level-1) 1pt solid;\n  color: var(--sklearn-color-fitted-level-1);\n}\n\n/* On hover */\ndiv.sk-estimator:hover .sk-estimator-doc-link:hover,\n.sk-estimator-doc-link:hover,\ndiv.sk-label-container:hover .sk-estimator-doc-link:hover,\n.sk-estimator-doc-link:hover {\n  /* unfitted */\n  background-color: var(--sklearn-color-unfitted-level-3);\n  color: var(--sklearn-color-background);\n  text-decoration: none;\n}\n\ndiv.sk-estimator.fitted:hover .sk-estimator-doc-link.fitted:hover,\n.sk-estimator-doc-link.fitted:hover,\ndiv.sk-label-container:hover .sk-estimator-doc-link.fitted:hover,\n.sk-estimator-doc-link.fitted:hover {\n  /* fitted */\n  background-color: var(--sklearn-color-fitted-level-3);\n  color: var(--sklearn-color-background);\n  text-decoration: none;\n}\n\n/* Span, style for the box shown on hovering the info icon */\n.sk-estimator-doc-link span {\n  display: none;\n  z-index: 9999;\n  position: relative;\n  font-weight: normal;\n  right: .2ex;\n  padding: .5ex;\n  margin: .5ex;\n  width: min-content;\n  min-width: 20ex;\n  max-width: 50ex;\n  color: var(--sklearn-color-text);\n  box-shadow: 2pt 2pt 4pt #999;\n  /* unfitted */\n  background: var(--sklearn-color-unfitted-level-0);\n  border: .5pt solid var(--sklearn-color-unfitted-level-3);\n}\n\n.sk-estimator-doc-link.fitted span {\n  /* fitted */\n  background: var(--sklearn-color-fitted-level-0);\n  border: var(--sklearn-color-fitted-level-3);\n}\n\n.sk-estimator-doc-link:hover span {\n  display: block;\n}\n\n/* \"?\"-specific style due to the `<a>` HTML tag */\n\n#sk-container-id-5 a.estimator_doc_link {\n  float: right;\n  font-size: 1rem;\n  line-height: 1em;\n  font-family: monospace;\n  background-color: var(--sklearn-color-background);\n  border-radius: 1rem;\n  height: 1rem;\n  width: 1rem;\n  text-decoration: none;\n  /* unfitted */\n  color: var(--sklearn-color-unfitted-level-1);\n  border: var(--sklearn-color-unfitted-level-1) 1pt solid;\n}\n\n#sk-container-id-5 a.estimator_doc_link.fitted {\n  /* fitted */\n  border: var(--sklearn-color-fitted-level-1) 1pt solid;\n  color: var(--sklearn-color-fitted-level-1);\n}\n\n/* On hover */\n#sk-container-id-5 a.estimator_doc_link:hover {\n  /* unfitted */\n  background-color: var(--sklearn-color-unfitted-level-3);\n  color: var(--sklearn-color-background);\n  text-decoration: none;\n}\n\n#sk-container-id-5 a.estimator_doc_link.fitted:hover {\n  /* fitted */\n  background-color: var(--sklearn-color-fitted-level-3);\n}\n</style><div id=\"sk-container-id-5\" class=\"sk-top-container\"><div class=\"sk-text-repr-fallback\"><pre>GaussianNB(var_smoothing=1e-08)</pre><b>In a Jupyter environment, please rerun this cell to show the HTML representation or trust the notebook. <br />On GitHub, the HTML representation is unable to render, please try loading this page with nbviewer.org.</b></div><div class=\"sk-container\" hidden><div class=\"sk-item\"><div class=\"sk-estimator fitted sk-toggleable\"><input class=\"sk-toggleable__control sk-hidden--visually\" id=\"sk-estimator-id-7\" type=\"checkbox\" checked><label for=\"sk-estimator-id-7\" class=\"sk-toggleable__label fitted sk-toggleable__label-arrow fitted\">&nbsp;&nbsp;GaussianNB<a class=\"sk-estimator-doc-link fitted\" rel=\"noreferrer\" target=\"_blank\" href=\"https://scikit-learn.org/1.5/modules/generated/sklearn.naive_bayes.GaussianNB.html\">?<span>Documentation for GaussianNB</span></a><span class=\"sk-estimator-doc-link fitted\">i<span>Fitted</span></span></label><div class=\"sk-toggleable__content fitted\"><pre>GaussianNB(var_smoothing=1e-08)</pre></div> </div></div></div></div>"
     },
     "execution_count": 48,
     "metadata": {},
     "output_type": "execute_result"
    }
   ],
   "source": [
    "naive_bayes_model = GaussianNB(var_smoothing=1e-08)\n",
    "naive_bayes_model.fit(train_val_features,train_val_targets)"
   ],
   "metadata": {
    "collapsed": false,
    "ExecuteTime": {
     "end_time": "2024-11-20T16:08:47.222326900Z",
     "start_time": "2024-11-20T16:08:47.215349800Z"
    }
   }
  },
  {
   "cell_type": "code",
   "execution_count": 56,
   "outputs": [
    {
     "name": "stdout",
     "output_type": "stream",
     "text": [
      "Training Accuracy: 0.6908731280022605\n",
      "Training Precision: 0.6908731280022605\n",
      "Training Recall: 0.6908731280022605\n",
      "Training F1: 0.6908731280022605\n",
      "Training ROC AUC: 0.8247690270949284\n",
      "Test Accuracy: 0.6903954802259887\n",
      "Test Precision: 0.6903954802259887\n",
      "Test Recall: 0.6903954802259887\n",
      "Test F1: 0.6903954802259887\n",
      "Test ROC AUC: 0.8304315490440166\n",
      "\n"
     ]
    }
   ],
   "source": [
    "evaluate(naive_bayes_model)"
   ],
   "metadata": {
    "collapsed": false,
    "ExecuteTime": {
     "end_time": "2024-11-20T16:11:43.360072Z",
     "start_time": "2024-11-20T16:11:43.309622700Z"
    }
   }
  },
  {
   "cell_type": "markdown",
   "source": [
    "## The results\n",
    "\n",
    "Random forest:\n",
    "\n",
    "- Training Accuracy: 0.9355750211924272\n",
    "- Training Precision: 0.9355750211924272\n",
    "- Training Recall: 0.9355750211924272\n",
    "- Training F1: 0.9355750211924272\n",
    "- Training ROC AUC: 0.986769673666562\n",
    "- Test Accuracy: 0.7796610169491526\n",
    "- Test Precision: 0.7796610169491526\n",
    "- Test Recall: 0.7796610169491526\n",
    "- Test F1: 0.7796610169491526\n",
    "- Test ROC AUC: 0.9200555395959016\n",
    "\n",
    "\n",
    "Gradient booster:\n",
    "\n",
    "- Training Accuracy: 0.919468776490534\n",
    "- Training Precision: 0.919468776490534\n",
    "- Training Recall: 0.919468776490534\n",
    "- Training F1: 0.919468776490534\n",
    "- Training ROC AUC: 0.9849100815911443\n",
    "- Test Accuracy: 0.7706214689265537\n",
    "- Test Precision: 0.7706214689265537\n",
    "- Test Recall: 0.7706214689265537\n",
    "- Test F1: 0.7706214689265537\n",
    "- Test ROC AUC: 0.9246704331450094\n",
    "\n",
    "Ada booster:\n",
    "\n",
    "- Training Accuracy: 0.7855326363379486\n",
    "- Training Precision: 0.7855326363379486\n",
    "- Training Recall: 0.7855326363379486\n",
    "- Training F1: 0.7855326363379486\n",
    "- Training ROC AUC: 0.8923516516120655\n",
    "- Test Accuracy: 0.7728813559322034\n",
    "- Test Precision: 0.7728813559322034\n",
    "- Test Recall: 0.7728813559322034\n",
    "- Test F1: 0.7728813559322034\n",
    "- Test ROC AUC: 0.8779495036547609\n",
    "\n",
    "GaussianDB:\n",
    "\n",
    "- Training Accuracy: 0.6908731280022605\n",
    "- Training Precision: 0.6908731280022605\n",
    "- Training Recall: 0.6908731280022605\n",
    "- Training F1: 0.6908731280022605\n",
    "- Training ROC AUC: 0.8247690270949284\n",
    "- Test Accuracy: 0.6903954802259887\n",
    "- Test Precision: 0.6903954802259887\n",
    "- Test Recall: 0.6903954802259887\n",
    "- Test F1: 0.6903954802259887\n",
    "- Test ROC AUC: 0.8304315490440166\n",
    "\n"
   ],
   "metadata": {
    "collapsed": false
   }
  },
  {
   "cell_type": "markdown",
   "metadata": {},
   "source": [
    "## Comparison of the classifiers\n",
    "\n"
   ]
  },
  {
   "cell_type": "markdown",
   "metadata": {},
   "source": [
    "## Conclusion"
   ]
  },
  {
   "cell_type": "markdown",
   "metadata": {},
   "source": [
    "## Possible improvements\n",
    "Using pipeline in the \"data washing\"\n"
   ]
  },
  {
   "cell_type": "code",
   "execution_count": null,
   "outputs": [],
   "source": [],
   "metadata": {
    "collapsed": false
   }
  }
 ],
 "metadata": {
  "kernelspec": {
   "display_name": "Python 3",
   "language": "python",
   "name": "python3"
  },
  "language_info": {
   "codemirror_mode": {
    "name": "ipython",
    "version": 3
   },
   "file_extension": ".py",
   "mimetype": "text/x-python",
   "name": "python",
   "nbconvert_exporter": "python",
   "pygments_lexer": "ipython3",
   "version": "3.12.4"
  }
 },
 "nbformat": 4,
 "nbformat_minor": 2
}
