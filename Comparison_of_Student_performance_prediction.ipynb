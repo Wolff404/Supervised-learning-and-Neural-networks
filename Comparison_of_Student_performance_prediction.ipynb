{
 "cells": [
  {
   "cell_type": "markdown",
   "metadata": {},
   "source": [
    "# Comparison of Classifiers for Student Performance Prediction"
   ]
  },
  {
   "cell_type": "markdown",
   "metadata": {},
   "source": [
    "## The dataset\n",
    "\n",
    "\n",
    "### What is the purpose of the dataset?\n",
    "This dataset is for creating classification models that will predict the students dropout and their academic success.\n",
    "\n",
    "### What are the features\n",
    "\n",
    "\n",
    "Each instance in the dataset represents a student.\n",
    "\n",
    "### What is the target?\n",
    "\n",
    "The target is\n"
   ]
  },
  {
   "cell_type": "markdown",
   "metadata": {},
   "source": [
    "## Analyzing the dataset"
   ]
  },
  {
   "cell_type": "code",
   "execution_count": 155,
   "metadata": {
    "collapsed": false,
    "ExecuteTime": {
     "end_time": "2024-11-19T16:49:57.906606900Z",
     "start_time": "2024-11-19T16:49:57.792804900Z"
    }
   },
   "outputs": [],
   "source": [
    "import pandas as pd\n",
    "import numpy as np\n",
    "\n",
    "from imblearn.over_sampling import SMOTENC\n",
    "from sklearn.ensemble import RandomForestClassifier\n",
    "from sklearn.preprocessing import OneHotEncoder\n",
    "\n",
    "from sklearn.naive_bayes import GaussianNB\n",
    "from sklearn.tree import DecisionTreeClassifier\n",
    "from sklearn.metrics import accuracy_score, precision_score, recall_score, f1_score, roc_auc_score\n",
    "from sklearn.model_selection import GridSearchCV\n",
    "\n"
   ]
  },
  {
   "cell_type": "code",
   "execution_count": 156,
   "metadata": {
    "collapsed": false,
    "ExecuteTime": {
     "end_time": "2024-11-19T16:49:57.940610300Z",
     "start_time": "2024-11-19T16:49:57.802153100Z"
    }
   },
   "outputs": [
    {
     "name": "stdout",
     "output_type": "stream",
     "text": [
      "<class 'pandas.core.frame.DataFrame'>\n",
      "RangeIndex: 4424 entries, 0 to 4423\n",
      "Data columns (total 37 columns):\n",
      " #   Column                                          Non-Null Count  Dtype  \n",
      "---  ------                                          --------------  -----  \n",
      " 0   Marital status                                  4424 non-null   int64  \n",
      " 1   Application mode                                4424 non-null   int64  \n",
      " 2   Application order                               4424 non-null   int64  \n",
      " 3   Course                                          4424 non-null   int64  \n",
      " 4   Daytime/evening attendance\t                     4424 non-null   int64  \n",
      " 5   Previous qualification                          4424 non-null   int64  \n",
      " 6   Previous qualification (grade)                  4424 non-null   float64\n",
      " 7   Nacionality                                     4424 non-null   int64  \n",
      " 8   Mother's qualification                          4424 non-null   int64  \n",
      " 9   Father's qualification                          4424 non-null   int64  \n",
      " 10  Mother's occupation                             4424 non-null   int64  \n",
      " 11  Father's occupation                             4424 non-null   int64  \n",
      " 12  Admission grade                                 4424 non-null   float64\n",
      " 13  Displaced                                       4424 non-null   int64  \n",
      " 14  Educational special needs                       4424 non-null   int64  \n",
      " 15  Debtor                                          4424 non-null   int64  \n",
      " 16  Tuition fees up to date                         4424 non-null   int64  \n",
      " 17  Gender                                          4424 non-null   int64  \n",
      " 18  Scholarship holder                              4424 non-null   int64  \n",
      " 19  Age at enrollment                               4424 non-null   int64  \n",
      " 20  International                                   4424 non-null   int64  \n",
      " 21  Curricular units 1st sem (credited)             4424 non-null   int64  \n",
      " 22  Curricular units 1st sem (enrolled)             4424 non-null   int64  \n",
      " 23  Curricular units 1st sem (evaluations)          4424 non-null   int64  \n",
      " 24  Curricular units 1st sem (approved)             4424 non-null   int64  \n",
      " 25  Curricular units 1st sem (grade)                4424 non-null   float64\n",
      " 26  Curricular units 1st sem (without evaluations)  4424 non-null   int64  \n",
      " 27  Curricular units 2nd sem (credited)             4424 non-null   int64  \n",
      " 28  Curricular units 2nd sem (enrolled)             4424 non-null   int64  \n",
      " 29  Curricular units 2nd sem (evaluations)          4424 non-null   int64  \n",
      " 30  Curricular units 2nd sem (approved)             4424 non-null   int64  \n",
      " 31  Curricular units 2nd sem (grade)                4424 non-null   float64\n",
      " 32  Curricular units 2nd sem (without evaluations)  4424 non-null   int64  \n",
      " 33  Unemployment rate                               4424 non-null   float64\n",
      " 34  Inflation rate                                  4424 non-null   float64\n",
      " 35  GDP                                             4424 non-null   float64\n",
      " 36  Target                                          4424 non-null   object \n",
      "dtypes: float64(7), int64(29), object(1)\n",
      "memory usage: 1.2+ MB\n"
     ]
    }
   ],
   "source": [
    "dataset = pd.read_csv('dataset_student_performance.csv',sep=\";\")\n",
    "dataset.info()\n",
    "#dataframe = pd.DataFrame(dataset)\n",
    "\n"
   ]
  },
  {
   "cell_type": "code",
   "execution_count": 157,
   "metadata": {
    "ExecuteTime": {
     "end_time": "2024-11-19T16:49:58.044444400Z",
     "start_time": "2024-11-19T16:49:57.824792400Z"
    }
   },
   "outputs": [],
   "source": [
    "#dataset.head()"
   ]
  },
  {
   "cell_type": "markdown",
   "metadata": {},
   "source": [
    "## \"Data washing\"\n",
    "\n",
    "By looking at the contents of the dataset. We observe that the features are already encoded into integers.\n",
    "So what we will need to do is \n",
    "- Split the features into categorical and numerical features.\n",
    "\n",
    "After that is done, we will need to \n",
    "- Encode the categorical ones differently so they are not integers, we can achieve this by using one hot encoding."
   ]
  },
  {
   "cell_type": "markdown",
   "metadata": {},
   "source": [
    "### Splitting the features into categorical and numerical features\n",
    "\n",
    "By using the dataset.info(), we can see what features are numerical and integer(categorical).\n",
    "We need to be cautious to not assume all the integers are categorical. For instance, age, is not a catagorical feature even though it's an integer.\n",
    "\n",
    "The numerical:\n",
    "\n",
    "- 6,   Previous qualification (grade)                  , float64\n",
    "- 12,  Admission grade                                 , float64\n",
    "- 25,  Curricular units 1st sem (grade)                , float64\n",
    "- 31,  Curricular units 2nd sem (grade)                , float64\n",
    "- 33,  Unemployment rate                               , float64\n",
    "- 34,  Inflation rate                                  , float64\n",
    "- 35,  GDP                                             , float64\n",
    "\n",
    "The target: \n",
    "- 36  Target,  object, which is three categories, encoded as ints. (dropout, enrolled, and graduate)\n",
    "\n",
    "By inspecting the documentation further, we can now make an overview over what integers are categorical, and which are not.\n",
    "\n",
    "The categorical:\n",
    "\n",
    "- 0,   Marital status, int64  \n",
    "- 1,   Application mode, int64  \n",
    "- 2,   Application order, int64  \n",
    "- 3,   Course, int64  \n",
    "- 4,   Daytime/evening attendance, int64  \n",
    "- 5,   Previous qualification, int64  \n",
    "- 7,   Nacionality, int64  \n",
    "- 8,   Mother's qualification, int64  \n",
    "- 9,   Father's qualification, int64  \n",
    "- 10,  Mother's occupation, int64  \n",
    "- 11,  Father's occupation, int64  \n",
    "- 13,  Displaced, int64  \n",
    "- 14,  Educational special needs, int64  \n",
    "- 15,  Debtor, int64  \n",
    "- 16,  Tuition fees up to date, int64  \n",
    "- 17,  Gender, int64  \n",
    "- 18,  Scholarship holder, int64 \n",
    "- 20,  International, int64 \n",
    "\n",
    "The non categorical: \n",
    "\n",
    "- 19, Age at enrollment, int64\n",
    "- 21, Curricular units 1st sem (credited),  int64  \n",
    "- 22, Curricular units 1st sem (enrolled),  int64  \n",
    "- 23, Curricular units 1st sem (evaluations),  int64  \n",
    "- 24, Curricular units 1st sem (approved),  int64  \n",
    "- 26, Curricular units 1st sem (without evaluations),  int64  \n",
    "- 27, Curricular units 2nd sem (credited),  int64  \n",
    "- 28, Curricular units 2nd sem (enrolled),  int64  \n",
    "- 29, Curricular units 2nd sem (evaluations),  int64  \n",
    "- 30, Curricular units 2nd sem (approved),  int64  \n",
    "- 32  Curricular units 2nd sem (without evaluations), int64  \n",
    "\n",
    "\n",
    "So, now we can combine them and perphaps group them into the following:\n",
    "\n",
    "\n",
    "The categorical:\n",
    "\n",
    "- 0,   Marital status, int64  \n",
    "- 1,   Application mode, int64  \n",
    "- 2,   Application order, int64  \n",
    "- 3,   Course, int64  \n",
    "- 4,   Daytime/evening attendance, int64  \n",
    "- 5,   Previous qualification, int64  \n",
    "- 7,   Nacionality, int64  \n",
    "- 8,   Mother's qualification, int64  \n",
    "- 9,   Father's qualification, int64  \n",
    "- 10,  Mother's occupation, int64  \n",
    "- 11,  Father's occupation, int64  \n",
    "- 13,  Displaced, int64  \n",
    "- 14,  Educational special needs, int64  \n",
    "- 15,  Debtor, int64  \n",
    "- 16,  Tuition fees up to date, int64  \n",
    "- 17,  Gender, int64  \n",
    "- 18,  Scholarship holder, int64 \n",
    "- 20,  International, int64 \n",
    "\n",
    "The numerical:\n",
    "\n",
    "- 6,  Previous qualification (grade), float64\n",
    "- 12, Admission grade, float64\n",
    "- 25, Curricular units 1st sem (grade), float64\n",
    "- 31, Curricular units 2nd sem (grade), float64\n",
    "- 33, Unemployment rate, float64\n",
    "- 34, Inflation rate, float64\n",
    "- 35, GDP, float64\n",
    "- 19, Age at enrollment, int64\n",
    "- 21, Curricular units 1st sem (credited),  int64  \n",
    "- 22, Curricular units 1st sem (enrolled),  int64  \n",
    "- 23, Curricular units 1st sem (evaluations),  int64  \n",
    "- 24, Curricular units 1st sem (approved),  int64  \n",
    "- 26, Curricular units 1st sem (without evaluations),  int64  \n",
    "- 27, Curricular units 2nd sem (credited),  int64  \n",
    "- 28, Curricular units 2nd sem (enrolled),  int64  \n",
    "- 29, Curricular units 2nd sem (evaluations),  int64  \n",
    "- 30, Curricular units 2nd sem (approved),  int64  \n",
    "- 32, Curricular units 2nd sem (without evaluations), int64  \n",
    "\n",
    "The target(categorical): \n",
    "- 36  Target,  object"
   ]
  },
  {
   "cell_type": "code",
   "execution_count": 158,
   "metadata": {
    "ExecuteTime": {
     "end_time": "2024-11-19T16:49:58.048162500Z",
     "start_time": "2024-11-19T16:49:57.830917800Z"
    }
   },
   "outputs": [],
   "source": [
    "#print(dataset.columns.tolist())\n",
    "#Here we can double check that the syntax of the lists are correct according to the index.\n",
    "#'Daytime/evening attendance\\t' will give an index error if the \\t is not included."
   ]
  },
  {
   "cell_type": "code",
   "execution_count": 159,
   "metadata": {
    "ExecuteTime": {
     "end_time": "2024-11-19T16:49:58.048162500Z",
     "start_time": "2024-11-19T16:49:57.836078100Z"
    }
   },
   "outputs": [],
   "source": [
    "categorical_features = [\n",
    "    \"Marital status\", \"Application mode\", \"Application order\", \"Course\", \n",
    "    \"Daytime/evening attendance\\t\", \"Previous qualification\", \"Nacionality\", \n",
    "    \"Mother's qualification\", \"Father's qualification\", \"Mother's occupation\", \n",
    "    \"Father's occupation\", \"Displaced\", \"Educational special needs\", \"Debtor\", \n",
    "    \"Tuition fees up to date\", \"Gender\", \"Scholarship holder\", \"International\"\n",
    "]\n",
    "\n",
    "numerical_features = [\n",
    "    \"Previous qualification (grade)\", \"Admission grade\", \"Curricular units 1st sem (grade)\", \n",
    "    \"Curricular units 2nd sem (grade)\", \"Unemployment rate\", \"Inflation rate\", \"GDP\", \n",
    "    \"Age at enrollment\", \"Curricular units 1st sem (credited)\", \"Curricular units 1st sem (enrolled)\", \n",
    "    \"Curricular units 1st sem (evaluations)\", \"Curricular units 1st sem (approved)\", \n",
    "    \"Curricular units 1st sem (without evaluations)\", \"Curricular units 2nd sem (credited)\", \n",
    "    \"Curricular units 2nd sem (enrolled)\", \"Curricular units 2nd sem (evaluations)\", \n",
    "    \"Curricular units 2nd sem (approved)\", \"Curricular units 2nd sem (without evaluations)\"\n",
    "]\n",
    "\n",
    "target = \"Target\"\n",
    "dataset_categorical = dataset[categorical_features]\n",
    "dataset_numerical = dataset[numerical_features]\n",
    "dataset_target = dataset[target]"
   ]
  },
  {
   "cell_type": "code",
   "execution_count": 160,
   "outputs": [
    {
     "data": {
      "text/plain": "<Axes: >"
     },
     "execution_count": 160,
     "metadata": {},
     "output_type": "execute_result"
    },
    {
     "data": {
      "text/plain": "<Figure size 640x480 with 1 Axes>",
      "image/png": "[encoded data removed]"
     },
     "metadata": {},
     "output_type": "display_data"
    }
   ],
   "source": [
    "dataset_target.hist()"
   ],
   "metadata": {
    "collapsed": false,
    "ExecuteTime": {
     "end_time": "2024-11-19T16:49:58.110372100Z",
     "start_time": "2024-11-19T16:49:57.841095800Z"
    }
   }
  },
  {
   "cell_type": "markdown",
   "source": [
    "We need to balance the classes, because we can see that the model will train on more graduate since there is more data in that output?"
   ],
   "metadata": {
    "collapsed": false
   }
  },
  {
   "cell_type": "code",
   "execution_count": 161,
   "outputs": [],
   "source": [
    "#dataset_oversampled,_ = SMOTENC('auto').fit_resample(categorical_features, dataset['Target'])\n",
    "#dataset_oversampled_dataframe = pd.concat\n"
   ],
   "metadata": {
    "collapsed": false,
    "ExecuteTime": {
     "end_time": "2024-11-19T16:49:58.110372100Z",
     "start_time": "2024-11-19T16:49:57.926765300Z"
    }
   }
  },
  {
   "cell_type": "markdown",
   "metadata": {},
   "source": [
    "## Making Onehot encoding of the categorical features\n"
   ]
  },
  {
   "cell_type": "code",
   "execution_count": 162,
   "metadata": {
    "ExecuteTime": {
     "end_time": "2024-11-19T16:49:58.110372100Z",
     "start_time": "2024-11-19T16:49:57.931331500Z"
    }
   },
   "outputs": [],
   "source": [
    "dataset_categorical_onehot = pd.get_dummies(dataset_categorical)\n",
    "#dataset_categorical_onehot.info()"
   ]
  },
  {
   "cell_type": "code",
   "execution_count": 163,
   "outputs": [
    {
     "data": {
      "text/plain": "   Previous qualification (grade)  Admission grade  \\\n0                           122.0            127.3   \n1                           160.0            142.5   \n2                           122.0            124.8   \n3                           122.0            119.6   \n4                           100.0            141.5   \n\n   Curricular units 1st sem (grade)  Curricular units 2nd sem (grade)  \\\n0                          0.000000                          0.000000   \n1                         14.000000                         13.666667   \n2                          0.000000                          0.000000   \n3                         13.428571                         12.400000   \n4                         12.333333                         13.000000   \n\n   Unemployment rate  Inflation rate   GDP  Age at enrollment  \\\n0               10.8             1.4  1.74                 20   \n1               13.9            -0.3  0.79                 19   \n2               10.8             1.4  1.74                 19   \n3                9.4            -0.8 -3.12                 20   \n4               13.9            -0.3  0.79                 45   \n\n   Curricular units 1st sem (credited)  Curricular units 1st sem (enrolled)  \\\n0                                    0                                    0   \n1                                    0                                    6   \n2                                    0                                    6   \n3                                    0                                    6   \n4                                    0                                    6   \n\n   ...  Father's qualification  Mother's occupation  Father's occupation  \\\n0  ...                      12                    5                    9   \n1  ...                       3                    3                    3   \n2  ...                      37                    9                    9   \n3  ...                      37                    5                    3   \n4  ...                      38                    9                    9   \n\n   Displaced  Educational special needs  Debtor  Tuition fees up to date  \\\n0          1                          0       0                        1   \n1          1                          0       0                        0   \n2          1                          0       0                        0   \n3          1                          0       0                        1   \n4          0                          0       0                        1   \n\n   Gender Scholarship holder  International  \n0       1                  0              0  \n1       1                  0              0  \n2       1                  0              0  \n3       0                  0              0  \n4       0                  0              0  \n\n[5 rows x 37 columns]",
      "text/html": "<div>\n<style scoped>\n    .dataframe tbody tr th:only-of-type {\n        vertical-align: middle;\n    }\n\n    .dataframe tbody tr th {\n        vertical-align: top;\n    }\n\n    .dataframe thead th {\n        text-align: right;\n    }\n</style>\n<table border=\"1\" class=\"dataframe\">\n  <thead>\n    <tr style=\"text-align: right;\">\n      <th></th>\n      <th>Previous qualification (grade)</th>\n      <th>Admission grade</th>\n      <th>Curricular units 1st sem (grade)</th>\n      <th>Curricular units 2nd sem (grade)</th>\n      <th>Unemployment rate</th>\n      <th>Inflation rate</th>\n      <th>GDP</th>\n      <th>Age at enrollment</th>\n      <th>Curricular units 1st sem (credited)</th>\n      <th>Curricular units 1st sem (enrolled)</th>\n      <th>...</th>\n      <th>Father's qualification</th>\n      <th>Mother's occupation</th>\n      <th>Father's occupation</th>\n      <th>Displaced</th>\n      <th>Educational special needs</th>\n      <th>Debtor</th>\n      <th>Tuition fees up to date</th>\n      <th>Gender</th>\n      <th>Scholarship holder</th>\n      <th>International</th>\n    </tr>\n  </thead>\n  <tbody>\n    <tr>\n      <th>0</th>\n      <td>122.0</td>\n      <td>127.3</td>\n      <td>0.000000</td>\n      <td>0.000000</td>\n      <td>10.8</td>\n      <td>1.4</td>\n      <td>1.74</td>\n      <td>20</td>\n      <td>0</td>\n      <td>0</td>\n      <td>...</td>\n      <td>12</td>\n      <td>5</td>\n      <td>9</td>\n      <td>1</td>\n      <td>0</td>\n      <td>0</td>\n      <td>1</td>\n      <td>1</td>\n      <td>0</td>\n      <td>0</td>\n    </tr>\n    <tr>\n      <th>1</th>\n      <td>160.0</td>\n      <td>142.5</td>\n      <td>14.000000</td>\n      <td>13.666667</td>\n      <td>13.9</td>\n      <td>-0.3</td>\n      <td>0.79</td>\n      <td>19</td>\n      <td>0</td>\n      <td>6</td>\n      <td>...</td>\n      <td>3</td>\n      <td>3</td>\n      <td>3</td>\n      <td>1</td>\n      <td>0</td>\n      <td>0</td>\n      <td>0</td>\n      <td>1</td>\n      <td>0</td>\n      <td>0</td>\n    </tr>\n    <tr>\n      <th>2</th>\n      <td>122.0</td>\n      <td>124.8</td>\n      <td>0.000000</td>\n      <td>0.000000</td>\n      <td>10.8</td>\n      <td>1.4</td>\n      <td>1.74</td>\n      <td>19</td>\n      <td>0</td>\n      <td>6</td>\n      <td>...</td>\n      <td>37</td>\n      <td>9</td>\n      <td>9</td>\n      <td>1</td>\n      <td>0</td>\n      <td>0</td>\n      <td>0</td>\n      <td>1</td>\n      <td>0</td>\n      <td>0</td>\n    </tr>\n    <tr>\n      <th>3</th>\n      <td>122.0</td>\n      <td>119.6</td>\n      <td>13.428571</td>\n      <td>12.400000</td>\n      <td>9.4</td>\n      <td>-0.8</td>\n      <td>-3.12</td>\n      <td>20</td>\n      <td>0</td>\n      <td>6</td>\n      <td>...</td>\n      <td>37</td>\n      <td>5</td>\n      <td>3</td>\n      <td>1</td>\n      <td>0</td>\n      <td>0</td>\n      <td>1</td>\n      <td>0</td>\n      <td>0</td>\n      <td>0</td>\n    </tr>\n    <tr>\n      <th>4</th>\n      <td>100.0</td>\n      <td>141.5</td>\n      <td>12.333333</td>\n      <td>13.000000</td>\n      <td>13.9</td>\n      <td>-0.3</td>\n      <td>0.79</td>\n      <td>45</td>\n      <td>0</td>\n      <td>6</td>\n      <td>...</td>\n      <td>38</td>\n      <td>9</td>\n      <td>9</td>\n      <td>0</td>\n      <td>0</td>\n      <td>0</td>\n      <td>1</td>\n      <td>0</td>\n      <td>0</td>\n      <td>0</td>\n    </tr>\n  </tbody>\n</table>\n<p>5 rows × 37 columns</p>\n</div>"
     },
     "execution_count": 163,
     "metadata": {},
     "output_type": "execute_result"
    }
   ],
   "source": [
    "combined_dataset = pd.concat([dataset_numerical, dataset_target, dataset_categorical_onehot], axis=1)\n",
    "combined_dataset.head()"
   ],
   "metadata": {
    "collapsed": false,
    "ExecuteTime": {
     "end_time": "2024-11-19T16:49:58.110372100Z",
     "start_time": "2024-11-19T16:49:57.938302100Z"
    }
   }
  },
  {
   "cell_type": "code",
   "execution_count": 163,
   "outputs": [],
   "source": [],
   "metadata": {
    "collapsed": false,
    "ExecuteTime": {
     "end_time": "2024-11-19T16:49:58.110372100Z",
     "start_time": "2024-11-19T16:49:57.953982500Z"
    }
   }
  },
  {
   "cell_type": "markdown",
   "source": [
    "## Now lets combine them together again\n"
   ],
   "metadata": {
    "collapsed": false
   }
  },
  {
   "cell_type": "code",
   "execution_count": 164,
   "outputs": [],
   "source": [
    "combined_dataset = pd.concat([dataset_numerical, dataset_target, dataset_categorical_onehot], axis=1)\n",
    "#combined_dataset.info()"
   ],
   "metadata": {
    "collapsed": false,
    "ExecuteTime": {
     "end_time": "2024-11-19T16:49:58.110372100Z",
     "start_time": "2024-11-19T16:49:57.956751700Z"
    }
   }
  },
  {
   "cell_type": "code",
   "execution_count": 165,
   "outputs": [],
   "source": [
    "#dataset_features = combined_dataset.drop([\"Target\"], axis=1)"
   ],
   "metadata": {
    "collapsed": false,
    "ExecuteTime": {
     "end_time": "2024-11-19T16:49:58.111705Z",
     "start_time": "2024-11-19T16:49:57.961682Z"
    }
   }
  },
  {
   "cell_type": "markdown",
   "source": [
    "## Creating our split"
   ],
   "metadata": {
    "collapsed": false
   }
  },
  {
   "cell_type": "code",
   "execution_count": 166,
   "outputs": [],
   "source": [
    "train_val = combined_dataset.groupby('Target', group_keys=False)[combined_dataset.columns].apply(lambda x: x.sample(frac=0.8))\n",
    "test_set = combined_dataset.drop(train_val.index)"
   ],
   "metadata": {
    "collapsed": false,
    "ExecuteTime": {
     "end_time": "2024-11-19T16:49:58.124848400Z",
     "start_time": "2024-11-19T16:49:57.964218900Z"
    }
   }
  },
  {
   "cell_type": "code",
   "execution_count": 167,
   "outputs": [],
   "source": [
    "#feature_train, feature_test, target_train, target_test = train_test_split(dataset_features,dataset_target, test_size=0.2, random_state=42)"
   ],
   "metadata": {
    "collapsed": false,
    "ExecuteTime": {
     "end_time": "2024-11-19T16:49:58.124848400Z",
     "start_time": "2024-11-19T16:49:57.975879100Z"
    }
   }
  },
  {
   "cell_type": "code",
   "execution_count": 168,
   "outputs": [],
   "source": [
    "features = combined_dataset.drop('Target', axis=1)\n",
    "targets = combined_dataset['Target']\n",
    "\n",
    "train_val_features = train_val.drop('Target', axis=1)\n",
    "train_val_targets = train_val['Target']\n",
    "\n",
    "test_features = test_set.drop('Target', axis=1)\n",
    "test_targets = test_set['Target']"
   ],
   "metadata": {
    "collapsed": false,
    "ExecuteTime": {
     "end_time": "2024-11-19T16:49:58.124848400Z",
     "start_time": "2024-11-19T16:49:57.979850700Z"
    }
   }
  },
  {
   "cell_type": "code",
   "execution_count": 168,
   "outputs": [],
   "source": [],
   "metadata": {
    "collapsed": false,
    "ExecuteTime": {
     "end_time": "2024-11-19T16:49:58.125848Z",
     "start_time": "2024-11-19T16:49:57.988397100Z"
    }
   }
  },
  {
   "cell_type": "markdown",
   "metadata": {},
   "source": [
    "## Pre-proccessing \n",
    "\n",
    "Lets proceed with the dataset now, and see what kind of results it produces. After that we can take pre processing steps to see how it changes the result.\n",
    "But here we can expand by trying out normalization, PCA, etc."
   ]
  },
  {
   "cell_type": "markdown",
   "metadata": {},
   "source": [
    "## Splitting\n",
    "\n",
    "### Why this split percentage\n",
    "### Why this sampling technique"
   ]
  },
  {
   "cell_type": "markdown",
   "source": [
    "## Creating the models\n"
   ],
   "metadata": {
    "collapsed": false
   }
  },
  {
   "cell_type": "code",
   "execution_count": 169,
   "outputs": [
    {
     "data": {
      "text/plain": "DecisionTreeClassifier(max_depth=5, random_state=42)",
      "text/html": "<style>#sk-container-id-25 {\n  /* Definition of color scheme common for light and dark mode */\n  --sklearn-color-text: black;\n  --sklearn-color-line: gray;\n  /* Definition of color scheme for unfitted estimators */\n  --sklearn-color-unfitted-level-0: #fff5e6;\n  --sklearn-color-unfitted-level-1: #f6e4d2;\n  --sklearn-color-unfitted-level-2: #ffe0b3;\n  --sklearn-color-unfitted-level-3: chocolate;\n  /* Definition of color scheme for fitted estimators */\n  --sklearn-color-fitted-level-0: #f0f8ff;\n  --sklearn-color-fitted-level-1: #d4ebff;\n  --sklearn-color-fitted-level-2: #b3dbfd;\n  --sklearn-color-fitted-level-3: cornflowerblue;\n\n  /* Specific color for light theme */\n  --sklearn-color-text-on-default-background: var(--sg-text-color, var(--theme-code-foreground, var(--jp-content-font-color1, black)));\n  --sklearn-color-background: var(--sg-background-color, var(--theme-background, var(--jp-layout-color0, white)));\n  --sklearn-color-border-box: var(--sg-text-color, var(--theme-code-foreground, var(--jp-content-font-color1, black)));\n  --sklearn-color-icon: #696969;\n\n  @media (prefers-color-scheme: dark) {\n    /* Redefinition of color scheme for dark theme */\n    --sklearn-color-text-on-default-background: var(--sg-text-color, var(--theme-code-foreground, var(--jp-content-font-color1, white)));\n    --sklearn-color-background: var(--sg-background-color, var(--theme-background, var(--jp-layout-color0, #111)));\n    --sklearn-color-border-box: var(--sg-text-color, var(--theme-code-foreground, var(--jp-content-font-color1, white)));\n    --sklearn-color-icon: #878787;\n  }\n}\n\n#sk-container-id-25 {\n  color: var(--sklearn-color-text);\n}\n\n#sk-container-id-25 pre {\n  padding: 0;\n}\n\n#sk-container-id-25 input.sk-hidden--visually {\n  border: 0;\n  clip: rect(1px 1px 1px 1px);\n  clip: rect(1px, 1px, 1px, 1px);\n  height: 1px;\n  margin: -1px;\n  overflow: hidden;\n  padding: 0;\n  position: absolute;\n  width: 1px;\n}\n\n#sk-container-id-25 div.sk-dashed-wrapped {\n  border: 1px dashed var(--sklearn-color-line);\n  margin: 0 0.4em 0.5em 0.4em;\n  box-sizing: border-box;\n  padding-bottom: 0.4em;\n  background-color: var(--sklearn-color-background);\n}\n\n#sk-container-id-25 div.sk-container {\n  /* jupyter's `normalize.less` sets `[hidden] { display: none; }`\n     but bootstrap.min.css set `[hidden] { display: none !important; }`\n     so we also need the `!important` here to be able to override the\n     default hidden behavior on the sphinx rendered scikit-learn.org.\n     See: https://github.com/scikit-learn/scikit-learn/issues/21755 */\n  display: inline-block !important;\n  position: relative;\n}\n\n#sk-container-id-25 div.sk-text-repr-fallback {\n  display: none;\n}\n\ndiv.sk-parallel-item,\ndiv.sk-serial,\ndiv.sk-item {\n  /* draw centered vertical line to link estimators */\n  background-image: linear-gradient(var(--sklearn-color-text-on-default-background), var(--sklearn-color-text-on-default-background));\n  background-size: 2px 100%;\n  background-repeat: no-repeat;\n  background-position: center center;\n}\n\n/* Parallel-specific style estimator block */\n\n#sk-container-id-25 div.sk-parallel-item::after {\n  content: \"\";\n  width: 100%;\n  border-bottom: 2px solid var(--sklearn-color-text-on-default-background);\n  flex-grow: 1;\n}\n\n#sk-container-id-25 div.sk-parallel {\n  display: flex;\n  align-items: stretch;\n  justify-content: center;\n  background-color: var(--sklearn-color-background);\n  position: relative;\n}\n\n#sk-container-id-25 div.sk-parallel-item {\n  display: flex;\n  flex-direction: column;\n}\n\n#sk-container-id-25 div.sk-parallel-item:first-child::after {\n  align-self: flex-end;\n  width: 50%;\n}\n\n#sk-container-id-25 div.sk-parallel-item:last-child::after {\n  align-self: flex-start;\n  width: 50%;\n}\n\n#sk-container-id-25 div.sk-parallel-item:only-child::after {\n  width: 0;\n}\n\n/* Serial-specific style estimator block */\n\n#sk-container-id-25 div.sk-serial {\n  display: flex;\n  flex-direction: column;\n  align-items: center;\n  background-color: var(--sklearn-color-background);\n  padding-right: 1em;\n  padding-left: 1em;\n}\n\n\n/* Toggleable style: style used for estimator/Pipeline/ColumnTransformer box that is\nclickable and can be expanded/collapsed.\n- Pipeline and ColumnTransformer use this feature and define the default style\n- Estimators will overwrite some part of the style using the `sk-estimator` class\n*/\n\n/* Pipeline and ColumnTransformer style (default) */\n\n#sk-container-id-25 div.sk-toggleable {\n  /* Default theme specific background. It is overwritten whether we have a\n  specific estimator or a Pipeline/ColumnTransformer */\n  background-color: var(--sklearn-color-background);\n}\n\n/* Toggleable label */\n#sk-container-id-25 label.sk-toggleable__label {\n  cursor: pointer;\n  display: block;\n  width: 100%;\n  margin-bottom: 0;\n  padding: 0.5em;\n  box-sizing: border-box;\n  text-align: center;\n}\n\n#sk-container-id-25 label.sk-toggleable__label-arrow:before {\n  /* Arrow on the left of the label */\n  content: \"▸\";\n  float: left;\n  margin-right: 0.25em;\n  color: var(--sklearn-color-icon);\n}\n\n#sk-container-id-25 label.sk-toggleable__label-arrow:hover:before {\n  color: var(--sklearn-color-text);\n}\n\n/* Toggleable content - dropdown */\n\n#sk-container-id-25 div.sk-toggleable__content {\n  max-height: 0;\n  max-width: 0;\n  overflow: hidden;\n  text-align: left;\n  /* unfitted */\n  background-color: var(--sklearn-color-unfitted-level-0);\n}\n\n#sk-container-id-25 div.sk-toggleable__content.fitted {\n  /* fitted */\n  background-color: var(--sklearn-color-fitted-level-0);\n}\n\n#sk-container-id-25 div.sk-toggleable__content pre {\n  margin: 0.2em;\n  border-radius: 0.25em;\n  color: var(--sklearn-color-text);\n  /* unfitted */\n  background-color: var(--sklearn-color-unfitted-level-0);\n}\n\n#sk-container-id-25 div.sk-toggleable__content.fitted pre {\n  /* unfitted */\n  background-color: var(--sklearn-color-fitted-level-0);\n}\n\n#sk-container-id-25 input.sk-toggleable__control:checked~div.sk-toggleable__content {\n  /* Expand drop-down */\n  max-height: 200px;\n  max-width: 100%;\n  overflow: auto;\n}\n\n#sk-container-id-25 input.sk-toggleable__control:checked~label.sk-toggleable__label-arrow:before {\n  content: \"▾\";\n}\n\n/* Pipeline/ColumnTransformer-specific style */\n\n#sk-container-id-25 div.sk-label input.sk-toggleable__control:checked~label.sk-toggleable__label {\n  color: var(--sklearn-color-text);\n  background-color: var(--sklearn-color-unfitted-level-2);\n}\n\n#sk-container-id-25 div.sk-label.fitted input.sk-toggleable__control:checked~label.sk-toggleable__label {\n  background-color: var(--sklearn-color-fitted-level-2);\n}\n\n/* Estimator-specific style */\n\n/* Colorize estimator box */\n#sk-container-id-25 div.sk-estimator input.sk-toggleable__control:checked~label.sk-toggleable__label {\n  /* unfitted */\n  background-color: var(--sklearn-color-unfitted-level-2);\n}\n\n#sk-container-id-25 div.sk-estimator.fitted input.sk-toggleable__control:checked~label.sk-toggleable__label {\n  /* fitted */\n  background-color: var(--sklearn-color-fitted-level-2);\n}\n\n#sk-container-id-25 div.sk-label label.sk-toggleable__label,\n#sk-container-id-25 div.sk-label label {\n  /* The background is the default theme color */\n  color: var(--sklearn-color-text-on-default-background);\n}\n\n/* On hover, darken the color of the background */\n#sk-container-id-25 div.sk-label:hover label.sk-toggleable__label {\n  color: var(--sklearn-color-text);\n  background-color: var(--sklearn-color-unfitted-level-2);\n}\n\n/* Label box, darken color on hover, fitted */\n#sk-container-id-25 div.sk-label.fitted:hover label.sk-toggleable__label.fitted {\n  color: var(--sklearn-color-text);\n  background-color: var(--sklearn-color-fitted-level-2);\n}\n\n/* Estimator label */\n\n#sk-container-id-25 div.sk-label label {\n  font-family: monospace;\n  font-weight: bold;\n  display: inline-block;\n  line-height: 1.2em;\n}\n\n#sk-container-id-25 div.sk-label-container {\n  text-align: center;\n}\n\n/* Estimator-specific */\n#sk-container-id-25 div.sk-estimator {\n  font-family: monospace;\n  border: 1px dotted var(--sklearn-color-border-box);\n  border-radius: 0.25em;\n  box-sizing: border-box;\n  margin-bottom: 0.5em;\n  /* unfitted */\n  background-color: var(--sklearn-color-unfitted-level-0);\n}\n\n#sk-container-id-25 div.sk-estimator.fitted {\n  /* fitted */\n  background-color: var(--sklearn-color-fitted-level-0);\n}\n\n/* on hover */\n#sk-container-id-25 div.sk-estimator:hover {\n  /* unfitted */\n  background-color: var(--sklearn-color-unfitted-level-2);\n}\n\n#sk-container-id-25 div.sk-estimator.fitted:hover {\n  /* fitted */\n  background-color: var(--sklearn-color-fitted-level-2);\n}\n\n/* Specification for estimator info (e.g. \"i\" and \"?\") */\n\n/* Common style for \"i\" and \"?\" */\n\n.sk-estimator-doc-link,\na:link.sk-estimator-doc-link,\na:visited.sk-estimator-doc-link {\n  float: right;\n  font-size: smaller;\n  line-height: 1em;\n  font-family: monospace;\n  background-color: var(--sklearn-color-background);\n  border-radius: 1em;\n  height: 1em;\n  width: 1em;\n  text-decoration: none !important;\n  margin-left: 1ex;\n  /* unfitted */\n  border: var(--sklearn-color-unfitted-level-1) 1pt solid;\n  color: var(--sklearn-color-unfitted-level-1);\n}\n\n.sk-estimator-doc-link.fitted,\na:link.sk-estimator-doc-link.fitted,\na:visited.sk-estimator-doc-link.fitted {\n  /* fitted */\n  border: var(--sklearn-color-fitted-level-1) 1pt solid;\n  color: var(--sklearn-color-fitted-level-1);\n}\n\n/* On hover */\ndiv.sk-estimator:hover .sk-estimator-doc-link:hover,\n.sk-estimator-doc-link:hover,\ndiv.sk-label-container:hover .sk-estimator-doc-link:hover,\n.sk-estimator-doc-link:hover {\n  /* unfitted */\n  background-color: var(--sklearn-color-unfitted-level-3);\n  color: var(--sklearn-color-background);\n  text-decoration: none;\n}\n\ndiv.sk-estimator.fitted:hover .sk-estimator-doc-link.fitted:hover,\n.sk-estimator-doc-link.fitted:hover,\ndiv.sk-label-container:hover .sk-estimator-doc-link.fitted:hover,\n.sk-estimator-doc-link.fitted:hover {\n  /* fitted */\n  background-color: var(--sklearn-color-fitted-level-3);\n  color: var(--sklearn-color-background);\n  text-decoration: none;\n}\n\n/* Span, style for the box shown on hovering the info icon */\n.sk-estimator-doc-link span {\n  display: none;\n  z-index: 9999;\n  position: relative;\n  font-weight: normal;\n  right: .2ex;\n  padding: .5ex;\n  margin: .5ex;\n  width: min-content;\n  min-width: 20ex;\n  max-width: 50ex;\n  color: var(--sklearn-color-text);\n  box-shadow: 2pt 2pt 4pt #999;\n  /* unfitted */\n  background: var(--sklearn-color-unfitted-level-0);\n  border: .5pt solid var(--sklearn-color-unfitted-level-3);\n}\n\n.sk-estimator-doc-link.fitted span {\n  /* fitted */\n  background: var(--sklearn-color-fitted-level-0);\n  border: var(--sklearn-color-fitted-level-3);\n}\n\n.sk-estimator-doc-link:hover span {\n  display: block;\n}\n\n/* \"?\"-specific style due to the `<a>` HTML tag */\n\n#sk-container-id-25 a.estimator_doc_link {\n  float: right;\n  font-size: 1rem;\n  line-height: 1em;\n  font-family: monospace;\n  background-color: var(--sklearn-color-background);\n  border-radius: 1rem;\n  height: 1rem;\n  width: 1rem;\n  text-decoration: none;\n  /* unfitted */\n  color: var(--sklearn-color-unfitted-level-1);\n  border: var(--sklearn-color-unfitted-level-1) 1pt solid;\n}\n\n#sk-container-id-25 a.estimator_doc_link.fitted {\n  /* fitted */\n  border: var(--sklearn-color-fitted-level-1) 1pt solid;\n  color: var(--sklearn-color-fitted-level-1);\n}\n\n/* On hover */\n#sk-container-id-25 a.estimator_doc_link:hover {\n  /* unfitted */\n  background-color: var(--sklearn-color-unfitted-level-3);\n  color: var(--sklearn-color-background);\n  text-decoration: none;\n}\n\n#sk-container-id-25 a.estimator_doc_link.fitted:hover {\n  /* fitted */\n  background-color: var(--sklearn-color-fitted-level-3);\n}\n</style><div id=\"sk-container-id-25\" class=\"sk-top-container\"><div class=\"sk-text-repr-fallback\"><pre>DecisionTreeClassifier(max_depth=5, random_state=42)</pre><b>In a Jupyter environment, please rerun this cell to show the HTML representation or trust the notebook. <br />On GitHub, the HTML representation is unable to render, please try loading this page with nbviewer.org.</b></div><div class=\"sk-container\" hidden><div class=\"sk-item\"><div class=\"sk-estimator fitted sk-toggleable\"><input class=\"sk-toggleable__control sk-hidden--visually\" id=\"sk-estimator-id-43\" type=\"checkbox\" checked><label for=\"sk-estimator-id-43\" class=\"sk-toggleable__label fitted sk-toggleable__label-arrow fitted\">&nbsp;&nbsp;DecisionTreeClassifier<a class=\"sk-estimator-doc-link fitted\" rel=\"noreferrer\" target=\"_blank\" href=\"https://scikit-learn.org/1.5/modules/generated/sklearn.tree.DecisionTreeClassifier.html\">?<span>Documentation for DecisionTreeClassifier</span></a><span class=\"sk-estimator-doc-link fitted\">i<span>Fitted</span></span></label><div class=\"sk-toggleable__content fitted\"><pre>DecisionTreeClassifier(max_depth=5, random_state=42)</pre></div> </div></div></div></div>"
     },
     "execution_count": 169,
     "metadata": {},
     "output_type": "execute_result"
    }
   ],
   "source": [
    "decision_tree_model1 = DecisionTreeClassifier(max_depth=5,random_state=42)\n",
    "\n",
    "decision_tree_model1.fit(train_val_features, train_val_targets)"
   ],
   "metadata": {
    "collapsed": false,
    "ExecuteTime": {
     "end_time": "2024-11-19T16:49:58.125848Z",
     "start_time": "2024-11-19T16:49:57.990845Z"
    }
   }
  },
  {
   "cell_type": "markdown",
   "source": [
    "### Evaluation function\n"
   ],
   "metadata": {
    "collapsed": false
   }
  },
  {
   "cell_type": "code",
   "execution_count": 170,
   "outputs": [],
   "source": [
    "\n",
    "def evaluate(model):\n",
    "    train_probabilities = model.predict_proba(train_val_features)\n",
    "    train_predictions = model.classes_.take(np.argmax(train_probabilities, axis=1), axis=0)\n",
    "\n",
    "    print(f'Training Accuracy: {accuracy_score(train_val_targets, train_predictions)}')\n",
    "    print(f'Training Precision: {precision_score(train_val_targets, train_predictions, average=\"weighted\")}')\n",
    "    print(f'Training Recall: {recall_score(train_val_targets, train_predictions, average=\"weighted\")}')\n",
    "    print(f'Training F1: {f1_score(train_val_targets, train_predictions, average=\"weighted\")}')\n",
    "    print(f'Training ROC AUC: {roc_auc_score(train_val_targets, train_probabilities, average=\"macro\", multi_class=\"ovr\")}')\n",
    "\n",
    "    test_probabilities = model.predict_proba(test_features)\n",
    "    test_predictions = model.classes_.take(np.argmax(test_probabilities, axis=1), axis=0)\n",
    "\n",
    "    print(f'Test Accuracy: {accuracy_score(test_targets, test_predictions)}')\n",
    "    print(f'Test Precision: {precision_score(test_targets, test_predictions, average=\"weighted\")}')\n",
    "    print(f'Test Recall: {recall_score(test_targets, test_predictions, average=\"weighted\")}')\n",
    "    print(f'Test F1: {f1_score(test_targets, test_predictions, average=\"weighted\")}')\n",
    "    print(f'Test ROC AUC: {roc_auc_score(test_targets, test_probabilities, average=\"macro\", multi_class=\"ovr\")}')\n",
    "    print()\n",
    "\n",
    "#"
   ],
   "metadata": {
    "collapsed": false,
    "ExecuteTime": {
     "end_time": "2024-11-19T16:49:58.125848Z",
     "start_time": "2024-11-19T16:49:58.015372700Z"
    }
   }
  },
  {
   "cell_type": "code",
   "execution_count": 171,
   "outputs": [
    {
     "name": "stdout",
     "output_type": "stream",
     "text": [
      "Training Accuracy: 0.7739474427804465\n",
      "Training Precision: 0.765058880507797\n",
      "Training Recall: 0.7739474427804465\n",
      "Training F1: 0.7609485250059037\n",
      "Training ROC AUC: 0.8700298240587556\n",
      "Test Accuracy: 0.7152542372881356\n",
      "Test Precision: 0.6975863292215864\n",
      "Test Recall: 0.7152542372881356\n",
      "Test F1: 0.6971593568852015\n",
      "Test ROC AUC: 0.8238756300081523\n",
      "\n"
     ]
    }
   ],
   "source": [
    "    evaluate(decision_tree_model1)"
   ],
   "metadata": {
    "collapsed": false,
    "ExecuteTime": {
     "end_time": "2024-11-19T16:49:58.326329500Z",
     "start_time": "2024-11-19T16:49:58.023494900Z"
    }
   }
  },
  {
   "cell_type": "markdown",
   "source": [
    "### Naive Bayes"
   ],
   "metadata": {
    "collapsed": false
   }
  },
  {
   "cell_type": "code",
   "execution_count": 172,
   "outputs": [
    {
     "data": {
      "text/plain": "GaussianNB()",
      "text/html": "<style>#sk-container-id-26 {\n  /* Definition of color scheme common for light and dark mode */\n  --sklearn-color-text: black;\n  --sklearn-color-line: gray;\n  /* Definition of color scheme for unfitted estimators */\n  --sklearn-color-unfitted-level-0: #fff5e6;\n  --sklearn-color-unfitted-level-1: #f6e4d2;\n  --sklearn-color-unfitted-level-2: #ffe0b3;\n  --sklearn-color-unfitted-level-3: chocolate;\n  /* Definition of color scheme for fitted estimators */\n  --sklearn-color-fitted-level-0: #f0f8ff;\n  --sklearn-color-fitted-level-1: #d4ebff;\n  --sklearn-color-fitted-level-2: #b3dbfd;\n  --sklearn-color-fitted-level-3: cornflowerblue;\n\n  /* Specific color for light theme */\n  --sklearn-color-text-on-default-background: var(--sg-text-color, var(--theme-code-foreground, var(--jp-content-font-color1, black)));\n  --sklearn-color-background: var(--sg-background-color, var(--theme-background, var(--jp-layout-color0, white)));\n  --sklearn-color-border-box: var(--sg-text-color, var(--theme-code-foreground, var(--jp-content-font-color1, black)));\n  --sklearn-color-icon: #696969;\n\n  @media (prefers-color-scheme: dark) {\n    /* Redefinition of color scheme for dark theme */\n    --sklearn-color-text-on-default-background: var(--sg-text-color, var(--theme-code-foreground, var(--jp-content-font-color1, white)));\n    --sklearn-color-background: var(--sg-background-color, var(--theme-background, var(--jp-layout-color0, #111)));\n    --sklearn-color-border-box: var(--sg-text-color, var(--theme-code-foreground, var(--jp-content-font-color1, white)));\n    --sklearn-color-icon: #878787;\n  }\n}\n\n#sk-container-id-26 {\n  color: var(--sklearn-color-text);\n}\n\n#sk-container-id-26 pre {\n  padding: 0;\n}\n\n#sk-container-id-26 input.sk-hidden--visually {\n  border: 0;\n  clip: rect(1px 1px 1px 1px);\n  clip: rect(1px, 1px, 1px, 1px);\n  height: 1px;\n  margin: -1px;\n  overflow: hidden;\n  padding: 0;\n  position: absolute;\n  width: 1px;\n}\n\n#sk-container-id-26 div.sk-dashed-wrapped {\n  border: 1px dashed var(--sklearn-color-line);\n  margin: 0 0.4em 0.5em 0.4em;\n  box-sizing: border-box;\n  padding-bottom: 0.4em;\n  background-color: var(--sklearn-color-background);\n}\n\n#sk-container-id-26 div.sk-container {\n  /* jupyter's `normalize.less` sets `[hidden] { display: none; }`\n     but bootstrap.min.css set `[hidden] { display: none !important; }`\n     so we also need the `!important` here to be able to override the\n     default hidden behavior on the sphinx rendered scikit-learn.org.\n     See: https://github.com/scikit-learn/scikit-learn/issues/21755 */\n  display: inline-block !important;\n  position: relative;\n}\n\n#sk-container-id-26 div.sk-text-repr-fallback {\n  display: none;\n}\n\ndiv.sk-parallel-item,\ndiv.sk-serial,\ndiv.sk-item {\n  /* draw centered vertical line to link estimators */\n  background-image: linear-gradient(var(--sklearn-color-text-on-default-background), var(--sklearn-color-text-on-default-background));\n  background-size: 2px 100%;\n  background-repeat: no-repeat;\n  background-position: center center;\n}\n\n/* Parallel-specific style estimator block */\n\n#sk-container-id-26 div.sk-parallel-item::after {\n  content: \"\";\n  width: 100%;\n  border-bottom: 2px solid var(--sklearn-color-text-on-default-background);\n  flex-grow: 1;\n}\n\n#sk-container-id-26 div.sk-parallel {\n  display: flex;\n  align-items: stretch;\n  justify-content: center;\n  background-color: var(--sklearn-color-background);\n  position: relative;\n}\n\n#sk-container-id-26 div.sk-parallel-item {\n  display: flex;\n  flex-direction: column;\n}\n\n#sk-container-id-26 div.sk-parallel-item:first-child::after {\n  align-self: flex-end;\n  width: 50%;\n}\n\n#sk-container-id-26 div.sk-parallel-item:last-child::after {\n  align-self: flex-start;\n  width: 50%;\n}\n\n#sk-container-id-26 div.sk-parallel-item:only-child::after {\n  width: 0;\n}\n\n/* Serial-specific style estimator block */\n\n#sk-container-id-26 div.sk-serial {\n  display: flex;\n  flex-direction: column;\n  align-items: center;\n  background-color: var(--sklearn-color-background);\n  padding-right: 1em;\n  padding-left: 1em;\n}\n\n\n/* Toggleable style: style used for estimator/Pipeline/ColumnTransformer box that is\nclickable and can be expanded/collapsed.\n- Pipeline and ColumnTransformer use this feature and define the default style\n- Estimators will overwrite some part of the style using the `sk-estimator` class\n*/\n\n/* Pipeline and ColumnTransformer style (default) */\n\n#sk-container-id-26 div.sk-toggleable {\n  /* Default theme specific background. It is overwritten whether we have a\n  specific estimator or a Pipeline/ColumnTransformer */\n  background-color: var(--sklearn-color-background);\n}\n\n/* Toggleable label */\n#sk-container-id-26 label.sk-toggleable__label {\n  cursor: pointer;\n  display: block;\n  width: 100%;\n  margin-bottom: 0;\n  padding: 0.5em;\n  box-sizing: border-box;\n  text-align: center;\n}\n\n#sk-container-id-26 label.sk-toggleable__label-arrow:before {\n  /* Arrow on the left of the label */\n  content: \"▸\";\n  float: left;\n  margin-right: 0.25em;\n  color: var(--sklearn-color-icon);\n}\n\n#sk-container-id-26 label.sk-toggleable__label-arrow:hover:before {\n  color: var(--sklearn-color-text);\n}\n\n/* Toggleable content - dropdown */\n\n#sk-container-id-26 div.sk-toggleable__content {\n  max-height: 0;\n  max-width: 0;\n  overflow: hidden;\n  text-align: left;\n  /* unfitted */\n  background-color: var(--sklearn-color-unfitted-level-0);\n}\n\n#sk-container-id-26 div.sk-toggleable__content.fitted {\n  /* fitted */\n  background-color: var(--sklearn-color-fitted-level-0);\n}\n\n#sk-container-id-26 div.sk-toggleable__content pre {\n  margin: 0.2em;\n  border-radius: 0.25em;\n  color: var(--sklearn-color-text);\n  /* unfitted */\n  background-color: var(--sklearn-color-unfitted-level-0);\n}\n\n#sk-container-id-26 div.sk-toggleable__content.fitted pre {\n  /* unfitted */\n  background-color: var(--sklearn-color-fitted-level-0);\n}\n\n#sk-container-id-26 input.sk-toggleable__control:checked~div.sk-toggleable__content {\n  /* Expand drop-down */\n  max-height: 200px;\n  max-width: 100%;\n  overflow: auto;\n}\n\n#sk-container-id-26 input.sk-toggleable__control:checked~label.sk-toggleable__label-arrow:before {\n  content: \"▾\";\n}\n\n/* Pipeline/ColumnTransformer-specific style */\n\n#sk-container-id-26 div.sk-label input.sk-toggleable__control:checked~label.sk-toggleable__label {\n  color: var(--sklearn-color-text);\n  background-color: var(--sklearn-color-unfitted-level-2);\n}\n\n#sk-container-id-26 div.sk-label.fitted input.sk-toggleable__control:checked~label.sk-toggleable__label {\n  background-color: var(--sklearn-color-fitted-level-2);\n}\n\n/* Estimator-specific style */\n\n/* Colorize estimator box */\n#sk-container-id-26 div.sk-estimator input.sk-toggleable__control:checked~label.sk-toggleable__label {\n  /* unfitted */\n  background-color: var(--sklearn-color-unfitted-level-2);\n}\n\n#sk-container-id-26 div.sk-estimator.fitted input.sk-toggleable__control:checked~label.sk-toggleable__label {\n  /* fitted */\n  background-color: var(--sklearn-color-fitted-level-2);\n}\n\n#sk-container-id-26 div.sk-label label.sk-toggleable__label,\n#sk-container-id-26 div.sk-label label {\n  /* The background is the default theme color */\n  color: var(--sklearn-color-text-on-default-background);\n}\n\n/* On hover, darken the color of the background */\n#sk-container-id-26 div.sk-label:hover label.sk-toggleable__label {\n  color: var(--sklearn-color-text);\n  background-color: var(--sklearn-color-unfitted-level-2);\n}\n\n/* Label box, darken color on hover, fitted */\n#sk-container-id-26 div.sk-label.fitted:hover label.sk-toggleable__label.fitted {\n  color: var(--sklearn-color-text);\n  background-color: var(--sklearn-color-fitted-level-2);\n}\n\n/* Estimator label */\n\n#sk-container-id-26 div.sk-label label {\n  font-family: monospace;\n  font-weight: bold;\n  display: inline-block;\n  line-height: 1.2em;\n}\n\n#sk-container-id-26 div.sk-label-container {\n  text-align: center;\n}\n\n/* Estimator-specific */\n#sk-container-id-26 div.sk-estimator {\n  font-family: monospace;\n  border: 1px dotted var(--sklearn-color-border-box);\n  border-radius: 0.25em;\n  box-sizing: border-box;\n  margin-bottom: 0.5em;\n  /* unfitted */\n  background-color: var(--sklearn-color-unfitted-level-0);\n}\n\n#sk-container-id-26 div.sk-estimator.fitted {\n  /* fitted */\n  background-color: var(--sklearn-color-fitted-level-0);\n}\n\n/* on hover */\n#sk-container-id-26 div.sk-estimator:hover {\n  /* unfitted */\n  background-color: var(--sklearn-color-unfitted-level-2);\n}\n\n#sk-container-id-26 div.sk-estimator.fitted:hover {\n  /* fitted */\n  background-color: var(--sklearn-color-fitted-level-2);\n}\n\n/* Specification for estimator info (e.g. \"i\" and \"?\") */\n\n/* Common style for \"i\" and \"?\" */\n\n.sk-estimator-doc-link,\na:link.sk-estimator-doc-link,\na:visited.sk-estimator-doc-link {\n  float: right;\n  font-size: smaller;\n  line-height: 1em;\n  font-family: monospace;\n  background-color: var(--sklearn-color-background);\n  border-radius: 1em;\n  height: 1em;\n  width: 1em;\n  text-decoration: none !important;\n  margin-left: 1ex;\n  /* unfitted */\n  border: var(--sklearn-color-unfitted-level-1) 1pt solid;\n  color: var(--sklearn-color-unfitted-level-1);\n}\n\n.sk-estimator-doc-link.fitted,\na:link.sk-estimator-doc-link.fitted,\na:visited.sk-estimator-doc-link.fitted {\n  /* fitted */\n  border: var(--sklearn-color-fitted-level-1) 1pt solid;\n  color: var(--sklearn-color-fitted-level-1);\n}\n\n/* On hover */\ndiv.sk-estimator:hover .sk-estimator-doc-link:hover,\n.sk-estimator-doc-link:hover,\ndiv.sk-label-container:hover .sk-estimator-doc-link:hover,\n.sk-estimator-doc-link:hover {\n  /* unfitted */\n  background-color: var(--sklearn-color-unfitted-level-3);\n  color: var(--sklearn-color-background);\n  text-decoration: none;\n}\n\ndiv.sk-estimator.fitted:hover .sk-estimator-doc-link.fitted:hover,\n.sk-estimator-doc-link.fitted:hover,\ndiv.sk-label-container:hover .sk-estimator-doc-link.fitted:hover,\n.sk-estimator-doc-link.fitted:hover {\n  /* fitted */\n  background-color: var(--sklearn-color-fitted-level-3);\n  color: var(--sklearn-color-background);\n  text-decoration: none;\n}\n\n/* Span, style for the box shown on hovering the info icon */\n.sk-estimator-doc-link span {\n  display: none;\n  z-index: 9999;\n  position: relative;\n  font-weight: normal;\n  right: .2ex;\n  padding: .5ex;\n  margin: .5ex;\n  width: min-content;\n  min-width: 20ex;\n  max-width: 50ex;\n  color: var(--sklearn-color-text);\n  box-shadow: 2pt 2pt 4pt #999;\n  /* unfitted */\n  background: var(--sklearn-color-unfitted-level-0);\n  border: .5pt solid var(--sklearn-color-unfitted-level-3);\n}\n\n.sk-estimator-doc-link.fitted span {\n  /* fitted */\n  background: var(--sklearn-color-fitted-level-0);\n  border: var(--sklearn-color-fitted-level-3);\n}\n\n.sk-estimator-doc-link:hover span {\n  display: block;\n}\n\n/* \"?\"-specific style due to the `<a>` HTML tag */\n\n#sk-container-id-26 a.estimator_doc_link {\n  float: right;\n  font-size: 1rem;\n  line-height: 1em;\n  font-family: monospace;\n  background-color: var(--sklearn-color-background);\n  border-radius: 1rem;\n  height: 1rem;\n  width: 1rem;\n  text-decoration: none;\n  /* unfitted */\n  color: var(--sklearn-color-unfitted-level-1);\n  border: var(--sklearn-color-unfitted-level-1) 1pt solid;\n}\n\n#sk-container-id-26 a.estimator_doc_link.fitted {\n  /* fitted */\n  border: var(--sklearn-color-fitted-level-1) 1pt solid;\n  color: var(--sklearn-color-fitted-level-1);\n}\n\n/* On hover */\n#sk-container-id-26 a.estimator_doc_link:hover {\n  /* unfitted */\n  background-color: var(--sklearn-color-unfitted-level-3);\n  color: var(--sklearn-color-background);\n  text-decoration: none;\n}\n\n#sk-container-id-26 a.estimator_doc_link.fitted:hover {\n  /* fitted */\n  background-color: var(--sklearn-color-fitted-level-3);\n}\n</style><div id=\"sk-container-id-26\" class=\"sk-top-container\"><div class=\"sk-text-repr-fallback\"><pre>GaussianNB()</pre><b>In a Jupyter environment, please rerun this cell to show the HTML representation or trust the notebook. <br />On GitHub, the HTML representation is unable to render, please try loading this page with nbviewer.org.</b></div><div class=\"sk-container\" hidden><div class=\"sk-item\"><div class=\"sk-estimator fitted sk-toggleable\"><input class=\"sk-toggleable__control sk-hidden--visually\" id=\"sk-estimator-id-44\" type=\"checkbox\" checked><label for=\"sk-estimator-id-44\" class=\"sk-toggleable__label fitted sk-toggleable__label-arrow fitted\">&nbsp;&nbsp;GaussianNB<a class=\"sk-estimator-doc-link fitted\" rel=\"noreferrer\" target=\"_blank\" href=\"https://scikit-learn.org/1.5/modules/generated/sklearn.naive_bayes.GaussianNB.html\">?<span>Documentation for GaussianNB</span></a><span class=\"sk-estimator-doc-link fitted\">i<span>Fitted</span></span></label><div class=\"sk-toggleable__content fitted\"><pre>GaussianNB()</pre></div> </div></div></div></div>"
     },
     "execution_count": 172,
     "metadata": {},
     "output_type": "execute_result"
    }
   ],
   "source": [
    "naive_bayes_model1 = GaussianNB()\n",
    "naive_bayes_model1.fit(train_val_features, train_val_targets)"
   ],
   "metadata": {
    "collapsed": false,
    "ExecuteTime": {
     "end_time": "2024-11-19T16:49:58.327338300Z",
     "start_time": "2024-11-19T16:49:58.099584400Z"
    }
   }
  },
  {
   "cell_type": "code",
   "execution_count": 173,
   "outputs": [
    {
     "name": "stdout",
     "output_type": "stream",
     "text": [
      "Training Accuracy: 0.6934162192709805\n",
      "Training Precision: 0.6822182091036239\n",
      "Training Recall: 0.6934162192709805\n",
      "Training F1: 0.6857819922949103\n",
      "Training ROC AUC: 0.8079823710500033\n",
      "Test Accuracy: 0.6915254237288135\n",
      "Test Precision: 0.6835124472024565\n",
      "Test Recall: 0.6915254237288135\n",
      "Test F1: 0.685813822001724\n",
      "Test ROC AUC: 0.7829493710046599\n",
      "\n"
     ]
    }
   ],
   "source": [
    "evaluate(naive_bayes_model1)"
   ],
   "metadata": {
    "collapsed": false,
    "ExecuteTime": {
     "end_time": "2024-11-19T16:49:58.368204900Z",
     "start_time": "2024-11-19T16:49:58.112715400Z"
    }
   }
  },
  {
   "cell_type": "code",
   "execution_count": 174,
   "outputs": [
    {
     "data": {
      "text/plain": "RandomForestClassifier(max_depth=5, random_state=42)",
      "text/html": "<style>#sk-container-id-27 {\n  /* Definition of color scheme common for light and dark mode */\n  --sklearn-color-text: black;\n  --sklearn-color-line: gray;\n  /* Definition of color scheme for unfitted estimators */\n  --sklearn-color-unfitted-level-0: #fff5e6;\n  --sklearn-color-unfitted-level-1: #f6e4d2;\n  --sklearn-color-unfitted-level-2: #ffe0b3;\n  --sklearn-color-unfitted-level-3: chocolate;\n  /* Definition of color scheme for fitted estimators */\n  --sklearn-color-fitted-level-0: #f0f8ff;\n  --sklearn-color-fitted-level-1: #d4ebff;\n  --sklearn-color-fitted-level-2: #b3dbfd;\n  --sklearn-color-fitted-level-3: cornflowerblue;\n\n  /* Specific color for light theme */\n  --sklearn-color-text-on-default-background: var(--sg-text-color, var(--theme-code-foreground, var(--jp-content-font-color1, black)));\n  --sklearn-color-background: var(--sg-background-color, var(--theme-background, var(--jp-layout-color0, white)));\n  --sklearn-color-border-box: var(--sg-text-color, var(--theme-code-foreground, var(--jp-content-font-color1, black)));\n  --sklearn-color-icon: #696969;\n\n  @media (prefers-color-scheme: dark) {\n    /* Redefinition of color scheme for dark theme */\n    --sklearn-color-text-on-default-background: var(--sg-text-color, var(--theme-code-foreground, var(--jp-content-font-color1, white)));\n    --sklearn-color-background: var(--sg-background-color, var(--theme-background, var(--jp-layout-color0, #111)));\n    --sklearn-color-border-box: var(--sg-text-color, var(--theme-code-foreground, var(--jp-content-font-color1, white)));\n    --sklearn-color-icon: #878787;\n  }\n}\n\n#sk-container-id-27 {\n  color: var(--sklearn-color-text);\n}\n\n#sk-container-id-27 pre {\n  padding: 0;\n}\n\n#sk-container-id-27 input.sk-hidden--visually {\n  border: 0;\n  clip: rect(1px 1px 1px 1px);\n  clip: rect(1px, 1px, 1px, 1px);\n  height: 1px;\n  margin: -1px;\n  overflow: hidden;\n  padding: 0;\n  position: absolute;\n  width: 1px;\n}\n\n#sk-container-id-27 div.sk-dashed-wrapped {\n  border: 1px dashed var(--sklearn-color-line);\n  margin: 0 0.4em 0.5em 0.4em;\n  box-sizing: border-box;\n  padding-bottom: 0.4em;\n  background-color: var(--sklearn-color-background);\n}\n\n#sk-container-id-27 div.sk-container {\n  /* jupyter's `normalize.less` sets `[hidden] { display: none; }`\n     but bootstrap.min.css set `[hidden] { display: none !important; }`\n     so we also need the `!important` here to be able to override the\n     default hidden behavior on the sphinx rendered scikit-learn.org.\n     See: https://github.com/scikit-learn/scikit-learn/issues/21755 */\n  display: inline-block !important;\n  position: relative;\n}\n\n#sk-container-id-27 div.sk-text-repr-fallback {\n  display: none;\n}\n\ndiv.sk-parallel-item,\ndiv.sk-serial,\ndiv.sk-item {\n  /* draw centered vertical line to link estimators */\n  background-image: linear-gradient(var(--sklearn-color-text-on-default-background), var(--sklearn-color-text-on-default-background));\n  background-size: 2px 100%;\n  background-repeat: no-repeat;\n  background-position: center center;\n}\n\n/* Parallel-specific style estimator block */\n\n#sk-container-id-27 div.sk-parallel-item::after {\n  content: \"\";\n  width: 100%;\n  border-bottom: 2px solid var(--sklearn-color-text-on-default-background);\n  flex-grow: 1;\n}\n\n#sk-container-id-27 div.sk-parallel {\n  display: flex;\n  align-items: stretch;\n  justify-content: center;\n  background-color: var(--sklearn-color-background);\n  position: relative;\n}\n\n#sk-container-id-27 div.sk-parallel-item {\n  display: flex;\n  flex-direction: column;\n}\n\n#sk-container-id-27 div.sk-parallel-item:first-child::after {\n  align-self: flex-end;\n  width: 50%;\n}\n\n#sk-container-id-27 div.sk-parallel-item:last-child::after {\n  align-self: flex-start;\n  width: 50%;\n}\n\n#sk-container-id-27 div.sk-parallel-item:only-child::after {\n  width: 0;\n}\n\n/* Serial-specific style estimator block */\n\n#sk-container-id-27 div.sk-serial {\n  display: flex;\n  flex-direction: column;\n  align-items: center;\n  background-color: var(--sklearn-color-background);\n  padding-right: 1em;\n  padding-left: 1em;\n}\n\n\n/* Toggleable style: style used for estimator/Pipeline/ColumnTransformer box that is\nclickable and can be expanded/collapsed.\n- Pipeline and ColumnTransformer use this feature and define the default style\n- Estimators will overwrite some part of the style using the `sk-estimator` class\n*/\n\n/* Pipeline and ColumnTransformer style (default) */\n\n#sk-container-id-27 div.sk-toggleable {\n  /* Default theme specific background. It is overwritten whether we have a\n  specific estimator or a Pipeline/ColumnTransformer */\n  background-color: var(--sklearn-color-background);\n}\n\n/* Toggleable label */\n#sk-container-id-27 label.sk-toggleable__label {\n  cursor: pointer;\n  display: block;\n  width: 100%;\n  margin-bottom: 0;\n  padding: 0.5em;\n  box-sizing: border-box;\n  text-align: center;\n}\n\n#sk-container-id-27 label.sk-toggleable__label-arrow:before {\n  /* Arrow on the left of the label */\n  content: \"▸\";\n  float: left;\n  margin-right: 0.25em;\n  color: var(--sklearn-color-icon);\n}\n\n#sk-container-id-27 label.sk-toggleable__label-arrow:hover:before {\n  color: var(--sklearn-color-text);\n}\n\n/* Toggleable content - dropdown */\n\n#sk-container-id-27 div.sk-toggleable__content {\n  max-height: 0;\n  max-width: 0;\n  overflow: hidden;\n  text-align: left;\n  /* unfitted */\n  background-color: var(--sklearn-color-unfitted-level-0);\n}\n\n#sk-container-id-27 div.sk-toggleable__content.fitted {\n  /* fitted */\n  background-color: var(--sklearn-color-fitted-level-0);\n}\n\n#sk-container-id-27 div.sk-toggleable__content pre {\n  margin: 0.2em;\n  border-radius: 0.25em;\n  color: var(--sklearn-color-text);\n  /* unfitted */\n  background-color: var(--sklearn-color-unfitted-level-0);\n}\n\n#sk-container-id-27 div.sk-toggleable__content.fitted pre {\n  /* unfitted */\n  background-color: var(--sklearn-color-fitted-level-0);\n}\n\n#sk-container-id-27 input.sk-toggleable__control:checked~div.sk-toggleable__content {\n  /* Expand drop-down */\n  max-height: 200px;\n  max-width: 100%;\n  overflow: auto;\n}\n\n#sk-container-id-27 input.sk-toggleable__control:checked~label.sk-toggleable__label-arrow:before {\n  content: \"▾\";\n}\n\n/* Pipeline/ColumnTransformer-specific style */\n\n#sk-container-id-27 div.sk-label input.sk-toggleable__control:checked~label.sk-toggleable__label {\n  color: var(--sklearn-color-text);\n  background-color: var(--sklearn-color-unfitted-level-2);\n}\n\n#sk-container-id-27 div.sk-label.fitted input.sk-toggleable__control:checked~label.sk-toggleable__label {\n  background-color: var(--sklearn-color-fitted-level-2);\n}\n\n/* Estimator-specific style */\n\n/* Colorize estimator box */\n#sk-container-id-27 div.sk-estimator input.sk-toggleable__control:checked~label.sk-toggleable__label {\n  /* unfitted */\n  background-color: var(--sklearn-color-unfitted-level-2);\n}\n\n#sk-container-id-27 div.sk-estimator.fitted input.sk-toggleable__control:checked~label.sk-toggleable__label {\n  /* fitted */\n  background-color: var(--sklearn-color-fitted-level-2);\n}\n\n#sk-container-id-27 div.sk-label label.sk-toggleable__label,\n#sk-container-id-27 div.sk-label label {\n  /* The background is the default theme color */\n  color: var(--sklearn-color-text-on-default-background);\n}\n\n/* On hover, darken the color of the background */\n#sk-container-id-27 div.sk-label:hover label.sk-toggleable__label {\n  color: var(--sklearn-color-text);\n  background-color: var(--sklearn-color-unfitted-level-2);\n}\n\n/* Label box, darken color on hover, fitted */\n#sk-container-id-27 div.sk-label.fitted:hover label.sk-toggleable__label.fitted {\n  color: var(--sklearn-color-text);\n  background-color: var(--sklearn-color-fitted-level-2);\n}\n\n/* Estimator label */\n\n#sk-container-id-27 div.sk-label label {\n  font-family: monospace;\n  font-weight: bold;\n  display: inline-block;\n  line-height: 1.2em;\n}\n\n#sk-container-id-27 div.sk-label-container {\n  text-align: center;\n}\n\n/* Estimator-specific */\n#sk-container-id-27 div.sk-estimator {\n  font-family: monospace;\n  border: 1px dotted var(--sklearn-color-border-box);\n  border-radius: 0.25em;\n  box-sizing: border-box;\n  margin-bottom: 0.5em;\n  /* unfitted */\n  background-color: var(--sklearn-color-unfitted-level-0);\n}\n\n#sk-container-id-27 div.sk-estimator.fitted {\n  /* fitted */\n  background-color: var(--sklearn-color-fitted-level-0);\n}\n\n/* on hover */\n#sk-container-id-27 div.sk-estimator:hover {\n  /* unfitted */\n  background-color: var(--sklearn-color-unfitted-level-2);\n}\n\n#sk-container-id-27 div.sk-estimator.fitted:hover {\n  /* fitted */\n  background-color: var(--sklearn-color-fitted-level-2);\n}\n\n/* Specification for estimator info (e.g. \"i\" and \"?\") */\n\n/* Common style for \"i\" and \"?\" */\n\n.sk-estimator-doc-link,\na:link.sk-estimator-doc-link,\na:visited.sk-estimator-doc-link {\n  float: right;\n  font-size: smaller;\n  line-height: 1em;\n  font-family: monospace;\n  background-color: var(--sklearn-color-background);\n  border-radius: 1em;\n  height: 1em;\n  width: 1em;\n  text-decoration: none !important;\n  margin-left: 1ex;\n  /* unfitted */\n  border: var(--sklearn-color-unfitted-level-1) 1pt solid;\n  color: var(--sklearn-color-unfitted-level-1);\n}\n\n.sk-estimator-doc-link.fitted,\na:link.sk-estimator-doc-link.fitted,\na:visited.sk-estimator-doc-link.fitted {\n  /* fitted */\n  border: var(--sklearn-color-fitted-level-1) 1pt solid;\n  color: var(--sklearn-color-fitted-level-1);\n}\n\n/* On hover */\ndiv.sk-estimator:hover .sk-estimator-doc-link:hover,\n.sk-estimator-doc-link:hover,\ndiv.sk-label-container:hover .sk-estimator-doc-link:hover,\n.sk-estimator-doc-link:hover {\n  /* unfitted */\n  background-color: var(--sklearn-color-unfitted-level-3);\n  color: var(--sklearn-color-background);\n  text-decoration: none;\n}\n\ndiv.sk-estimator.fitted:hover .sk-estimator-doc-link.fitted:hover,\n.sk-estimator-doc-link.fitted:hover,\ndiv.sk-label-container:hover .sk-estimator-doc-link.fitted:hover,\n.sk-estimator-doc-link.fitted:hover {\n  /* fitted */\n  background-color: var(--sklearn-color-fitted-level-3);\n  color: var(--sklearn-color-background);\n  text-decoration: none;\n}\n\n/* Span, style for the box shown on hovering the info icon */\n.sk-estimator-doc-link span {\n  display: none;\n  z-index: 9999;\n  position: relative;\n  font-weight: normal;\n  right: .2ex;\n  padding: .5ex;\n  margin: .5ex;\n  width: min-content;\n  min-width: 20ex;\n  max-width: 50ex;\n  color: var(--sklearn-color-text);\n  box-shadow: 2pt 2pt 4pt #999;\n  /* unfitted */\n  background: var(--sklearn-color-unfitted-level-0);\n  border: .5pt solid var(--sklearn-color-unfitted-level-3);\n}\n\n.sk-estimator-doc-link.fitted span {\n  /* fitted */\n  background: var(--sklearn-color-fitted-level-0);\n  border: var(--sklearn-color-fitted-level-3);\n}\n\n.sk-estimator-doc-link:hover span {\n  display: block;\n}\n\n/* \"?\"-specific style due to the `<a>` HTML tag */\n\n#sk-container-id-27 a.estimator_doc_link {\n  float: right;\n  font-size: 1rem;\n  line-height: 1em;\n  font-family: monospace;\n  background-color: var(--sklearn-color-background);\n  border-radius: 1rem;\n  height: 1rem;\n  width: 1rem;\n  text-decoration: none;\n  /* unfitted */\n  color: var(--sklearn-color-unfitted-level-1);\n  border: var(--sklearn-color-unfitted-level-1) 1pt solid;\n}\n\n#sk-container-id-27 a.estimator_doc_link.fitted {\n  /* fitted */\n  border: var(--sklearn-color-fitted-level-1) 1pt solid;\n  color: var(--sklearn-color-fitted-level-1);\n}\n\n/* On hover */\n#sk-container-id-27 a.estimator_doc_link:hover {\n  /* unfitted */\n  background-color: var(--sklearn-color-unfitted-level-3);\n  color: var(--sklearn-color-background);\n  text-decoration: none;\n}\n\n#sk-container-id-27 a.estimator_doc_link.fitted:hover {\n  /* fitted */\n  background-color: var(--sklearn-color-fitted-level-3);\n}\n</style><div id=\"sk-container-id-27\" class=\"sk-top-container\"><div class=\"sk-text-repr-fallback\"><pre>RandomForestClassifier(max_depth=5, random_state=42)</pre><b>In a Jupyter environment, please rerun this cell to show the HTML representation or trust the notebook. <br />On GitHub, the HTML representation is unable to render, please try loading this page with nbviewer.org.</b></div><div class=\"sk-container\" hidden><div class=\"sk-item\"><div class=\"sk-estimator fitted sk-toggleable\"><input class=\"sk-toggleable__control sk-hidden--visually\" id=\"sk-estimator-id-45\" type=\"checkbox\" checked><label for=\"sk-estimator-id-45\" class=\"sk-toggleable__label fitted sk-toggleable__label-arrow fitted\">&nbsp;&nbsp;RandomForestClassifier<a class=\"sk-estimator-doc-link fitted\" rel=\"noreferrer\" target=\"_blank\" href=\"https://scikit-learn.org/1.5/modules/generated/sklearn.ensemble.RandomForestClassifier.html\">?<span>Documentation for RandomForestClassifier</span></a><span class=\"sk-estimator-doc-link fitted\">i<span>Fitted</span></span></label><div class=\"sk-toggleable__content fitted\"><pre>RandomForestClassifier(max_depth=5, random_state=42)</pre></div> </div></div></div></div>"
     },
     "execution_count": 174,
     "metadata": {},
     "output_type": "execute_result"
    }
   ],
   "source": [
    "random_forest_model1 = RandomForestClassifier(max_depth=5, random_state=42)\n",
    "random_forest_model1.fit(train_val_features, train_val_targets)"
   ],
   "metadata": {
    "collapsed": false,
    "ExecuteTime": {
     "end_time": "2024-11-19T16:49:58.516115300Z",
     "start_time": "2024-11-19T16:49:58.200003Z"
    }
   }
  },
  {
   "cell_type": "code",
   "execution_count": 175,
   "outputs": [
    {
     "name": "stdout",
     "output_type": "stream",
     "text": [
      "Training Accuracy: 0.7784684939248375\n",
      "Training Precision: 0.776344122907389\n",
      "Training Recall: 0.7784684939248375\n",
      "Training F1: 0.7431394631516647\n",
      "Training ROC AUC: 0.8985897499641111\n",
      "Test Accuracy: 0.735593220338983\n",
      "Test Precision: 0.7151880570613843\n",
      "Test Recall: 0.735593220338983\n",
      "Test F1: 0.6966333495501774\n",
      "Test ROC AUC: 0.8615438684296274\n",
      "\n"
     ]
    }
   ],
   "source": [
    "evaluate(random_forest_model1)"
   ],
   "metadata": {
    "collapsed": false,
    "ExecuteTime": {
     "end_time": "2024-11-19T16:49:58.608730500Z",
     "start_time": "2024-11-19T16:49:58.502365200Z"
    }
   }
  },
  {
   "cell_type": "markdown",
   "metadata": {},
   "source": [
    "## Tuning the hyperparameters\n",
    "\n",
    "### Grid search vs Random search"
   ]
  },
  {
   "cell_type": "code",
   "execution_count": 176,
   "outputs": [
    {
     "name": "stdout",
     "output_type": "stream",
     "text": [
      "Fitting 5 folds for each of 10 candidates, totalling 50 fits\n"
     ]
    },
    {
     "data": {
      "text/plain": "GridSearchCV(cv=5, estimator=RandomForestClassifier(random_state=42), n_jobs=-1,\n             param_grid={'n_estimators': array([ 5, 15, 25, 35, 45, 55, 65, 75, 85, 95])},\n             refit='f1_micro',\n             scoring=['accuracy', 'precision_micro', 'recall_micro', 'f1_micro',\n                      'roc_auc_ovr'],\n             verbose=1)",
      "text/html": "<style>#sk-container-id-28 {\n  /* Definition of color scheme common for light and dark mode */\n  --sklearn-color-text: black;\n  --sklearn-color-line: gray;\n  /* Definition of color scheme for unfitted estimators */\n  --sklearn-color-unfitted-level-0: #fff5e6;\n  --sklearn-color-unfitted-level-1: #f6e4d2;\n  --sklearn-color-unfitted-level-2: #ffe0b3;\n  --sklearn-color-unfitted-level-3: chocolate;\n  /* Definition of color scheme for fitted estimators */\n  --sklearn-color-fitted-level-0: #f0f8ff;\n  --sklearn-color-fitted-level-1: #d4ebff;\n  --sklearn-color-fitted-level-2: #b3dbfd;\n  --sklearn-color-fitted-level-3: cornflowerblue;\n\n  /* Specific color for light theme */\n  --sklearn-color-text-on-default-background: var(--sg-text-color, var(--theme-code-foreground, var(--jp-content-font-color1, black)));\n  --sklearn-color-background: var(--sg-background-color, var(--theme-background, var(--jp-layout-color0, white)));\n  --sklearn-color-border-box: var(--sg-text-color, var(--theme-code-foreground, var(--jp-content-font-color1, black)));\n  --sklearn-color-icon: #696969;\n\n  @media (prefers-color-scheme: dark) {\n    /* Redefinition of color scheme for dark theme */\n    --sklearn-color-text-on-default-background: var(--sg-text-color, var(--theme-code-foreground, var(--jp-content-font-color1, white)));\n    --sklearn-color-background: var(--sg-background-color, var(--theme-background, var(--jp-layout-color0, #111)));\n    --sklearn-color-border-box: var(--sg-text-color, var(--theme-code-foreground, var(--jp-content-font-color1, white)));\n    --sklearn-color-icon: #878787;\n  }\n}\n\n#sk-container-id-28 {\n  color: var(--sklearn-color-text);\n}\n\n#sk-container-id-28 pre {\n  padding: 0;\n}\n\n#sk-container-id-28 input.sk-hidden--visually {\n  border: 0;\n  clip: rect(1px 1px 1px 1px);\n  clip: rect(1px, 1px, 1px, 1px);\n  height: 1px;\n  margin: -1px;\n  overflow: hidden;\n  padding: 0;\n  position: absolute;\n  width: 1px;\n}\n\n#sk-container-id-28 div.sk-dashed-wrapped {\n  border: 1px dashed var(--sklearn-color-line);\n  margin: 0 0.4em 0.5em 0.4em;\n  box-sizing: border-box;\n  padding-bottom: 0.4em;\n  background-color: var(--sklearn-color-background);\n}\n\n#sk-container-id-28 div.sk-container {\n  /* jupyter's `normalize.less` sets `[hidden] { display: none; }`\n     but bootstrap.min.css set `[hidden] { display: none !important; }`\n     so we also need the `!important` here to be able to override the\n     default hidden behavior on the sphinx rendered scikit-learn.org.\n     See: https://github.com/scikit-learn/scikit-learn/issues/21755 */\n  display: inline-block !important;\n  position: relative;\n}\n\n#sk-container-id-28 div.sk-text-repr-fallback {\n  display: none;\n}\n\ndiv.sk-parallel-item,\ndiv.sk-serial,\ndiv.sk-item {\n  /* draw centered vertical line to link estimators */\n  background-image: linear-gradient(var(--sklearn-color-text-on-default-background), var(--sklearn-color-text-on-default-background));\n  background-size: 2px 100%;\n  background-repeat: no-repeat;\n  background-position: center center;\n}\n\n/* Parallel-specific style estimator block */\n\n#sk-container-id-28 div.sk-parallel-item::after {\n  content: \"\";\n  width: 100%;\n  border-bottom: 2px solid var(--sklearn-color-text-on-default-background);\n  flex-grow: 1;\n}\n\n#sk-container-id-28 div.sk-parallel {\n  display: flex;\n  align-items: stretch;\n  justify-content: center;\n  background-color: var(--sklearn-color-background);\n  position: relative;\n}\n\n#sk-container-id-28 div.sk-parallel-item {\n  display: flex;\n  flex-direction: column;\n}\n\n#sk-container-id-28 div.sk-parallel-item:first-child::after {\n  align-self: flex-end;\n  width: 50%;\n}\n\n#sk-container-id-28 div.sk-parallel-item:last-child::after {\n  align-self: flex-start;\n  width: 50%;\n}\n\n#sk-container-id-28 div.sk-parallel-item:only-child::after {\n  width: 0;\n}\n\n/* Serial-specific style estimator block */\n\n#sk-container-id-28 div.sk-serial {\n  display: flex;\n  flex-direction: column;\n  align-items: center;\n  background-color: var(--sklearn-color-background);\n  padding-right: 1em;\n  padding-left: 1em;\n}\n\n\n/* Toggleable style: style used for estimator/Pipeline/ColumnTransformer box that is\nclickable and can be expanded/collapsed.\n- Pipeline and ColumnTransformer use this feature and define the default style\n- Estimators will overwrite some part of the style using the `sk-estimator` class\n*/\n\n/* Pipeline and ColumnTransformer style (default) */\n\n#sk-container-id-28 div.sk-toggleable {\n  /* Default theme specific background. It is overwritten whether we have a\n  specific estimator or a Pipeline/ColumnTransformer */\n  background-color: var(--sklearn-color-background);\n}\n\n/* Toggleable label */\n#sk-container-id-28 label.sk-toggleable__label {\n  cursor: pointer;\n  display: block;\n  width: 100%;\n  margin-bottom: 0;\n  padding: 0.5em;\n  box-sizing: border-box;\n  text-align: center;\n}\n\n#sk-container-id-28 label.sk-toggleable__label-arrow:before {\n  /* Arrow on the left of the label */\n  content: \"▸\";\n  float: left;\n  margin-right: 0.25em;\n  color: var(--sklearn-color-icon);\n}\n\n#sk-container-id-28 label.sk-toggleable__label-arrow:hover:before {\n  color: var(--sklearn-color-text);\n}\n\n/* Toggleable content - dropdown */\n\n#sk-container-id-28 div.sk-toggleable__content {\n  max-height: 0;\n  max-width: 0;\n  overflow: hidden;\n  text-align: left;\n  /* unfitted */\n  background-color: var(--sklearn-color-unfitted-level-0);\n}\n\n#sk-container-id-28 div.sk-toggleable__content.fitted {\n  /* fitted */\n  background-color: var(--sklearn-color-fitted-level-0);\n}\n\n#sk-container-id-28 div.sk-toggleable__content pre {\n  margin: 0.2em;\n  border-radius: 0.25em;\n  color: var(--sklearn-color-text);\n  /* unfitted */\n  background-color: var(--sklearn-color-unfitted-level-0);\n}\n\n#sk-container-id-28 div.sk-toggleable__content.fitted pre {\n  /* unfitted */\n  background-color: var(--sklearn-color-fitted-level-0);\n}\n\n#sk-container-id-28 input.sk-toggleable__control:checked~div.sk-toggleable__content {\n  /* Expand drop-down */\n  max-height: 200px;\n  max-width: 100%;\n  overflow: auto;\n}\n\n#sk-container-id-28 input.sk-toggleable__control:checked~label.sk-toggleable__label-arrow:before {\n  content: \"▾\";\n}\n\n/* Pipeline/ColumnTransformer-specific style */\n\n#sk-container-id-28 div.sk-label input.sk-toggleable__control:checked~label.sk-toggleable__label {\n  color: var(--sklearn-color-text);\n  background-color: var(--sklearn-color-unfitted-level-2);\n}\n\n#sk-container-id-28 div.sk-label.fitted input.sk-toggleable__control:checked~label.sk-toggleable__label {\n  background-color: var(--sklearn-color-fitted-level-2);\n}\n\n/* Estimator-specific style */\n\n/* Colorize estimator box */\n#sk-container-id-28 div.sk-estimator input.sk-toggleable__control:checked~label.sk-toggleable__label {\n  /* unfitted */\n  background-color: var(--sklearn-color-unfitted-level-2);\n}\n\n#sk-container-id-28 div.sk-estimator.fitted input.sk-toggleable__control:checked~label.sk-toggleable__label {\n  /* fitted */\n  background-color: var(--sklearn-color-fitted-level-2);\n}\n\n#sk-container-id-28 div.sk-label label.sk-toggleable__label,\n#sk-container-id-28 div.sk-label label {\n  /* The background is the default theme color */\n  color: var(--sklearn-color-text-on-default-background);\n}\n\n/* On hover, darken the color of the background */\n#sk-container-id-28 div.sk-label:hover label.sk-toggleable__label {\n  color: var(--sklearn-color-text);\n  background-color: var(--sklearn-color-unfitted-level-2);\n}\n\n/* Label box, darken color on hover, fitted */\n#sk-container-id-28 div.sk-label.fitted:hover label.sk-toggleable__label.fitted {\n  color: var(--sklearn-color-text);\n  background-color: var(--sklearn-color-fitted-level-2);\n}\n\n/* Estimator label */\n\n#sk-container-id-28 div.sk-label label {\n  font-family: monospace;\n  font-weight: bold;\n  display: inline-block;\n  line-height: 1.2em;\n}\n\n#sk-container-id-28 div.sk-label-container {\n  text-align: center;\n}\n\n/* Estimator-specific */\n#sk-container-id-28 div.sk-estimator {\n  font-family: monospace;\n  border: 1px dotted var(--sklearn-color-border-box);\n  border-radius: 0.25em;\n  box-sizing: border-box;\n  margin-bottom: 0.5em;\n  /* unfitted */\n  background-color: var(--sklearn-color-unfitted-level-0);\n}\n\n#sk-container-id-28 div.sk-estimator.fitted {\n  /* fitted */\n  background-color: var(--sklearn-color-fitted-level-0);\n}\n\n/* on hover */\n#sk-container-id-28 div.sk-estimator:hover {\n  /* unfitted */\n  background-color: var(--sklearn-color-unfitted-level-2);\n}\n\n#sk-container-id-28 div.sk-estimator.fitted:hover {\n  /* fitted */\n  background-color: var(--sklearn-color-fitted-level-2);\n}\n\n/* Specification for estimator info (e.g. \"i\" and \"?\") */\n\n/* Common style for \"i\" and \"?\" */\n\n.sk-estimator-doc-link,\na:link.sk-estimator-doc-link,\na:visited.sk-estimator-doc-link {\n  float: right;\n  font-size: smaller;\n  line-height: 1em;\n  font-family: monospace;\n  background-color: var(--sklearn-color-background);\n  border-radius: 1em;\n  height: 1em;\n  width: 1em;\n  text-decoration: none !important;\n  margin-left: 1ex;\n  /* unfitted */\n  border: var(--sklearn-color-unfitted-level-1) 1pt solid;\n  color: var(--sklearn-color-unfitted-level-1);\n}\n\n.sk-estimator-doc-link.fitted,\na:link.sk-estimator-doc-link.fitted,\na:visited.sk-estimator-doc-link.fitted {\n  /* fitted */\n  border: var(--sklearn-color-fitted-level-1) 1pt solid;\n  color: var(--sklearn-color-fitted-level-1);\n}\n\n/* On hover */\ndiv.sk-estimator:hover .sk-estimator-doc-link:hover,\n.sk-estimator-doc-link:hover,\ndiv.sk-label-container:hover .sk-estimator-doc-link:hover,\n.sk-estimator-doc-link:hover {\n  /* unfitted */\n  background-color: var(--sklearn-color-unfitted-level-3);\n  color: var(--sklearn-color-background);\n  text-decoration: none;\n}\n\ndiv.sk-estimator.fitted:hover .sk-estimator-doc-link.fitted:hover,\n.sk-estimator-doc-link.fitted:hover,\ndiv.sk-label-container:hover .sk-estimator-doc-link.fitted:hover,\n.sk-estimator-doc-link.fitted:hover {\n  /* fitted */\n  background-color: var(--sklearn-color-fitted-level-3);\n  color: var(--sklearn-color-background);\n  text-decoration: none;\n}\n\n/* Span, style for the box shown on hovering the info icon */\n.sk-estimator-doc-link span {\n  display: none;\n  z-index: 9999;\n  position: relative;\n  font-weight: normal;\n  right: .2ex;\n  padding: .5ex;\n  margin: .5ex;\n  width: min-content;\n  min-width: 20ex;\n  max-width: 50ex;\n  color: var(--sklearn-color-text);\n  box-shadow: 2pt 2pt 4pt #999;\n  /* unfitted */\n  background: var(--sklearn-color-unfitted-level-0);\n  border: .5pt solid var(--sklearn-color-unfitted-level-3);\n}\n\n.sk-estimator-doc-link.fitted span {\n  /* fitted */\n  background: var(--sklearn-color-fitted-level-0);\n  border: var(--sklearn-color-fitted-level-3);\n}\n\n.sk-estimator-doc-link:hover span {\n  display: block;\n}\n\n/* \"?\"-specific style due to the `<a>` HTML tag */\n\n#sk-container-id-28 a.estimator_doc_link {\n  float: right;\n  font-size: 1rem;\n  line-height: 1em;\n  font-family: monospace;\n  background-color: var(--sklearn-color-background);\n  border-radius: 1rem;\n  height: 1rem;\n  width: 1rem;\n  text-decoration: none;\n  /* unfitted */\n  color: var(--sklearn-color-unfitted-level-1);\n  border: var(--sklearn-color-unfitted-level-1) 1pt solid;\n}\n\n#sk-container-id-28 a.estimator_doc_link.fitted {\n  /* fitted */\n  border: var(--sklearn-color-fitted-level-1) 1pt solid;\n  color: var(--sklearn-color-fitted-level-1);\n}\n\n/* On hover */\n#sk-container-id-28 a.estimator_doc_link:hover {\n  /* unfitted */\n  background-color: var(--sklearn-color-unfitted-level-3);\n  color: var(--sklearn-color-background);\n  text-decoration: none;\n}\n\n#sk-container-id-28 a.estimator_doc_link.fitted:hover {\n  /* fitted */\n  background-color: var(--sklearn-color-fitted-level-3);\n}\n</style><div id=\"sk-container-id-28\" class=\"sk-top-container\"><div class=\"sk-text-repr-fallback\"><pre>GridSearchCV(cv=5, estimator=RandomForestClassifier(random_state=42), n_jobs=-1,\n             param_grid={&#x27;n_estimators&#x27;: array([ 5, 15, 25, 35, 45, 55, 65, 75, 85, 95])},\n             refit=&#x27;f1_micro&#x27;,\n             scoring=[&#x27;accuracy&#x27;, &#x27;precision_micro&#x27;, &#x27;recall_micro&#x27;, &#x27;f1_micro&#x27;,\n                      &#x27;roc_auc_ovr&#x27;],\n             verbose=1)</pre><b>In a Jupyter environment, please rerun this cell to show the HTML representation or trust the notebook. <br />On GitHub, the HTML representation is unable to render, please try loading this page with nbviewer.org.</b></div><div class=\"sk-container\" hidden><div class=\"sk-item sk-dashed-wrapped\"><div class=\"sk-label-container\"><div class=\"sk-label fitted sk-toggleable\"><input class=\"sk-toggleable__control sk-hidden--visually\" id=\"sk-estimator-id-46\" type=\"checkbox\" ><label for=\"sk-estimator-id-46\" class=\"sk-toggleable__label fitted sk-toggleable__label-arrow fitted\">&nbsp;&nbsp;GridSearchCV<a class=\"sk-estimator-doc-link fitted\" rel=\"noreferrer\" target=\"_blank\" href=\"https://scikit-learn.org/1.5/modules/generated/sklearn.model_selection.GridSearchCV.html\">?<span>Documentation for GridSearchCV</span></a><span class=\"sk-estimator-doc-link fitted\">i<span>Fitted</span></span></label><div class=\"sk-toggleable__content fitted\"><pre>GridSearchCV(cv=5, estimator=RandomForestClassifier(random_state=42), n_jobs=-1,\n             param_grid={&#x27;n_estimators&#x27;: array([ 5, 15, 25, 35, 45, 55, 65, 75, 85, 95])},\n             refit=&#x27;f1_micro&#x27;,\n             scoring=[&#x27;accuracy&#x27;, &#x27;precision_micro&#x27;, &#x27;recall_micro&#x27;, &#x27;f1_micro&#x27;,\n                      &#x27;roc_auc_ovr&#x27;],\n             verbose=1)</pre></div> </div></div><div class=\"sk-parallel\"><div class=\"sk-parallel-item\"><div class=\"sk-item\"><div class=\"sk-label-container\"><div class=\"sk-label fitted sk-toggleable\"><input class=\"sk-toggleable__control sk-hidden--visually\" id=\"sk-estimator-id-47\" type=\"checkbox\" ><label for=\"sk-estimator-id-47\" class=\"sk-toggleable__label fitted sk-toggleable__label-arrow fitted\">best_estimator_: RandomForestClassifier</label><div class=\"sk-toggleable__content fitted\"><pre>RandomForestClassifier(n_estimators=np.int64(65), random_state=42)</pre></div> </div></div><div class=\"sk-serial\"><div class=\"sk-item\"><div class=\"sk-estimator fitted sk-toggleable\"><input class=\"sk-toggleable__control sk-hidden--visually\" id=\"sk-estimator-id-48\" type=\"checkbox\" ><label for=\"sk-estimator-id-48\" class=\"sk-toggleable__label fitted sk-toggleable__label-arrow fitted\">&nbsp;RandomForestClassifier<a class=\"sk-estimator-doc-link fitted\" rel=\"noreferrer\" target=\"_blank\" href=\"https://scikit-learn.org/1.5/modules/generated/sklearn.ensemble.RandomForestClassifier.html\">?<span>Documentation for RandomForestClassifier</span></a></label><div class=\"sk-toggleable__content fitted\"><pre>RandomForestClassifier(n_estimators=np.int64(65), random_state=42)</pre></div> </div></div></div></div></div></div></div></div></div>"
     },
     "execution_count": 176,
     "metadata": {},
     "output_type": "execute_result"
    }
   ],
   "source": [
    "from sklearn.ensemble import RandomForestClassifier\n",
    "from sklearn.preprocessing import LabelEncoder\n",
    "\n",
    "metrics = ['accuracy', 'precision_micro', 'recall_micro', 'f1_micro', 'roc_auc_ovr']\n",
    "#encoder = LabelEncoder()\n",
    "#train_val_targets_encoded = encoder.fit_transform(train_val_targets)\n",
    "\n",
    "grid_search = GridSearchCV(\n",
    "    RandomForestClassifier(random_state=42),\n",
    "    {\n",
    "        #'max_depth': np.arange(1, 15, 5),\n",
    "        'n_estimators': np.arange(5, 100, 10),\n",
    "        #'max_features': np.arange(0.1, 1.0, 0.05),\n",
    "    },\n",
    "    cv=5,\n",
    "    scoring=metrics,\n",
    "    refit='f1_micro',#metrics?\n",
    "    verbose=1,\n",
    "    n_jobs=-1\n",
    ")\n",
    "grid_search.fit(train_val_features, train_val_targets)"
   ],
   "metadata": {
    "collapsed": false,
    "ExecuteTime": {
     "end_time": "2024-11-19T16:50:01.194516400Z",
     "start_time": "2024-11-19T16:49:58.610741100Z"
    }
   }
  },
  {
   "cell_type": "code",
   "execution_count": 177,
   "outputs": [
    {
     "data": {
      "text/plain": "   mean_fit_time  std_fit_time  mean_score_time  std_score_time  \\\n0       0.043939      0.005036         0.031967        0.009146   \n1       0.132724      0.011599         0.044243        0.014035   \n2       0.213282      0.010837         0.040530        0.005763   \n3       0.286335      0.008682         0.087006        0.045561   \n4       0.523163      0.026233         0.045760        0.003335   \n5       0.462889      0.090370         0.047872        0.006607   \n6       0.561633      0.105987         0.054545        0.003515   \n7       0.534529      0.047747         0.045787        0.007611   \n8       0.569152      0.051148         0.047977        0.004144   \n9       0.581930      0.045618         0.044455        0.006333   \n\n   param_n_estimators                params  split0_test_accuracy  \\\n0                   5   {'n_estimators': 5}              0.737288   \n1                  15  {'n_estimators': 15}              0.744350   \n2                  25  {'n_estimators': 25}              0.740113   \n3                  35  {'n_estimators': 35}              0.752825   \n4                  45  {'n_estimators': 45}              0.750000   \n5                  55  {'n_estimators': 55}              0.751412   \n6                  65  {'n_estimators': 65}              0.758475   \n7                  75  {'n_estimators': 75}              0.752825   \n8                  85  {'n_estimators': 85}              0.744350   \n9                  95  {'n_estimators': 95}              0.750000   \n\n   split1_test_accuracy  split2_test_accuracy  split3_test_accuracy  ...  \\\n0              0.731638              0.717514              0.740113  ...   \n1              0.761299              0.772599              0.752825  ...   \n2              0.782486              0.772599              0.765537  ...   \n3              0.775424              0.776836              0.778249  ...   \n4              0.775424              0.774011              0.781073  ...   \n5              0.785311              0.782486              0.781073  ...   \n6              0.779661              0.782486              0.782486  ...   \n7              0.778249              0.775424              0.782486  ...   \n8              0.776836              0.772599              0.781073  ...   \n9              0.776836              0.779661              0.788136  ...   \n\n   std_test_f1_micro  rank_test_f1_micro  split0_test_roc_auc_ovr  \\\n0           0.008004                  10                 0.819752   \n1           0.009400                   9                 0.841322   \n2           0.014033                   8                 0.848978   \n3           0.009497                   5                 0.854524   \n4           0.010843                   7                 0.857585   \n5           0.012307                   3                 0.861488   \n6           0.008998                   1                 0.863077   \n7           0.011235                   4                 0.864788   \n8           0.013737                   6                 0.866890   \n9           0.013217                   2                 0.868210   \n\n   split1_test_roc_auc_ovr  split2_test_roc_auc_ovr  split3_test_roc_auc_ovr  \\\n0                 0.829108                 0.837312                 0.821602   \n1                 0.859617                 0.883193                 0.850520   \n2                 0.871838                 0.891434                 0.858149   \n3                 0.876661                 0.894012                 0.863082   \n4                 0.879224                 0.895271                 0.870089   \n5                 0.881131                 0.897647                 0.869357   \n6                 0.879190                 0.899087                 0.869629   \n7                 0.881037                 0.898140                 0.872016   \n8                 0.882638                 0.899816                 0.873074   \n9                 0.882104                 0.900301                 0.875378   \n\n   split4_test_roc_auc_ovr  mean_test_roc_auc_ovr  std_test_roc_auc_ovr  \\\n0                 0.824679               0.826491              0.006270   \n1                 0.865294               0.859989              0.014176   \n2                 0.874034               0.868887              0.014528   \n3                 0.876728               0.873001              0.013480   \n4                 0.882495               0.876933              0.012599   \n5                 0.885117               0.878948              0.012564   \n6                 0.887439               0.879684              0.012757   \n7                 0.890062               0.881209              0.011994   \n8                 0.891401               0.882764              0.011927   \n9                 0.893097               0.883818              0.011624   \n\n   rank_test_roc_auc_ovr  \n0                     10  \n1                      9  \n2                      8  \n3                      7  \n4                      6  \n5                      5  \n6                      4  \n7                      3  \n8                      2  \n9                      1  \n\n[10 rows x 46 columns]",
      "text/html": "<div>\n<style scoped>\n    .dataframe tbody tr th:only-of-type {\n        vertical-align: middle;\n    }\n\n    .dataframe tbody tr th {\n        vertical-align: top;\n    }\n\n    .dataframe thead th {\n        text-align: right;\n    }\n</style>\n<table border=\"1\" class=\"dataframe\">\n  <thead>\n    <tr style=\"text-align: right;\">\n      <th></th>\n      <th>mean_fit_time</th>\n      <th>std_fit_time</th>\n      <th>mean_score_time</th>\n      <th>std_score_time</th>\n      <th>param_n_estimators</th>\n      <th>params</th>\n      <th>split0_test_accuracy</th>\n      <th>split1_test_accuracy</th>\n      <th>split2_test_accuracy</th>\n      <th>split3_test_accuracy</th>\n      <th>...</th>\n      <th>std_test_f1_micro</th>\n      <th>rank_test_f1_micro</th>\n      <th>split0_test_roc_auc_ovr</th>\n      <th>split1_test_roc_auc_ovr</th>\n      <th>split2_test_roc_auc_ovr</th>\n      <th>split3_test_roc_auc_ovr</th>\n      <th>split4_test_roc_auc_ovr</th>\n      <th>mean_test_roc_auc_ovr</th>\n      <th>std_test_roc_auc_ovr</th>\n      <th>rank_test_roc_auc_ovr</th>\n    </tr>\n  </thead>\n  <tbody>\n    <tr>\n      <th>0</th>\n      <td>0.043939</td>\n      <td>0.005036</td>\n      <td>0.031967</td>\n      <td>0.009146</td>\n      <td>5</td>\n      <td>{'n_estimators': 5}</td>\n      <td>0.737288</td>\n      <td>0.731638</td>\n      <td>0.717514</td>\n      <td>0.740113</td>\n      <td>...</td>\n      <td>0.008004</td>\n      <td>10</td>\n      <td>0.819752</td>\n      <td>0.829108</td>\n      <td>0.837312</td>\n      <td>0.821602</td>\n      <td>0.824679</td>\n      <td>0.826491</td>\n      <td>0.006270</td>\n      <td>10</td>\n    </tr>\n    <tr>\n      <th>1</th>\n      <td>0.132724</td>\n      <td>0.011599</td>\n      <td>0.044243</td>\n      <td>0.014035</td>\n      <td>15</td>\n      <td>{'n_estimators': 15}</td>\n      <td>0.744350</td>\n      <td>0.761299</td>\n      <td>0.772599</td>\n      <td>0.752825</td>\n      <td>...</td>\n      <td>0.009400</td>\n      <td>9</td>\n      <td>0.841322</td>\n      <td>0.859617</td>\n      <td>0.883193</td>\n      <td>0.850520</td>\n      <td>0.865294</td>\n      <td>0.859989</td>\n      <td>0.014176</td>\n      <td>9</td>\n    </tr>\n    <tr>\n      <th>2</th>\n      <td>0.213282</td>\n      <td>0.010837</td>\n      <td>0.040530</td>\n      <td>0.005763</td>\n      <td>25</td>\n      <td>{'n_estimators': 25}</td>\n      <td>0.740113</td>\n      <td>0.782486</td>\n      <td>0.772599</td>\n      <td>0.765537</td>\n      <td>...</td>\n      <td>0.014033</td>\n      <td>8</td>\n      <td>0.848978</td>\n      <td>0.871838</td>\n      <td>0.891434</td>\n      <td>0.858149</td>\n      <td>0.874034</td>\n      <td>0.868887</td>\n      <td>0.014528</td>\n      <td>8</td>\n    </tr>\n    <tr>\n      <th>3</th>\n      <td>0.286335</td>\n      <td>0.008682</td>\n      <td>0.087006</td>\n      <td>0.045561</td>\n      <td>35</td>\n      <td>{'n_estimators': 35}</td>\n      <td>0.752825</td>\n      <td>0.775424</td>\n      <td>0.776836</td>\n      <td>0.778249</td>\n      <td>...</td>\n      <td>0.009497</td>\n      <td>5</td>\n      <td>0.854524</td>\n      <td>0.876661</td>\n      <td>0.894012</td>\n      <td>0.863082</td>\n      <td>0.876728</td>\n      <td>0.873001</td>\n      <td>0.013480</td>\n      <td>7</td>\n    </tr>\n    <tr>\n      <th>4</th>\n      <td>0.523163</td>\n      <td>0.026233</td>\n      <td>0.045760</td>\n      <td>0.003335</td>\n      <td>45</td>\n      <td>{'n_estimators': 45}</td>\n      <td>0.750000</td>\n      <td>0.775424</td>\n      <td>0.774011</td>\n      <td>0.781073</td>\n      <td>...</td>\n      <td>0.010843</td>\n      <td>7</td>\n      <td>0.857585</td>\n      <td>0.879224</td>\n      <td>0.895271</td>\n      <td>0.870089</td>\n      <td>0.882495</td>\n      <td>0.876933</td>\n      <td>0.012599</td>\n      <td>6</td>\n    </tr>\n    <tr>\n      <th>5</th>\n      <td>0.462889</td>\n      <td>0.090370</td>\n      <td>0.047872</td>\n      <td>0.006607</td>\n      <td>55</td>\n      <td>{'n_estimators': 55}</td>\n      <td>0.751412</td>\n      <td>0.785311</td>\n      <td>0.782486</td>\n      <td>0.781073</td>\n      <td>...</td>\n      <td>0.012307</td>\n      <td>3</td>\n      <td>0.861488</td>\n      <td>0.881131</td>\n      <td>0.897647</td>\n      <td>0.869357</td>\n      <td>0.885117</td>\n      <td>0.878948</td>\n      <td>0.012564</td>\n      <td>5</td>\n    </tr>\n    <tr>\n      <th>6</th>\n      <td>0.561633</td>\n      <td>0.105987</td>\n      <td>0.054545</td>\n      <td>0.003515</td>\n      <td>65</td>\n      <td>{'n_estimators': 65}</td>\n      <td>0.758475</td>\n      <td>0.779661</td>\n      <td>0.782486</td>\n      <td>0.782486</td>\n      <td>...</td>\n      <td>0.008998</td>\n      <td>1</td>\n      <td>0.863077</td>\n      <td>0.879190</td>\n      <td>0.899087</td>\n      <td>0.869629</td>\n      <td>0.887439</td>\n      <td>0.879684</td>\n      <td>0.012757</td>\n      <td>4</td>\n    </tr>\n    <tr>\n      <th>7</th>\n      <td>0.534529</td>\n      <td>0.047747</td>\n      <td>0.045787</td>\n      <td>0.007611</td>\n      <td>75</td>\n      <td>{'n_estimators': 75}</td>\n      <td>0.752825</td>\n      <td>0.778249</td>\n      <td>0.775424</td>\n      <td>0.782486</td>\n      <td>...</td>\n      <td>0.011235</td>\n      <td>4</td>\n      <td>0.864788</td>\n      <td>0.881037</td>\n      <td>0.898140</td>\n      <td>0.872016</td>\n      <td>0.890062</td>\n      <td>0.881209</td>\n      <td>0.011994</td>\n      <td>3</td>\n    </tr>\n    <tr>\n      <th>8</th>\n      <td>0.569152</td>\n      <td>0.051148</td>\n      <td>0.047977</td>\n      <td>0.004144</td>\n      <td>85</td>\n      <td>{'n_estimators': 85}</td>\n      <td>0.744350</td>\n      <td>0.776836</td>\n      <td>0.772599</td>\n      <td>0.781073</td>\n      <td>...</td>\n      <td>0.013737</td>\n      <td>6</td>\n      <td>0.866890</td>\n      <td>0.882638</td>\n      <td>0.899816</td>\n      <td>0.873074</td>\n      <td>0.891401</td>\n      <td>0.882764</td>\n      <td>0.011927</td>\n      <td>2</td>\n    </tr>\n    <tr>\n      <th>9</th>\n      <td>0.581930</td>\n      <td>0.045618</td>\n      <td>0.044455</td>\n      <td>0.006333</td>\n      <td>95</td>\n      <td>{'n_estimators': 95}</td>\n      <td>0.750000</td>\n      <td>0.776836</td>\n      <td>0.779661</td>\n      <td>0.788136</td>\n      <td>...</td>\n      <td>0.013217</td>\n      <td>2</td>\n      <td>0.868210</td>\n      <td>0.882104</td>\n      <td>0.900301</td>\n      <td>0.875378</td>\n      <td>0.893097</td>\n      <td>0.883818</td>\n      <td>0.011624</td>\n      <td>1</td>\n    </tr>\n  </tbody>\n</table>\n<p>10 rows × 46 columns</p>\n</div>"
     },
     "execution_count": 177,
     "metadata": {},
     "output_type": "execute_result"
    }
   ],
   "source": [
    "cv_results = pd.DataFrame(grid_search.cv_results_)\n",
    "cv_results"
   ],
   "metadata": {
    "collapsed": false,
    "ExecuteTime": {
     "end_time": "2024-11-19T16:50:01.212232400Z",
     "start_time": "2024-11-19T16:50:01.210035300Z"
    }
   }
  },
  {
   "cell_type": "markdown",
   "source": [
    "## Creating a function for GridSearch"
   ],
   "metadata": {
    "collapsed": false
   }
  },
  {
   "cell_type": "code",
   "execution_count": 181,
   "outputs": [],
   "source": [
    "param_grid_RF = {\n",
    "        'max_depth': np.arange(1, 15, 5),\n",
    "        'n_estimators': np.arange(5, 100, 10),\n",
    "        'max_features': np.arange(0.1, 1.0, 0.05),\n",
    "        }"
   ],
   "metadata": {
    "collapsed": false,
    "ExecuteTime": {
     "end_time": "2024-11-19T16:50:49.289690800Z",
     "start_time": "2024-11-19T16:50:49.272741300Z"
    }
   }
  },
  {
   "cell_type": "code",
   "execution_count": 182,
   "outputs": [],
   "source": [
    "def train_grid_search(classifier, parameter_grid, scoring,refit, features, target, cv=5, verbose=1):\n",
    "    grid_search = GridSearchCV(\n",
    "        estimator=classifier,\n",
    "        param_grid=parameter_grid,\n",
    "        scoring=scoring,\n",
    "        refit=refit,\n",
    "        cv=cv,\n",
    "        verbose=verbose,\n",
    "        n_jobs=-1\n",
    "    )\n",
    "\n",
    "    grid_search.fit(features, target)\n",
    "\n",
    "    results = pd.DataFrame(grid_search.cv_results_)\n",
    "\n",
    "    best_model = grid_search.best_estimator_\n",
    "\n",
    "    print(f\"best parameters: {grid_search.best_params_}\")\n",
    "    print(f\"best score: {grid_search.best_score_:.4f}\")\n",
    "\n",
    "    return best_model, results"
   ],
   "metadata": {
    "collapsed": false,
    "ExecuteTime": {
     "end_time": "2024-11-19T16:50:50.731010200Z",
     "start_time": "2024-11-19T16:50:50.701577500Z"
    }
   }
  },
  {
   "cell_type": "code",
   "execution_count": 183,
   "outputs": [
    {
     "name": "stdout",
     "output_type": "stream",
     "text": [
      "Fitting 5 folds for each of 540 candidates, totalling 2700 fits\n",
      "best parameters: {'max_depth': np.int64(11), 'max_features': np.float64(0.15000000000000002), 'n_estimators': np.int64(95)}\n",
      "best score: 0.7765\n"
     ]
    },
    {
     "data": {
      "text/plain": "(RandomForestClassifier(max_depth=np.int64(11),\n                        max_features=np.float64(0.15000000000000002),\n                        n_estimators=np.int64(95)),\n      mean_fit_time  std_fit_time  mean_score_time  std_score_time  \\\n 0         0.010578      0.002638         0.031214        0.003442   \n 1         0.034169      0.003672         0.033865        0.004649   \n 2         0.059322      0.006429         0.035625        0.007133   \n 3         0.078611      0.004834         0.035852        0.002845   \n 4         0.098776      0.010169         0.034329        0.003671   \n ..             ...           ...              ...             ...   \n 535       1.167704      0.008351         0.041409        0.002552   \n 536       1.359162      0.014293         0.045274        0.005465   \n 537       1.596421      0.028549         0.046326        0.002041   \n 538       1.793234      0.039354         0.048940        0.006788   \n 539       1.891520      0.067668         0.038038        0.007055   \n \n      param_max_depth  param_max_features  param_n_estimators  \\\n 0                  1                0.10                   5   \n 1                  1                0.10                  15   \n 2                  1                0.10                  25   \n 3                  1                0.10                  35   \n 4                  1                0.10                  45   \n ..               ...                 ...                 ...   \n 535               11                0.95                  55   \n 536               11                0.95                  65   \n 537               11                0.95                  75   \n 538               11                0.95                  85   \n 539               11                0.95                  95   \n \n                                                 params  split0_test_accuracy  \\\n 0    {'max_depth': 1, 'max_features': 0.1, 'n_estim...              0.512712   \n 1    {'max_depth': 1, 'max_features': 0.1, 'n_estim...              0.673729   \n 2    {'max_depth': 1, 'max_features': 0.1, 'n_estim...              0.677966   \n 3    {'max_depth': 1, 'max_features': 0.1, 'n_estim...              0.694915   \n 4    {'max_depth': 1, 'max_features': 0.1, 'n_estim...              0.644068   \n ..                                                 ...                   ...   \n 535  {'max_depth': 11, 'max_features': 0.9500000000...              0.741525   \n 536  {'max_depth': 11, 'max_features': 0.9500000000...              0.744350   \n 537  {'max_depth': 11, 'max_features': 0.9500000000...              0.744350   \n 538  {'max_depth': 11, 'max_features': 0.9500000000...              0.750000   \n 539  {'max_depth': 11, 'max_features': 0.9500000000...              0.750000   \n \n      split1_test_accuracy  ...  std_test_f1_micro  rank_test_f1_micro  \\\n 0                0.689266  ...           0.061372                 539   \n 1                0.573446  ...           0.048735                 540   \n 2                0.632768  ...           0.030768                 535   \n 3                0.662429  ...           0.021279                 533   \n 4                0.682203  ...           0.021955                 532   \n ..                    ...  ...                ...                 ...   \n 535              0.781073  ...           0.017714                  94   \n 536              0.772599  ...           0.017447                  35   \n 537              0.774011  ...           0.014690                  97   \n 538              0.774011  ...           0.012890                  68   \n 539              0.771186  ...           0.010192                 105   \n \n      split0_test_roc_auc_ovr  split1_test_roc_auc_ovr  \\\n 0                   0.671090                 0.741514   \n 1                   0.816416                 0.748286   \n 2                   0.806824                 0.807978   \n 3                   0.799024                 0.771545   \n 4                   0.809310                 0.806478   \n ..                       ...                      ...   \n 535                 0.858537                 0.884065   \n 536                 0.864657                 0.877065   \n 537                 0.860973                 0.879909   \n 538                 0.865173                 0.877489   \n 539                 0.863162                 0.882100   \n \n      split2_test_roc_auc_ovr  split3_test_roc_auc_ovr  \\\n 0                   0.799460                 0.730142   \n 1                   0.783026                 0.786223   \n 2                   0.846415                 0.810436   \n 3                   0.836671                 0.786321   \n 4                   0.818474                 0.795105   \n ..                       ...                      ...   \n 535                 0.895004                 0.869100   \n 536                 0.897101                 0.863661   \n 537                 0.897722                 0.866761   \n 538                 0.899418                 0.867747   \n 539                 0.898248                 0.869718   \n \n      split4_test_roc_auc_ovr  mean_test_roc_auc_ovr  std_test_roc_auc_ovr  \\\n 0                   0.758043               0.740050              0.041735   \n 1                   0.777332               0.782257              0.021732   \n 2                   0.820493               0.818429              0.014800   \n 3                   0.823502               0.803413              0.023819   \n 4                   0.819596               0.809793              0.008926   \n ..                       ...                    ...                   ...   \n 535                 0.883998               0.878141              0.012805   \n 536                 0.887842               0.878065              0.013009   \n 537                 0.887114               0.878496              0.013347   \n 538                 0.885136               0.878993              0.012447   \n 539                 0.887422               0.880130              0.012503   \n \n      rank_test_roc_auc_ovr  \n 0                      539  \n 1                      436  \n 2                      367  \n 3                      392  \n 4                      380  \n ..                     ...  \n 535                    123  \n 536                    126  \n 537                    109  \n 538                     94  \n 539                     59  \n \n [540 rows x 48 columns])"
     },
     "execution_count": 183,
     "metadata": {},
     "output_type": "execute_result"
    }
   ],
   "source": [
    "train_grid_search(RandomForestClassifier(),param_grid_RF,metrics,'f1_micro',train_val_features,train_val_targets)"
   ],
   "metadata": {
    "collapsed": false,
    "ExecuteTime": {
     "end_time": "2024-11-19T16:52:34.319674900Z",
     "start_time": "2024-11-19T16:50:53.610984300Z"
    }
   }
  },
  {
   "cell_type": "markdown",
   "metadata": {},
   "source": [
    "## The Results\n"
   ]
  },
  {
   "cell_type": "markdown",
   "metadata": {},
   "source": [
    "## Comparison of the classifiers\n",
    "\n"
   ]
  },
  {
   "cell_type": "markdown",
   "metadata": {},
   "source": [
    "## Conclusion"
   ]
  },
  {
   "cell_type": "markdown",
   "metadata": {},
   "source": [
    "## Possible improvements\n",
    "Using pipeline in the \"data washing\"\n"
   ]
  },
  {
   "cell_type": "code",
   "execution_count": 180,
   "outputs": [],
   "source": [],
   "metadata": {
    "collapsed": false,
    "ExecuteTime": {
     "end_time": "2024-11-19T16:50:03.866949900Z",
     "start_time": "2024-11-19T16:50:03.864548500Z"
    }
   }
  }
 ],
 "metadata": {
  "kernelspec": {
   "display_name": "Python 3",
   "language": "python",
   "name": "python3"
  },
  "language_info": {
   "codemirror_mode": {
    "name": "ipython",
    "version": 3
   },
   "file_extension": ".py",
   "mimetype": "text/x-python",
   "name": "python",
   "nbconvert_exporter": "python",
   "pygments_lexer": "ipython3",
   "version": "3.12.4"
  }
 },
 "nbformat": 4,
 "nbformat_minor": 2
}
