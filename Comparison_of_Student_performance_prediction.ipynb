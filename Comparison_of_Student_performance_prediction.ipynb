{
 "cells": [
  {
   "cell_type": "markdown",
   "metadata": {},
   "source": [
    "# Comparison of Classifiers for Student Performance Prediction"
   ]
  },
  {
   "cell_type": "markdown",
   "metadata": {},
   "source": [
    "## The dataset\n",
    "\n",
    "\n",
    "### What is the purpose of the dataset?\n",
    "This dataset is for creating classification models that will predict the students dropout and their academic success.\n",
    "\n",
    "### What are the features\n",
    "\n",
    "\n",
    "Each instance in the dataset represents a student.\n",
    "\n",
    "### What is the target?\n"
   ]
  },
  {
   "cell_type": "markdown",
   "metadata": {},
   "source": [
    "## Analyzing the dataset"
   ]
  },
  {
   "cell_type": "code",
   "execution_count": 1,
   "metadata": {
    "ExecuteTime": {
     "end_time": "2024-10-31T17:02:25.134791Z",
     "start_time": "2024-10-31T17:02:25.116256400Z"
    },
    "collapsed": false
   },
   "outputs": [],
   "source": [
    "import pandas as pd\n",
    "from sklearn.preprocessing import OneHotEncoder"
   ]
  },
  {
   "cell_type": "code",
   "execution_count": 2,
   "metadata": {
    "ExecuteTime": {
     "end_time": "2024-10-31T17:03:34.439989600Z",
     "start_time": "2024-10-31T17:03:34.355278700Z"
    },
    "collapsed": false
   },
   "outputs": [
    {
     "name": "stdout",
     "output_type": "stream",
     "text": [
      "<class 'pandas.core.frame.DataFrame'>\n",
      "RangeIndex: 4424 entries, 0 to 4423\n",
      "Data columns (total 37 columns):\n",
      " #   Column                                          Non-Null Count  Dtype  \n",
      "---  ------                                          --------------  -----  \n",
      " 0   Marital status                                  4424 non-null   int64  \n",
      " 1   Application mode                                4424 non-null   int64  \n",
      " 2   Application order                               4424 non-null   int64  \n",
      " 3   Course                                          4424 non-null   int64  \n",
      " 4   Daytime/evening attendance\t                     4424 non-null   int64  \n",
      " 5   Previous qualification                          4424 non-null   int64  \n",
      " 6   Previous qualification (grade)                  4424 non-null   float64\n",
      " 7   Nacionality                                     4424 non-null   int64  \n",
      " 8   Mother's qualification                          4424 non-null   int64  \n",
      " 9   Father's qualification                          4424 non-null   int64  \n",
      " 10  Mother's occupation                             4424 non-null   int64  \n",
      " 11  Father's occupation                             4424 non-null   int64  \n",
      " 12  Admission grade                                 4424 non-null   float64\n",
      " 13  Displaced                                       4424 non-null   int64  \n",
      " 14  Educational special needs                       4424 non-null   int64  \n",
      " 15  Debtor                                          4424 non-null   int64  \n",
      " 16  Tuition fees up to date                         4424 non-null   int64  \n",
      " 17  Gender                                          4424 non-null   int64  \n",
      " 18  Scholarship holder                              4424 non-null   int64  \n",
      " 19  Age at enrollment                               4424 non-null   int64  \n",
      " 20  International                                   4424 non-null   int64  \n",
      " 21  Curricular units 1st sem (credited)             4424 non-null   int64  \n",
      " 22  Curricular units 1st sem (enrolled)             4424 non-null   int64  \n",
      " 23  Curricular units 1st sem (evaluations)          4424 non-null   int64  \n",
      " 24  Curricular units 1st sem (approved)             4424 non-null   int64  \n",
      " 25  Curricular units 1st sem (grade)                4424 non-null   float64\n",
      " 26  Curricular units 1st sem (without evaluations)  4424 non-null   int64  \n",
      " 27  Curricular units 2nd sem (credited)             4424 non-null   int64  \n",
      " 28  Curricular units 2nd sem (enrolled)             4424 non-null   int64  \n",
      " 29  Curricular units 2nd sem (evaluations)          4424 non-null   int64  \n",
      " 30  Curricular units 2nd sem (approved)             4424 non-null   int64  \n",
      " 31  Curricular units 2nd sem (grade)                4424 non-null   float64\n",
      " 32  Curricular units 2nd sem (without evaluations)  4424 non-null   int64  \n",
      " 33  Unemployment rate                               4424 non-null   float64\n",
      " 34  Inflation rate                                  4424 non-null   float64\n",
      " 35  GDP                                             4424 non-null   float64\n",
      " 36  Target                                          4424 non-null   object \n",
      "dtypes: float64(7), int64(29), object(1)\n",
      "memory usage: 1.2+ MB\n"
     ]
    }
   ],
   "source": [
    "dataset = pd.read_csv('dataset_student_performance.csv',sep=\";\")\n",
    "dataset.info()\n",
    "#dataframe = pd.DataFrame(dataset)\n",
    "\n"
   ]
  },
  {
   "cell_type": "code",
   "execution_count": 3,
   "metadata": {},
   "outputs": [],
   "source": [
    "#dataset.head()"
   ]
  },
  {
   "cell_type": "markdown",
   "metadata": {},
   "source": [
    "## \"Data washing\"\n",
    "\n",
    "By looking at the contents of the dataset. We observe that the features are already encoded into integers.\n",
    "So what we will need to do is \n",
    "- Split the features into categorical and numerical features.\n",
    "\n",
    "After that is done, we will need to \n",
    "- Encode the categorical ones differently so they are not integers, we can achieve this by using one hot encoding."
   ]
  },
  {
   "cell_type": "markdown",
   "metadata": {},
   "source": [
    "### Splitting the features into categorical and numerical features\n",
    "\n",
    "By using the dataset.info(), we can see what features are numerical and integer(categorical).\n",
    "We need to be cautious to not assume all the integers are categorical. For instance, age, is not a catagorical feature even though it's an integer.\n",
    "\n",
    "The numerical:\n",
    "\n",
    "- 6,   Previous qualification (grade)                  , float64\n",
    "- 12,  Admission grade                                 , float64\n",
    "- 25,  Curricular units 1st sem (grade)                , float64\n",
    "- 31,  Curricular units 2nd sem (grade)                , float64\n",
    "- 33,  Unemployment rate                               , float64\n",
    "- 34,  Inflation rate                                  , float64\n",
    "- 35,  GDP                                             , float64\n",
    "\n",
    "The target: \n",
    "- 36  Target,  object, which is three categories, encoded as ints. (dropout, enrolled, and graduate)\n",
    "\n",
    "By inspecting the documentation further, we can now make an overview over what integers are categorical, and which are not.\n",
    "\n",
    "The categorical:\n",
    "\n",
    "- 0,   Marital status, int64  \n",
    "- 1,   Application mode, int64  \n",
    "- 2,   Application order, int64  \n",
    "- 3,   Course, int64  \n",
    "- 4,   Daytime/evening attendance, int64  \n",
    "- 5,   Previous qualification, int64  \n",
    "- 7,   Nacionality, int64  \n",
    "- 8,   Mother's qualification, int64  \n",
    "- 9,   Father's qualification, int64  \n",
    "- 10,  Mother's occupation, int64  \n",
    "- 11,  Father's occupation, int64  \n",
    "- 13,  Displaced, int64  \n",
    "- 14,  Educational special needs, int64  \n",
    "- 15,  Debtor, int64  \n",
    "- 16,  Tuition fees up to date, int64  \n",
    "- 17,  Gender, int64  \n",
    "- 18,  Scholarship holder, int64 \n",
    "- 20,  International, int64 \n",
    "\n",
    "The non categorical: \n",
    "\n",
    "- 19, Age at enrollment, int64\n",
    "- 21, Curricular units 1st sem (credited),  int64  \n",
    "- 22, Curricular units 1st sem (enrolled),  int64  \n",
    "- 23, Curricular units 1st sem (evaluations),  int64  \n",
    "- 24, Curricular units 1st sem (approved),  int64  \n",
    "- 26, Curricular units 1st sem (without evaluations),  int64  \n",
    "- 27, Curricular units 2nd sem (credited),  int64  \n",
    "- 28, Curricular units 2nd sem (enrolled),  int64  \n",
    "- 29, Curricular units 2nd sem (evaluations),  int64  \n",
    "- 30, Curricular units 2nd sem (approved),  int64  \n",
    "- 32  Curricular units 2nd sem (without evaluations), int64  \n",
    "\n",
    "\n",
    "So, now we can combine them and perphaps group them into the following:\n",
    "\n",
    "\n",
    "The categorical:\n",
    "\n",
    "- 0,   Marital status, int64  \n",
    "- 1,   Application mode, int64  \n",
    "- 2,   Application order, int64  \n",
    "- 3,   Course, int64  \n",
    "- 4,   Daytime/evening attendance, int64  \n",
    "- 5,   Previous qualification, int64  \n",
    "- 7,   Nacionality, int64  \n",
    "- 8,   Mother's qualification, int64  \n",
    "- 9,   Father's qualification, int64  \n",
    "- 10,  Mother's occupation, int64  \n",
    "- 11,  Father's occupation, int64  \n",
    "- 13,  Displaced, int64  \n",
    "- 14,  Educational special needs, int64  \n",
    "- 15,  Debtor, int64  \n",
    "- 16,  Tuition fees up to date, int64  \n",
    "- 17,  Gender, int64  \n",
    "- 18,  Scholarship holder, int64 \n",
    "- 20,  International, int64 \n",
    "\n",
    "The numerical:\n",
    "\n",
    "- 6,  Previous qualification (grade), float64\n",
    "- 12, Admission grade, float64\n",
    "- 25, Curricular units 1st sem (grade), float64\n",
    "- 31, Curricular units 2nd sem (grade), float64\n",
    "- 33, Unemployment rate, float64\n",
    "- 34, Inflation rate, float64\n",
    "- 35, GDP, float64\n",
    "- 19, Age at enrollment, int64\n",
    "- 21, Curricular units 1st sem (credited),  int64  \n",
    "- 22, Curricular units 1st sem (enrolled),  int64  \n",
    "- 23, Curricular units 1st sem (evaluations),  int64  \n",
    "- 24, Curricular units 1st sem (approved),  int64  \n",
    "- 26, Curricular units 1st sem (without evaluations),  int64  \n",
    "- 27, Curricular units 2nd sem (credited),  int64  \n",
    "- 28, Curricular units 2nd sem (enrolled),  int64  \n",
    "- 29, Curricular units 2nd sem (evaluations),  int64  \n",
    "- 30, Curricular units 2nd sem (approved),  int64  \n",
    "- 32, Curricular units 2nd sem (without evaluations), int64  \n",
    "\n",
    "The target(categorical): \n",
    "- 36  Target,  object"
   ]
  },
  {
   "cell_type": "code",
   "execution_count": 13,
   "metadata": {},
   "outputs": [],
   "source": [
    "#print(dataset.columns.tolist())\n",
    "#Here we can double check that the syntax of the lists are correct according to the index.\n",
    "#'Daytime/evening attendance\\t' will give an index error if the \\t is not included."
   ]
  },
  {
   "cell_type": "code",
   "execution_count": 14,
   "metadata": {},
   "outputs": [],
   "source": [
    "categorical_features = [\n",
    "    \"Marital status\", \"Application mode\", \"Application order\", \"Course\", \n",
    "    \"Daytime/evening attendance\\t\", \"Previous qualification\", \"Nacionality\", \n",
    "    \"Mother's qualification\", \"Father's qualification\", \"Mother's occupation\", \n",
    "    \"Father's occupation\", \"Displaced\", \"Educational special needs\", \"Debtor\", \n",
    "    \"Tuition fees up to date\", \"Gender\", \"Scholarship holder\", \"International\"\n",
    "]\n",
    "\n",
    "numerical_features = [\n",
    "    \"Previous qualification (grade)\", \"Admission grade\", \"Curricular units 1st sem (grade)\", \n",
    "    \"Curricular units 2nd sem (grade)\", \"Unemployment rate\", \"Inflation rate\", \"GDP\", \n",
    "    \"Age at enrollment\", \"Curricular units 1st sem (credited)\", \"Curricular units 1st sem (enrolled)\", \n",
    "    \"Curricular units 1st sem (evaluations)\", \"Curricular units 1st sem (approved)\", \n",
    "    \"Curricular units 1st sem (without evaluations)\", \"Curricular units 2nd sem (credited)\", \n",
    "    \"Curricular units 2nd sem (enrolled)\", \"Curricular units 2nd sem (evaluations)\", \n",
    "    \"Curricular units 2nd sem (approved)\", \"Curricular units 2nd sem (without evaluations)\"\n",
    "]\n",
    "\n",
    "target = \"Target\"\n",
    "dataset_categorical = dataset[categorical_features]\n",
    "dataset_numerical = dataset[numerical_features]\n",
    "dataset_target = dataset[target]"
   ]
  },
  {
   "cell_type": "markdown",
   "metadata": {},
   "source": [
    "## Pre-proccessing \n",
    "\n",
    "Lets proceed with the dataset now, and see what kind of results it produces. After that we can take pre processing steps to see how it changes the result.\n",
    "But here we can expand by trying out normalization, PCA, etc."
   ]
  },
  {
   "cell_type": "markdown",
   "metadata": {},
   "source": [
    "## Splitting\n",
    "\n",
    "### Why this split percentage\n",
    "### Why this sampling technique"
   ]
  },
  {
   "cell_type": "markdown",
   "metadata": {},
   "source": [
    "## Tuning the hyperparameters\n",
    "\n",
    "### Grid search vs Random search"
   ]
  },
  {
   "cell_type": "markdown",
   "metadata": {},
   "source": [
    "## The Results\n"
   ]
  },
  {
   "cell_type": "markdown",
   "metadata": {},
   "source": [
    "## Comparison of the classifiers\n",
    "\n"
   ]
  },
  {
   "cell_type": "markdown",
   "metadata": {},
   "source": [
    "## Conclusion"
   ]
  },
  {
   "cell_type": "markdown",
   "metadata": {},
   "source": [
    "## Possible improvements\n",
    "Using pipeline in the \"data washing\"\n"
   ]
  }
 ],
 "metadata": {
  "kernelspec": {
   "display_name": "Python 3",
   "language": "python",
   "name": "python3"
  },
  "language_info": {
   "codemirror_mode": {
    "name": "ipython",
    "version": 3
   },
   "file_extension": ".py",
   "mimetype": "text/x-python",
   "name": "python",
   "nbconvert_exporter": "python",
   "pygments_lexer": "ipython3",
   "version": "3.12.4"
  }
 },
 "nbformat": 4,
 "nbformat_minor": 2
}
