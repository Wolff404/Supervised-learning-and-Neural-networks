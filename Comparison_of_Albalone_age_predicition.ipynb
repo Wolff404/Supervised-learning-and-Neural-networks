{
 "cells": [
  {
   "cell_type": "markdown",
   "metadata": {},
   "source": [
    "# Comparison of Regressors for Abalone Age Prediction"
   ]
  },
  {
   "cell_type": "markdown",
   "metadata": {},
   "source": [
    "## The dataset\n",
    "\n",
    "### What is the purpose of the dataset? \n",
    "### What are the features\n",
    "### What is the target?"
   ]
  },
  {
   "cell_type": "code",
   "execution_count": 16,
   "metadata": {
    "collapsed": false,
    "ExecuteTime": {
     "end_time": "2024-11-22T12:39:07.527034900Z",
     "start_time": "2024-11-22T12:39:07.328665900Z"
    }
   },
   "outputs": [],
   "source": [
    "import pandas as pd\n",
    "import numpy as np\n",
    "\n",
    "from sklearn.model_selection import train_test_split\n",
    "from sklearn.tree import DecisionTreeRegressor\n",
    "from sklearn.linear_model import LinearRegression\n",
    "from sklearn.metrics import r2_score, mean_squared_error, mean_absolute_error\n",
    "from sklearn.model_selection import GridSearchCV\n",
    "from sklearn.ensemble import RandomForestRegressor\n",
    "from sklearn.ensemble import GradientBoostingRegressor\n",
    "\n",
    "\n"
   ]
  },
  {
   "cell_type": "code",
   "execution_count": 17,
   "metadata": {
    "collapsed": false,
    "ExecuteTime": {
     "end_time": "2024-11-22T12:39:07.529761200Z",
     "start_time": "2024-11-22T12:39:07.342369700Z"
    }
   },
   "outputs": [],
   "source": [
    "coloumn_names = ['Sex',\n",
    "               'Length',\n",
    "               'Diameter',\n",
    "               'Height',\n",
    "               'Whole weight',\n",
    "               'Shucked weight',\n",
    "               'Viscera weight',\n",
    "               'Shell weight',\n",
    "               'Rings'\n",
    "               ]"
   ]
  },
  {
   "cell_type": "code",
   "execution_count": 18,
   "metadata": {
    "collapsed": false,
    "ExecuteTime": {
     "end_time": "2024-11-22T12:39:07.532306200Z",
     "start_time": "2024-11-22T12:39:07.349162500Z"
    }
   },
   "outputs": [
    {
     "data": {
      "text/plain": "   Sex  Length  Diameter  Height  Whole weight  Shucked weight  \\\n0    0   0.455     0.365   0.095        0.5140          0.2245   \n1    0   0.350     0.265   0.090        0.2255          0.0995   \n2    1   0.530     0.420   0.135        0.6770          0.2565   \n3    0   0.440     0.365   0.125        0.5160          0.2155   \n4    2   0.330     0.255   0.080        0.2050          0.0895   \n\n   Viscera weight  Shell weight  Rings  \n0          0.1010         0.150     15  \n1          0.0485         0.070      7  \n2          0.1415         0.210      9  \n3          0.1140         0.155     10  \n4          0.0395         0.055      7  ",
      "text/html": "<div>\n<style scoped>\n    .dataframe tbody tr th:only-of-type {\n        vertical-align: middle;\n    }\n\n    .dataframe tbody tr th {\n        vertical-align: top;\n    }\n\n    .dataframe thead th {\n        text-align: right;\n    }\n</style>\n<table border=\"1\" class=\"dataframe\">\n  <thead>\n    <tr style=\"text-align: right;\">\n      <th></th>\n      <th>Sex</th>\n      <th>Length</th>\n      <th>Diameter</th>\n      <th>Height</th>\n      <th>Whole weight</th>\n      <th>Shucked weight</th>\n      <th>Viscera weight</th>\n      <th>Shell weight</th>\n      <th>Rings</th>\n    </tr>\n  </thead>\n  <tbody>\n    <tr>\n      <th>0</th>\n      <td>0</td>\n      <td>0.455</td>\n      <td>0.365</td>\n      <td>0.095</td>\n      <td>0.5140</td>\n      <td>0.2245</td>\n      <td>0.1010</td>\n      <td>0.150</td>\n      <td>15</td>\n    </tr>\n    <tr>\n      <th>1</th>\n      <td>0</td>\n      <td>0.350</td>\n      <td>0.265</td>\n      <td>0.090</td>\n      <td>0.2255</td>\n      <td>0.0995</td>\n      <td>0.0485</td>\n      <td>0.070</td>\n      <td>7</td>\n    </tr>\n    <tr>\n      <th>2</th>\n      <td>1</td>\n      <td>0.530</td>\n      <td>0.420</td>\n      <td>0.135</td>\n      <td>0.6770</td>\n      <td>0.2565</td>\n      <td>0.1415</td>\n      <td>0.210</td>\n      <td>9</td>\n    </tr>\n    <tr>\n      <th>3</th>\n      <td>0</td>\n      <td>0.440</td>\n      <td>0.365</td>\n      <td>0.125</td>\n      <td>0.5160</td>\n      <td>0.2155</td>\n      <td>0.1140</td>\n      <td>0.155</td>\n      <td>10</td>\n    </tr>\n    <tr>\n      <th>4</th>\n      <td>2</td>\n      <td>0.330</td>\n      <td>0.255</td>\n      <td>0.080</td>\n      <td>0.2050</td>\n      <td>0.0895</td>\n      <td>0.0395</td>\n      <td>0.055</td>\n      <td>7</td>\n    </tr>\n  </tbody>\n</table>\n</div>"
     },
     "execution_count": 18,
     "metadata": {},
     "output_type": "execute_result"
    }
   ],
   "source": [
    "dataset = pd.read_csv('abalone.data', sep=\",\", header=None)\n",
    "dataset.columns = coloumn_names\n",
    "dataset['Sex'] = dataset['Sex'].map({'M': 0, 'F': 1, 'I':2})\n",
    "dataset.head(5)"
   ]
  },
  {
   "cell_type": "code",
   "execution_count": 19,
   "metadata": {
    "collapsed": false,
    "ExecuteTime": {
     "end_time": "2024-11-22T12:39:07.535400600Z",
     "start_time": "2024-11-22T12:39:07.381882200Z"
    }
   },
   "outputs": [
    {
     "name": "stdout",
     "output_type": "stream",
     "text": [
      "<class 'pandas.core.frame.DataFrame'>\n",
      "RangeIndex: 4177 entries, 0 to 4176\n",
      "Data columns (total 9 columns):\n",
      " #   Column          Non-Null Count  Dtype  \n",
      "---  ------          --------------  -----  \n",
      " 0   Sex             4177 non-null   int64  \n",
      " 1   Length          4177 non-null   float64\n",
      " 2   Diameter        4177 non-null   float64\n",
      " 3   Height          4177 non-null   float64\n",
      " 4   Whole weight    4177 non-null   float64\n",
      " 5   Shucked weight  4177 non-null   float64\n",
      " 6   Viscera weight  4177 non-null   float64\n",
      " 7   Shell weight    4177 non-null   float64\n",
      " 8   Rings           4177 non-null   int64  \n",
      "dtypes: float64(7), int64(2)\n",
      "memory usage: 293.8 KB\n"
     ]
    }
   ],
   "source": [
    "dataset.info()"
   ]
  },
  {
   "cell_type": "code",
   "execution_count": 20,
   "metadata": {
    "collapsed": false,
    "ExecuteTime": {
     "end_time": "2024-11-22T12:39:07.560081300Z",
     "start_time": "2024-11-22T12:39:07.397367600Z"
    }
   },
   "outputs": [],
   "source": [
    "#dataset.hist(figsize=(10,10));"
   ]
  },
  {
   "cell_type": "code",
   "execution_count": 21,
   "metadata": {
    "collapsed": false,
    "ExecuteTime": {
     "end_time": "2024-11-22T12:39:07.560081300Z",
     "start_time": "2024-11-22T12:39:07.412219900Z"
    }
   },
   "outputs": [],
   "source": [
    "#dataset_onehot = pd.get_dummies(dataset,columns=dataset['Sex'])\n",
    "#dataset_onehot = pd.concat([dataset, pd.get_dummies(dataset['Sex'])], axis=1)\n",
    "#dataset_onehot.drop('Sex', axis=1, inplace=True)\n",
    "#dataset_onehot = pd.get_dummies(dataset, columns=['Sex'])\n",
    "\n",
    "#dataset_onehot.head()"
   ]
  },
  {
   "cell_type": "code",
   "execution_count": 22,
   "metadata": {
    "collapsed": false,
    "ExecuteTime": {
     "end_time": "2024-11-22T12:39:07.560081300Z",
     "start_time": "2024-11-22T12:39:07.419790400Z"
    }
   },
   "outputs": [],
   "source": [
    "features = dataset.drop('Rings', axis=1)\n",
    "targets = dataset['Rings']"
   ]
  },
  {
   "cell_type": "code",
   "execution_count": 23,
   "metadata": {
    "collapsed": false,
    "ExecuteTime": {
     "end_time": "2024-11-22T12:39:07.560081300Z",
     "start_time": "2024-11-22T12:39:07.435595Z"
    }
   },
   "outputs": [],
   "source": [
    "trainval_features, test_features, trainval_targets, test_targets = train_test_split(features, targets, test_size=0.2,random_state=42)"
   ]
  },
  {
   "cell_type": "code",
   "execution_count": 24,
   "metadata": {
    "collapsed": false,
    "ExecuteTime": {
     "end_time": "2024-11-22T12:39:07.560081300Z",
     "start_time": "2024-11-22T12:39:07.448317600Z"
    }
   },
   "outputs": [],
   "source": [
    "def evaluate(model):\n",
    "    predictions_train = model.predict(trainval_features)\n",
    "\n",
    "    print(f\"Train R2: {r2_score(trainval_targets, predictions_train)}\")\n",
    "    print(f\"Train MSE: {mean_squared_error(trainval_targets, predictions_train)}\")\n",
    "    print(f\"Train MAE: {mean_absolute_error(trainval_targets, predictions_train)}\")\n",
    "    print()\n",
    "\n",
    "    predictions_test = model.predict(test_features)\n",
    "    print()\n",
    "    print(f\"R2: {r2_score(test_targets, predictions_test)}\")\n",
    "    print(f\"MSE: {mean_squared_error(test_targets, predictions_test)}\")\n",
    "    print(f\"MAE: {mean_absolute_error(test_targets, predictions_test)}\")"
   ]
  },
  {
   "cell_type": "code",
   "execution_count": 25,
   "metadata": {
    "ExecuteTime": {
     "end_time": "2024-11-22T12:39:07.560081300Z",
     "start_time": "2024-11-22T12:39:07.458303900Z"
    }
   },
   "outputs": [],
   "source": [
    "def train_grid_search(classifier, parameter_grid,scoring,refit, features, target, cv=5, verbose=1):\n",
    "    grid_search = GridSearchCV(\n",
    "        estimator=classifier,\n",
    "        param_grid=parameter_grid,\n",
    "        scoring=scoring,\n",
    "        refit= refit, \n",
    "        cv=cv,\n",
    "        verbose=verbose,\n",
    "        n_jobs=-1\n",
    "    )\n",
    "\n",
    "    grid_search.fit(features, target)\n",
    "    results = pd.DataFrame(grid_search.cv_results_)\n",
    "    best_model = grid_search.best_estimator_\n",
    "\n",
    "    print(f\"best parameters: {grid_search.best_params_}\")\n",
    "    print(f\"best score: {grid_search.best_score_:.4f}\")\n",
    "\n",
    "    return best_model, results"
   ]
  },
  {
   "cell_type": "markdown",
   "metadata": {},
   "source": []
  },
  {
   "cell_type": "code",
   "execution_count": 48,
   "metadata": {
    "ExecuteTime": {
     "end_time": "2024-11-22T13:26:02.384736600Z",
     "start_time": "2024-11-22T13:26:02.354685600Z"
    }
   },
   "outputs": [],
   "source": [
    "metrics_regressor = ['r2','neg_mean_squared_error' ,'neg_mean_absolute_error' ]\n",
    "\n",
    "\n",
    "param_grid_RF_regressor = {\n",
    "    'max_depth': np.arange(2, 31, 5),           \n",
    "    'n_estimators': np.arange(50, 501, 50),   \n",
    "    'min_samples_split': np.arange(2, 11, 2),  \n",
    "}\n",
    "\n",
    "param_grid_GB_regressor = {\n",
    "    'loss': ['squared_error', 'absolute_error', 'huber', 'quantile'],\n",
    "    'n_estimators': np.arange(50, 201, 50),\n",
    "    'learning_rate': np.arange(0.01, 0.25, 0.05),\n",
    "    'max_depth': np.arange(3, 11, 2)\n",
    "    }\n",
    "\n",
    "param_grid_DT_regressor = {\n",
    "    'criterion': ['squared_error', 'absolute_error'],\n",
    "    'splitter': ['best', 'random'],\n",
    "    'max_depth': [None, 5, 10, 20],\n",
    "    'min_samples_split': [2, 5, 10],\n",
    "    'min_samples_leaf': [1, 2, 5],\n",
    "    'max_features': [None, 'sqrt', 'log2'],\n",
    "    'max_leaf_nodes': [None, 10, 20, 50],\n",
    "    'min_impurity_decrease': [0.0, 0.01, 0.1]\n",
    "}\n"
   ]
  },
  {
   "cell_type": "code",
   "execution_count": 34,
   "metadata": {
    "ExecuteTime": {
     "end_time": "2024-11-22T12:47:07.371220200Z",
     "start_time": "2024-11-22T12:40:23.021142300Z"
    }
   },
   "outputs": [
    {
     "name": "stdout",
     "output_type": "stream",
     "text": [
      "Fitting 5 folds for each of 300 candidates, totalling 1500 fits\n"
     ]
    },
    {
     "name": "stderr",
     "output_type": "stream",
     "text": [
      "C:\\Users\\Stavros\\AppData\\Local\\Programs\\Python\\Python311\\Lib\\site-packages\\numpy\\ma\\core.py:2881: RuntimeWarning: invalid value encountered in cast\n",
      "  _data = np.array(data, dtype=dtype, copy=copy,\n"
     ]
    },
    {
     "name": "stdout",
     "output_type": "stream",
     "text": [
      "best parameters: {'max_depth': np.int64(12), 'min_samples_split': np.int64(8), 'n_estimators': np.int64(400)}\n",
      "best score: 0.5527\n"
     ]
    },
    {
     "data": {
      "text/plain": "(RandomForestRegressor(max_depth=np.int64(12), min_samples_split=np.int64(8),\n                       n_estimators=np.int64(400)),\n      mean_fit_time  std_fit_time  mean_score_time  std_score_time  \\\n 0         0.154651      0.004332         0.021027        0.007959   \n 1         0.330564      0.007290         0.010464        0.005339   \n 2         0.470140      0.007240         0.013184        0.003936   \n 3         0.616852      0.015020         0.014520        0.002462   \n 4         0.763388      0.014454         0.015513        0.001736   \n ..             ...           ...              ...             ...   \n 295       3.867569      0.037984         0.045150        0.004552   \n 296       4.528320      0.037770         0.049586        0.001882   \n 297       5.152377      0.053585         0.052130        0.002459   \n 298       5.680707      0.119608         0.055664        0.006226   \n 299       5.825755      0.161061         0.053934        0.004269   \n \n      param_max_depth  param_min_samples_split  param_n_estimators  \\\n 0                  2                        2                  50   \n 1                  2                        2                 100   \n 2                  2                        2                 150   \n 3                  2                        2                 200   \n 4                  2                        2                 250   \n ..               ...                      ...                 ...   \n 295               27                       10                 300   \n 296               27                       10                 350   \n 297               27                       10                 400   \n 298               27                       10                 450   \n 299               27                       10                 500   \n \n                                                 params  split0_test_r2  \\\n 0    {'max_depth': 2, 'min_samples_split': 2, 'n_es...        0.396027   \n 1    {'max_depth': 2, 'min_samples_split': 2, 'n_es...        0.397394   \n 2    {'max_depth': 2, 'min_samples_split': 2, 'n_es...        0.398959   \n 3    {'max_depth': 2, 'min_samples_split': 2, 'n_es...        0.398039   \n 4    {'max_depth': 2, 'min_samples_split': 2, 'n_es...        0.400650   \n ..                                                 ...             ...   \n 295  {'max_depth': 27, 'min_samples_split': 10, 'n_...        0.523787   \n 296  {'max_depth': 27, 'min_samples_split': 10, 'n_...        0.522806   \n 297  {'max_depth': 27, 'min_samples_split': 10, 'n_...        0.524740   \n 298  {'max_depth': 27, 'min_samples_split': 10, 'n_...        0.520844   \n 299  {'max_depth': 27, 'min_samples_split': 10, 'n_...        0.520992   \n \n      split1_test_r2  ...  std_test_neg_mean_squared_error  \\\n 0          0.392391  ...                         0.732260   \n 1          0.389636  ...                         0.732058   \n 2          0.388587  ...                         0.736351   \n 3          0.389349  ...                         0.735231   \n 4          0.389578  ...                         0.733581   \n ..              ...  ...                              ...   \n 295        0.563478  ...                         0.419790   \n 296        0.561137  ...                         0.426229   \n 297        0.560215  ...                         0.431929   \n 298        0.563796  ...                         0.417207   \n 299        0.564558  ...                         0.403990   \n \n      rank_test_neg_mean_squared_error  split0_test_neg_mean_absolute_error  \\\n 0                                 262                            -1.756906   \n 1                                 298                            -1.756308   \n 2                                 286                            -1.754378   \n 3                                 281                            -1.757146   \n 4                                 278                            -1.752491   \n ..                                ...                                  ...   \n 295                                 6                            -1.500708   \n 296                                19                            -1.500203   \n 297                                53                            -1.498485   \n 298                                99                            -1.497706   \n 299                                11                            -1.502179   \n \n      split1_test_neg_mean_absolute_error  split2_test_neg_mean_absolute_error  \\\n 0                              -1.919578                            -1.898968   \n 1                              -1.922932                            -1.896024   \n 2                              -1.924921                            -1.894917   \n 3                              -1.922445                            -1.891259   \n 4                              -1.920818                            -1.888337   \n ..                                   ...                                  ...   \n 295                            -1.562300                            -1.587152   \n 296                            -1.570002                            -1.587405   \n 297                            -1.563209                            -1.581394   \n 298                            -1.563205                            -1.588122   \n 299                            -1.566767                            -1.583293   \n \n      split3_test_neg_mean_absolute_error  split4_test_neg_mean_absolute_error  \\\n 0                              -1.791424                            -1.774410   \n 1                              -1.793854                            -1.787179   \n 2                              -1.782094                            -1.783642   \n 3                              -1.788650                            -1.777494   \n 4                              -1.790101                            -1.783034   \n ..                                   ...                                  ...   \n 295                            -1.535968                            -1.413625   \n 296                            -1.540206                            -1.417420   \n 297                            -1.541222                            -1.417784   \n 298                            -1.544628                            -1.423542   \n 299                            -1.542152                            -1.419539   \n \n      mean_test_neg_mean_absolute_error  std_test_neg_mean_absolute_error  \\\n 0                            -1.828257                          0.067360   \n 1                            -1.831260                          0.065663   \n 2                            -1.827991                          0.068362   \n 3                            -1.827399                          0.066392   \n 4                            -1.826956                          0.065437   \n ..                                 ...                               ...   \n 295                          -1.519951                          0.060401   \n 296                          -1.523047                          0.060531   \n 297                          -1.520419                          0.058304   \n 298                          -1.523440                          0.058062   \n 299                          -1.522786                          0.058404   \n \n      rank_test_neg_mean_absolute_error  \n 0                                  280  \n 1                                  300  \n 2                                  277  \n 3                                  270  \n 4                                  260  \n ..                                 ...  \n 295                                 76  \n 296                                113  \n 297                                 82  \n 298                                118  \n 299                                108  \n \n [300 rows x 32 columns])"
     },
     "execution_count": 34,
     "metadata": {},
     "output_type": "execute_result"
    }
   ],
   "source": [
    "train_grid_search(RandomForestRegressor(),param_grid_RF_regressor,metrics_regressor,'r2',trainval_features,trainval_targets)"
   ]
  },
  {
   "cell_type": "code",
   "execution_count": 35,
   "metadata": {
    "ExecuteTime": {
     "end_time": "2024-11-22T12:47:39.036456Z",
     "start_time": "2024-11-22T12:47:32.799282900Z"
    }
   },
   "outputs": [
    {
     "name": "stdout",
     "output_type": "stream",
     "text": [
      "Train R2: 0.8433304236410064\n",
      "Train MSE: 1.611185799553489\n",
      "Train MAE: 0.9209237632806551\n",
      "\n",
      "\n",
      "R2: 0.5439152852742288\n",
      "MSE: 4.937212835474675\n",
      "MAE: 1.5611706888478412\n"
     ]
    }
   ],
   "source": [
    "random_forest_regressor = RandomForestRegressor(max_depth=12,min_samples_split=8,n_estimators=400)\n",
    "random_forest_regressor.fit(trainval_features,trainval_targets)\n",
    "evaluate(random_forest_regressor)\n"
   ]
  },
  {
   "cell_type": "code",
   "execution_count": 44,
   "outputs": [
    {
     "name": "stdout",
     "output_type": "stream",
     "text": [
      "Fitting 5 folds for each of 320 candidates, totalling 1600 fits\n"
     ]
    },
    {
     "name": "stderr",
     "output_type": "stream",
     "text": [
      "C:\\Users\\Stavros\\AppData\\Local\\Programs\\Python\\Python311\\Lib\\site-packages\\numpy\\ma\\core.py:2881: RuntimeWarning: invalid value encountered in cast\n",
      "  _data = np.array(data, dtype=dtype, copy=copy,\n"
     ]
    },
    {
     "name": "stdout",
     "output_type": "stream",
     "text": [
      "best parameters: {'learning_rate': np.float64(0.11), 'loss': 'huber', 'max_depth': np.int64(3), 'n_estimators': np.int64(200)}\n",
      "best score: 0.5557\n"
     ]
    },
    {
     "data": {
      "text/plain": "(GradientBoostingRegressor(learning_rate=np.float64(0.11), loss='huber',\n                           max_depth=np.int64(3), n_estimators=np.int64(200)),\n      mean_fit_time  std_fit_time  mean_score_time  std_score_time  \\\n 0         0.522268      0.113683         0.008897        0.004852   \n 1         0.916037      0.087179         0.009298        0.006221   \n 2         1.300806      0.097172         0.005438        0.004361   \n 3         1.367318      0.054097         0.007048        0.005826   \n 4         0.540292      0.012724         0.006968        0.004789   \n ..             ...           ...              ...             ...   \n 315       3.167257      0.067840         0.005827        0.004771   \n 316       1.177287      0.026732         0.002013        0.004026   \n 317       2.222538      0.046889         0.006623        0.003785   \n 318       3.095817      0.062870         0.006739        0.003756   \n 319       3.734168      0.052370         0.008156        0.002010   \n \n      param_learning_rate     param_loss  param_max_depth  param_n_estimators  \\\n 0                   0.01  squared_error                3                  50   \n 1                   0.01  squared_error                3                 100   \n 2                   0.01  squared_error                3                 150   \n 3                   0.01  squared_error                3                 200   \n 4                   0.01  squared_error                5                  50   \n ..                   ...            ...              ...                 ...   \n 315                 0.21       quantile                7                 200   \n 316                 0.21       quantile                9                  50   \n 317                 0.21       quantile                9                 100   \n 318                 0.21       quantile                9                 150   \n 319                 0.21       quantile                9                 200   \n \n                                                 params  split0_test_r2  ...  \\\n 0    {'learning_rate': 0.01, 'loss': 'squared_error...        0.278001  ...   \n 1    {'learning_rate': 0.01, 'loss': 'squared_error...        0.407682  ...   \n 2    {'learning_rate': 0.01, 'loss': 'squared_error...        0.467277  ...   \n 3    {'learning_rate': 0.01, 'loss': 'squared_error...        0.497811  ...   \n 4    {'learning_rate': 0.01, 'loss': 'squared_error...        0.324761  ...   \n ..                                                 ...             ...  ...   \n 315  {'learning_rate': 0.21000000000000002, 'loss':...       -0.005610  ...   \n 316  {'learning_rate': 0.21000000000000002, 'loss':...        0.043405  ...   \n 317  {'learning_rate': 0.21000000000000002, 'loss':...        0.105920  ...   \n 318  {'learning_rate': 0.21000000000000002, 'loss':...        0.106010  ...   \n 319  {'learning_rate': 0.21000000000000002, 'loss':...        0.143699  ...   \n \n      std_test_neg_mean_squared_error  rank_test_neg_mean_squared_error  \\\n 0                           1.033797                               237   \n 1                           0.865747                               224   \n 2                           0.740922                               212   \n 3                           0.662389                               181   \n 4                           0.914249                               230   \n ..                               ...                               ...   \n 315                         0.338635                               259   \n 316                         0.482966                               253   \n 317                         0.478547                               247   \n 318                         0.579616                               246   \n 319                         0.403719                               244   \n \n      split0_test_neg_mean_absolute_error  split1_test_neg_mean_absolute_error  \\\n 0                              -1.939414                            -2.135562   \n 1                              -1.747442                            -1.935250   \n 2                              -1.644155                            -1.803982   \n 3                              -1.583186                            -1.730602   \n 4                              -1.872869                            -2.067258   \n ..                                   ...                                  ...   \n 315                            -2.515962                            -2.467242   \n 316                            -2.444559                            -2.472825   \n 317                            -2.352570                            -2.379909   \n 318                            -2.306665                            -2.334875   \n 319                            -2.259720                            -2.327826   \n \n      split2_test_neg_mean_absolute_error  split3_test_neg_mean_absolute_error  \\\n 0                              -2.080021                            -1.992320   \n 1                              -1.875568                            -1.776788   \n 2                              -1.762281                            -1.668418   \n 3                              -1.698884                            -1.601913   \n 4                              -1.997068                            -1.910533   \n ..                                   ...                                  ...   \n 315                            -2.453388                            -2.373040   \n 316                            -2.460843                            -2.364513   \n 317                            -2.390832                            -2.296014   \n 318                            -2.399726                            -2.276476   \n 319                            -2.342188                            -2.220019   \n \n      split4_test_neg_mean_absolute_error  mean_test_neg_mean_absolute_error  \\\n 0                              -1.835338                          -1.996531   \n 1                              -1.676422                          -1.802294   \n 2                              -1.583043                          -1.692376   \n 3                              -1.533791                          -1.629675   \n 4                              -1.762803                          -1.922106   \n ..                                   ...                                ...   \n 315                            -2.393890                          -2.440704   \n 316                            -2.323804                          -2.413309   \n 317                            -2.234002                          -2.330665   \n 318                            -2.194973                          -2.302543   \n 319                            -2.257579                          -2.281466   \n \n      std_test_neg_mean_absolute_error  rank_test_neg_mean_absolute_error  \n 0                            0.105417                                239  \n 1                            0.092249                                227  \n 2                            0.080244                                220  \n 3                            0.073623                                193  \n 4                            0.104522                                235  \n ..                                ...                                ...  \n 315                          0.051573                                255  \n 316                          0.058601                                252  \n 317                          0.058428                                247  \n 318                          0.067465                                245  \n 319                          0.046164                                241  \n \n [320 rows x 33 columns])"
     },
     "execution_count": 44,
     "metadata": {},
     "output_type": "execute_result"
    }
   ],
   "source": [
    "train_grid_search(GradientBoostingRegressor(),param_grid_GB_regressor,metrics_regressor,'r2',trainval_features,trainval_targets)\n"
   ],
   "metadata": {
    "collapsed": false,
    "ExecuteTime": {
     "end_time": "2024-11-22T13:21:10.039318900Z",
     "start_time": "2024-11-22T13:15:49.274670900Z"
    }
   }
  },
  {
   "cell_type": "code",
   "execution_count": 45,
   "outputs": [
    {
     "name": "stdout",
     "output_type": "stream",
     "text": [
      "Train R2: 0.7008426750743347\n",
      "Train MSE: 3.0765260553726623\n",
      "Train MAE: 1.2117409851496437\n",
      "\n",
      "\n",
      "R2: 0.5228355844376178\n",
      "MSE: 5.165405024728504\n",
      "MAE: 1.5559492331329932\n"
     ]
    }
   ],
   "source": [
    "gradient_booster_regressor = GradientBoostingRegressor(learning_rate=0.11,max_depth=3,loss='huber',n_estimators=200)\n",
    "gradient_booster_regressor.fit(trainval_features, trainval_targets)\n",
    "evaluate(gradient_booster_regressor)"
   ],
   "metadata": {
    "collapsed": false,
    "ExecuteTime": {
     "end_time": "2024-11-22T13:23:25.477630700Z",
     "start_time": "2024-11-22T13:23:23.251056200Z"
    }
   }
  },
  {
   "cell_type": "code",
   "execution_count": 39,
   "metadata": {
    "collapsed": false,
    "ExecuteTime": {
     "end_time": "2024-11-22T13:12:28.145933Z",
     "start_time": "2024-11-22T13:12:28.130102Z"
    }
   },
   "outputs": [
    {
     "name": "stdout",
     "output_type": "stream",
     "text": [
      "Train R2: 0.5331708151519303\n",
      "Train MSE: 4.800859049499582\n",
      "Train MAE: 1.5811550493173565\n",
      "\n",
      "\n",
      "R2: 0.5427053625654411\n",
      "MSE: 4.950310502936191\n",
      "MAE: 1.606760859825025\n"
     ]
    }
   ],
   "source": [
    "linear_regression_model = LinearRegression()\n",
    "linear_regression_model.fit(trainval_features, trainval_targets)\n",
    "evaluate(linear_regression_model)"
   ]
  },
  {
   "cell_type": "code",
   "execution_count": 54,
   "metadata": {
    "collapsed": false,
    "ExecuteTime": {
     "end_time": "2024-11-22T13:31:18.193931400Z",
     "start_time": "2024-11-22T13:29:24.790250300Z"
    }
   },
   "outputs": [
    {
     "name": "stdout",
     "output_type": "stream",
     "text": [
      "Fitting 5 folds for each of 5184 candidates, totalling 25920 fits\n",
      "best parameters: {'criterion': 'squared_error', 'max_depth': None, 'max_features': None, 'max_leaf_nodes': 50, 'min_impurity_decrease': 0.01, 'min_samples_leaf': 2, 'min_samples_split': 5, 'splitter': 'random'}\n",
      "best score: 0.4803\n"
     ]
    },
    {
     "data": {
      "text/plain": "(DecisionTreeRegressor(max_leaf_nodes=50, min_impurity_decrease=0.01,\n                       min_samples_leaf=2, min_samples_split=5,\n                       splitter='random'),\n       mean_fit_time  std_fit_time  mean_score_time  std_score_time  \\\n 0          0.047956      0.021209         0.004611        0.003836   \n 1          0.030095      0.026619         0.001203        0.002407   \n 2          0.035332      0.016281         0.008607        0.007676   \n 3          0.011288      0.009674         0.008401        0.006749   \n 4          0.038235      0.015687         0.007617        0.002939   \n ...             ...           ...              ...             ...   \n 5179       0.040234      0.004866         0.002316        0.002104   \n 5180       0.065806      0.006295         0.004913        0.004479   \n 5181       0.033497      0.012223         0.002001        0.004002   \n 5182       0.065562      0.006564         0.000607        0.001213   \n 5183       0.027785      0.010313         0.003110        0.003002   \n \n      param_criterion param_max_depth param_max_features param_max_leaf_nodes  \\\n 0      squared_error            None               None                 None   \n 1      squared_error            None               None                 None   \n 2      squared_error            None               None                 None   \n 3      squared_error            None               None                 None   \n 4      squared_error            None               None                 None   \n ...              ...             ...                ...                  ...   \n 5179  absolute_error              20               log2                   50   \n 5180  absolute_error              20               log2                   50   \n 5181  absolute_error              20               log2                   50   \n 5182  absolute_error              20               log2                   50   \n 5183  absolute_error              20               log2                   50   \n \n       param_min_impurity_decrease  param_min_samples_leaf  ...  \\\n 0                             0.0                       1  ...   \n 1                             0.0                       1  ...   \n 2                             0.0                       1  ...   \n 3                             0.0                       1  ...   \n 4                             0.0                       1  ...   \n ...                           ...                     ...  ...   \n 5179                          0.1                       5  ...   \n 5180                          0.1                       5  ...   \n 5181                          0.1                       5  ...   \n 5182                          0.1                       5  ...   \n 5183                          0.1                       5  ...   \n \n       std_test_neg_mean_squared_error rank_test_neg_mean_squared_error  \\\n 0                            1.015881                             5074   \n 1                            1.443514                             5114   \n 2                            0.898554                             4958   \n 3                            0.616744                             4566   \n 4                            0.876586                             4300   \n ...                               ...                              ...   \n 5179                         1.614582                             4914   \n 5180                         1.345015                             4371   \n 5181                         1.327177                             5029   \n 5182                         0.946862                             4046   \n 5183                         1.182385                             5056   \n \n      split0_test_neg_mean_absolute_error  split1_test_neg_mean_absolute_error  \\\n 0                              -2.011958                            -2.172156   \n 1                              -2.188341                            -2.091317   \n 2                              -2.042975                            -2.155689   \n 3                              -1.882162                            -2.023827   \n 4                              -1.894119                            -2.054239   \n ...                                  ...                                  ...   \n 5179                           -1.777280                            -2.064371   \n 5180                           -1.683109                            -1.839820   \n 5181                           -1.775785                            -2.163174   \n 5182                           -1.817638                            -1.854790   \n 5183                           -2.285501                            -1.982036   \n \n       split2_test_neg_mean_absolute_error  \\\n 0                               -2.296407   \n 1                               -2.293413   \n 2                               -2.235404   \n 3                               -2.083333   \n 4                               -2.074087   \n ...                                   ...   \n 5179                            -2.269461   \n 5180                            -2.092814   \n 5181                            -2.101796   \n 5182                            -2.013473   \n 5183                            -2.080838   \n \n       split3_test_neg_mean_absolute_error  \\\n 0                               -2.019461   \n 1                               -2.233533   \n 2                               -1.998503   \n 3                               -2.021831   \n 4                               -1.886194   \n ...                                   ...   \n 5179                            -2.047904   \n 5180                            -1.926647   \n 5181                            -1.955090   \n 5182                            -1.859281   \n 5183                            -2.392216   \n \n       split4_test_neg_mean_absolute_error  mean_test_neg_mean_absolute_error  \\\n 0                               -2.029940                          -2.105984   \n 1                               -1.842814                          -2.129884   \n 2                               -2.013348                          -2.089184   \n 3                               -2.029566                          -2.008144   \n 4                               -1.891693                          -1.960067   \n ...                                   ...                                ...   \n 5179                            -1.829341                          -1.997671   \n 5180                            -1.791916                          -1.866861   \n 5181                            -2.179641                          -2.035097   \n 5182                            -1.733533                          -1.855743   \n 5183                            -1.802395                          -2.108597   \n \n       std_test_neg_mean_absolute_error  rank_test_neg_mean_absolute_error  \n 0                             0.112026                               5064  \n 1                             0.157986                               5100  \n 2                             0.091556                               5042  \n 3                             0.066958                               4864  \n 4                             0.085265                               4624  \n ...                                ...                                ...  \n 5179                          0.177623                               4824  \n 5180                          0.137653                               3627  \n 5181                          0.151914                               4924  \n 5182                          0.090862                               3472  \n 5183                          0.210847                               5074  \n \n [5184 rows x 37 columns])"
     },
     "execution_count": 54,
     "metadata": {},
     "output_type": "execute_result"
    }
   ],
   "source": [
    "train_grid_search(DecisionTreeRegressor(),param_grid_DT_regressor,metrics_regressor,'r2',trainval_features,trainval_targets,cv=5)\n"
   ]
  },
  {
   "cell_type": "code",
   "execution_count": 56,
   "outputs": [
    {
     "name": "stdout",
     "output_type": "stream",
     "text": [
      "Train R2: 0.37257056574833547\n",
      "Train MSE: 6.4524677871839415\n",
      "Train MAE: 1.8516717881758897\n",
      "\n",
      "\n",
      "R2: 0.35956815756514915\n",
      "MSE: 6.932809214220687\n",
      "MAE: 1.8991254028726754\n"
     ]
    }
   ],
   "source": [
    "decision_tree_regressor = DecisionTreeRegressor(criterion='squared_error',max_depth=None,max_features=None,max_leaf_nodes=50,min_impurity_decrease=0.1,min_samples_leaf=5, min_samples_split=10,splitter='random')\n",
    "decision_tree_regressor.fit(trainval_features, trainval_targets)\n",
    "evaluate(decision_tree_regressor)"
   ],
   "metadata": {
    "collapsed": false,
    "ExecuteTime": {
     "end_time": "2024-11-22T13:31:53.548041800Z",
     "start_time": "2024-11-22T13:31:53.531955200Z"
    }
   }
  },
  {
   "cell_type": "code",
   "execution_count": null,
   "outputs": [],
   "source": [],
   "metadata": {
    "collapsed": false
   }
  }
 ],
 "metadata": {
  "kernelspec": {
   "display_name": "Python 3",
   "language": "python",
   "name": "python3"
  },
  "language_info": {
   "codemirror_mode": {
    "name": "ipython",
    "version": 3
   },
   "file_extension": ".py",
   "mimetype": "text/x-python",
   "name": "python",
   "nbconvert_exporter": "python",
   "pygments_lexer": "ipython3",
   "version": "3.12.4"
  }
 },
 "nbformat": 4,
 "nbformat_minor": 2
}
