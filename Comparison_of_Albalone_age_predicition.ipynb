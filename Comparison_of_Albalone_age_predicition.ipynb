{
 "cells": [
  {
   "cell_type": "markdown",
   "metadata": {},
   "source": [
    "# Comparison of Regressors for Abalone Age Prediction"
   ]
  },
  {
   "cell_type": "markdown",
   "metadata": {},
   "source": [
    "## The dataset\n",
    "\n",
    "### What is the purpose of the dataset? \n",
    "### What are the features\n",
    "### What is the target?"
   ]
  },
  {
   "cell_type": "code",
   "execution_count": 4,
   "metadata": {
    "ExecuteTime": {
     "end_time": "2024-11-22T20:02:43.363900300Z",
     "start_time": "2024-11-22T20:02:41.876776200Z"
    },
    "collapsed": false
   },
   "outputs": [],
   "source": [
    "import pandas as pd\n",
    "import numpy as np\n",
    "\n",
    "from sklearn.model_selection import train_test_split\n",
    "from sklearn.tree import DecisionTreeRegressor\n",
    "from sklearn.linear_model import LinearRegression\n",
    "from sklearn.metrics import r2_score, mean_squared_error, mean_absolute_error\n",
    "from sklearn.model_selection import GridSearchCV\n",
    "from sklearn.ensemble import RandomForestRegressor\n",
    "from sklearn.ensemble import GradientBoostingRegressor\n",
    "\n",
    "\n"
   ]
  },
  {
   "cell_type": "code",
   "execution_count": 5,
   "metadata": {
    "ExecuteTime": {
     "end_time": "2024-11-22T20:02:44.796215200Z",
     "start_time": "2024-11-22T20:02:44.779335900Z"
    },
    "collapsed": false
   },
   "outputs": [],
   "source": [
    "coloumn_names = ['Sex',\n",
    "               'Length',\n",
    "               'Diameter',\n",
    "               'Height',\n",
    "               'Whole weight',\n",
    "               'Shucked weight',\n",
    "               'Viscera weight',\n",
    "               'Shell weight',\n",
    "               'Rings'\n",
    "               ]"
   ]
  },
  {
   "cell_type": "code",
   "execution_count": 6,
   "metadata": {
    "ExecuteTime": {
     "end_time": "2024-11-22T20:02:45.893241200Z",
     "start_time": "2024-11-22T20:02:45.869048800Z"
    },
    "collapsed": false
   },
   "outputs": [
    {
     "data": {
      "text/html": [
       "<div>\n",
       "<style scoped>\n",
       "    .dataframe tbody tr th:only-of-type {\n",
       "        vertical-align: middle;\n",
       "    }\n",
       "\n",
       "    .dataframe tbody tr th {\n",
       "        vertical-align: top;\n",
       "    }\n",
       "\n",
       "    .dataframe thead th {\n",
       "        text-align: right;\n",
       "    }\n",
       "</style>\n",
       "<table border=\"1\" class=\"dataframe\">\n",
       "  <thead>\n",
       "    <tr style=\"text-align: right;\">\n",
       "      <th></th>\n",
       "      <th>Sex</th>\n",
       "      <th>Length</th>\n",
       "      <th>Diameter</th>\n",
       "      <th>Height</th>\n",
       "      <th>Whole weight</th>\n",
       "      <th>Shucked weight</th>\n",
       "      <th>Viscera weight</th>\n",
       "      <th>Shell weight</th>\n",
       "      <th>Rings</th>\n",
       "    </tr>\n",
       "  </thead>\n",
       "  <tbody>\n",
       "    <tr>\n",
       "      <th>0</th>\n",
       "      <td>0</td>\n",
       "      <td>0.455</td>\n",
       "      <td>0.365</td>\n",
       "      <td>0.095</td>\n",
       "      <td>0.5140</td>\n",
       "      <td>0.2245</td>\n",
       "      <td>0.1010</td>\n",
       "      <td>0.150</td>\n",
       "      <td>15</td>\n",
       "    </tr>\n",
       "    <tr>\n",
       "      <th>1</th>\n",
       "      <td>0</td>\n",
       "      <td>0.350</td>\n",
       "      <td>0.265</td>\n",
       "      <td>0.090</td>\n",
       "      <td>0.2255</td>\n",
       "      <td>0.0995</td>\n",
       "      <td>0.0485</td>\n",
       "      <td>0.070</td>\n",
       "      <td>7</td>\n",
       "    </tr>\n",
       "    <tr>\n",
       "      <th>2</th>\n",
       "      <td>1</td>\n",
       "      <td>0.530</td>\n",
       "      <td>0.420</td>\n",
       "      <td>0.135</td>\n",
       "      <td>0.6770</td>\n",
       "      <td>0.2565</td>\n",
       "      <td>0.1415</td>\n",
       "      <td>0.210</td>\n",
       "      <td>9</td>\n",
       "    </tr>\n",
       "    <tr>\n",
       "      <th>3</th>\n",
       "      <td>0</td>\n",
       "      <td>0.440</td>\n",
       "      <td>0.365</td>\n",
       "      <td>0.125</td>\n",
       "      <td>0.5160</td>\n",
       "      <td>0.2155</td>\n",
       "      <td>0.1140</td>\n",
       "      <td>0.155</td>\n",
       "      <td>10</td>\n",
       "    </tr>\n",
       "    <tr>\n",
       "      <th>4</th>\n",
       "      <td>2</td>\n",
       "      <td>0.330</td>\n",
       "      <td>0.255</td>\n",
       "      <td>0.080</td>\n",
       "      <td>0.2050</td>\n",
       "      <td>0.0895</td>\n",
       "      <td>0.0395</td>\n",
       "      <td>0.055</td>\n",
       "      <td>7</td>\n",
       "    </tr>\n",
       "  </tbody>\n",
       "</table>\n",
       "</div>"
      ],
      "text/plain": [
       "   Sex  Length  Diameter  Height  Whole weight  Shucked weight  \\\n",
       "0    0   0.455     0.365   0.095        0.5140          0.2245   \n",
       "1    0   0.350     0.265   0.090        0.2255          0.0995   \n",
       "2    1   0.530     0.420   0.135        0.6770          0.2565   \n",
       "3    0   0.440     0.365   0.125        0.5160          0.2155   \n",
       "4    2   0.330     0.255   0.080        0.2050          0.0895   \n",
       "\n",
       "   Viscera weight  Shell weight  Rings  \n",
       "0          0.1010         0.150     15  \n",
       "1          0.0485         0.070      7  \n",
       "2          0.1415         0.210      9  \n",
       "3          0.1140         0.155     10  \n",
       "4          0.0395         0.055      7  "
      ]
     },
     "execution_count": 6,
     "metadata": {},
     "output_type": "execute_result"
    }
   ],
   "source": [
    "dataset = pd.read_csv('abalone.data', sep=\",\", header=None)\n",
    "dataset.columns = coloumn_names\n",
    "dataset['Sex'] = dataset['Sex'].map({'M': 0, 'F': 1, 'I':2})\n",
    "dataset.head(5)"
   ]
  },
  {
   "cell_type": "code",
   "execution_count": 4,
   "metadata": {
    "ExecuteTime": {
     "end_time": "2024-11-22T12:39:07.535400600Z",
     "start_time": "2024-11-22T12:39:07.381882200Z"
    },
    "collapsed": false
   },
   "outputs": [
    {
     "name": "stdout",
     "output_type": "stream",
     "text": [
      "<class 'pandas.core.frame.DataFrame'>\n",
      "RangeIndex: 4177 entries, 0 to 4176\n",
      "Data columns (total 9 columns):\n",
      " #   Column          Non-Null Count  Dtype  \n",
      "---  ------          --------------  -----  \n",
      " 0   Sex             4177 non-null   int64  \n",
      " 1   Length          4177 non-null   float64\n",
      " 2   Diameter        4177 non-null   float64\n",
      " 3   Height          4177 non-null   float64\n",
      " 4   Whole weight    4177 non-null   float64\n",
      " 5   Shucked weight  4177 non-null   float64\n",
      " 6   Viscera weight  4177 non-null   float64\n",
      " 7   Shell weight    4177 non-null   float64\n",
      " 8   Rings           4177 non-null   int64  \n",
      "dtypes: float64(7), int64(2)\n",
      "memory usage: 293.8 KB\n"
     ]
    }
   ],
   "source": [
    "dataset.info()"
   ]
  },
  {
   "cell_type": "code",
   "execution_count": 5,
   "metadata": {
    "ExecuteTime": {
     "end_time": "2024-11-22T12:39:07.560081300Z",
     "start_time": "2024-11-22T12:39:07.397367600Z"
    },
    "collapsed": false
   },
   "outputs": [],
   "source": [
    "#dataset.hist(figsize=(10,10));"
   ]
  },
  {
   "cell_type": "code",
   "execution_count": 6,
   "metadata": {
    "ExecuteTime": {
     "end_time": "2024-11-22T12:39:07.560081300Z",
     "start_time": "2024-11-22T12:39:07.412219900Z"
    },
    "collapsed": false
   },
   "outputs": [],
   "source": [
    "#dataset_onehot = pd.get_dummies(dataset,columns=dataset['Sex'])\n",
    "#dataset_onehot = pd.concat([dataset, pd.get_dummies(dataset['Sex'])], axis=1)\n",
    "#dataset_onehot.drop('Sex', axis=1, inplace=True)\n",
    "#dataset_onehot = pd.get_dummies(dataset, columns=['Sex'])\n",
    "\n",
    "#dataset_onehot.head()"
   ]
  },
  {
   "cell_type": "code",
   "execution_count": 7,
   "metadata": {
    "ExecuteTime": {
     "end_time": "2024-11-22T20:02:51.137542100Z",
     "start_time": "2024-11-22T20:02:51.115767100Z"
    },
    "collapsed": false
   },
   "outputs": [],
   "source": [
    "features = dataset.drop('Rings', axis=1)\n",
    "targets = dataset['Rings']"
   ]
  },
  {
   "cell_type": "code",
   "execution_count": 8,
   "metadata": {
    "ExecuteTime": {
     "end_time": "2024-11-22T20:02:52.104941600Z",
     "start_time": "2024-11-22T20:02:52.092296300Z"
    },
    "collapsed": false
   },
   "outputs": [],
   "source": [
    "trainval_features, test_features, trainval_targets, test_targets = train_test_split(features, targets, test_size=0.2,random_state=42)"
   ]
  },
  {
   "cell_type": "code",
   "execution_count": 14,
   "metadata": {
    "ExecuteTime": {
     "end_time": "2024-11-22T12:39:07.560081300Z",
     "start_time": "2024-11-22T12:39:07.448317600Z"
    },
    "collapsed": false
   },
   "outputs": [],
   "source": [
    "def evaluate(model):\n",
    "    predictions_train = model.predict(trainval_features)\n",
    "\n",
    "    print(f\"Train R2: {r2_score(trainval_targets, predictions_train)}\")\n",
    "    print(f\"Train MSE: {mean_squared_error(trainval_targets, predictions_train)}\")\n",
    "    print(f\"Train MAE: {mean_absolute_error(trainval_targets, predictions_train)}\")\n",
    "    print()\n",
    "\n",
    "    predictions_test = model.predict(test_features)\n",
    "    print()\n",
    "    print(f\"R2: {r2_score(test_targets, predictions_test)}\")\n",
    "    print(f\"MSE: {mean_squared_error(test_targets, predictions_test)}\")\n",
    "    print(f\"MAE: {mean_absolute_error(test_targets, predictions_test)}\")"
   ]
  },
  {
   "cell_type": "code",
   "execution_count": 10,
   "metadata": {
    "ExecuteTime": {
     "end_time": "2024-11-22T12:39:07.560081300Z",
     "start_time": "2024-11-22T12:39:07.458303900Z"
    }
   },
   "outputs": [],
   "source": [
    "def train_grid_search(classifier, parameter_grid,scoring,refit, features, target, cv=5, verbose=1):\n",
    "    grid_search = GridSearchCV(\n",
    "        estimator=classifier,\n",
    "        param_grid=parameter_grid,\n",
    "        scoring=scoring,\n",
    "        refit= refit, \n",
    "        cv=cv,\n",
    "        verbose=verbose,\n",
    "        n_jobs=-1\n",
    "    )\n",
    "\n",
    "    grid_search.fit(features, target)\n",
    "    results = pd.DataFrame(grid_search.cv_results_)\n",
    "    best_model = grid_search.best_estimator_\n",
    "\n",
    "    print(f\"best parameters: {grid_search.best_params_}\")\n",
    "    print(f\"best score: {grid_search.best_score_:.4f}\")\n",
    "\n",
    "    return best_model, results"
   ]
  },
  {
   "cell_type": "markdown",
   "metadata": {},
   "source": []
  },
  {
   "cell_type": "code",
   "execution_count": 11,
   "metadata": {
    "ExecuteTime": {
     "end_time": "2024-11-22T20:03:11.464067700Z",
     "start_time": "2024-11-22T20:03:11.455434300Z"
    }
   },
   "outputs": [],
   "source": [
    "metrics_regressor = ['r2','neg_mean_squared_error' ,'neg_mean_absolute_error' ]\n",
    "\n",
    "\n",
    "param_grid_RF_regressor = {\n",
    "    'max_depth': np.arange(2, 31, 5),           \n",
    "    'n_estimators': np.arange(50, 501, 50),   \n",
    "    'min_samples_split': np.arange(2, 11, 2),  \n",
    "}\n",
    "\n",
    "param_grid_GB_regressor = {\n",
    "    'loss': ['squared_error', 'absolute_error', 'huber', 'quantile'],\n",
    "    'n_estimators': np.arange(50, 201, 50),\n",
    "    'learning_rate': np.arange(0.01, 0.25, 0.05),\n",
    "    'max_depth': np.arange(3, 11, 2)\n",
    "    }\n",
    "\n",
    "param_grid_DT_regressor = {\n",
    "    'criterion': ['squared_error', 'absolute_error'],\n",
    "    'splitter': ['best', 'random'],\n",
    "    'max_depth': [None, 5, 10, 20],\n",
    "    'min_samples_split': [2, 5, 10],\n",
    "    'min_samples_leaf': [1, 2, 5],\n",
    "    'max_features': [None, 'sqrt', 'log2'],\n",
    "    'max_leaf_nodes': [None, 10, 20, 50],\n",
    "    'min_impurity_decrease': [0.0, 0.01, 0.1]\n",
    "}\n"
   ]
  },
  {
   "cell_type": "code",
   "execution_count": 12,
   "metadata": {
    "ExecuteTime": {
     "end_time": "2024-11-22T12:47:07.371220200Z",
     "start_time": "2024-11-22T12:40:23.021142300Z"
    }
   },
   "outputs": [
    {
     "name": "stdout",
     "output_type": "stream",
     "text": [
      "Fitting 5 folds for each of 300 candidates, totalling 1500 fits\n"
     ]
    },
    {
     "name": "stderr",
     "output_type": "stream",
     "text": [
      "c:\\Users\\Stavros\\AppData\\Local\\Programs\\Python\\Python312\\Lib\\site-packages\\numpy\\ma\\core.py:2846: RuntimeWarning: invalid value encountered in cast\n",
      "  _data = np.array(data, dtype=dtype, copy=copy,\n"
     ]
    },
    {
     "name": "stdout",
     "output_type": "stream",
     "text": [
      "best parameters: {'max_depth': np.int64(12), 'min_samples_split': np.int64(10), 'n_estimators': np.int64(450)}\n",
      "best score: 0.5538\n"
     ]
    },
    {
     "data": {
      "text/plain": [
       "(RandomForestRegressor(max_depth=np.int64(12), min_samples_split=np.int64(10),\n",
       "                       n_estimators=np.int64(450)),\n",
       "      mean_fit_time  std_fit_time  mean_score_time  std_score_time  \\\n",
       " 0         0.219755      0.054564         0.009671        0.004004   \n",
       " 1         0.316389      0.008556         0.008569        0.001150   \n",
       " 2         0.465223      0.024476         0.011726        0.001916   \n",
       " 3         0.613714      0.031303         0.012875        0.000866   \n",
       " 4         0.774522      0.033009         0.015994        0.002473   \n",
       " ..             ...           ...              ...             ...   \n",
       " 295       3.650084      0.040408         0.038127        0.002926   \n",
       " 296       4.404279      0.068523         0.046575        0.001455   \n",
       " 297       4.929505      0.026849         0.049881        0.001608   \n",
       " 298       5.434478      0.039373         0.051678        0.003144   \n",
       " 299       5.758833      0.102702         0.053731        0.003055   \n",
       " \n",
       "      param_max_depth  param_min_samples_split  param_n_estimators  \\\n",
       " 0                  2                        2                  50   \n",
       " 1                  2                        2                 100   \n",
       " 2                  2                        2                 150   \n",
       " 3                  2                        2                 200   \n",
       " 4                  2                        2                 250   \n",
       " ..               ...                      ...                 ...   \n",
       " 295               27                       10                 300   \n",
       " 296               27                       10                 350   \n",
       " 297               27                       10                 400   \n",
       " 298               27                       10                 450   \n",
       " 299               27                       10                 500   \n",
       " \n",
       "                                                 params  split0_test_r2  \\\n",
       " 0    {'max_depth': 2, 'min_samples_split': 2, 'n_es...        0.397003   \n",
       " 1    {'max_depth': 2, 'min_samples_split': 2, 'n_es...        0.398881   \n",
       " 2    {'max_depth': 2, 'min_samples_split': 2, 'n_es...        0.401024   \n",
       " 3    {'max_depth': 2, 'min_samples_split': 2, 'n_es...        0.398908   \n",
       " 4    {'max_depth': 2, 'min_samples_split': 2, 'n_es...        0.398984   \n",
       " ..                                                 ...             ...   \n",
       " 295  {'max_depth': 27, 'min_samples_split': 10, 'n_...        0.522855   \n",
       " 296  {'max_depth': 27, 'min_samples_split': 10, 'n_...        0.526310   \n",
       " 297  {'max_depth': 27, 'min_samples_split': 10, 'n_...        0.523520   \n",
       " 298  {'max_depth': 27, 'min_samples_split': 10, 'n_...        0.525806   \n",
       " 299  {'max_depth': 27, 'min_samples_split': 10, 'n_...        0.522918   \n",
       " \n",
       "      split1_test_r2  ...  std_test_neg_mean_squared_error  \\\n",
       " 0          0.389497  ...                         0.738225   \n",
       " 1          0.388048  ...                         0.741654   \n",
       " 2          0.389038  ...                         0.744606   \n",
       " 3          0.390214  ...                         0.736569   \n",
       " 4          0.389129  ...                         0.740619   \n",
       " ..              ...  ...                              ...   \n",
       " 295        0.563424  ...                         0.418305   \n",
       " 296        0.561407  ...                         0.429662   \n",
       " 297        0.563491  ...                         0.404642   \n",
       " 298        0.560410  ...                         0.440800   \n",
       " 299        0.563359  ...                         0.415612   \n",
       " \n",
       "      rank_test_neg_mean_squared_error  split0_test_neg_mean_absolute_error  \\\n",
       " 0                                 255                            -1.762675   \n",
       " 1                                 254                            -1.754797   \n",
       " 2                                 252                            -1.752646   \n",
       " 3                                 262                            -1.755492   \n",
       " 4                                 263                            -1.759107   \n",
       " ..                                ...                                  ...   \n",
       " 295                                75                            -1.496009   \n",
       " 296                                41                            -1.495125   \n",
       " 297                                 7                            -1.497906   \n",
       " 298                                21                            -1.492874   \n",
       " 299                                68                            -1.498129   \n",
       " \n",
       "      split1_test_neg_mean_absolute_error  split2_test_neg_mean_absolute_error  \\\n",
       " 0                              -1.926404                            -1.890065   \n",
       " 1                              -1.921677                            -1.891408   \n",
       " 2                              -1.925875                            -1.893164   \n",
       " 3                              -1.920712                            -1.893423   \n",
       " 4                              -1.922092                            -1.894248   \n",
       " ..                                   ...                                  ...   \n",
       " 295                            -1.561876                            -1.586616   \n",
       " 296                            -1.567551                            -1.587804   \n",
       " 297                            -1.566077                            -1.575821   \n",
       " 298                            -1.569583                            -1.589503   \n",
       " 299                            -1.562641                            -1.583481   \n",
       " \n",
       "      split3_test_neg_mean_absolute_error  split4_test_neg_mean_absolute_error  \\\n",
       " 0                              -1.782077                            -1.775967   \n",
       " 1                              -1.787537                            -1.781421   \n",
       " 2                              -1.782848                            -1.771615   \n",
       " 3                              -1.790071                            -1.778067   \n",
       " 4                              -1.788262                            -1.777203   \n",
       " ..                                   ...                                  ...   \n",
       " 295                            -1.534633                            -1.427224   \n",
       " 296                            -1.533278                            -1.421497   \n",
       " 297                            -1.542958                            -1.420978   \n",
       " 298                            -1.532185                            -1.422853   \n",
       " 299                            -1.541341                            -1.425146   \n",
       " \n",
       "      mean_test_neg_mean_absolute_error  std_test_neg_mean_absolute_error  \\\n",
       " 0                            -1.827438                          0.067257   \n",
       " 1                            -1.827368                          0.066271   \n",
       " 2                            -1.825230                          0.070262   \n",
       " 3                            -1.827553                          0.066429   \n",
       " 4                            -1.828183                          0.066555   \n",
       " ..                                 ...                               ...   \n",
       " 295                          -1.521272                          0.055822   \n",
       " 296                          -1.521051                          0.058908   \n",
       " 297                          -1.520748                          0.056669   \n",
       " 298                          -1.521400                          0.059332   \n",
       " 299                          -1.522148                          0.056136   \n",
       " \n",
       "      rank_test_neg_mean_absolute_error  \n",
       " 0                                  265  \n",
       " 1                                  263  \n",
       " 2                                  251  \n",
       " 3                                  269  \n",
       " 4                                  279  \n",
       " ..                                 ...  \n",
       " 295                                 94  \n",
       " 296                                 91  \n",
       " 297                                 87  \n",
       " 298                                 96  \n",
       " 299                                112  \n",
       " \n",
       " [300 rows x 32 columns])"
      ]
     },
     "execution_count": 12,
     "metadata": {},
     "output_type": "execute_result"
    }
   ],
   "source": [
    "train_grid_search(RandomForestRegressor(),param_grid_RF_regressor,metrics_regressor,'r2',trainval_features,trainval_targets)"
   ]
  },
  {
   "cell_type": "code",
   "execution_count": 13,
   "metadata": {
    "ExecuteTime": {
     "end_time": "2024-11-22T12:47:39.036456Z",
     "start_time": "2024-11-22T12:47:32.799282900Z"
    }
   },
   "outputs": [
    {
     "name": "stdout",
     "output_type": "stream",
     "text": [
      "Train R2: 0.8438809308446251\n",
      "Train MSE: 1.605524397961453\n",
      "Train MAE: 0.91990076595054\n",
      "\n",
      "\n",
      "R2: 0.544702249705433\n",
      "MSE: 4.928693780208506\n",
      "MAE: 1.5579456220603576\n"
     ]
    }
   ],
   "source": [
    "random_forest_regressor = RandomForestRegressor(max_depth=12,min_samples_split=8,n_estimators=400)\n",
    "random_forest_regressor.fit(trainval_features,trainval_targets)\n",
    "evaluate(random_forest_regressor)\n"
   ]
  },
  {
   "cell_type": "code",
   "execution_count": 14,
   "metadata": {
    "ExecuteTime": {
     "end_time": "2024-11-22T13:21:10.039318900Z",
     "start_time": "2024-11-22T13:15:49.274670900Z"
    },
    "collapsed": false
   },
   "outputs": [
    {
     "name": "stdout",
     "output_type": "stream",
     "text": [
      "Fitting 5 folds for each of 320 candidates, totalling 1600 fits\n",
      "best parameters: {'learning_rate': np.float64(0.11), 'loss': 'huber', 'max_depth': np.int64(3), 'n_estimators': np.int64(200)}\n",
      "best score: 0.5554\n"
     ]
    },
    {
     "data": {
      "text/plain": [
       "(GradientBoostingRegressor(learning_rate=np.float64(0.11), loss='huber',\n",
       "                           max_depth=np.int64(3), n_estimators=np.int64(200)),\n",
       "      mean_fit_time  std_fit_time  mean_score_time  std_score_time  \\\n",
       " 0         0.246443      0.011908         0.004075        0.004136   \n",
       " 1         0.484154      0.018617         0.004938        0.004090   \n",
       " 2         0.719558      0.016579         0.002012        0.004023   \n",
       " 3         0.922381      0.015956         0.005235        0.003250   \n",
       " 4         0.376823      0.012762         0.002107        0.002581   \n",
       " ..             ...           ...              ...             ...   \n",
       " 315       2.743467      0.071615         0.004829        0.001813   \n",
       " 316       1.062819      0.038485         0.005283        0.001665   \n",
       " 317       1.914687      0.040862         0.005001        0.001407   \n",
       " 318       2.605816      0.077399         0.004503        0.000780   \n",
       " 319       3.125202      0.125553         0.004381        0.000383   \n",
       " \n",
       "      param_learning_rate     param_loss  param_max_depth  param_n_estimators  \\\n",
       " 0                   0.01  squared_error                3                  50   \n",
       " 1                   0.01  squared_error                3                 100   \n",
       " 2                   0.01  squared_error                3                 150   \n",
       " 3                   0.01  squared_error                3                 200   \n",
       " 4                   0.01  squared_error                5                  50   \n",
       " ..                   ...            ...              ...                 ...   \n",
       " 315                 0.21       quantile                7                 200   \n",
       " 316                 0.21       quantile                9                  50   \n",
       " 317                 0.21       quantile                9                 100   \n",
       " 318                 0.21       quantile                9                 150   \n",
       " 319                 0.21       quantile                9                 200   \n",
       " \n",
       "                                                 params  split0_test_r2  ...  \\\n",
       " 0    {'learning_rate': 0.01, 'loss': 'squared_error...        0.278001  ...   \n",
       " 1    {'learning_rate': 0.01, 'loss': 'squared_error...        0.407682  ...   \n",
       " 2    {'learning_rate': 0.01, 'loss': 'squared_error...        0.467277  ...   \n",
       " 3    {'learning_rate': 0.01, 'loss': 'squared_error...        0.497811  ...   \n",
       " 4    {'learning_rate': 0.01, 'loss': 'squared_error...        0.324974  ...   \n",
       " ..                                                 ...             ...  ...   \n",
       " 315  {'learning_rate': 0.21000000000000002, 'loss':...       -0.034465  ...   \n",
       " 316  {'learning_rate': 0.21000000000000002, 'loss':...        0.036339  ...   \n",
       " 317  {'learning_rate': 0.21000000000000002, 'loss':...        0.062176  ...   \n",
       " 318  {'learning_rate': 0.21000000000000002, 'loss':...        0.087643  ...   \n",
       " 319  {'learning_rate': 0.21000000000000002, 'loss':...        0.122871  ...   \n",
       " \n",
       "      std_test_neg_mean_squared_error  rank_test_neg_mean_squared_error  \\\n",
       " 0                           1.033797                               236   \n",
       " 1                           0.865746                               224   \n",
       " 2                           0.740924                               212   \n",
       " 3                           0.662389                               178   \n",
       " 4                           0.914710                               230   \n",
       " ..                               ...                               ...   \n",
       " 315                         0.277982                               258   \n",
       " 316                         0.481292                               247   \n",
       " 317                         0.563402                               248   \n",
       " 318                         0.303777                               245   \n",
       " 319                         0.448910                               242   \n",
       " \n",
       "      split0_test_neg_mean_absolute_error  split1_test_neg_mean_absolute_error  \\\n",
       " 0                              -1.939414                            -2.135562   \n",
       " 1                              -1.747442                            -1.935250   \n",
       " 2                              -1.644155                            -1.803982   \n",
       " 3                              -1.583186                            -1.730602   \n",
       " 4                              -1.872718                            -2.067258   \n",
       " ..                                   ...                                  ...   \n",
       " 315                            -2.550337                            -2.457117   \n",
       " 316                            -2.460806                            -2.369520   \n",
       " 317                            -2.405679                            -2.435793   \n",
       " 318                            -2.358319                            -2.294372   \n",
       " 319                            -2.302768                            -2.273760   \n",
       " \n",
       "      split2_test_neg_mean_absolute_error  split3_test_neg_mean_absolute_error  \\\n",
       " 0                              -2.080021                            -1.992320   \n",
       " 1                              -1.875568                            -1.776826   \n",
       " 2                              -1.762281                            -1.668344   \n",
       " 3                              -1.698884                            -1.601913   \n",
       " 4                              -1.997135                            -1.910388   \n",
       " ..                                   ...                                  ...   \n",
       " 315                            -2.410052                            -2.363561   \n",
       " 316                            -2.354715                            -2.363608   \n",
       " 317                            -2.408042                            -2.309505   \n",
       " 318                            -2.333779                            -2.291816   \n",
       " 319                            -2.364926                            -2.228952   \n",
       " \n",
       "      split4_test_neg_mean_absolute_error  mean_test_neg_mean_absolute_error  \\\n",
       " 0                              -1.835338                          -1.996531   \n",
       " 1                              -1.676422                          -1.802302   \n",
       " 2                              -1.583043                          -1.692361   \n",
       " 3                              -1.533791                          -1.629675   \n",
       " 4                              -1.762803                          -1.922061   \n",
       " ..                                   ...                                ...   \n",
       " 315                            -2.388124                          -2.433838   \n",
       " 316                            -2.233812                          -2.356492   \n",
       " 317                            -2.219206                          -2.355645   \n",
       " 318                            -2.247287                          -2.305115   \n",
       " 319                            -2.223630                          -2.278807   \n",
       " \n",
       "      std_test_neg_mean_absolute_error  rank_test_neg_mean_absolute_error  \n",
       " 0                            0.105417                                239  \n",
       " 1                            0.092247                                227  \n",
       " 2                            0.080248                                220  \n",
       " 3                            0.073623                                193  \n",
       " 4                            0.104549                                235  \n",
       " ..                                ...                                ...  \n",
       " 315                          0.065891                                254  \n",
       " 316                          0.072326                                248  \n",
       " 317                          0.080519                                247  \n",
       " 318                          0.038180                                244  \n",
       " 319                          0.052050                                241  \n",
       " \n",
       " [320 rows x 33 columns])"
      ]
     },
     "execution_count": 14,
     "metadata": {},
     "output_type": "execute_result"
    }
   ],
   "source": [
    "train_grid_search(GradientBoostingRegressor(),param_grid_GB_regressor,metrics_regressor,'r2',trainval_features,trainval_targets)\n"
   ]
  },
  {
   "cell_type": "code",
   "execution_count": 18,
   "metadata": {
    "ExecuteTime": {
     "end_time": "2024-11-22T13:23:25.477630700Z",
     "start_time": "2024-11-22T13:23:23.251056200Z"
    },
    "collapsed": false
   },
   "outputs": [
    {
     "name": "stdout",
     "output_type": "stream",
     "text": [
      "Train R2: 0.7008736561283629\n",
      "Train MSE: 3.076207447028493\n",
      "Train MAE: 1.2117332893808948\n",
      "\n",
      "\n",
      "R2: 0.5218824941807096\n",
      "MSE: 5.17572242695191\n",
      "MAE: 1.5586119589463545\n"
     ]
    }
   ],
   "source": [
    "gradient_booster_regressor = GradientBoostingRegressor(learning_rate=0.11,max_depth=3,loss='huber',n_estimators=200)\n",
    "gradient_booster_regressor.fit(trainval_features, trainval_targets)\n",
    "evaluate(gradient_booster_regressor)"
   ]
  },
  {
   "cell_type": "code",
   "execution_count": 17,
   "metadata": {
    "ExecuteTime": {
     "end_time": "2024-11-22T13:12:28.145933Z",
     "start_time": "2024-11-22T13:12:28.130102Z"
    },
    "collapsed": false
   },
   "outputs": [
    {
     "name": "stdout",
     "output_type": "stream",
     "text": [
      "Train R2: 0.5331708151519303\n",
      "Train MSE: 4.800859049499582\n",
      "Train MAE: 1.5811550493173565\n",
      "\n",
      "\n",
      "R2: 0.5427053625654411\n",
      "MSE: 4.950310502936191\n",
      "MAE: 1.606760859825025\n"
     ]
    }
   ],
   "source": [
    "linear_regression_model = LinearRegression()\n",
    "linear_regression_model.fit(trainval_features, trainval_targets)\n",
    "evaluate(linear_regression_model)"
   ]
  },
  {
   "cell_type": "code",
   "execution_count": 17,
   "metadata": {
    "ExecuteTime": {
     "end_time": "2024-11-22T13:31:18.193931400Z",
     "start_time": "2024-11-22T13:29:24.790250300Z"
    },
    "collapsed": false
   },
   "outputs": [
    {
     "name": "stdout",
     "output_type": "stream",
     "text": [
      "Fitting 5 folds for each of 5184 candidates, totalling 25920 fits\n",
      "best parameters: {'criterion': 'squared_error', 'max_depth': 20, 'max_features': None, 'max_leaf_nodes': 50, 'min_impurity_decrease': 0.01, 'min_samples_leaf': 1, 'min_samples_split': 5, 'splitter': 'random'}\n",
      "best score: 0.4818\n"
     ]
    },
    {
     "data": {
      "text/plain": [
       "(DecisionTreeRegressor(max_depth=20, max_leaf_nodes=50,\n",
       "                       min_impurity_decrease=0.01, min_samples_split=5,\n",
       "                       splitter='random'),\n",
       "       mean_fit_time  std_fit_time  mean_score_time  std_score_time  \\\n",
       " 0          0.021440      0.000399         0.002876        0.000503   \n",
       " 1          0.007507      0.000724         0.003096        0.000443   \n",
       " 2          0.020311      0.000585         0.002732        0.000560   \n",
       " 3          0.006816      0.000470         0.002675        0.000258   \n",
       " 4          0.018477      0.000494         0.003062        0.000314   \n",
       " ...             ...           ...              ...             ...   \n",
       " 5179       0.022708      0.007724         0.001602        0.001020   \n",
       " 5180       0.055037      0.004812         0.002173        0.000494   \n",
       " 5181       0.022607      0.007460         0.001703        0.000597   \n",
       " 5182       0.053044      0.007414         0.001931        0.000379   \n",
       " 5183       0.024234      0.006809         0.002124        0.000224   \n",
       " \n",
       "      param_criterion param_max_depth param_max_features param_max_leaf_nodes  \\\n",
       " 0      squared_error            None               None                 None   \n",
       " 1      squared_error            None               None                 None   \n",
       " 2      squared_error            None               None                 None   \n",
       " 3      squared_error            None               None                 None   \n",
       " 4      squared_error            None               None                 None   \n",
       " ...              ...             ...                ...                  ...   \n",
       " 5179  absolute_error              20               log2                   50   \n",
       " 5180  absolute_error              20               log2                   50   \n",
       " 5181  absolute_error              20               log2                   50   \n",
       " 5182  absolute_error              20               log2                   50   \n",
       " 5183  absolute_error              20               log2                   50   \n",
       " \n",
       "       param_min_impurity_decrease  param_min_samples_leaf  ...  \\\n",
       " 0                             0.0                       1  ...   \n",
       " 1                             0.0                       1  ...   \n",
       " 2                             0.0                       1  ...   \n",
       " 3                             0.0                       1  ...   \n",
       " 4                             0.0                       1  ...   \n",
       " ...                           ...                     ...  ...   \n",
       " 5179                          0.1                       5  ...   \n",
       " 5180                          0.1                       5  ...   \n",
       " 5181                          0.1                       5  ...   \n",
       " 5182                          0.1                       5  ...   \n",
       " 5183                          0.1                       5  ...   \n",
       " \n",
       "       std_test_neg_mean_squared_error rank_test_neg_mean_squared_error  \\\n",
       " 0                            1.095019                             5065   \n",
       " 1                            0.660153                             5164   \n",
       " 2                            1.052232                             4915   \n",
       " 3                            1.068408                             4583   \n",
       " 4                            0.868412                             4315   \n",
       " ...                               ...                              ...   \n",
       " 5179                         1.487245                             5072   \n",
       " 5180                         1.008063                             4064   \n",
       " 5181                         2.278107                             5121   \n",
       " 5182                         1.230066                             4081   \n",
       " 5183                         1.769095                             5037   \n",
       " \n",
       "      split0_test_neg_mean_absolute_error  split1_test_neg_mean_absolute_error  \\\n",
       " 0                              -2.032885                            -2.139222   \n",
       " 1                              -2.127055                            -2.223054   \n",
       " 2                              -1.998381                            -2.161302   \n",
       " 3                              -1.898979                            -1.909556   \n",
       " 4                              -1.900211                            -2.057160   \n",
       " ...                                  ...                                  ...   \n",
       " 5179                           -1.950673                            -2.241018   \n",
       " 5180                           -1.816143                            -1.971557   \n",
       " 5181                           -1.917788                            -2.209581   \n",
       " 5182                           -1.695067                            -1.971557   \n",
       " 5183                           -1.886398                            -2.504491   \n",
       " \n",
       "       split2_test_neg_mean_absolute_error  \\\n",
       " 0                               -2.335329   \n",
       " 1                               -2.241018   \n",
       " 2                               -2.232036   \n",
       " 3                               -2.208333   \n",
       " 4                               -2.072908   \n",
       " ...                                   ...   \n",
       " 5179                            -2.170659   \n",
       " 5180                            -1.962575   \n",
       " 5181                            -2.540419   \n",
       " 5182                            -1.962575   \n",
       " 5183                            -2.205090   \n",
       " \n",
       "       split3_test_neg_mean_absolute_error  \\\n",
       " 0                               -2.013473   \n",
       " 1                               -2.197605   \n",
       " 2                               -1.989770   \n",
       " 3                               -2.103668   \n",
       " 4                               -1.891531   \n",
       " ...                                   ...   \n",
       " 5179                            -2.392216   \n",
       " 5180                            -1.859281   \n",
       " 5181                            -2.020958   \n",
       " 5182                            -1.926647   \n",
       " 5183                            -2.047904   \n",
       " \n",
       "       split4_test_neg_mean_absolute_error  mean_test_neg_mean_absolute_error  \\\n",
       " 0                               -2.046407                          -2.113463   \n",
       " 1                               -2.086826                          -2.175112   \n",
       " 2                               -1.988897                          -2.074077   \n",
       " 3                               -2.003244                          -2.024756   \n",
       " 4                               -1.899166                          -1.964195   \n",
       " ...                                   ...                                ...   \n",
       " 5179                            -1.830838                          -2.117081   \n",
       " 5180                            -1.721557                          -1.866223   \n",
       " 5181                            -1.836826                          -2.105114   \n",
       " 5182                            -1.730539                          -1.857277   \n",
       " 5183                            -1.859281                          -2.100633   \n",
       " \n",
       "       std_test_neg_mean_absolute_error  rank_test_neg_mean_absolute_error  \n",
       " 0                             0.119059                               5066  \n",
       " 1                             0.058740                               5145  \n",
       " 2                             0.102618                               5000  \n",
       " 3                             0.117883                               4878  \n",
       " 4                             0.082540                               4646  \n",
       " ...                                ...                                ...  \n",
       " 5179                          0.201770                               5077  \n",
       " 5180                          0.093663                               3615  \n",
       " 5181                          0.250821                               5055  \n",
       " 5182                          0.119444                               3494  \n",
       " 5183                          0.237040                               5046  \n",
       " \n",
       " [5184 rows x 37 columns])"
      ]
     },
     "execution_count": 17,
     "metadata": {},
     "output_type": "execute_result"
    }
   ],
   "source": [
    "train_grid_search(DecisionTreeRegressor(),param_grid_DT_regressor,metrics_regressor,'r2',trainval_features,trainval_targets,cv=5)\n"
   ]
  },
  {
   "cell_type": "code",
   "execution_count": 18,
   "metadata": {
    "ExecuteTime": {
     "end_time": "2024-11-22T13:31:53.548041800Z",
     "start_time": "2024-11-22T13:31:53.531955200Z"
    },
    "collapsed": false
   },
   "outputs": [
    {
     "name": "stdout",
     "output_type": "stream",
     "text": [
      "Train R2: 0.3588460852347243\n",
      "Train MSE: 6.593609983541898\n",
      "Train MAE: 1.8707643823937357\n",
      "\n",
      "\n",
      "R2: 0.3820112579233592\n",
      "MSE: 6.689857938769535\n",
      "MAE: 1.874225547642441\n"
     ]
    }
   ],
   "source": [
    "decision_tree_regressor = DecisionTreeRegressor(criterion='squared_error',max_depth=None,max_features=None,max_leaf_nodes=50,min_impurity_decrease=0.1,min_samples_leaf=5, min_samples_split=10,splitter='random')\n",
    "decision_tree_regressor.fit(trainval_features, trainval_targets)\n",
    "evaluate(decision_tree_regressor)"
   ]
  },
  {
   "cell_type": "markdown",
   "metadata": {
    "collapsed": false
   },
   "source": [
    "# Neural networks"
   ]
  },
  {
   "cell_type": "code",
   "execution_count": null,
   "metadata": {
    "ExecuteTime": {
     "end_time": "2024-11-22T20:03:03.045187700Z",
     "start_time": "2024-11-22T20:02:59.312012900Z"
    },
    "collapsed": false
   },
   "outputs": [],
   "source": [
    "import tensorflow as tf\n",
    "\n",
    "from keras.src.layers import Input, Dense, Dropout, Flatten, Softmax, BatchNormalization\n",
    "from keras.src.models import Sequential\n",
    "from keras.src.callbacks import Callback\n",
    "\n",
    "from sklearn.neural_network import MLPRegressor\n",
    "from sklearn.model_selection import train_test_split\n",
    "from sklearn.metrics import classification_report"
   ]
  },
  {
   "cell_type": "code",
   "execution_count": 20,
   "metadata": {},
   "outputs": [
    {
     "data": {
      "text/plain": [
       "(3341, 8)"
      ]
     },
     "execution_count": 20,
     "metadata": {},
     "output_type": "execute_result"
    }
   ],
   "source": [
    "trainval_features.shape"
   ]
  },
  {
   "cell_type": "code",
   "execution_count": null,
   "metadata": {
    "ExecuteTime": {
     "end_time": "2024-11-22T20:03:17.618869100Z",
     "start_time": "2024-11-22T20:03:17.541433700Z"
    },
    "collapsed": false
   },
   "outputs": [
    {
     "data": {
      "text/html": [
       "<pre style=\"white-space:pre;overflow-x:auto;line-height:normal;font-family:Menlo,'DejaVu Sans Mono',consolas,'Courier New',monospace\"><span style=\"font-weight: bold\">Model: \"sequential_4\"</span>\n",
       "</pre>\n"
      ],
      "text/plain": [
       "\u001b[1mModel: \"sequential_4\"\u001b[0m\n"
      ]
     },
     "metadata": {},
     "output_type": "display_data"
    },
    {
     "data": {
      "text/html": [
       "<pre style=\"white-space:pre;overflow-x:auto;line-height:normal;font-family:Menlo,'DejaVu Sans Mono',consolas,'Courier New',monospace\">┏━━━━━━━━━━━━━━━━━━━━━━━━━━━━━━━━━┳━━━━━━━━━━━━━━━━━━━━━━━━┳━━━━━━━━━━━━━━━┓\n",
       "┃<span style=\"font-weight: bold\"> Layer (type)                    </span>┃<span style=\"font-weight: bold\"> Output Shape           </span>┃<span style=\"font-weight: bold\">       Param # </span>┃\n",
       "┡━━━━━━━━━━━━━━━━━━━━━━━━━━━━━━━━━╇━━━━━━━━━━━━━━━━━━━━━━━━╇━━━━━━━━━━━━━━━┩\n",
       "│ dense_8 (<span style=\"color: #0087ff; text-decoration-color: #0087ff\">Dense</span>)                 │ (<span style=\"color: #00d7ff; text-decoration-color: #00d7ff\">None</span>, <span style=\"color: #00af00; text-decoration-color: #00af00\">8</span>)              │            <span style=\"color: #00af00; text-decoration-color: #00af00\">72</span> │\n",
       "├─────────────────────────────────┼────────────────────────┼───────────────┤\n",
       "│ dropout_3 (<span style=\"color: #0087ff; text-decoration-color: #0087ff\">Dropout</span>)             │ (<span style=\"color: #00d7ff; text-decoration-color: #00d7ff\">None</span>, <span style=\"color: #00af00; text-decoration-color: #00af00\">8</span>)              │             <span style=\"color: #00af00; text-decoration-color: #00af00\">0</span> │\n",
       "├─────────────────────────────────┼────────────────────────┼───────────────┤\n",
       "│ dense_9 (<span style=\"color: #0087ff; text-decoration-color: #0087ff\">Dense</span>)                 │ (<span style=\"color: #00d7ff; text-decoration-color: #00d7ff\">None</span>, <span style=\"color: #00af00; text-decoration-color: #00af00\">1</span>)              │             <span style=\"color: #00af00; text-decoration-color: #00af00\">9</span> │\n",
       "└─────────────────────────────────┴────────────────────────┴───────────────┘\n",
       "</pre>\n"
      ],
      "text/plain": [
       "┏━━━━━━━━━━━━━━━━━━━━━━━━━━━━━━━━━┳━━━━━━━━━━━━━━━━━━━━━━━━┳━━━━━━━━━━━━━━━┓\n",
       "┃\u001b[1m \u001b[0m\u001b[1mLayer (type)                   \u001b[0m\u001b[1m \u001b[0m┃\u001b[1m \u001b[0m\u001b[1mOutput Shape          \u001b[0m\u001b[1m \u001b[0m┃\u001b[1m \u001b[0m\u001b[1m      Param #\u001b[0m\u001b[1m \u001b[0m┃\n",
       "┡━━━━━━━━━━━━━━━━━━━━━━━━━━━━━━━━━╇━━━━━━━━━━━━━━━━━━━━━━━━╇━━━━━━━━━━━━━━━┩\n",
       "│ dense_8 (\u001b[38;5;33mDense\u001b[0m)                 │ (\u001b[38;5;45mNone\u001b[0m, \u001b[38;5;34m8\u001b[0m)              │            \u001b[38;5;34m72\u001b[0m │\n",
       "├─────────────────────────────────┼────────────────────────┼───────────────┤\n",
       "│ dropout_3 (\u001b[38;5;33mDropout\u001b[0m)             │ (\u001b[38;5;45mNone\u001b[0m, \u001b[38;5;34m8\u001b[0m)              │             \u001b[38;5;34m0\u001b[0m │\n",
       "├─────────────────────────────────┼────────────────────────┼───────────────┤\n",
       "│ dense_9 (\u001b[38;5;33mDense\u001b[0m)                 │ (\u001b[38;5;45mNone\u001b[0m, \u001b[38;5;34m1\u001b[0m)              │             \u001b[38;5;34m9\u001b[0m │\n",
       "└─────────────────────────────────┴────────────────────────┴───────────────┘\n"
      ]
     },
     "metadata": {},
     "output_type": "display_data"
    },
    {
     "data": {
      "text/html": [
       "<pre style=\"white-space:pre;overflow-x:auto;line-height:normal;font-family:Menlo,'DejaVu Sans Mono',consolas,'Courier New',monospace\"><span style=\"font-weight: bold\"> Total params: </span><span style=\"color: #00af00; text-decoration-color: #00af00\">81</span> (324.00 B)\n",
       "</pre>\n"
      ],
      "text/plain": [
       "\u001b[1m Total params: \u001b[0m\u001b[38;5;34m81\u001b[0m (324.00 B)\n"
      ]
     },
     "metadata": {},
     "output_type": "display_data"
    },
    {
     "data": {
      "text/html": [
       "<pre style=\"white-space:pre;overflow-x:auto;line-height:normal;font-family:Menlo,'DejaVu Sans Mono',consolas,'Courier New',monospace\"><span style=\"font-weight: bold\"> Trainable params: </span><span style=\"color: #00af00; text-decoration-color: #00af00\">81</span> (324.00 B)\n",
       "</pre>\n"
      ],
      "text/plain": [
       "\u001b[1m Trainable params: \u001b[0m\u001b[38;5;34m81\u001b[0m (324.00 B)\n"
      ]
     },
     "metadata": {},
     "output_type": "display_data"
    },
    {
     "data": {
      "text/html": [
       "<pre style=\"white-space:pre;overflow-x:auto;line-height:normal;font-family:Menlo,'DejaVu Sans Mono',consolas,'Courier New',monospace\"><span style=\"font-weight: bold\"> Non-trainable params: </span><span style=\"color: #00af00; text-decoration-color: #00af00\">0</span> (0.00 B)\n",
       "</pre>\n"
      ],
      "text/plain": [
       "\u001b[1m Non-trainable params: \u001b[0m\u001b[38;5;34m0\u001b[0m (0.00 B)\n"
      ]
     },
     "metadata": {},
     "output_type": "display_data"
    }
   ],
   "source": [
    "\n",
    "neural_network_seq = Sequential([\n",
    "\n",
    "\n",
    "    Input(shape=(8,)),\n",
    "    \n",
    "    Dense(8,activation='sigmoid'),\n",
    "    Dropout(0.1),\n",
    "    Dense(1, activation='linear'),\n",
    "    #Dropout(0.05),\n",
    "])\n",
    "\n",
    "neural_network_seq.compile(optimizer='adam',\n",
    "                 loss='mean_squared_error',\n",
    "                 metrics = ['mean_squared_error','r2_score','mean_absolute_error'])\n",
    "neural_network_seq.summary()"
   ]
  },
  {
   "cell_type": "code",
   "execution_count": null,
   "metadata": {
    "ExecuteTime": {
     "end_time": "2024-11-22T20:03:54.514321500Z",
     "start_time": "2024-11-22T20:03:53.304099500Z"
    },
    "collapsed": false
   },
   "outputs": [
    {
     "name": "stdout",
     "output_type": "stream",
     "text": [
      "Epoch 1/20\n",
      "\u001b[1m836/836\u001b[0m \u001b[32m━━━━━━━━━━━━━━━━━━━━\u001b[0m\u001b[37m\u001b[0m \u001b[1m1s\u001b[0m 843us/step - loss: 87.1465 - mean_absolute_error: 8.6858 - mean_squared_error: 87.1465 - r2_score: -7.9376\n",
      "Epoch 2/20\n",
      "\u001b[1m836/836\u001b[0m \u001b[32m━━━━━━━━━━━━━━━━━━━━\u001b[0m\u001b[37m\u001b[0m \u001b[1m1s\u001b[0m 850us/step - loss: 20.1649 - mean_absolute_error: 3.4230 - mean_squared_error: 20.1649 - r2_score: -1.1286\n",
      "Epoch 3/20\n",
      "\u001b[1m836/836\u001b[0m \u001b[32m━━━━━━━━━━━━━━━━━━━━\u001b[0m\u001b[37m\u001b[0m \u001b[1m1s\u001b[0m 822us/step - loss: 10.1702 - mean_absolute_error: 2.3496 - mean_squared_error: 10.1702 - r2_score: -0.0431\n",
      "Epoch 4/20\n",
      "\u001b[1m836/836\u001b[0m \u001b[32m━━━━━━━━━━━━━━━━━━━━\u001b[0m\u001b[37m\u001b[0m \u001b[1m1s\u001b[0m 831us/step - loss: 9.1340 - mean_absolute_error: 2.2368 - mean_squared_error: 9.1340 - r2_score: 0.1162\n",
      "Epoch 5/20\n",
      "\u001b[1m836/836\u001b[0m \u001b[32m━━━━━━━━━━━━━━━━━━━━\u001b[0m\u001b[37m\u001b[0m \u001b[1m1s\u001b[0m 819us/step - loss: 8.7045 - mean_absolute_error: 2.1938 - mean_squared_error: 8.7045 - r2_score: 0.1831\n",
      "Epoch 6/20\n",
      "\u001b[1m836/836\u001b[0m \u001b[32m━━━━━━━━━━━━━━━━━━━━\u001b[0m\u001b[37m\u001b[0m \u001b[1m1s\u001b[0m 824us/step - loss: 8.4177 - mean_absolute_error: 2.0685 - mean_squared_error: 8.4177 - r2_score: 0.2073\n",
      "Epoch 7/20\n",
      "\u001b[1m836/836\u001b[0m \u001b[32m━━━━━━━━━━━━━━━━━━━━\u001b[0m\u001b[37m\u001b[0m \u001b[1m1s\u001b[0m 805us/step - loss: 8.3900 - mean_absolute_error: 2.0961 - mean_squared_error: 8.3900 - r2_score: 0.2230\n",
      "Epoch 8/20\n",
      "\u001b[1m836/836\u001b[0m \u001b[32m━━━━━━━━━━━━━━━━━━━━\u001b[0m\u001b[37m\u001b[0m \u001b[1m1s\u001b[0m 779us/step - loss: 8.5145 - mean_absolute_error: 2.1071 - mean_squared_error: 8.5145 - r2_score: 0.2009\n",
      "Epoch 9/20\n",
      "\u001b[1m836/836\u001b[0m \u001b[32m━━━━━━━━━━━━━━━━━━━━\u001b[0m\u001b[37m\u001b[0m \u001b[1m1s\u001b[0m 882us/step - loss: 7.7891 - mean_absolute_error: 2.0251 - mean_squared_error: 7.7891 - r2_score: 0.2235\n",
      "Epoch 10/20\n",
      "\u001b[1m836/836\u001b[0m \u001b[32m━━━━━━━━━━━━━━━━━━━━\u001b[0m\u001b[37m\u001b[0m \u001b[1m1s\u001b[0m 822us/step - loss: 7.3091 - mean_absolute_error: 1.9662 - mean_squared_error: 7.3091 - r2_score: 0.2539\n",
      "Epoch 11/20\n",
      "\u001b[1m836/836\u001b[0m \u001b[32m━━━━━━━━━━━━━━━━━━━━\u001b[0m\u001b[37m\u001b[0m \u001b[1m1s\u001b[0m 812us/step - loss: 7.6591 - mean_absolute_error: 2.0104 - mean_squared_error: 7.6591 - r2_score: 0.2588\n",
      "Epoch 12/20\n",
      "\u001b[1m836/836\u001b[0m \u001b[32m━━━━━━━━━━━━━━━━━━━━\u001b[0m\u001b[37m\u001b[0m \u001b[1m1s\u001b[0m 816us/step - loss: 7.7408 - mean_absolute_error: 2.0424 - mean_squared_error: 7.7408 - r2_score: 0.2457\n",
      "Epoch 13/20\n",
      "\u001b[1m836/836\u001b[0m \u001b[32m━━━━━━━━━━━━━━━━━━━━\u001b[0m\u001b[37m\u001b[0m \u001b[1m1s\u001b[0m 798us/step - loss: 7.8151 - mean_absolute_error: 2.0107 - mean_squared_error: 7.8151 - r2_score: 0.2491\n",
      "Epoch 14/20\n",
      "\u001b[1m836/836\u001b[0m \u001b[32m━━━━━━━━━━━━━━━━━━━━\u001b[0m\u001b[37m\u001b[0m \u001b[1m1s\u001b[0m 747us/step - loss: 7.3057 - mean_absolute_error: 2.0031 - mean_squared_error: 7.3057 - r2_score: 0.2804\n",
      "Epoch 15/20\n",
      "\u001b[1m836/836\u001b[0m \u001b[32m━━━━━━━━━━━━━━━━━━━━\u001b[0m\u001b[37m\u001b[0m \u001b[1m1s\u001b[0m 810us/step - loss: 7.5772 - mean_absolute_error: 1.9977 - mean_squared_error: 7.5772 - r2_score: 0.2571\n",
      "Epoch 16/20\n",
      "\u001b[1m836/836\u001b[0m \u001b[32m━━━━━━━━━━━━━━━━━━━━\u001b[0m\u001b[37m\u001b[0m \u001b[1m1s\u001b[0m 802us/step - loss: 7.7468 - mean_absolute_error: 2.0549 - mean_squared_error: 7.7468 - r2_score: 0.2407\n",
      "Epoch 17/20\n",
      "\u001b[1m836/836\u001b[0m \u001b[32m━━━━━━━━━━━━━━━━━━━━\u001b[0m\u001b[37m\u001b[0m \u001b[1m1s\u001b[0m 793us/step - loss: 7.4397 - mean_absolute_error: 1.9548 - mean_squared_error: 7.4397 - r2_score: 0.2736\n",
      "Epoch 18/20\n",
      "\u001b[1m836/836\u001b[0m \u001b[32m━━━━━━━━━━━━━━━━━━━━\u001b[0m\u001b[37m\u001b[0m \u001b[1m1s\u001b[0m 809us/step - loss: 7.6926 - mean_absolute_error: 1.9997 - mean_squared_error: 7.6926 - r2_score: 0.2717\n",
      "Epoch 19/20\n",
      "\u001b[1m836/836\u001b[0m \u001b[32m━━━━━━━━━━━━━━━━━━━━\u001b[0m\u001b[37m\u001b[0m \u001b[1m1s\u001b[0m 752us/step - loss: 7.3635 - mean_absolute_error: 1.9628 - mean_squared_error: 7.3635 - r2_score: 0.2884\n",
      "Epoch 20/20\n",
      "\u001b[1m836/836\u001b[0m \u001b[32m━━━━━━━━━━━━━━━━━━━━\u001b[0m\u001b[37m\u001b[0m \u001b[1m1s\u001b[0m 777us/step - loss: 7.4870 - mean_absolute_error: 1.9537 - mean_squared_error: 7.4870 - r2_score: 0.3065\n"
     ]
    },
    {
     "data": {
      "text/plain": [
       "<keras.src.callbacks.history.History at 0x239102aac60>"
      ]
     },
     "execution_count": 22,
     "metadata": {},
     "output_type": "execute_result"
    }
   ],
   "source": [
    "neural_network_seq.fit(trainval_features,trainval_targets,epochs=20,batch_size=4)\n",
    "#start with create gridsearch for layers and neurons\n",
    "#tune activation function, optimizer, learning rate\n",
    "#tune epochs, batch_size\n",
    "#create kerasRegressor"
   ]
  },
  {
   "cell_type": "code",
   "execution_count": null,
   "metadata": {
    "collapsed": false
   },
   "outputs": [],
   "source": []
  }
 ],
 "metadata": {
  "kernelspec": {
   "display_name": "Python 3",
   "language": "python",
   "name": "python3"
  },
  "language_info": {
   "codemirror_mode": {
    "name": "ipython",
    "version": 3
   },
   "file_extension": ".py",
   "mimetype": "text/x-python",
   "name": "python",
   "nbconvert_exporter": "python",
   "pygments_lexer": "ipython3",
   "version": "3.12.4"
  }
 },
 "nbformat": 4,
 "nbformat_minor": 2
}
