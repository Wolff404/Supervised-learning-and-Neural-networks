{
 "cells": [
  {
   "cell_type": "markdown",
   "metadata": {},
   "source": [
    "# Comparison of Regressors for Abalone Age Prediction"
   ]
  },
  {
   "cell_type": "markdown",
   "metadata": {},
   "source": [
    "## The dataset\n",
    "\n",
    "### What is the purpose of the dataset? \n",
    "### What are the features\n",
    "### What is the target?"
   ]
  },
  {
   "cell_type": "code",
   "execution_count": null,
   "metadata": {
    "ExecuteTime": {
     "end_time": "2024-11-07T21:09:58.581083500Z",
     "start_time": "2024-11-07T21:09:58.535240Z"
    },
    "collapsed": false
   },
   "outputs": [],
   "source": [
    "import pandas as pd\n",
    "import numpy as np\n",
    "\n",
    "from sklearn.model_selection import train_test_split\n",
    "from sklearn.tree import DecisionTreeRegressor\n",
    "from sklearn.linear_model import LinearRegression\n",
    "from sklearn.metrics import r2_score, mean_squared_error, mean_absolute_error\n",
    "from sklearn.model_selection import GridSearchCV\n",
    "from sklearn.ensemble import RandomForestRegressor\n",
    "from sklearn.ensemble import GradientBoostingRegressor\n",
    "\n",
    "\n"
   ]
  },
  {
   "cell_type": "code",
   "execution_count": 2,
   "metadata": {
    "ExecuteTime": {
     "end_time": "2024-11-07T21:09:58.582491800Z",
     "start_time": "2024-11-07T21:09:58.545067700Z"
    },
    "collapsed": false
   },
   "outputs": [],
   "source": [
    "coloumn_names = ['Sex',\n",
    "               'Length',\n",
    "               'Diameter',\n",
    "               'Height',\n",
    "               'Whole weight',\n",
    "               'Shucked weight',\n",
    "               'Viscera weight',\n",
    "               'Shell weight',\n",
    "               'Rings'\n",
    "               ]"
   ]
  },
  {
   "cell_type": "code",
   "execution_count": 3,
   "metadata": {
    "ExecuteTime": {
     "end_time": "2024-11-07T21:09:58.639787500Z",
     "start_time": "2024-11-07T21:09:58.554616300Z"
    },
    "collapsed": false
   },
   "outputs": [
    {
     "data": {
      "text/html": [
       "<div>\n",
       "<style scoped>\n",
       "    .dataframe tbody tr th:only-of-type {\n",
       "        vertical-align: middle;\n",
       "    }\n",
       "\n",
       "    .dataframe tbody tr th {\n",
       "        vertical-align: top;\n",
       "    }\n",
       "\n",
       "    .dataframe thead th {\n",
       "        text-align: right;\n",
       "    }\n",
       "</style>\n",
       "<table border=\"1\" class=\"dataframe\">\n",
       "  <thead>\n",
       "    <tr style=\"text-align: right;\">\n",
       "      <th></th>\n",
       "      <th>Sex</th>\n",
       "      <th>Length</th>\n",
       "      <th>Diameter</th>\n",
       "      <th>Height</th>\n",
       "      <th>Whole weight</th>\n",
       "      <th>Shucked weight</th>\n",
       "      <th>Viscera weight</th>\n",
       "      <th>Shell weight</th>\n",
       "      <th>Rings</th>\n",
       "    </tr>\n",
       "  </thead>\n",
       "  <tbody>\n",
       "    <tr>\n",
       "      <th>0</th>\n",
       "      <td>0</td>\n",
       "      <td>0.455</td>\n",
       "      <td>0.365</td>\n",
       "      <td>0.095</td>\n",
       "      <td>0.5140</td>\n",
       "      <td>0.2245</td>\n",
       "      <td>0.1010</td>\n",
       "      <td>0.150</td>\n",
       "      <td>15</td>\n",
       "    </tr>\n",
       "    <tr>\n",
       "      <th>1</th>\n",
       "      <td>0</td>\n",
       "      <td>0.350</td>\n",
       "      <td>0.265</td>\n",
       "      <td>0.090</td>\n",
       "      <td>0.2255</td>\n",
       "      <td>0.0995</td>\n",
       "      <td>0.0485</td>\n",
       "      <td>0.070</td>\n",
       "      <td>7</td>\n",
       "    </tr>\n",
       "    <tr>\n",
       "      <th>2</th>\n",
       "      <td>1</td>\n",
       "      <td>0.530</td>\n",
       "      <td>0.420</td>\n",
       "      <td>0.135</td>\n",
       "      <td>0.6770</td>\n",
       "      <td>0.2565</td>\n",
       "      <td>0.1415</td>\n",
       "      <td>0.210</td>\n",
       "      <td>9</td>\n",
       "    </tr>\n",
       "    <tr>\n",
       "      <th>3</th>\n",
       "      <td>0</td>\n",
       "      <td>0.440</td>\n",
       "      <td>0.365</td>\n",
       "      <td>0.125</td>\n",
       "      <td>0.5160</td>\n",
       "      <td>0.2155</td>\n",
       "      <td>0.1140</td>\n",
       "      <td>0.155</td>\n",
       "      <td>10</td>\n",
       "    </tr>\n",
       "    <tr>\n",
       "      <th>4</th>\n",
       "      <td>2</td>\n",
       "      <td>0.330</td>\n",
       "      <td>0.255</td>\n",
       "      <td>0.080</td>\n",
       "      <td>0.2050</td>\n",
       "      <td>0.0895</td>\n",
       "      <td>0.0395</td>\n",
       "      <td>0.055</td>\n",
       "      <td>7</td>\n",
       "    </tr>\n",
       "  </tbody>\n",
       "</table>\n",
       "</div>"
      ],
      "text/plain": [
       "   Sex  Length  Diameter  Height  Whole weight  Shucked weight  \\\n",
       "0    0   0.455     0.365   0.095        0.5140          0.2245   \n",
       "1    0   0.350     0.265   0.090        0.2255          0.0995   \n",
       "2    1   0.530     0.420   0.135        0.6770          0.2565   \n",
       "3    0   0.440     0.365   0.125        0.5160          0.2155   \n",
       "4    2   0.330     0.255   0.080        0.2050          0.0895   \n",
       "\n",
       "   Viscera weight  Shell weight  Rings  \n",
       "0          0.1010         0.150     15  \n",
       "1          0.0485         0.070      7  \n",
       "2          0.1415         0.210      9  \n",
       "3          0.1140         0.155     10  \n",
       "4          0.0395         0.055      7  "
      ]
     },
     "execution_count": 3,
     "metadata": {},
     "output_type": "execute_result"
    }
   ],
   "source": [
    "dataset = pd.read_csv('abalone.data', sep=\",\", header=None)\n",
    "dataset.columns = coloumn_names\n",
    "dataset['Sex'] = dataset['Sex'].map({'M': 0, 'F': 1, 'I':2})\n",
    "dataset.head(5)"
   ]
  },
  {
   "cell_type": "code",
   "execution_count": 4,
   "metadata": {
    "ExecuteTime": {
     "end_time": "2024-11-07T21:09:58.641733200Z",
     "start_time": "2024-11-07T21:09:58.579080100Z"
    },
    "collapsed": false
   },
   "outputs": [
    {
     "name": "stdout",
     "output_type": "stream",
     "text": [
      "<class 'pandas.core.frame.DataFrame'>\n",
      "RangeIndex: 4177 entries, 0 to 4176\n",
      "Data columns (total 9 columns):\n",
      " #   Column          Non-Null Count  Dtype  \n",
      "---  ------          --------------  -----  \n",
      " 0   Sex             4177 non-null   int64  \n",
      " 1   Length          4177 non-null   float64\n",
      " 2   Diameter        4177 non-null   float64\n",
      " 3   Height          4177 non-null   float64\n",
      " 4   Whole weight    4177 non-null   float64\n",
      " 5   Shucked weight  4177 non-null   float64\n",
      " 6   Viscera weight  4177 non-null   float64\n",
      " 7   Shell weight    4177 non-null   float64\n",
      " 8   Rings           4177 non-null   int64  \n",
      "dtypes: float64(7), int64(2)\n",
      "memory usage: 293.8 KB\n"
     ]
    }
   ],
   "source": [
    "dataset.info()"
   ]
  },
  {
   "cell_type": "code",
   "execution_count": 5,
   "metadata": {
    "ExecuteTime": {
     "end_time": "2024-11-07T21:10:00.088005500Z",
     "start_time": "2024-11-07T21:09:58.595688600Z"
    },
    "collapsed": false
   },
   "outputs": [
    {
     "data": {
      "image/png": "[encoded data removed]",
      "text/plain": [
       "<Figure size 1000x1000 with 9 Axes>"
      ]
     },
     "metadata": {},
     "output_type": "display_data"
    }
   ],
   "source": [
    "dataset.hist(figsize=(10,10));"
   ]
  },
  {
   "cell_type": "code",
   "execution_count": 6,
   "metadata": {
    "ExecuteTime": {
     "end_time": "2024-11-07T21:10:00.092397900Z",
     "start_time": "2024-11-07T21:10:00.088005500Z"
    },
    "collapsed": false
   },
   "outputs": [],
   "source": [
    "#dataset_onehot = pd.get_dummies(dataset,columns=dataset['Sex'])\n",
    "#dataset_onehot = pd.concat([dataset, pd.get_dummies(dataset['Sex'])], axis=1)\n",
    "#dataset_onehot.drop('Sex', axis=1, inplace=True)\n",
    "#dataset_onehot = pd.get_dummies(dataset, columns=['Sex'])\n",
    "\n",
    "#dataset_onehot.head()"
   ]
  },
  {
   "cell_type": "code",
   "execution_count": 7,
   "metadata": {
    "ExecuteTime": {
     "end_time": "2024-11-07T21:10:00.102750500Z",
     "start_time": "2024-11-07T21:10:00.095398Z"
    },
    "collapsed": false
   },
   "outputs": [],
   "source": [
    "features = dataset.drop('Rings', axis=1)\n",
    "targets = dataset['Rings']"
   ]
  },
  {
   "cell_type": "code",
   "execution_count": 8,
   "metadata": {
    "ExecuteTime": {
     "end_time": "2024-11-07T21:10:00.260752300Z",
     "start_time": "2024-11-07T21:10:00.103915200Z"
    },
    "collapsed": false
   },
   "outputs": [],
   "source": [
    "trainval_features, test_features, trainval_targets, test_targets = train_test_split(features, targets, test_size=0.2,random_state=42)"
   ]
  },
  {
   "cell_type": "code",
   "execution_count": 10,
   "metadata": {
    "ExecuteTime": {
     "end_time": "2024-11-07T21:10:00.260752300Z",
     "start_time": "2024-11-07T21:10:00.157083100Z"
    },
    "collapsed": false
   },
   "outputs": [],
   "source": [
    "def evaluate(model):\n",
    "    predictions_train = model.predict(trainval_features)\n",
    "\n",
    "    print(f\"Train R2: {r2_score(trainval_targets, predictions_train)}\")\n",
    "    print(f\"Train MSE: {mean_squared_error(trainval_targets, predictions_train)}\")\n",
    "    print(f\"Train MAE: {mean_absolute_error(trainval_targets, predictions_train)}\")\n",
    "    print()\n",
    "\n",
    "    predictions_test = model.predict(test_features)\n",
    "    print()\n",
    "    print(f\"R2: {r2_score(test_targets, predictions_test)}\")\n",
    "    print(f\"MSE: {mean_squared_error(test_targets, predictions_test)}\")\n",
    "    print(f\"MAE: {mean_absolute_error(test_targets, predictions_test)}\")"
   ]
  },
  {
   "cell_type": "code",
   "execution_count": null,
   "metadata": {},
   "outputs": [],
   "source": [
    "def train_grid_search(classifier, parameter_grid,scoring,refit, features, target, cv=5, verbose=1):\n",
    "    grid_search = GridSearchCV(\n",
    "        estimator=classifier,\n",
    "        param_grid=parameter_grid,\n",
    "        scoring=scoring,\n",
    "        refit= refit, \n",
    "        cv=cv,\n",
    "        verbose=verbose,\n",
    "        n_jobs=-1\n",
    "    )\n",
    "\n",
    "    grid_search.fit(features, target)\n",
    "    results = pd.DataFrame(grid_search.cv_results_)\n",
    "    best_model = grid_search.best_estimator_\n",
    "\n",
    "    print(f\"best parameters: {grid_search.best_params_}\")\n",
    "    print(f\"best score: {grid_search.best_score_:.4f}\")\n",
    "\n",
    "    return best_model, results"
   ]
  },
  {
   "cell_type": "markdown",
   "metadata": {},
   "source": []
  },
  {
   "cell_type": "code",
   "execution_count": 43,
   "metadata": {},
   "outputs": [],
   "source": [
    "metrics_regressor = ['r2_score','neg_mean_squared_error' ,'neg_mean_squared_error' ]\n",
    "\n",
    "\n",
    "param_grid_RF_regressor = {\n",
    "    'max_depth': np.arange(2, 31, 5),           \n",
    "    'n_estimators': np.arange(50, 501, 50),   \n",
    "    'min_samples_split': np.arange(2, 11, 2),  \n",
    "}\n",
    "\n",
    "param_grid_GB = {\n",
    "    'n_estimators': np.arange(50, 201, 50),\n",
    "    'learning_rate': np.arange(0.01, 0.25, 0.05),\n",
    "    'max_depth': np.arange(3, 11, 2)\n",
    "    }"
   ]
  },
  {
   "cell_type": "code",
   "execution_count": 44,
   "metadata": {},
   "outputs": [
    {
     "name": "stdout",
     "output_type": "stream",
     "text": [
      "Fitting 5 folds for each of 300 candidates, totalling 1500 fits\n",
      "best parameters: {'max_depth': np.int64(7), 'min_samples_split': np.int64(4), 'n_estimators': np.int64(150)}\n",
      "best score: -1.5033\n"
     ]
    },
    {
     "data": {
      "text/plain": [
       "(RandomForestRegressor(max_depth=np.int64(7), min_samples_split=np.int64(4),\n",
       "                       n_estimators=np.int64(150)),\n",
       "      mean_fit_time  std_fit_time  mean_score_time  std_score_time  \\\n",
       " 0         0.164744      0.022665         0.005613        0.000797   \n",
       " 1         0.307079      0.015024         0.007215        0.001204   \n",
       " 2         0.454447      0.015001         0.010213        0.001470   \n",
       " 3         0.607519      0.011684         0.012608        0.000487   \n",
       " 4         0.748390      0.017758         0.014824        0.000751   \n",
       " ..             ...           ...              ...             ...   \n",
       " 295       3.691427      0.049256         0.038292        0.000873   \n",
       " 296       4.267935      0.059011         0.041689        0.001189   \n",
       " 297       4.749616      0.049792         0.044215        0.002625   \n",
       " 298       5.105473      0.054838         0.044010        0.001172   \n",
       " 299       5.385243      0.116665         0.048913        0.002138   \n",
       " \n",
       "      param_max_depth  param_min_samples_split  param_n_estimators  \\\n",
       " 0                  2                        2                  50   \n",
       " 1                  2                        2                 100   \n",
       " 2                  2                        2                 150   \n",
       " 3                  2                        2                 200   \n",
       " 4                  2                        2                 250   \n",
       " ..               ...                      ...                 ...   \n",
       " 295               27                       10                 300   \n",
       " 296               27                       10                 350   \n",
       " 297               27                       10                 400   \n",
       " 298               27                       10                 450   \n",
       " 299               27                       10                 500   \n",
       " \n",
       "                                                 params  split0_test_score  \\\n",
       " 0    {'max_depth': 2, 'min_samples_split': 2, 'n_es...          -1.758032   \n",
       " 1    {'max_depth': 2, 'min_samples_split': 2, 'n_es...          -1.757766   \n",
       " 2    {'max_depth': 2, 'min_samples_split': 2, 'n_es...          -1.756450   \n",
       " 3    {'max_depth': 2, 'min_samples_split': 2, 'n_es...          -1.761211   \n",
       " 4    {'max_depth': 2, 'min_samples_split': 2, 'n_es...          -1.755424   \n",
       " ..                                                 ...                ...   \n",
       " 295  {'max_depth': 27, 'min_samples_split': 10, 'n_...          -1.498904   \n",
       " 296  {'max_depth': 27, 'min_samples_split': 10, 'n_...          -1.500666   \n",
       " 297  {'max_depth': 27, 'min_samples_split': 10, 'n_...          -1.498701   \n",
       " 298  {'max_depth': 27, 'min_samples_split': 10, 'n_...          -1.498643   \n",
       " 299  {'max_depth': 27, 'min_samples_split': 10, 'n_...          -1.494471   \n",
       " \n",
       "      split1_test_score  split2_test_score  split3_test_score  \\\n",
       " 0            -1.917456          -1.895267          -1.795987   \n",
       " 1            -1.923183          -1.893619          -1.796248   \n",
       " 2            -1.922973          -1.890681          -1.785384   \n",
       " 3            -1.923287          -1.891945          -1.792163   \n",
       " 4            -1.919588          -1.891044          -1.792695   \n",
       " ..                 ...                ...                ...   \n",
       " 295          -1.561203          -1.586548          -1.545668   \n",
       " 296          -1.565272          -1.585842          -1.540952   \n",
       " 297          -1.566717          -1.577022          -1.541193   \n",
       " 298          -1.562534          -1.581792          -1.533561   \n",
       " 299          -1.565892          -1.576325          -1.542889   \n",
       " \n",
       "      split4_test_score  mean_test_score  std_test_score  rank_test_score  \n",
       " 0            -1.778885        -1.829125        0.064581              290  \n",
       " 1            -1.780013        -1.830166        0.065705              297  \n",
       " 2            -1.775616        -1.826221        0.067250              251  \n",
       " 3            -1.780173        -1.829756        0.065093              295  \n",
       " 4            -1.775059        -1.826762        0.065836              252  \n",
       " ..                 ...              ...             ...              ...  \n",
       " 295          -1.420437        -1.522552        0.058499              109  \n",
       " 296          -1.421181        -1.522783        0.058179              112  \n",
       " 297          -1.424875        -1.521702        0.055446              102  \n",
       " 298          -1.414619        -1.518230        0.058919               64  \n",
       " 299          -1.420316        -1.519979        0.057256               79  \n",
       " \n",
       " [300 rows x 16 columns])"
      ]
     },
     "execution_count": 44,
     "metadata": {},
     "output_type": "execute_result"
    }
   ],
   "source": [
    "train_grid_search(RandomForestRegressor(),param_grid_RF_regressor,metrics_regressor,'r2_score',trainval_features,trainval_targets)"
   ]
  },
  {
   "cell_type": "code",
   "execution_count": 45,
   "metadata": {},
   "outputs": [
    {
     "name": "stdout",
     "output_type": "stream",
     "text": [
      "Train R2: 0.69834164052057\n",
      "Train MSE: 3.1022466288934893\n",
      "Train MAE: 1.2759022393890596\n",
      "\n",
      "\n",
      "R2: 0.5435645098310347\n",
      "MSE: 4.9410100533260755\n",
      "MAE: 1.549947500185183\n"
     ]
    }
   ],
   "source": [
    "random_forest_regressor = RandomForestRegressor(max_depth=7,min_samples_split=4,n_estimators=150)\n",
    "random_forest_regressor.fit(trainval_features,trainval_targets)\n",
    "evaluate(random_forest_regressor)\n"
   ]
  },
  {
   "cell_type": "code",
   "execution_count": 12,
   "metadata": {
    "ExecuteTime": {
     "end_time": "2024-11-07T21:10:00.261752Z",
     "start_time": "2024-11-07T21:10:00.177787700Z"
    },
    "collapsed": false
   },
   "outputs": [
    {
     "name": "stdout",
     "output_type": "stream",
     "text": [
      "Train R2: 0.5331708151519303\n",
      "Train MSE: 4.800859049499582\n",
      "Train MAE: 1.5811550493173565\n",
      "\n",
      "\n",
      "R2: 0.5427053625654411\n",
      "MSE: 4.950310502936191\n",
      "MAE: 1.606760859825025\n"
     ]
    }
   ],
   "source": [
    "linear_regression_model = LinearRegression()\n",
    "linear_regression_model.fit(trainval_features, trainval_targets)\n",
    "evaluate(linear_regression_model)"
   ]
  },
  {
   "cell_type": "code",
   "execution_count": null,
   "metadata": {
    "ExecuteTime": {
     "end_time": "2024-11-07T21:10:00.261752Z",
     "start_time": "2024-11-07T21:10:00.207024400Z"
    },
    "collapsed": false
   },
   "outputs": [],
   "source": []
  }
 ],
 "metadata": {
  "kernelspec": {
   "display_name": "Python 3",
   "language": "python",
   "name": "python3"
  },
  "language_info": {
   "codemirror_mode": {
    "name": "ipython",
    "version": 3
   },
   "file_extension": ".py",
   "mimetype": "text/x-python",
   "name": "python",
   "nbconvert_exporter": "python",
   "pygments_lexer": "ipython3",
   "version": "3.12.4"
  }
 },
 "nbformat": 4,
 "nbformat_minor": 2
}
